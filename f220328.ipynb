{
 "cells": [
  {
   "cell_type": "markdown",
   "id": "11c54485-a4bb-45b1-bbc1-67ce1edfcd47",
   "metadata": {},
   "source": [
    "# Dictionary\n"
   ]
  },
  {
   "cell_type": "markdown",
   "id": "22eb5d33-dcd0-40aa-bfce-ed2cc69711fd",
   "metadata": {},
   "source": [
    "## Practice #2"
   ]
  },
  {
   "cell_type": "code",
   "execution_count": 1,
   "id": "8ac009aa-3fb2-4688-9d15-8602f35524e1",
   "metadata": {},
   "outputs": [],
   "source": [
    "a = {'name': ['Michael', 'Andy', 'Kate', \"Minji\"],\n",
    "    'ID': [220101, 220102, 220103, 220104]}\n",
    "list_tmp = ['name', 'ID']"
   ]
  },
  {
   "cell_type": "code",
   "execution_count": 2,
   "id": "ee6d72ad-0061-4843-b433-1c978bd41f49",
   "metadata": {},
   "outputs": [
    {
     "data": {
      "text/plain": [
       "{'name': ['Michael', 'Andy', 'Kate', 'Minji'],\n",
       " 'ID': [220101, 220102, 220103, 220104]}"
      ]
     },
     "execution_count": 2,
     "metadata": {},
     "output_type": "execute_result"
    }
   ],
   "source": [
    "a"
   ]
  },
  {
   "cell_type": "markdown",
   "id": "519d49a0-7189-4e35-96f2-f755b8c230d1",
   "metadata": {},
   "source": [
    "## dict.keys()\n",
    "- key 목록 반환\n",
    "- 그러나 그 값들에 접근 불가능 : 인덱스로 가져오기, 추가하기, 값 변경하기 등 불가능"
   ]
  },
  {
   "cell_type": "code",
   "execution_count": 3,
   "id": "f583880f-cfdb-431b-85e4-361a110773fb",
   "metadata": {},
   "outputs": [
    {
     "name": "stdout",
     "output_type": "stream",
     "text": [
      "name\n",
      "ID\n",
      "name\n",
      "ID\n"
     ]
    }
   ],
   "source": [
    "for i in a.keys():\n",
    "    print(i)\n",
    "for i in list_tmp:\n",
    "    print(i)"
   ]
  },
  {
   "cell_type": "code",
   "execution_count": 4,
   "id": "4aef1f35-0a85-4ed1-889a-a7cfcbcb1878",
   "metadata": {},
   "outputs": [
    {
     "data": {
      "text/plain": [
       "['name', 'ID', 'phone-Number']"
      ]
     },
     "execution_count": 4,
     "metadata": {},
     "output_type": "execute_result"
    }
   ],
   "source": [
    "list_tmp.append('phone-Number')  # dict.append는 불가능\n",
    "list_tmp"
   ]
  },
  {
   "cell_type": "code",
   "execution_count": 5,
   "id": "3f3acede-b9e1-43bc-89e5-9c227718a6e2",
   "metadata": {},
   "outputs": [
    {
     "data": {
      "text/plain": [
       "dict_keys(['name', 'ID'])"
      ]
     },
     "execution_count": 5,
     "metadata": {},
     "output_type": "execute_result"
    }
   ],
   "source": [
    "# list처럼 값 가지고 오기 가능\n",
    "dict_keys = a.keys()\n",
    "dict_keys"
   ]
  },
  {
   "cell_type": "code",
   "execution_count": 6,
   "id": "a25adce8-5093-465f-9e07-0fdbdf985bbe",
   "metadata": {},
   "outputs": [
    {
     "ename": "TypeError",
     "evalue": "'dict_keys' object is not subscriptable",
     "output_type": "error",
     "traceback": [
      "\u001b[1;31m---------------------------------------------------------------------------\u001b[0m",
      "\u001b[1;31mTypeError\u001b[0m                                 Traceback (most recent call last)",
      "\u001b[1;32m~\\AppData\\Local\\Temp/ipykernel_78548/2202942871.py\u001b[0m in \u001b[0;36m<module>\u001b[1;34m\u001b[0m\n\u001b[1;32m----> 1\u001b[1;33m \u001b[0mdict_keys\u001b[0m\u001b[1;33m[\u001b[0m\u001b[1;36m0\u001b[0m\u001b[1;33m]\u001b[0m  \u001b[1;31m# 값에 접근 불가능. -> 리스트로 변환해주면 접근 가능\u001b[0m\u001b[1;33m\u001b[0m\u001b[1;33m\u001b[0m\u001b[0m\n\u001b[0m",
      "\u001b[1;31mTypeError\u001b[0m: 'dict_keys' object is not subscriptable"
     ]
    }
   ],
   "source": [
    "dict_keys[0]  # 값에 접근 불가능. -> 리스트로 변환해주면 접근 가능"
   ]
  },
  {
   "cell_type": "code",
   "execution_count": 7,
   "id": "ed2eeba9-d211-4b8f-9c39-057883d675d8",
   "metadata": {},
   "outputs": [
    {
     "ename": "AttributeError",
     "evalue": "'dict_keys' object has no attribute 'append'",
     "output_type": "error",
     "traceback": [
      "\u001b[1;31m---------------------------------------------------------------------------\u001b[0m",
      "\u001b[1;31mAttributeError\u001b[0m                            Traceback (most recent call last)",
      "\u001b[1;32m~\\AppData\\Local\\Temp/ipykernel_78548/3475173213.py\u001b[0m in \u001b[0;36m<module>\u001b[1;34m\u001b[0m\n\u001b[1;32m----> 1\u001b[1;33m \u001b[0mdict_keys\u001b[0m\u001b[1;33m.\u001b[0m\u001b[0mappend\u001b[0m\u001b[1;33m(\u001b[0m\u001b[1;34m'phone-Number'\u001b[0m\u001b[1;33m)\u001b[0m  \u001b[1;31m# 값을 추가하거나 변경 불가능. -> 리스트로 변환해주면 접근 가능\u001b[0m\u001b[1;33m\u001b[0m\u001b[1;33m\u001b[0m\u001b[0m\n\u001b[0m",
      "\u001b[1;31mAttributeError\u001b[0m: 'dict_keys' object has no attribute 'append'"
     ]
    }
   ],
   "source": [
    "dict_keys.append('phone-Number')  # 값을 추가하거나 변경 불가능. -> 리스트로 변환해주면 접근 가능"
   ]
  },
  {
   "cell_type": "code",
   "execution_count": 8,
   "id": "7d9a82cf-9186-4bfe-86c9-ff5e9f7fa844",
   "metadata": {},
   "outputs": [
    {
     "data": {
      "text/plain": [
       "dict_keys"
      ]
     },
     "execution_count": 8,
     "metadata": {},
     "output_type": "execute_result"
    }
   ],
   "source": [
    "type(dict_keys)  # list 아님!"
   ]
  },
  {
   "cell_type": "code",
   "execution_count": 9,
   "id": "59a17979-34c7-4541-a040-0896819372a9",
   "metadata": {},
   "outputs": [
    {
     "data": {
      "text/plain": [
       "['name', 'ID', 'phone-Number']"
      ]
     },
     "execution_count": 9,
     "metadata": {},
     "output_type": "execute_result"
    }
   ],
   "source": [
    "# list로 형변환\n",
    "dict_list = list(a.keys())\n",
    "dict_list.append('phone-Number')\n",
    "dict_list"
   ]
  },
  {
   "cell_type": "code",
   "execution_count": 10,
   "id": "2358a837-06f8-4d56-8692-6cd77b21e56b",
   "metadata": {},
   "outputs": [
    {
     "data": {
      "text/plain": [
       "'name'"
      ]
     },
     "execution_count": 10,
     "metadata": {},
     "output_type": "execute_result"
    }
   ],
   "source": [
    "dict_list[0]"
   ]
  },
  {
   "cell_type": "code",
   "execution_count": 11,
   "id": "f3df9340-77d9-4434-a20b-920d13f16711",
   "metadata": {},
   "outputs": [
    {
     "name": "stdout",
     "output_type": "stream",
     "text": [
      "<class 'dict_keys'>\n",
      "dict_keys(['name', 'ID'])\n"
     ]
    }
   ],
   "source": [
    "print(type(dict_keys))\n",
    "print(dict_keys)"
   ]
  },
  {
   "cell_type": "code",
   "execution_count": 12,
   "id": "0b06ca93-0936-4752-97e5-0e4cf7e12e11",
   "metadata": {},
   "outputs": [
    {
     "name": "stdout",
     "output_type": "stream",
     "text": [
      "<class 'list'>\n",
      "['name', 'ID', 'phone-Number']\n"
     ]
    }
   ],
   "source": [
    "print(type(dict_list))\n",
    "print(dict_list)"
   ]
  },
  {
   "cell_type": "code",
   "execution_count": 13,
   "id": "60e63e36-c48f-4017-becd-c8f6ee5703b3",
   "metadata": {},
   "outputs": [
    {
     "name": "stdout",
     "output_type": "stream",
     "text": [
      "<class 'list'>\n",
      "['name', 'ID', 'phone-Number']\n"
     ]
    }
   ],
   "source": [
    "print(type(list_tmp))\n",
    "print(list_tmp)"
   ]
  },
  {
   "cell_type": "markdown",
   "id": "c9759fef-214b-40f2-b66a-a70ab87ee758",
   "metadata": {},
   "source": [
    "# dict.get(key)\n",
    "- key에 대응되는 value 반환\n",
    "- 존재하지 않는 key 입력 시 None 반환 : 오류 발생 아님\n",
    "- dict.get(key, remplace_key) : key 값을 가져오고, 만약 key 값이 없을 경우 replace_key 반환"
   ]
  },
  {
   "cell_type": "code",
   "execution_count": 14,
   "id": "88cd3f47-b64b-4c3b-8c71-4af138e6c5db",
   "metadata": {},
   "outputs": [
    {
     "data": {
      "text/plain": [
       "{'name': ['Michael', 'Andy', 'Kate', 'Minji'],\n",
       " 'ID': [220101, 220102, 220103, 220104]}"
      ]
     },
     "execution_count": 14,
     "metadata": {},
     "output_type": "execute_result"
    }
   ],
   "source": [
    "a"
   ]
  },
  {
   "cell_type": "code",
   "execution_count": 15,
   "id": "aba7f206-3fee-4c6c-a04c-4457771a06ea",
   "metadata": {},
   "outputs": [
    {
     "data": {
      "text/plain": [
       "['Michael', 'Andy', 'Kate', 'Minji']"
      ]
     },
     "execution_count": 15,
     "metadata": {},
     "output_type": "execute_result"
    }
   ],
   "source": [
    "a.get('name')"
   ]
  },
  {
   "cell_type": "code",
   "execution_count": 16,
   "id": "5931dbae-2e84-4fd5-98ba-a102ddb90bbc",
   "metadata": {},
   "outputs": [
    {
     "name": "stdout",
     "output_type": "stream",
     "text": [
      "None\n"
     ]
    }
   ],
   "source": [
    "print(a.get('phone'))"
   ]
  },
  {
   "cell_type": "code",
   "execution_count": 17,
   "id": "acd5b40a-3e76-4e2a-9e56-e22a860015bb",
   "metadata": {},
   "outputs": [
    {
     "data": {
      "text/plain": [
       "'not yet'"
      ]
     },
     "execution_count": 17,
     "metadata": {},
     "output_type": "execute_result"
    }
   ],
   "source": [
    "a.get('age', 'not yet')"
   ]
  },
  {
   "cell_type": "markdown",
   "id": "48780cf1-bf8d-4612-bc95-edf8ee252afa",
   "metadata": {},
   "source": [
    "# dict.values()\n",
    "- values 가져옴"
   ]
  },
  {
   "cell_type": "code",
   "execution_count": 18,
   "id": "246e1297-3a31-4eae-89d4-bedbe851a810",
   "metadata": {},
   "outputs": [
    {
     "data": {
      "text/plain": [
       "dict_values([['Michael', 'Andy', 'Kate', 'Minji'], [220101, 220102, 220103, 220104]])"
      ]
     },
     "execution_count": 18,
     "metadata": {},
     "output_type": "execute_result"
    }
   ],
   "source": [
    "a.values()"
   ]
  },
  {
   "cell_type": "code",
   "execution_count": 19,
   "id": "f7316c95-42ef-43e8-8b27-3b4b6bfdbe59",
   "metadata": {},
   "outputs": [
    {
     "data": {
      "text/plain": [
       "dict_values"
      ]
     },
     "execution_count": 19,
     "metadata": {},
     "output_type": "execute_result"
    }
   ],
   "source": [
    "type(a.values())"
   ]
  },
  {
   "cell_type": "markdown",
   "id": "d7d8ff1a-0d1f-4cfb-b8e2-84e74d260f88",
   "metadata": {},
   "source": [
    "# dict.items()\n",
    "- key, value 페어로 가져옴"
   ]
  },
  {
   "cell_type": "code",
   "execution_count": 20,
   "id": "06fc27da-ade2-4648-ae0e-106d84927739",
   "metadata": {},
   "outputs": [
    {
     "data": {
      "text/plain": [
       "dict_items([('name', ['Michael', 'Andy', 'Kate', 'Minji']), ('ID', [220101, 220102, 220103, 220104])])"
      ]
     },
     "execution_count": 20,
     "metadata": {},
     "output_type": "execute_result"
    }
   ],
   "source": [
    "a.items()"
   ]
  },
  {
   "cell_type": "code",
   "execution_count": 21,
   "id": "4daf9a38-f0f3-4404-b6be-e2bd191dbd69",
   "metadata": {},
   "outputs": [
    {
     "data": {
      "text/plain": [
       "dict_items"
      ]
     },
     "execution_count": 21,
     "metadata": {},
     "output_type": "execute_result"
    }
   ],
   "source": [
    "type(a.items())"
   ]
  },
  {
   "cell_type": "markdown",
   "id": "c2b876f8-1f16-4055-805b-16a233d1c256",
   "metadata": {},
   "source": [
    "# 집합 자료형 set()\n",
    "- 괄호 안에 list 형태로 작성\n",
    "- 순서가 없음\n",
    "- 중복이 없음"
   ]
  },
  {
   "cell_type": "code",
   "execution_count": 22,
   "id": "2d86c400-4ab7-4865-b476-1f2242a0b449",
   "metadata": {},
   "outputs": [
    {
     "data": {
      "text/plain": [
       "{1, 2, 3, 4}"
      ]
     },
     "execution_count": 22,
     "metadata": {},
     "output_type": "execute_result"
    }
   ],
   "source": [
    "s1 = set([3, 1, 2, 4])\n",
    "s1  # sorting해주는거 아님!!!"
   ]
  },
  {
   "cell_type": "code",
   "execution_count": 23,
   "id": "0b013b0d-7653-4cd9-a6ba-dee0d6912245",
   "metadata": {},
   "outputs": [
    {
     "data": {
      "text/plain": [
       "[3, 1, 2, 4]"
      ]
     },
     "execution_count": 23,
     "metadata": {},
     "output_type": "execute_result"
    }
   ],
   "source": [
    "l1 = [3, 1, 2, 4]\n",
    "l1"
   ]
  },
  {
   "cell_type": "code",
   "execution_count": 24,
   "id": "9c65e03e-d416-4a67-9243-9712ace7da5b",
   "metadata": {},
   "outputs": [
    {
     "data": {
      "text/plain": [
       "{'E', 'H', 'L', 'O'}"
      ]
     },
     "execution_count": 24,
     "metadata": {},
     "output_type": "execute_result"
    }
   ],
   "source": [
    "s2 = set(\"HELLO\")\n",
    "s2"
   ]
  },
  {
   "cell_type": "code",
   "execution_count": 25,
   "id": "8167541f-0621-4504-ba3e-090af01f3b05",
   "metadata": {},
   "outputs": [
    {
     "data": {
      "text/plain": [
       "['H', 'E', 'L', 'L', 'O']"
      ]
     },
     "execution_count": 25,
     "metadata": {},
     "output_type": "execute_result"
    }
   ],
   "source": [
    "l2 = list(\"HELLO\")\n",
    "l2"
   ]
  },
  {
   "cell_type": "markdown",
   "id": "6cdf8578-f8bc-49cc-a1b7-356a2e9f3e1d",
   "metadata": {},
   "source": [
    "# Bool 문자열인 경우, 문자열이 하나라도 있으면 True, 아니면 False\n",
    "str_t=\"\" 될 때 까지 하나씩 찍어보고, False가 되면 while문 break;"
   ]
  },
  {
   "cell_type": "code",
   "execution_count": 26,
   "id": "a73e342d-d754-4f5a-b149-7524e5f09db6",
   "metadata": {},
   "outputs": [
    {
     "name": "stdout",
     "output_type": "stream",
     "text": [
      "5 HELLO\n",
      "HELL\n",
      "\n",
      "4 HELL\n",
      "HEL\n",
      "\n",
      "3 HEL\n",
      "HE\n",
      "\n",
      "2 HE\n",
      "H\n",
      "\n",
      "1 H\n",
      "\n",
      "\n"
     ]
    }
   ],
   "source": [
    "str_t = \"HELLO\"\n",
    "\n",
    "while str_t:  # 값이 있는 동안은 True\n",
    "# == while len(str_t) > 0:\n",
    "# == while str_t == True:\n",
    "    print(len(str_t), str_t)\n",
    "    str_t = str_t[:len(str_t)-1]\n",
    "    print(str_t)\n",
    "    print()\n",
    "    "
   ]
  },
  {
   "cell_type": "code",
   "execution_count": 27,
   "id": "5a3e609a-03e3-42b1-820b-0e09a7c00da4",
   "metadata": {},
   "outputs": [
    {
     "name": "stdout",
     "output_type": "stream",
     "text": [
      "True\n"
     ]
    }
   ],
   "source": [
    "if 1:\n",
    "    print(\"True\")"
   ]
  },
  {
   "cell_type": "code",
   "execution_count": 28,
   "id": "828e21f9-e346-42f5-8945-e79a65bcd2cc",
   "metadata": {},
   "outputs": [
    {
     "name": "stdout",
     "output_type": "stream",
     "text": [
      "False\n"
     ]
    }
   ],
   "source": [
    "if []:\n",
    "    print(\"True\")\n",
    "else:\n",
    "    print(\"False\")"
   ]
  },
  {
   "cell_type": "markdown",
   "id": "7f5764f5-9837-4be2-8086-6c639525fb36",
   "metadata": {},
   "source": [
    "# 리스트 1,2,3의 객체를 생성하고  객체의 주소값을 a에 binding\n",
    "b = a (a가 가리키고 있는 메모리의 주소를 b도 같이 가리키는 것)"
   ]
  },
  {
   "cell_type": "code",
   "execution_count": 29,
   "id": "b9713550-da58-46f6-b852-27063f74583c",
   "metadata": {},
   "outputs": [],
   "source": [
    "a = [1, 2, 3]\n",
    "b = a"
   ]
  },
  {
   "cell_type": "code",
   "execution_count": 30,
   "id": "849a531e-b1b3-4d32-a843-4b6b609eb31b",
   "metadata": {},
   "outputs": [
    {
     "data": {
      "text/plain": [
       "[1, 2, 3]"
      ]
     },
     "execution_count": 30,
     "metadata": {},
     "output_type": "execute_result"
    }
   ],
   "source": [
    "a"
   ]
  },
  {
   "cell_type": "code",
   "execution_count": 31,
   "id": "07bec963-fcf5-4ea4-8a94-c1b5540dfc44",
   "metadata": {},
   "outputs": [
    {
     "data": {
      "text/plain": [
       "[1, 2, 3]"
      ]
     },
     "execution_count": 31,
     "metadata": {},
     "output_type": "execute_result"
    }
   ],
   "source": [
    "b"
   ]
  },
  {
   "cell_type": "code",
   "execution_count": 32,
   "id": "3e99bfcb-6a45-4f88-af9f-72f27fb02a44",
   "metadata": {},
   "outputs": [
    {
     "data": {
      "text/plain": [
       "True"
      ]
     },
     "execution_count": 32,
     "metadata": {},
     "output_type": "execute_result"
    }
   ],
   "source": [
    "a is b"
   ]
  },
  {
   "cell_type": "code",
   "execution_count": 33,
   "id": "4a9700ed-0274-4414-9772-d0a4575cc0f3",
   "metadata": {},
   "outputs": [
    {
     "name": "stdout",
     "output_type": "stream",
     "text": [
      "2323420979904\n",
      "2323420979904\n"
     ]
    }
   ],
   "source": [
    "print(id(a))\n",
    "print(id(b))"
   ]
  },
  {
   "cell_type": "code",
   "execution_count": 34,
   "id": "f7ffc3cd-483d-4d4c-a941-5adb733b80a4",
   "metadata": {},
   "outputs": [],
   "source": [
    "a[2] = ['1', '2']"
   ]
  },
  {
   "cell_type": "code",
   "execution_count": 35,
   "id": "ca818548-31a8-4e99-8a4e-3eab7e9e011d",
   "metadata": {},
   "outputs": [
    {
     "data": {
      "text/plain": [
       "[1, 2, ['1', '2']]"
      ]
     },
     "execution_count": 35,
     "metadata": {},
     "output_type": "execute_result"
    }
   ],
   "source": [
    "a"
   ]
  },
  {
   "cell_type": "code",
   "execution_count": 36,
   "id": "67e93f12-9d3c-4e08-9eda-6adddf3d54c0",
   "metadata": {},
   "outputs": [
    {
     "data": {
      "text/plain": [
       "[1, 2, ['1', '2']]"
      ]
     },
     "execution_count": 36,
     "metadata": {},
     "output_type": "execute_result"
    }
   ],
   "source": [
    "b  # b는 따로 건들지 않았는데 a와 같은 값을 가짐."
   ]
  },
  {
   "cell_type": "code",
   "execution_count": 37,
   "id": "d9cfc2d1-929e-478f-8811-499e127ee18f",
   "metadata": {},
   "outputs": [],
   "source": [
    "c = [1, 2, 3]\n",
    "d = [1, 2, 3]"
   ]
  },
  {
   "cell_type": "code",
   "execution_count": 38,
   "id": "4b82236b-061a-4488-b33d-2f3bf6b294ca",
   "metadata": {},
   "outputs": [
    {
     "data": {
      "text/plain": [
       "False"
      ]
     },
     "execution_count": 38,
     "metadata": {},
     "output_type": "execute_result"
    }
   ],
   "source": [
    "c is d"
   ]
  },
  {
   "cell_type": "code",
   "execution_count": 39,
   "id": "39d884b7-f38a-4f07-85aa-f0aea9d79ab4",
   "metadata": {},
   "outputs": [
    {
     "name": "stdout",
     "output_type": "stream",
     "text": [
      "2323421946752\n",
      "2323420999360\n"
     ]
    }
   ],
   "source": [
    "print(id(c))\n",
    "print(id(d))"
   ]
  },
  {
   "cell_type": "markdown",
   "id": "76d672a7-3233-4fbd-a551-399bea495a2f",
   "metadata": {},
   "source": [
    "# 복사\n",
    "- ```b = a.copy()```  : 복사.  \n",
    "  새로운 객체를 생성하고 b는 새로운 주소값을 참조\n",
    "- ```b = a```   :  복사 라기 보단 주소값을 공유. 복사 개념이 아님!! 이것은 지양할 것!!!!\n",
    "- ```b = a[:]``` 는 ```b = a```와 다름.  \n",
    "  리스트를 슬라이싱해서 변수에 assign할 경우 새로운 객체를 생성 & 새로운 주소값 참조"
   ]
  },
  {
   "cell_type": "code",
   "execution_count": 40,
   "id": "62d9809b-2cf3-47df-b7c3-bafce4161330",
   "metadata": {},
   "outputs": [],
   "source": [
    "a = [1, 2, 3]\n",
    "b = a[:]  # b=a와 다름. 복사한거야. \n",
    "# 리스트를 슬라이싱해서 변수에 assign할 경우 새로운 객체를 생성 & 새로운 주소를 참조"
   ]
  },
  {
   "cell_type": "code",
   "execution_count": 41,
   "id": "32b6e2ad-5d53-4b4a-b996-c7f85edd60f8",
   "metadata": {},
   "outputs": [
    {
     "data": {
      "text/plain": [
       "False"
      ]
     },
     "execution_count": 41,
     "metadata": {},
     "output_type": "execute_result"
    }
   ],
   "source": [
    "a is b"
   ]
  },
  {
   "cell_type": "code",
   "execution_count": 42,
   "id": "8882bc70-16ff-4162-96b0-88b67187f9aa",
   "metadata": {},
   "outputs": [
    {
     "name": "stdout",
     "output_type": "stream",
     "text": [
      "2323421914240\n",
      "2323421997888\n"
     ]
    }
   ],
   "source": [
    "print(id(a))\n",
    "print(id(b))"
   ]
  },
  {
   "cell_type": "code",
   "execution_count": 43,
   "id": "de5cf14d-0fe9-4b30-a500-fe912f5aca3c",
   "metadata": {},
   "outputs": [],
   "source": [
    "b = a.copy()"
   ]
  },
  {
   "cell_type": "code",
   "execution_count": 44,
   "id": "526fe0f5-2eda-4714-b6b4-b7f8451d7af5",
   "metadata": {},
   "outputs": [
    {
     "data": {
      "text/plain": [
       "False"
      ]
     },
     "execution_count": 44,
     "metadata": {},
     "output_type": "execute_result"
    }
   ],
   "source": [
    "a is b"
   ]
  },
  {
   "cell_type": "code",
   "execution_count": 45,
   "id": "4761f020-060c-4cab-8ace-153aec151a4c",
   "metadata": {},
   "outputs": [
    {
     "name": "stdout",
     "output_type": "stream",
     "text": [
      "2323421914240\n",
      "2323421401216\n"
     ]
    }
   ],
   "source": [
    "print(id(a))\n",
    "print(id(b))"
   ]
  },
  {
   "cell_type": "markdown",
   "id": "aaf3f76d-95b4-46de-86c9-64de67746e3f",
   "metadata": {},
   "source": [
    "# Swap. -> 실습해보기"
   ]
  },
  {
   "cell_type": "code",
   "execution_count": 46,
   "id": "e1999ff5-679a-4a01-a48a-0316f56bb40b",
   "metadata": {},
   "outputs": [],
   "source": [
    "a, b = 3, 10"
   ]
  },
  {
   "cell_type": "code",
   "execution_count": 47,
   "id": "4fc75321-cf13-471b-a99f-554a979592e8",
   "metadata": {},
   "outputs": [
    {
     "data": {
      "text/plain": [
       "(3, 10)"
      ]
     },
     "execution_count": 47,
     "metadata": {},
     "output_type": "execute_result"
    }
   ],
   "source": [
    "a, b"
   ]
  },
  {
   "cell_type": "code",
   "execution_count": 48,
   "id": "a8a3ea90-ff61-41b4-b86b-14f4840180aa",
   "metadata": {},
   "outputs": [],
   "source": [
    "a, b = b, a"
   ]
  },
  {
   "cell_type": "code",
   "execution_count": 49,
   "id": "0f0a1057-f284-407a-a379-05950139f7e1",
   "metadata": {},
   "outputs": [
    {
     "data": {
      "text/plain": [
       "(10, 3)"
      ]
     },
     "execution_count": 49,
     "metadata": {},
     "output_type": "execute_result"
    }
   ],
   "source": [
    "a, b"
   ]
  },
  {
   "cell_type": "markdown",
   "id": "77d373c9-2d89-4e54-b0ac-a9c7f2ecfb39",
   "metadata": {},
   "source": [
    "# 기초 제어문"
   ]
  },
  {
   "cell_type": "code",
   "execution_count": 50,
   "id": "a47d5bf8-fcb9-4880-830b-9a11f0bf0d20",
   "metadata": {},
   "outputs": [
    {
     "ename": "IndentationError",
     "evalue": "expected an indented block (Temp/ipykernel_78548/1944983803.py, line 3)",
     "output_type": "error",
     "traceback": [
      "\u001b[1;36m  File \u001b[1;32m\"C:\\Users\\AI-00\\AppData\\Local\\Temp/ipykernel_78548/1944983803.py\"\u001b[1;36m, line \u001b[1;32m3\u001b[0m\n\u001b[1;33m    else:\u001b[0m\n\u001b[1;37m         ^\u001b[0m\n\u001b[1;31mIndentationError\u001b[0m\u001b[1;31m:\u001b[0m expected an indented block\n"
     ]
    }
   ],
   "source": [
    "if 1:\n",
    "    print(1)\n",
    "else:  # else문에 내용 안넣으면 에러 발생"
   ]
  },
  {
   "cell_type": "code",
   "execution_count": 51,
   "id": "bb8a3924-0e5e-474a-b4f1-bceafbc61c68",
   "metadata": {},
   "outputs": [
    {
     "ename": "SyntaxError",
     "evalue": "invalid syntax (Temp/ipykernel_78548/4254016413.py, line 1)",
     "output_type": "error",
     "traceback": [
      "\u001b[1;36m  File \u001b[1;32m\"C:\\Users\\AI-00\\AppData\\Local\\Temp/ipykernel_78548/4254016413.py\"\u001b[1;36m, line \u001b[1;32m1\u001b[0m\n\u001b[1;33m    if 1\u001b[0m\n\u001b[1;37m        ^\u001b[0m\n\u001b[1;31mSyntaxError\u001b[0m\u001b[1;31m:\u001b[0m invalid syntax\n"
     ]
    }
   ],
   "source": [
    "if 1\n",
    "    print()"
   ]
  },
  {
   "cell_type": "code",
   "execution_count": null,
   "id": "485f977e-0f07-4106-86cf-4711459b5a99",
   "metadata": {},
   "outputs": [],
   "source": []
  }
 ],
 "metadata": {
  "kernelspec": {
   "display_name": "Python 3 (ipykernel)",
   "language": "python",
   "name": "python3"
  },
  "language_info": {
   "codemirror_mode": {
    "name": "ipython",
    "version": 3
   },
   "file_extension": ".py",
   "mimetype": "text/x-python",
   "name": "python",
   "nbconvert_exporter": "python",
   "pygments_lexer": "ipython3",
   "version": "3.9.7"
  }
 },
 "nbformat": 4,
 "nbformat_minor": 5
}
