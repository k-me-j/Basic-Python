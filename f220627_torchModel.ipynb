{
 "cells": [
  {
   "cell_type": "code",
   "execution_count": 1,
   "id": "2ccd560d-2eb2-45d2-bebb-7aa307096e74",
   "metadata": {},
   "outputs": [],
   "source": [
    "import torch\n",
    "import torch.nn as nn\n",
    "import torch.nn.functional as F\n",
    "import torch.optim as optim\n",
    "\n",
    "import pandas as pd\n",
    "import numpy as np  # pd.get_dummies() -> DataFrame 반환 -> array로 type 변경하기 위함"
   ]
  },
  {
   "cell_type": "code",
   "execution_count": 2,
   "id": "1c39b788-1e8d-4462-b1b4-e54803ebf0b4",
   "metadata": {},
   "outputs": [],
   "source": [
    "# 8x4 (4개의 특징을 가진 데이터 row 8개)\n",
    "x_train = [[1, 2, 1, 1],\n",
    "           [2, 1, 3, 2],\n",
    "           [3, 1, 3, 4],\n",
    "           [4, 1, 5, 5],\n",
    "           [1, 7, 5, 5],\n",
    "           [1, 2, 5, 6],\n",
    "           [1, 6, 6, 6],\n",
    "           [1, 7, 7, 7]]"
   ]
  },
  {
   "cell_type": "code",
   "execution_count": 3,
   "id": "1dd53560-5d54-4f5b-b948-c18673bb443f",
   "metadata": {},
   "outputs": [],
   "source": [
    "# 0, 1, 2  : 총 3개의 클래스 존재\n",
    "y_train = [2, 2, 2, 1, 1, 1, 0, 0]   # GT=Label Data,  각 샘플([1, 2, 1, 1] ==> 2)에 대한 GT 값"
   ]
  },
  {
   "cell_type": "markdown",
   "id": "13da91f2-cc69-4251-a2e8-7ea10b5868f8",
   "metadata": {},
   "source": [
    "# ▶ one-hot encoding으로 y_train을 변경\n",
    "1) pandas의 get_dummies() 메서드 사용\n",
    "2) torch : one_hot() 변경하는 메서드 없음  => 파이토치 시작할 때 사용한 scatter, unsqueeze  메서드 이용해서 구현\n",
    "3) nn.Linear(), F.CrossEntropy  사용시 Y_train을 one_hot encoding하지 않아도 자동으로 변환"
   ]
  },
  {
   "cell_type": "markdown",
   "id": "f6a21166-80d0-49b2-8349-581507a40b36",
   "metadata": {},
   "source": [
    "## 1. DataFrame 형태의 GT"
   ]
  },
  {
   "cell_type": "code",
   "execution_count": 4,
   "id": "c91c3742-247f-468f-87c4-6bd36418b4ad",
   "metadata": {},
   "outputs": [
    {
     "data": {
      "text/html": [
       "<div>\n",
       "<style scoped>\n",
       "    .dataframe tbody tr th:only-of-type {\n",
       "        vertical-align: middle;\n",
       "    }\n",
       "\n",
       "    .dataframe tbody tr th {\n",
       "        vertical-align: top;\n",
       "    }\n",
       "\n",
       "    .dataframe thead th {\n",
       "        text-align: right;\n",
       "    }\n",
       "</style>\n",
       "<table border=\"1\" class=\"dataframe\">\n",
       "  <thead>\n",
       "    <tr style=\"text-align: right;\">\n",
       "      <th></th>\n",
       "      <th>y_train</th>\n",
       "    </tr>\n",
       "  </thead>\n",
       "  <tbody>\n",
       "    <tr>\n",
       "      <th>0</th>\n",
       "      <td>2</td>\n",
       "    </tr>\n",
       "    <tr>\n",
       "      <th>1</th>\n",
       "      <td>2</td>\n",
       "    </tr>\n",
       "    <tr>\n",
       "      <th>2</th>\n",
       "      <td>2</td>\n",
       "    </tr>\n",
       "    <tr>\n",
       "      <th>3</th>\n",
       "      <td>1</td>\n",
       "    </tr>\n",
       "    <tr>\n",
       "      <th>4</th>\n",
       "      <td>1</td>\n",
       "    </tr>\n",
       "    <tr>\n",
       "      <th>5</th>\n",
       "      <td>1</td>\n",
       "    </tr>\n",
       "    <tr>\n",
       "      <th>6</th>\n",
       "      <td>0</td>\n",
       "    </tr>\n",
       "    <tr>\n",
       "      <th>7</th>\n",
       "      <td>0</td>\n",
       "    </tr>\n",
       "  </tbody>\n",
       "</table>\n",
       "</div>"
      ],
      "text/plain": [
       "   y_train\n",
       "0        2\n",
       "1        2\n",
       "2        2\n",
       "3        1\n",
       "4        1\n",
       "5        1\n",
       "6        0\n",
       "7        0"
      ]
     },
     "execution_count": 4,
     "metadata": {},
     "output_type": "execute_result"
    }
   ],
   "source": [
    "df = pd.DataFrame({\"y_train\": y_train})\n",
    "df"
   ]
  },
  {
   "cell_type": "markdown",
   "id": "66212fbb-d5af-4d58-a1b0-c4020b8e5ebb",
   "metadata": {},
   "source": [
    "## 2. pd.get_dummies 로 원핫인코딩"
   ]
  },
  {
   "cell_type": "code",
   "execution_count": 5,
   "id": "edd5498b-13c2-4564-ae1a-e1e18ce846f8",
   "metadata": {},
   "outputs": [
    {
     "data": {
      "text/html": [
       "<div>\n",
       "<style scoped>\n",
       "    .dataframe tbody tr th:only-of-type {\n",
       "        vertical-align: middle;\n",
       "    }\n",
       "\n",
       "    .dataframe tbody tr th {\n",
       "        vertical-align: top;\n",
       "    }\n",
       "\n",
       "    .dataframe thead th {\n",
       "        text-align: right;\n",
       "    }\n",
       "</style>\n",
       "<table border=\"1\" class=\"dataframe\">\n",
       "  <thead>\n",
       "    <tr style=\"text-align: right;\">\n",
       "      <th></th>\n",
       "      <th>0</th>\n",
       "      <th>1</th>\n",
       "      <th>2</th>\n",
       "    </tr>\n",
       "  </thead>\n",
       "  <tbody>\n",
       "    <tr>\n",
       "      <th>0</th>\n",
       "      <td>0</td>\n",
       "      <td>0</td>\n",
       "      <td>1</td>\n",
       "    </tr>\n",
       "    <tr>\n",
       "      <th>1</th>\n",
       "      <td>0</td>\n",
       "      <td>0</td>\n",
       "      <td>1</td>\n",
       "    </tr>\n",
       "    <tr>\n",
       "      <th>2</th>\n",
       "      <td>0</td>\n",
       "      <td>0</td>\n",
       "      <td>1</td>\n",
       "    </tr>\n",
       "    <tr>\n",
       "      <th>3</th>\n",
       "      <td>0</td>\n",
       "      <td>1</td>\n",
       "      <td>0</td>\n",
       "    </tr>\n",
       "    <tr>\n",
       "      <th>4</th>\n",
       "      <td>0</td>\n",
       "      <td>1</td>\n",
       "      <td>0</td>\n",
       "    </tr>\n",
       "    <tr>\n",
       "      <th>5</th>\n",
       "      <td>0</td>\n",
       "      <td>1</td>\n",
       "      <td>0</td>\n",
       "    </tr>\n",
       "    <tr>\n",
       "      <th>6</th>\n",
       "      <td>1</td>\n",
       "      <td>0</td>\n",
       "      <td>0</td>\n",
       "    </tr>\n",
       "    <tr>\n",
       "      <th>7</th>\n",
       "      <td>1</td>\n",
       "      <td>0</td>\n",
       "      <td>0</td>\n",
       "    </tr>\n",
       "  </tbody>\n",
       "</table>\n",
       "</div>"
      ],
      "text/plain": [
       "   0  1  2\n",
       "0  0  0  1\n",
       "1  0  0  1\n",
       "2  0  0  1\n",
       "3  0  1  0\n",
       "4  0  1  0\n",
       "5  0  1  0\n",
       "6  1  0  0\n",
       "7  1  0  0"
      ]
     },
     "execution_count": 5,
     "metadata": {},
     "output_type": "execute_result"
    }
   ],
   "source": [
    "df = pd.get_dummies(df[\"y_train\"])\n",
    "df"
   ]
  },
  {
   "cell_type": "markdown",
   "id": "dc8ca0bb-6e0f-4eac-a991-2bab3df5ac5d",
   "metadata": {},
   "source": [
    "## 3. np.array로 변환\n",
    "DataFrame => array (8x3) 변환해줘야 학습 가능"
   ]
  },
  {
   "cell_type": "code",
   "execution_count": 6,
   "id": "9714a333-f258-4ed5-9ac6-97664374d078",
   "metadata": {},
   "outputs": [
    {
     "data": {
      "text/plain": [
       "array([[0, 0, 1],\n",
       "       [0, 0, 1],\n",
       "       [0, 0, 1],\n",
       "       [0, 1, 0],\n",
       "       [0, 1, 0],\n",
       "       [0, 1, 0],\n",
       "       [1, 0, 0],\n",
       "       [1, 0, 0]], dtype=uint8)"
      ]
     },
     "execution_count": 6,
     "metadata": {},
     "output_type": "execute_result"
    }
   ],
   "source": [
    "new_array = np.array(df)\n",
    "new_array"
   ]
  },
  {
   "cell_type": "markdown",
   "id": "95907385-de89-435e-8800-1002d4bdfc8f",
   "metadata": {
    "tags": []
   },
   "source": [
    "## 4. pytorch에서 사용하기 위해서 Tensor 로 변경 "
   ]
  },
  {
   "cell_type": "code",
   "execution_count": 7,
   "id": "fc115f59-c44d-4361-8494-bfa4017a9dec",
   "metadata": {},
   "outputs": [
    {
     "data": {
      "text/plain": [
       "(torch.Size([8, 3]),\n",
       " tensor([[0., 0., 1.],\n",
       "         [0., 0., 1.],\n",
       "         [0., 0., 1.],\n",
       "         [0., 1., 0.],\n",
       "         [0., 1., 0.],\n",
       "         [0., 1., 0.],\n",
       "         [1., 0., 0.],\n",
       "         [1., 0., 0.]]))"
      ]
     },
     "execution_count": 7,
     "metadata": {},
     "output_type": "execute_result"
    }
   ],
   "source": [
    "y_train_new = torch.FloatTensor(new_array)\n",
    "y_train_new.shape, y_train_new"
   ]
  },
  {
   "cell_type": "markdown",
   "id": "6718bfd9-81cb-4926-b675-deb5012d16e5",
   "metadata": {},
   "source": [
    "# ▶ scatter, unsqueeze를 이용한 one-hot encoding 구현"
   ]
  },
  {
   "cell_type": "markdown",
   "id": "88634ac7-323c-4e94-95d4-eceebf4275b7",
   "metadata": {},
   "source": [
    "원핫인코딩을 하기 위해서는 사이즈를 만들어줘야 함\n",
    "- y_one_hot의 사이즈를 정의\n",
    "- row가 8개 있고, class가 3개 있음 => 8x3 one-hot encoding된 데이터 필요"
   ]
  },
  {
   "cell_type": "code",
   "execution_count": 8,
   "id": "9e717154-d37f-4bed-94ef-325e58fcd713",
   "metadata": {},
   "outputs": [],
   "source": [
    "# torch 메서드들을 사용하기 위해 tensor로 변경하기\n",
    "x_train = torch.FloatTensor(x_train)\n",
    "y_train = torch.LongTensor(y_train)  # scatter_() 메서드 사용을 위해 LongTensor로 변경"
   ]
  },
  {
   "cell_type": "code",
   "execution_count": 9,
   "id": "02ed18f8-fe68-4f78-a6c5-de96880fb608",
   "metadata": {},
   "outputs": [
    {
     "data": {
      "text/plain": [
       "tensor([[0., 0., 0.],\n",
       "        [0., 0., 0.],\n",
       "        [0., 0., 0.],\n",
       "        [0., 0., 0.],\n",
       "        [0., 0., 0.],\n",
       "        [0., 0., 0.],\n",
       "        [0., 0., 0.],\n",
       "        [0., 0., 0.]])"
      ]
     },
     "execution_count": 9,
     "metadata": {},
     "output_type": "execute_result"
    }
   ],
   "source": [
    "# y_train 원핫인코딩하기 위한 준비\n",
    "y_one_hot = torch.zeros(8, 3)\n",
    "y_one_hot"
   ]
  },
  {
   "cell_type": "markdown",
   "id": "0f54afb4-d676-43c2-8700-02bf248fc6dc",
   "metadata": {},
   "source": [
    "## ▷ unsqueeze()\n",
    "- unsqueeze() 전 y_train.shpae 은 (8, ) => unsqueeze() 후 : (8x1)  \n",
    "\n",
    "- 0은 row, 1은 col으로 확장 : shpae이 (8)일 때,\n",
    "    - unsqueeze(0) => 1x8\n",
    "    - unsqueeze(1) => 8x1\n",
    "\n",
    "cf) squeeze (제거하다) : (8x1) -> (8)"
   ]
  },
  {
   "cell_type": "code",
   "execution_count": 10,
   "id": "07999d92-5b0f-4756-9819-cb796e277d9d",
   "metadata": {},
   "outputs": [
    {
     "data": {
      "text/plain": [
       "(torch.Size([8]), tensor([2, 2, 2, 1, 1, 1, 0, 0]))"
      ]
     },
     "execution_count": 10,
     "metadata": {},
     "output_type": "execute_result"
    }
   ],
   "source": [
    "# unsqueeze() 전\n",
    "y_train.shape, y_train"
   ]
  },
  {
   "cell_type": "code",
   "execution_count": 11,
   "id": "ed4b53c7-1d62-4674-bab8-8edb68763c16",
   "metadata": {},
   "outputs": [
    {
     "data": {
      "text/plain": [
       "(torch.Size([8, 1]),\n",
       " tensor([[2],\n",
       "         [2],\n",
       "         [2],\n",
       "         [1],\n",
       "         [1],\n",
       "         [1],\n",
       "         [0],\n",
       "         [0]]))"
      ]
     },
     "execution_count": 11,
     "metadata": {},
     "output_type": "execute_result"
    }
   ],
   "source": [
    "# unsqueeze() 후\n",
    "y_train.unsqueeze(1).shape, y_train.unsqueeze(1)  # 컬럼 방향으로 확장"
   ]
  },
  {
   "cell_type": "markdown",
   "id": "3b969ae3-1b2e-4406-84c9-5214b0dc75f2",
   "metadata": {},
   "source": [
    "## ▷ scatter (흩어지다) : 열방향 또는 행 방향으로 흩어짐\n",
    "```python\n",
    "y_one_hot.scatter_(1, y_train.unsqueeze(1), 1)\n",
    "```\n",
    "- 1번째 파라미터 : 어느 dim 으로 확장할 것인지 결정\n",
    "- 3번째 파라미터 : y_train값에 해당하는 인덱스에 1을 삽입 (y_train이 1이면 0,1,0 됨)\n",
    "- _ 언더바 : inplace=True와 같은 개념"
   ]
  },
  {
   "cell_type": "code",
   "execution_count": 12,
   "id": "9f38b968-349d-4cb4-a5c3-dfd3a1ff1b43",
   "metadata": {},
   "outputs": [
    {
     "data": {
      "text/plain": [
       "(torch.Size([8, 3]),\n",
       " tensor([[0., 0., 1.],\n",
       "         [0., 0., 1.],\n",
       "         [0., 0., 1.],\n",
       "         [0., 1., 0.],\n",
       "         [0., 1., 0.],\n",
       "         [0., 1., 0.],\n",
       "         [1., 0., 0.],\n",
       "         [1., 0., 0.]]))"
      ]
     },
     "execution_count": 12,
     "metadata": {},
     "output_type": "execute_result"
    }
   ],
   "source": [
    "y_one_hot.scatter_(1, y_train.unsqueeze(1), 1)\n",
    "y_one_hot.shape, y_one_hot"
   ]
  },
  {
   "cell_type": "code",
   "execution_count": 13,
   "id": "45de7a4d-3f65-4d22-b28a-a85bbc9b0791",
   "metadata": {},
   "outputs": [
    {
     "data": {
      "text/plain": [
       "tensor([[0., 0., 3.],\n",
       "        [0., 0., 3.],\n",
       "        [0., 0., 3.],\n",
       "        [0., 3., 0.],\n",
       "        [0., 3., 0.],\n",
       "        [0., 3., 0.],\n",
       "        [3., 0., 0.],\n",
       "        [3., 0., 0.]])"
      ]
     },
     "execution_count": 13,
     "metadata": {},
     "output_type": "execute_result"
    }
   ],
   "source": [
    "y_one_hot.scatter(1, y_train.unsqueeze(1), 3)  # 3번째 파라미터 : y_train값에 해당하는 인덱스에 3을 삽입"
   ]
  },
  {
   "cell_type": "markdown",
   "id": "522cd5e7-a98f-4b00-ad3c-a390151bddb3",
   "metadata": {},
   "source": [
    "# ▶ 학습 하기 위한 준비\n",
    "1. weight, bias shape 정의\n",
    "2. optimizer를 뭘 사용할 것인지 등을 정의\n",
    "3. for문에서 정의된 epoch 수만큼 돌면서 w, b 값 학습  \n",
    "    3-1. 가설함수(hypothesis: softmax)  \n",
    "    3-2. cost function: cross-entropy  "
   ]
  },
  {
   "cell_type": "markdown",
   "id": "5c9ad03b-69c9-459b-8485-55439188cff7",
   "metadata": {},
   "source": [
    "# weight 설정\n",
    "```python\n",
    "w = torch.zeros((), requires_grad=True)  # ()에 shape 들어가야 함\n",
    "```\n",
    "- x_train.shape : 8x4  \n",
    "- y_train.shape : 8x3  \n",
    "- ```x_train * w => y_train``` 나와야 함\n",
    "\n",
    "\n",
    "### 8x4 matrix multiplication 4x3 => 8x3"
   ]
  },
  {
   "cell_type": "code",
   "execution_count": 14,
   "id": "b375c188-5472-4d61-9a7d-68a93ccda0ae",
   "metadata": {},
   "outputs": [],
   "source": [
    "w = torch.zeros((4, 3), requires_grad=True) # requires_grad : w 기준으로 편미분\n",
    "b = torch.zeros(3, requires_grad=True)  # class가 3개니까??열이 3개니까?? 3개 나와야 함\n",
    "# bias는 wx+b로 더하는 값임. 그래서 크게 영향을 미치지는 않음"
   ]
  },
  {
   "cell_type": "code",
   "execution_count": null,
   "id": "ca04f392-ea08-4d0a-a3c6-c172adfcba08",
   "metadata": {},
   "outputs": [],
   "source": []
  },
  {
   "cell_type": "code",
   "execution_count": null,
   "id": "ee61d474-a03b-45a8-95fe-d6aaf6180cdf",
   "metadata": {},
   "outputs": [],
   "source": []
  },
  {
   "cell_type": "code",
   "execution_count": 15,
   "id": "5cb134b6-701b-414f-927c-1af29b124682",
   "metadata": {},
   "outputs": [],
   "source": [
    "# z = torch.FloatTensor([1,2,3])\n",
    "# torch.exp(z[0]/(torch.exp(z[0] + torch.exp(z[1] + torch.exp(z[2])))\n",
    "# F.softmax(z)"
   ]
  },
  {
   "cell_type": "markdown",
   "id": "c889a5f2-c9f8-412c-b2b6-39ebaeb5d833",
   "metadata": {},
   "source": [
    "## 방법 1"
   ]
  },
  {
   "cell_type": "code",
   "execution_count": 17,
   "id": "e2300c88-fb8d-451c-a8c8-64d8f430309a",
   "metadata": {},
   "outputs": [
    {
     "name": "stdout",
     "output_type": "stream",
     "text": [
      "Epoch    0/1000, cost: 1.098612\n",
      "Epoch  100/1000, cost: 0.704199\n",
      "Epoch  200/1000, cost: 0.623000\n",
      "Epoch  300/1000, cost: 0.565717\n",
      "Epoch  400/1000, cost: 0.515291\n",
      "Epoch  500/1000, cost: 0.467662\n",
      "Epoch  600/1000, cost: 0.421278\n",
      "Epoch  700/1000, cost: 0.375401\n",
      "Epoch  800/1000, cost: 0.329766\n",
      "Epoch  900/1000, cost: 0.285072\n",
      "Epoch 1000/1000, cost: 0.248155\n"
     ]
    }
   ],
   "source": [
    "optimizer = optim.SGD([w, b], lr=0.1)\n",
    "\n",
    "nb_epochs = 1000\n",
    "for epoch in range(nb_epochs + 1):\n",
    "    # 1. Hypothesis 함수 : forward\n",
    "    # softmax = exp(wx+b) / sum(exp(wx+b))\n",
    "    # => 구현되어 있는게 F.softmax\n",
    "    hx = F.softmax(x_train.matmul(w) + b, dim=1)\n",
    "    \n",
    "    # 2. Cost Function 사용\n",
    "    # cross-entropy = 1 / n(y*-log(h(x)))  : *는 element-wise 곱\n",
    "    cost = (y_one_hot * -torch.log(hx)).sum(dim=1).mean()  # y_one_hot는 GT값\n",
    "    \n",
    "    # 3. 최적화 : cost function을 미분하고, 경사타고 내려오면서 w,b 업데이터\n",
    "    optimizer.zero_grad()\n",
    "    cost.backward()  # cost function 미분\n",
    "    optimizer.step()  # SGD, lr 만큼 내려가면서 w, b 업데이트\n",
    "    \n",
    "    if epoch % 100 == 0:\n",
    "        print(f\"Epoch {epoch:4d}/{nb_epochs}, cost: {cost.item():.6f}\")"
   ]
  },
  {
   "cell_type": "markdown",
   "id": "b91c1fa8-39ff-4f13-ba05-5e0ce5ee3a86",
   "metadata": {},
   "source": [
    "## 방법 2"
   ]
  },
  {
   "cell_type": "code",
   "execution_count": 19,
   "id": "bdc8414d-f5bd-44b3-bdb2-7af530fb3eb4",
   "metadata": {},
   "outputs": [
    {
     "name": "stdout",
     "output_type": "stream",
     "text": [
      "Epoch    0/1000, cost: 1.837496\n",
      "Epoch  100/1000, cost: 0.648946\n",
      "Epoch  200/1000, cost: 0.561758\n",
      "Epoch  300/1000, cost: 0.506929\n",
      "Epoch  400/1000, cost: 0.462533\n",
      "Epoch  500/1000, cost: 0.423128\n",
      "Epoch  600/1000, cost: 0.386321\n",
      "Epoch  700/1000, cost: 0.350591\n",
      "Epoch  800/1000, cost: 0.314768\n",
      "Epoch  900/1000, cost: 0.278281\n",
      "Epoch 1000/1000, cost: 0.245994\n"
     ]
    }
   ],
   "source": [
    "model = nn.Linear(4, 3)  # 4x3 입력될 특징 4가지, 출력될 값 3가지  # 추가된 부분\n",
    "optimizer = optim.SGD(model.parameters(), lr=0.1)\n",
    "# optimizer = optim.SGD([w, b], lr=0.1) 사용하면 우리가 만든 zeros로 계속 학습하기 때문에 cost가 업데이트 안됨!\n",
    "\n",
    "nb_epochs = 1000\n",
    "for epoch in range(nb_epochs + 1):\n",
    "    # 1. Hypothesis 함수 : forward\n",
    "    # hx = F.softmax(x_train.matmul(w) + b, dim=1)\n",
    "    \n",
    "    # 2. Cost Function 사용\n",
    "    # cost = (y_one_hot * -torch.log(hx)).sum(dim=1).mean()  # y_one_hot는 GT값\n",
    "    \n",
    "    # 방법1과 다른 부분\n",
    "    # 1, 2 대신 아래 두 줄로 변경해도 됨. 1, 2번의 코드(hx, cost)는 dim 등 직접 구현해서 이해하기 위함\n",
    "    pred = model(x_train)\n",
    "    cost = F.cross_entropy(pred, y_train)  \n",
    "    # y_train는 원핫인코딩 안된 값. cross_entropy가 자동으로 원핫인코딩 해줌\n",
    "    # cross_entropy 안에 softmax 들어있음\n",
    "    # (우리가 구현한 softmax와 다름. 로그 먹인 softmax)\n",
    "    \n",
    "    # 3. 최적화 : cost function을 미분하고, 경사타고 내려오면서 w,b 업데이터\n",
    "    optimizer.zero_grad()\n",
    "    cost.backward()  # cost function 미분\n",
    "    optimizer.step()  # SGD, lr 만큼 내려가면서 w, b 업데이트\n",
    "    \n",
    "    if epoch % 100 == 0:\n",
    "        print(f\"Epoch {epoch:4d}/{nb_epochs}, cost: {cost.item():.6f}\")"
   ]
  },
  {
   "cell_type": "code",
   "execution_count": null,
   "id": "b89e7348-0a5e-46fd-b03c-983c0a085176",
   "metadata": {},
   "outputs": [],
   "source": []
  }
 ],
 "metadata": {
  "kernelspec": {
   "display_name": "Python 3 (ipykernel)",
   "language": "python",
   "name": "python3"
  },
  "language_info": {
   "codemirror_mode": {
    "name": "ipython",
    "version": 3
   },
   "file_extension": ".py",
   "mimetype": "text/x-python",
   "name": "python",
   "nbconvert_exporter": "python",
   "pygments_lexer": "ipython3",
   "version": "3.9.7"
  }
 },
 "nbformat": 4,
 "nbformat_minor": 5
}
