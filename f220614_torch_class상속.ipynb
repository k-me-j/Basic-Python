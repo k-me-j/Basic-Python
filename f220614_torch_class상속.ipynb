{
 "cells": [
  {
   "cell_type": "markdown",
   "id": "a918b343-9d1d-486f-a695-4e180ad78b4e",
   "metadata": {},
   "source": [
    "pytorch 기반의 딥러닝 모델을 생성하는 github  \n",
    "- 일반적으로 class를 많이 사용해서 구현이 되어 있음"
   ]
  },
  {
   "cell_type": "markdown",
   "id": "e7f42751-022f-4a84-b43d-4a5616e41176",
   "metadata": {},
   "source": [
    "# class 상속 실습\n",
    "```python\n",
    "class className(부모 클래스):\n",
    "```\n",
    "부모 클래스를 그대로 사용하기 위해 ```super``` 사용  "
   ]
  },
  {
   "cell_type": "markdown",
   "id": "45f9a009-1dae-47f9-b5b9-dbb387231069",
   "metadata": {},
   "source": [
    "## 상속 : 컴퓨터와 노트북"
   ]
  },
  {
   "cell_type": "code",
   "execution_count": 2,
   "id": "959c277c-887d-4ebb-9030-69120bafaeef",
   "metadata": {},
   "outputs": [],
   "source": [
    "class Computer:\n",
    "    def __init__(self, cpu, ram):\n",
    "        self.cpu = cpu\n",
    "        self.ram = ram\n",
    "        \n",
    "    def browse(self):\n",
    "        print(\"web search\")\n",
    "        \n",
    "# Laptop class는 컴퓨터 클래스를 상속받아 구현\n",
    "class Laptop(Computer):\n",
    "    def __init__(self, cpu, ram, battery):\n",
    "        super().__init__(cpu, ram)  # 자식 클래스에서 부모 클래스의 내용을 그대로 사용\n",
    "        self.battery = battery\n",
    "    \n",
    "    def move(self):\n",
    "        print(\"노트북은 이동 가능함\")"
   ]
  },
  {
   "cell_type": "markdown",
   "id": "24046d70-ecdb-4277-9b7c-f5e43dfc32c9",
   "metadata": {},
   "source": [
    "### 상속의 상속 실습\n",
    "- Rectangle 넓이 둘레 계산\n",
    "- square(정사각형) : Rectangle 상속\n",
    "- cube(정육면체) : 상속을 받아서 처리"
   ]
  },
  {
   "cell_type": "code",
   "execution_count": 25,
   "id": "7f29b351-c2c9-428f-bb20-023870947b28",
   "metadata": {},
   "outputs": [],
   "source": [
    "class Rect:\n",
    "    def __init__(self, width, height):\n",
    "        self.width = width\n",
    "        self.height = height\n",
    "    \n",
    "    # 넓이 구하는 함수\n",
    "    def area(self):\n",
    "        return self.width * self.height\n",
    "        \n",
    "    # 둘레 구하는 함수\n",
    "    def perimeter(self):\n",
    "        return (self.width + self.height) * 2\n",
    "    \n",
    "    def area_tmp(self):\n",
    "        print(\"inh ==> inh : 상속에 상속\")\n",
    "        return self.width * self.height"
   ]
  },
  {
   "cell_type": "code",
   "execution_count": 26,
   "id": "3a4c7ae7-020c-4f3d-b4f2-024c415b4c99",
   "metadata": {},
   "outputs": [],
   "source": [
    "class Square:\n",
    "    def __init__(self, width):\n",
    "        self.width = width\n",
    "    \n",
    "    # 넓이 구하는 함수\n",
    "    def area(self):\n",
    "        return self.width **2\n",
    "        \n",
    "    # 둘레 구하는 함수\n",
    "    def perimeter(self):\n",
    "        return self.width * 4\n",
    "    \n",
    "# 상속받는 정사각형 클래스 재구현\n",
    "class SquareInh(Rect):\n",
    "    def __init__(self, width):\n",
    "        super().__init__(width, width)\n",
    "    \n",
    "    def area_tmp(self):\n",
    "        print(\"inh : 상속\")\n",
    "        return self.width * self.width"
   ]
  },
  {
   "cell_type": "markdown",
   "id": "256b0153-b1b8-4bda-90e5-b159dc69b75a",
   "metadata": {},
   "source": [
    "# super() VS super(SquareInh, self) \n",
    "상속의 상속"
   ]
  },
  {
   "cell_type": "code",
   "execution_count": 32,
   "id": "bc5642d8-c00a-40cf-8846-5b9614af538e",
   "metadata": {},
   "outputs": [],
   "source": [
    "# 상속 받은 메서드, 상속에 상속 받은 메서드 구분\n",
    "class Cube(SquareInh):\n",
    "    def surface_area(self):\n",
    "        # SqureInh ==> Rect ==> area_tmp 메서드\n",
    "        sur_area = super(SquareInh, self).area_tmp()\n",
    "        #  정육면체의 넓이 = w * h * 6\n",
    "        return sur_area * 6\n",
    "    \n",
    "    def volumn(self):\n",
    "        vol = super().area_tmp()  # SquareInh 클래스의 area_tmp()\n",
    "        return vol * self.width"
   ]
  },
  {
   "cell_type": "markdown",
   "id": "6457ca82-dcab-4865-b0fd-de6f3340ed4b",
   "metadata": {},
   "source": [
    "# ```if __name__ == \"__main__\":```"
   ]
  },
  {
   "cell_type": "code",
   "execution_count": 28,
   "id": "d956b08f-24c1-4933-bb48-4b5301ded239",
   "metadata": {},
   "outputs": [
    {
     "name": "stdout",
     "output_type": "stream",
     "text": [
      "8\n",
      "12\n"
     ]
    }
   ],
   "source": [
    "rect = Rect(2, 4)\n",
    "print(rect.area())\n",
    "print(rect.perimeter())"
   ]
  },
  {
   "cell_type": "code",
   "execution_count": 29,
   "id": "e7dfa981-7f71-42d2-b05d-c73d6f5e4a50",
   "metadata": {},
   "outputs": [
    {
     "name": "stdout",
     "output_type": "stream",
     "text": [
      "16\n",
      "16\n"
     ]
    }
   ],
   "source": [
    "square = Square(4)\n",
    "print(square.area())\n",
    "print(square.perimeter())"
   ]
  },
  {
   "cell_type": "code",
   "execution_count": 30,
   "id": "7221216c-d324-4dc7-9bc8-1202667e8e9f",
   "metadata": {},
   "outputs": [
    {
     "name": "stdout",
     "output_type": "stream",
     "text": [
      "16\n",
      "16\n"
     ]
    }
   ],
   "source": [
    "square_inh = SquareInh(4)\n",
    "print(square_inh.area())\n",
    "print(square_inh.perimeter())"
   ]
  },
  {
   "cell_type": "code",
   "execution_count": 33,
   "id": "6533c8f3-c028-47a6-a2a1-d98cf00d5616",
   "metadata": {},
   "outputs": [
    {
     "name": "stdout",
     "output_type": "stream",
     "text": [
      "inh ==> inh : 상속에 상속\n",
      "54\n",
      "inh : 상속\n",
      "27\n"
     ]
    }
   ],
   "source": [
    "cube = Cube(3)\n",
    "print(cube.surface_area())\n",
    "print(cube.volumn())"
   ]
  },
  {
   "cell_type": "code",
   "execution_count": null,
   "id": "f586f84d-4e89-421f-80c6-3b65c11f3326",
   "metadata": {},
   "outputs": [],
   "source": []
  }
 ],
 "metadata": {
  "kernelspec": {
   "display_name": "Python 3 (ipykernel)",
   "language": "python",
   "name": "python3"
  },
  "language_info": {
   "codemirror_mode": {
    "name": "ipython",
    "version": 3
   },
   "file_extension": ".py",
   "mimetype": "text/x-python",
   "name": "python",
   "nbconvert_exporter": "python",
   "pygments_lexer": "ipython3",
   "version": "3.9.7"
  }
 },
 "nbformat": 4,
 "nbformat_minor": 5
}
