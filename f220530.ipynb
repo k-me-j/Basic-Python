{
 "cells": [
  {
   "cell_type": "code",
   "execution_count": 3,
   "id": "de90e73f-4a0b-49d6-8d1e-c7135d7e4343",
   "metadata": {},
   "outputs": [],
   "source": [
    "import torch\n",
    "import numpy as np\n",
    "import matplotlib.pyplot as plt"
   ]
  },
  {
   "cell_type": "markdown",
   "id": "49c9bd5d-9080-4df0-a08c-7978ad2c4380",
   "metadata": {},
   "source": [
    "# get_data() \n",
    "- param in : None \n",
    "- param out (=return) : train data의 x, y  (input x, GT y)\n",
    "- description\n",
    "    - 학습 데이터를 가지고 오는 함수\n",
    "    - np.array를 사용해서 tensor로 변경한 후 return"
   ]
  },
  {
   "cell_type": "code",
   "execution_count": 8,
   "id": "89579359-6c5b-495e-8b1a-83c66d9b4fce",
   "metadata": {},
   "outputs": [],
   "source": [
    "def get_data():\n",
    "    train_x = np.array([3.3, 4.4, 5.5, 6.71, 6.93, 4.168, 9.779, 6.182, 7.59, 2.167,\n",
    "                         7.042, 10.791, 5.313, 7.997, 5.654, 9.27, 3.1])\n",
    "    train_y = np.array([1.7, 2.76, 2.09, 3.19, 1.694, 1.573, 3.366, 2.596, 2.53, 1.221,\n",
    "                         2.827, 3.465, 1.65, 2.904, 2.42, 2.94, 1.3])\n",
    "    \n",
    "    x = torch.from_numpy(train_x).view(17, 1)  # shape [17] -> [17, 1] : elementwise 연산 가능하도록 하기 위해\n",
    "    y = torch.from_numpy(train_y)\n",
    "    \n",
    "    return x, y"
   ]
  },
  {
   "cell_type": "code",
   "execution_count": 9,
   "id": "bc5cf77e-f14b-4b81-ab10-424615cbaf90",
   "metadata": {},
   "outputs": [
    {
     "data": {
      "text/plain": [
       "(tensor([[ 3.3000],\n",
       "         [ 4.4000],\n",
       "         [ 5.5000],\n",
       "         [ 6.7100],\n",
       "         [ 6.9300],\n",
       "         [ 4.1680],\n",
       "         [ 9.7790],\n",
       "         [ 6.1820],\n",
       "         [ 7.5900],\n",
       "         [ 2.1670],\n",
       "         [ 7.0420],\n",
       "         [10.7910],\n",
       "         [ 5.3130],\n",
       "         [ 7.9970],\n",
       "         [ 5.6540],\n",
       "         [ 9.2700],\n",
       "         [ 3.1000]], dtype=torch.float64),\n",
       " tensor([1.7000, 2.7600, 2.0900, 3.1900, 1.6940, 1.5730, 3.3660, 2.5960, 2.5300,\n",
       "         1.2210, 2.8270, 3.4650, 1.6500, 2.9040, 2.4200, 2.9400, 1.3000],\n",
       "        dtype=torch.float64))"
      ]
     },
     "execution_count": 9,
     "metadata": {},
     "output_type": "execute_result"
    }
   ],
   "source": [
    "get_data()"
   ]
  },
  {
   "cell_type": "markdown",
   "id": "3b4d0e4f-257d-436a-a5ca-36fc63a21a3e",
   "metadata": {},
   "source": [
    "# get_weights()\n",
    "- param in : None\n",
    "- param out : random weight and bias values\n",
    "- desctription\n",
    "    - weight, bias는 random normal한 값으로 셋팅 = ```randn()```\n",
    "    - randn() VS rand()\n",
    "        - randn() : 정규분포를 기준으로 랜덤한 값 생성\n",
    "        - rand() : 0~1 사이의 랜덤한 값을 반환(균등하게 나누어서 반환)\n",
    "    - w, b는 항상 미분되어야 하므로(=최적값을 찾기 위해, loss,cost,error값을 최소화) ```requires_grad=True```로 셋팅"
   ]
  },
  {
   "cell_type": "code",
   "execution_count": 10,
   "id": "3814454c-35aa-4c4c-b7c5-0df14e5b627e",
   "metadata": {},
   "outputs": [],
   "source": [
    "def get_weights():\n",
    "    w = torch.randn(1)  # -1~1 사이의 값 중 정규분포 가운데 부분\n",
    "    w.requires_grad = True  # 미분할 것을 명시, grad 계산해야 한다고 명시\n",
    "    b = torch.randn(1)\n",
    "    b.requires_grad = True  # 미분할 것을 명시, grad 계산해야 한다고 명시\n",
    "    \n",
    "    return w, b"
   ]
  },
  {
   "cell_type": "markdown",
   "id": "ca334f90-ee00-4971-8409-da3c22a31d8f",
   "metadata": {},
   "source": [
    "# 가설 함수 simple_network() or hypothesis_function() \n",
    "- param in : x (train하기 위한 입력 데이터)\n",
    "- param out : $wx+b$ 예측값 \n",
    "- description\n",
    "    - $wx+b$ 예측"
   ]
  },
  {
   "cell_type": "code",
   "execution_count": 11,
   "id": "c0a77e0d-2bde-4b2d-bfa5-6125871f447a",
   "metadata": {},
   "outputs": [],
   "source": [
    "def simple_network(x):\n",
    "    y_pred = torch.matmul(x, w) + b\n",
    "    return y_pred"
   ]
  },
  {
   "cell_type": "markdown",
   "id": "5c136be8-4282-4ea8-b1c9-616496fafd19",
   "metadata": {},
   "source": [
    "# 손실 함수 loss_fn()\n",
    "- param in : y, y_pred\n",
    "- param out : loss 값\n",
    "- description\n",
    "    - MSE : 오차(찐-예측값)의 제곱에 대한 평균\n",
    "    - 최적화하기 위해서 Gradient Descent 알고리즘 사용 -> loss function 자체는 convex한, 유의미한 형태를 지녀야 함\n",
    "    - $w = w - alpha * (loss function의 기울기)$"
   ]
  },
  {
   "cell_type": "code",
   "execution_count": 13,
   "id": "a23ae321-f662-41bd-b9d2-efec1fc1102b",
   "metadata": {},
   "outputs": [],
   "source": [
    "def loss_fn(y, y_pred):\n",
    "    # MSE 수식을 함수로 표현\n",
    "    loss = torch.mean((y_pred - y).pow(2).sum())  # pow:제곱, 승수\n",
    "    \n",
    "    for param in [w, b]:\n",
    "        if not param.grad is None:\n",
    "            param.grad.data.zero_()  # 값이 있으면 0으로 초기화\n",
    "        loss.backward()  # backword 호출 : MSE의 기울기를 계산\n",
    "        \n",
    "    return loss.data"
   ]
  },
  {
   "cell_type": "markdown",
   "id": "144d2250-8f08-46db-ab3d-c65ebbdccff4",
   "metadata": {},
   "source": [
    "# TRY"
   ]
  },
  {
   "cell_type": "code",
   "execution_count": 14,
   "id": "edd5705c-5481-42bc-9174-2766390675da",
   "metadata": {},
   "outputs": [],
   "source": [
    "X = [1, 2, 3]\n",
    "Y = [1, 2, 3]"
   ]
  },
  {
   "cell_type": "markdown",
   "id": "e7683fc6-fea7-4bc3-9158-4d9a8c924293",
   "metadata": {},
   "source": [
    "### loss function을 간결화하기 위해 b term은 제거"
   ]
  },
  {
   "cell_type": "code",
   "execution_count": null,
   "id": "8d296fe9-f9d4-439d-8ca3-6f6771dc0978",
   "metadata": {},
   "outputs": [],
   "source": [
    "# 그래프를 그리기 위해 w, cost 값을 넣을 빈 리스트 작성\n",
    "w_val = []\n",
    "cost_val = []\n",
    "\n",
    "for i in range(-30, 50):\n",
    "    weight = i * 0.1\n",
    "    w_val.append(weight)\n",
    "    curr_cost = # MSE 수식\n",
    "    cost_val.append(curr_cost)\n",
    "\n",
    "# show the cost_function\n",
    "plt.plot(w_val, cost_val)\n",
    "plt.show()"
   ]
  },
  {
   "cell_type": "markdown",
   "id": "569a7a3b-b177-435b-aa02-a2aca74fabe5",
   "metadata": {},
   "source": [
    "# optimize\n",
    "- param in : learning_rate\n",
    "- param out : None\n",
    "- description\n",
    "    - w, b를 업데이트해주는 함수"
   ]
  },
  {
   "cell_type": "code",
   "execution_count": 15,
   "id": "7689d636-0af7-4c14-904d-2b1eab0a1667",
   "metadata": {},
   "outputs": [],
   "source": [
    "def optimize(lr):\n",
    "    w.data = w.data - lr * w.grad.data\n",
    "    b.data -= lr * b.grad.data"
   ]
  },
  {
   "cell_type": "raw",
   "id": "2cf090b7-b0c4-4a5c-b8af-20bd69037b81",
   "metadata": {},
   "source": [
    "# plot_variable 함수 스스로 작성해보기\n",
    "# 학습하기 위한 함수, Linear regression 모델을 만들기 위한 함수 작성\n",
    "# 결과를 보기 위한 plot 함수 작성\n",
    "=> 다음주에 우리가 만든 함수로 학습 진행해보는 코드 작성\n",
    "& grad_zero 해주는 이유에 대해 코드로 확인"
   ]
  },
  {
   "cell_type": "code",
   "execution_count": null,
   "id": "c9c5de39-c832-49e3-a114-0faafd8584a7",
   "metadata": {},
   "outputs": [],
   "source": []
  }
 ],
 "metadata": {
  "kernelspec": {
   "display_name": "Python 3 (ipykernel)",
   "language": "python",
   "name": "python3"
  },
  "language_info": {
   "codemirror_mode": {
    "name": "ipython",
    "version": 3
   },
   "file_extension": ".py",
   "mimetype": "text/x-python",
   "name": "python",
   "nbconvert_exporter": "python",
   "pygments_lexer": "ipython3",
   "version": "3.9.7"
  }
 },
 "nbformat": 4,
 "nbformat_minor": 5 
}
