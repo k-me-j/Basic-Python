{
 "cells": [
  {
   "cell_type": "markdown",
   "id": "cc70dce3-2b76-46a9-bad0-e1c3281ea214",
   "metadata": {},
   "source": [
    "# ▶ one-line 한 줄로 코딩하기"
   ]
  },
  {
   "cell_type": "code",
   "execution_count": 1,
   "id": "fcc3ecee-a68b-4729-9ab2-101f0a57e11b",
   "metadata": {},
   "outputs": [
    {
     "name": "stdout",
     "output_type": "stream",
     "text": [
      "Take bus\n"
     ]
    }
   ],
   "source": [
    "money = 3000\n",
    "\n",
    "if money > 3000:\n",
    "    print(\"Take taxi\")\n",
    "else:\n",
    "    print(\"Take bus\")"
   ]
  },
  {
   "cell_type": "code",
   "execution_count": 2,
   "id": "4afdbafa-a7bf-41cc-a789-8c009d13924c",
   "metadata": {},
   "outputs": [
    {
     "name": "stdout",
     "output_type": "stream",
     "text": [
      "Take bus\n"
     ]
    }
   ],
   "source": [
    "transportation = print(\"Take taxi\") if money > 3000 else print(\"Take bus\")\n",
    "transportation"
   ]
  },
  {
   "cell_type": "markdown",
   "id": "8ed54e7f-8ac5-487c-86a9-b4569114923c",
   "metadata": {},
   "source": [
    "# ▶ 0, 1 = False, True"
   ]
  },
  {
   "cell_type": "code",
   "execution_count": 3,
   "id": "57278380-8273-47a8-9ba2-5b9cb91fc259",
   "metadata": {},
   "outputs": [],
   "source": [
    "# 1 = True, 0 = False\n",
    "sum_var = 1\n",
    "if (not sum_var):\n",
    "    print(sum_var)"
   ]
  },
  {
   "cell_type": "markdown",
   "id": "66df8eb7-68c0-4a4f-ab1c-571431cad6e1",
   "metadata": {},
   "source": [
    "# ▶ 조건문 중 or"
   ]
  },
  {
   "cell_type": "code",
   "execution_count": 4,
   "id": "af5ee098-c414-4fd0-846f-23a04d309523",
   "metadata": {},
   "outputs": [
    {
     "name": "stdout",
     "output_type": "stream",
     "text": [
      "Take taxi\n"
     ]
    }
   ],
   "source": [
    "card = True\n",
    "\n",
    "if money > 3000 or card:\n",
    "    print(\"Take taxi\")\n",
    "else:\n",
    "    pass  # 아무것도 하지 않겠다"
   ]
  },
  {
   "cell_type": "markdown",
   "id": "5dead55f-724f-438f-a093-27824e4dcfaa",
   "metadata": {},
   "source": [
    "# ▶ in : list 요소 확인"
   ]
  },
  {
   "cell_type": "code",
   "execution_count": 5,
   "id": "852ce297-aee7-4e93-9d3b-5f8c3668b723",
   "metadata": {},
   "outputs": [
    {
     "name": "stdout",
     "output_type": "stream",
     "text": [
      "Can't find input number\n"
     ]
    }
   ],
   "source": [
    "list_var = [i for i in range(1,6)]\n",
    "\n",
    "if 8 in list_var:\n",
    "    print(\"8 is in the list\")\n",
    "else:\n",
    "    print(\"Can't find input number\")"
   ]
  },
  {
   "cell_type": "markdown",
   "id": "2fa8d299-7074-47b4-a78b-0e08b7e6a2cb",
   "metadata": {},
   "source": [
    "# ▶ while 문"
   ]
  },
  {
   "cell_type": "code",
   "execution_count": 6,
   "id": "8cc9c548-aec5-435c-8bfb-dcd90fee5c04",
   "metadata": {},
   "outputs": [
    {
     "name": "stdout",
     "output_type": "stream",
     "text": [
      "나무를 1번 찍었습니다\n",
      "나무를 2번 찍었습니다\n",
      "나무를 3번 찍었습니다\n",
      "나무를 4번 찍었습니다\n",
      "나무를 5번 찍었습니다\n",
      "나무를 6번 찍었습니다\n",
      "나무를 7번 찍었습니다\n",
      "나무를 8번 찍었습니다\n",
      "나무를 9번 찍었습니다\n",
      "나무를 10번 찍었습니다\n",
      "나무가 넘어갑니다\n"
     ]
    }
   ],
   "source": [
    "heat_tree = 0\n",
    "\n",
    "while heat_tree < 10:\n",
    "    heat_tree += 1\n",
    "    print(f'나무를 {heat_tree}번 찍었습니다')\n",
    "    if heat_tree == 10:\n",
    "        print('나무가 넘어갑니다')"
   ]
  },
  {
   "cell_type": "code",
   "execution_count": 7,
   "id": "9b3aa0c6-5010-4d02-ac04-783567c51686",
   "metadata": {},
   "outputs": [
    {
     "name": "stdout",
     "output_type": "stream",
     "text": [
      "\n",
      "1. ADD\n",
      "2. DEL\n",
      "3. LIST\n",
      "4. QUIT\n",
      "ENTER NUMBER : \n",
      "\n"
     ]
    },
    {
     "name": "stdin",
     "output_type": "stream",
     "text": [
      " 4\n"
     ]
    }
   ],
   "source": [
    "prompt = \"\"\"\n",
    "1. ADD\n",
    "2. DEL\n",
    "3. LIST\n",
    "4. QUIT\n",
    "ENTER NUMBER : \n",
    "\"\"\"\n",
    "\n",
    "number = 0\n",
    "while number < 4:\n",
    "    print(prompt)\n",
    "    number = int(input())"
   ]
  },
  {
   "cell_type": "markdown",
   "id": "df98435c-4b52-4fea-8228-62e9365569b1",
   "metadata": {},
   "source": [
    "## ▷ continue 문\n",
    "### : while문을 빠젼나가지 않고  while 문의 맨 처음 조건문으로 다시 돌아가야 할 때"
   ]
  },
  {
   "cell_type": "code",
   "execution_count": 8,
   "id": "d721122e-d74d-4fe2-88ab-b4fb55789644",
   "metadata": {},
   "outputs": [
    {
     "name": "stdout",
     "output_type": "stream",
     "text": [
      "1\n",
      "3\n",
      "5\n",
      "7\n",
      "9\n"
     ]
    }
   ],
   "source": [
    "a = 0\n",
    "while a < 10:\n",
    "    a += 1\n",
    "    if a % 2 == 0:\n",
    "        continue\n",
    "    print(a)"
   ]
  },
  {
   "cell_type": "markdown",
   "id": "58f554e2-bd97-4210-851b-b46f317c75a8",
   "metadata": {},
   "source": [
    "## ▷ break 문\n",
    "while 문을 빠져나가기 위해 사용 가능한 구문"
   ]
  },
  {
   "cell_type": "code",
   "execution_count": 9,
   "id": "2879992b-4890-412c-932b-9966a420cb82",
   "metadata": {},
   "outputs": [
    {
     "name": "stdin",
     "output_type": "stream",
     "text": [
      "Insert Money :  300\n"
     ]
    },
    {
     "name": "stdout",
     "output_type": "stream",
     "text": [
      "A cup of coffee\n"
     ]
    }
   ],
   "source": [
    "# 자판기 만들기\n",
    "coffee = 3\n",
    "money = 0\n",
    "\n",
    "while True:  # 무한 루프\n",
    "    insert = int(input(\"Insert Money : \"))\n",
    "    money += insert\n",
    "    \n",
    "    if not coffee:  ## coffee == 0 보다 not 많이 씀!!!\n",
    "        print(\">> Sold out\")\n",
    "        break\n",
    "    \n",
    "    if money == 300:\n",
    "        print(\"A cup of coffee\")\n",
    "        coffee -= 1\n",
    "        break\n",
    "        \n",
    "    elif money > 300:\n",
    "        money -= 300\n",
    "        print(f'잔돈 {money}원 + Coffee')\n",
    "        coffee -= 1\n",
    "        \n",
    "        # if money > 300:\n",
    "        #     print(\">> 추가 주문 하시겠습니까?\")\n",
    "        #     re = int(input(\">> 1:네, 0:아니오\"))\n",
    "        #     if re: continue\n",
    "        #     else: \n",
    "        #         print(f\"{money}원 반환\")\n",
    "        #         break\n",
    "        \n",
    "    else:\n",
    "        print(f\">> 돈이 {300-money}원 부족합니다\")\n",
    "    \n",
    "    print(\">> 금액을 추가하시겠습니까?\")\n",
    "    re = int(input(\">> 1:네, 0:아니오\"))\n",
    "    if re: continue\n",
    "    else: break\n"
   ]
  },
  {
   "cell_type": "markdown",
   "id": "3c3804be-3591-4e41-a6d6-dd8474728202",
   "metadata": {},
   "source": [
    "# ▶ for 문"
   ]
  },
  {
   "cell_type": "markdown",
   "id": "d4c35f93-9658-485b-9736-f3e51df19428",
   "metadata": {},
   "source": [
    "## ▷ in"
   ]
  },
  {
   "cell_type": "code",
   "execution_count": 10,
   "id": "0af228c3-b8fb-4413-ae83-684edda66501",
   "metadata": {},
   "outputs": [
    {
     "name": "stdout",
     "output_type": "stream",
     "text": [
      "4\n",
      "6\n",
      "8\n"
     ]
    }
   ],
   "source": [
    "a = [(1, 3), (2, 4), (3, 5)]\n",
    "\n",
    "for (f, r) in a:\n",
    "    print(f + r)"
   ]
  },
  {
   "cell_type": "code",
   "execution_count": 11,
   "id": "c4092ae8-a444-4dc2-bfee-babd49c11131",
   "metadata": {},
   "outputs": [
    {
     "name": "stdout",
     "output_type": "stream",
     "text": [
      "1번 학생은 합격\n",
      "2번 학생은 불합격\n",
      "3번 학생은 합격\n",
      "4번 학생은 불합격\n",
      "5번 학생은 합격\n"
     ]
    }
   ],
   "source": [
    "# 점수가 60 이상인 학생에 대한 합격 여부 + 몇 번째 학생인지 반환\n",
    "marks = [90, 25, 67, 45, 80]\n",
    "num = 0\n",
    "\n",
    "for point in marks:\n",
    "    num += 1\n",
    "    if point < 60:\n",
    "        print(f\"{num}번 학생은 불합격\")        \n",
    "    else:\n",
    "        print(f\"{num}번 학생은 합격\")"
   ]
  },
  {
   "cell_type": "markdown",
   "id": "380f4f31-5963-46b2-bb90-df1276db6995",
   "metadata": {},
   "source": [
    "## ▷ range\n",
    "1.  ```python\n",
    "range(end)\n",
    "```\n",
    "2.  ```python\n",
    "range(start, end)\n",
    "```\n",
    "3.  ```python\n",
    "range(start, end, step)\n",
    "```"
   ]
  },
  {
   "cell_type": "code",
   "execution_count": 12,
   "id": "1a7a23ba-00c5-4239-9f4e-d336e2545ee6",
   "metadata": {},
   "outputs": [
    {
     "name": "stdout",
     "output_type": "stream",
     "text": [
      "0 2 4 6 8 "
     ]
    }
   ],
   "source": [
    "for i in range(0, 10, 2):\n",
    "    print(i, end=' ')"
   ]
  },
  {
   "cell_type": "markdown",
   "id": "205a3b58-f9d5-4715-a720-704e1bb3d7f5",
   "metadata": {},
   "source": [
    "## ▷ list comprehension"
   ]
  },
  {
   "cell_type": "markdown",
   "id": "f23e324b-7f13-4a7e-b52e-72a8cfa0cb81",
   "metadata": {},
   "source": [
    "### < EX1 >"
   ]
  },
  {
   "cell_type": "code",
   "execution_count": 13,
   "id": "ef5d0adf-8db1-48f4-8dee-fbbca58ef403",
   "metadata": {},
   "outputs": [
    {
     "data": {
      "text/plain": [
       "[1, 2, 3, 4, 5]"
      ]
     },
     "execution_count": 13,
     "metadata": {},
     "output_type": "execute_result"
    }
   ],
   "source": [
    "a = [i for i in range(1, 6)]\n",
    "a"
   ]
  },
  {
   "cell_type": "markdown",
   "id": "dd5b782f-a6aa-42b6-8482-bb2ebb09c3aa",
   "metadata": {},
   "source": [
    "### < EX2 >"
   ]
  },
  {
   "cell_type": "code",
   "execution_count": 14,
   "id": "ccb5026c-376b-47fc-acd0-8fffda13bb0c",
   "metadata": {},
   "outputs": [
    {
     "data": {
      "text/plain": [
       "[3, 6, 9, 12, 15]"
      ]
     },
     "execution_count": 14,
     "metadata": {},
     "output_type": "execute_result"
    }
   ],
   "source": [
    "result = []\n",
    "\n",
    "for num in a:\n",
    "    result.append(num*3)\n",
    "\n",
    "result"
   ]
  },
  {
   "cell_type": "code",
   "execution_count": 15,
   "id": "68861d0f-a10c-453e-8d60-554359527936",
   "metadata": {},
   "outputs": [
    {
     "data": {
      "text/plain": [
       "[3, 6, 9, 12, 15]"
      ]
     },
     "execution_count": 15,
     "metadata": {},
     "output_type": "execute_result"
    }
   ],
   "source": [
    "# 리스트 내포 형식으로 생성해보기\n",
    "result = [num*3 for num in a]\n",
    "result"
   ]
  },
  {
   "cell_type": "markdown",
   "id": "9dd0dae1-734a-45ee-8132-8b78aabf9b81",
   "metadata": {},
   "source": [
    "### < EX3 >"
   ]
  },
  {
   "cell_type": "code",
   "execution_count": 16,
   "id": "2b1ec739-6b8e-45af-9535-ebbee1abc904",
   "metadata": {},
   "outputs": [
    {
     "data": {
      "text/plain": [
       "[6, 12]"
      ]
     },
     "execution_count": 16,
     "metadata": {},
     "output_type": "execute_result"
    }
   ],
   "source": [
    "result = [num*3 for num in a if num % 2 == 0]\n",
    "\n",
    "''' ==\n",
    "for num in a:\n",
    "    if num % 2 == 0:\n",
    "        result.append(num*3)\n",
    "'''\n",
    "\n",
    "result"
   ]
  },
  {
   "cell_type": "markdown",
   "id": "338b2996-6c2b-4b93-9ae8-1bf9840871e1",
   "metadata": {},
   "source": [
    "### < EX4 >"
   ]
  },
  {
   "cell_type": "code",
   "execution_count": 17,
   "id": "e67b53da-48cb-4a1d-8db0-5de321379433",
   "metadata": {
    "tags": []
   },
   "outputs": [
    {
     "data": {
      "text/plain": [
       "(list,\n",
       " [2,\n",
       "  4,\n",
       "  6,\n",
       "  8,\n",
       "  10,\n",
       "  12,\n",
       "  14,\n",
       "  16,\n",
       "  18,\n",
       "  3,\n",
       "  6,\n",
       "  9,\n",
       "  12,\n",
       "  15,\n",
       "  18,\n",
       "  21,\n",
       "  24,\n",
       "  27,\n",
       "  4,\n",
       "  8,\n",
       "  12,\n",
       "  16,\n",
       "  20,\n",
       "  24,\n",
       "  28,\n",
       "  32,\n",
       "  36,\n",
       "  5,\n",
       "  10,\n",
       "  15,\n",
       "  20,\n",
       "  25,\n",
       "  30,\n",
       "  35,\n",
       "  40,\n",
       "  45,\n",
       "  6,\n",
       "  12,\n",
       "  18,\n",
       "  24,\n",
       "  30,\n",
       "  36,\n",
       "  42,\n",
       "  48,\n",
       "  54,\n",
       "  7,\n",
       "  14,\n",
       "  21,\n",
       "  28,\n",
       "  35,\n",
       "  42,\n",
       "  49,\n",
       "  56,\n",
       "  63,\n",
       "  8,\n",
       "  16,\n",
       "  24,\n",
       "  32,\n",
       "  40,\n",
       "  48,\n",
       "  56,\n",
       "  64,\n",
       "  72,\n",
       "  9,\n",
       "  18,\n",
       "  27,\n",
       "  36,\n",
       "  45,\n",
       "  54,\n",
       "  63,\n",
       "  72,\n",
       "  81])"
      ]
     },
     "execution_count": 17,
     "metadata": {},
     "output_type": "execute_result"
    }
   ],
   "source": [
    "# 구구단 결과 생성\n",
    "result = [x*y for x in range(2, 10) for y in range(1, 10)]\n",
    "type(result), result"
   ]
  },
  {
   "cell_type": "code",
   "execution_count": null,
   "id": "2f63c638-2e2b-4fec-975c-09d7b7af437f",
   "metadata": {},
   "outputs": [],
   "source": []
  }
 ],
 "metadata": {
  "kernelspec": {
   "display_name": "Python 3 (ipykernel)",
   "language": "python",
   "name": "python3"
  },
  "language_info": {
   "codemirror_mode": {
    "name": "ipython",
    "version": 3
   },
   "file_extension": ".py",
   "mimetype": "text/x-python",
   "name": "python",
   "nbconvert_exporter": "python",
   "pygments_lexer": "ipython3",
   "version": "3.9.7"
  }
 },
 "nbformat": 4,
 "nbformat_minor": 5
}
