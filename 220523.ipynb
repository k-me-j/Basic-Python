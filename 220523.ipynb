{
 "cells": [
  {
   "cell_type": "markdown",
   "id": "81d23926-ea98-4217-a7d7-00bb86324b67",
   "metadata": {},
   "source": [
    "# 3D Tensor\n",
    "- color image : 3D (w, h, channel)\n",
    "- channel : R, G, B (YUV, LUV, )\n",
    "    - 1 channel image : Grayscale Image(흑백)\n",
    "    - batch_size * 1 channel Image ==> 3D"
   ]
  },
  {
   "cell_type": "code",
   "execution_count": 66,
   "id": "e97a204c-b312-466a-8a92-d8cd65fcf6ec",
   "metadata": {},
   "outputs": [],
   "source": [
    "import os\n",
    "import time\n",
    "import numpy as np\n",
    "from PIL import Image\n",
    "from glob import glob\n",
    "\n",
    "from torch import cuda"
   ]
  },
  {
   "cell_type": "code",
   "execution_count": 22,
   "id": "691082ce-a004-40ce-9cad-151430107f1e",
   "metadata": {},
   "outputs": [],
   "source": [
    "path = \"d:/Kamie/dataset/dataset_CatDog/\"\n",
    "train_path = os.path.join(path, \"training_set\")\n",
    "test_path = os.path.join(path, \"test_set\")"
   ]
  },
  {
   "cell_type": "code",
   "execution_count": 41,
   "id": "602b2570-de91-46a0-876d-d85621c9ba61",
   "metadata": {},
   "outputs": [],
   "source": [
    "dog1 = np.array(Image.open(os.path.join(path, \"dog.566.jpg\")).resize((224, 224)))"
   ]
  },
  {
   "cell_type": "code",
   "execution_count": 42,
   "id": "9afb4532-c293-4779-993c-3f9ed8977075",
   "metadata": {},
   "outputs": [],
   "source": [
    "dog_tensor = torch.from_numpy(dog1)"
   ]
  },
  {
   "cell_type": "code",
   "execution_count": 43,
   "id": "c0257cb7-1cc1-412b-b255-511862eb633d",
   "metadata": {},
   "outputs": [
    {
     "name": "stdout",
     "output_type": "stream",
     "text": [
      "dog_tensor.size :  torch.Size([224, 224, 3])\n",
      "dog_tensor.dim :  3\n"
     ]
    }
   ],
   "source": [
    "print(\"dog_tensor.size : \", dog_tensor.size())\n",
    "print(\"dog_tensor.dim : \", dog_tensor.dim())"
   ]
  },
  {
   "cell_type": "markdown",
   "id": "73bb5d10-0dfb-4b65-9172-3af5ac6dcc16",
   "metadata": {},
   "source": [
    "### 4D tensor : color images가 여러개 들어가 있는 데이터셋\n"
   ]
  },
  {
   "cell_type": "markdown",
   "id": "f78d3c01-e38f-430e-a7f3-bd584efdca4a",
   "metadata": {},
   "source": [
    "## ```glob``` : 특정 문자를 포함한 모든 것을 가지고 오기\n",
    "glob 결과는 리스트로 반환"
   ]
  },
  {
   "cell_type": "code",
   "execution_count": 38,
   "id": "3a3f39d3-467d-495d-bb12-2f0de9a9e951",
   "metadata": {},
   "outputs": [
    {
     "data": {
      "text/plain": [
       "'d:/Kamie/dataset/dataset_CatDog/training_set\\\\dogs'"
      ]
     },
     "execution_count": 38,
     "metadata": {},
     "output_type": "execute_result"
    }
   ],
   "source": [
    "dogs_path = os.path.join(train_path, \"dogs\")\n",
    "dogs_path"
   ]
  },
  {
   "cell_type": "code",
   "execution_count": 39,
   "id": "dd501fa9-acef-4e01-8916-a600496c2295",
   "metadata": {},
   "outputs": [
    {
     "data": {
      "text/plain": [
       "['d:/Kamie/dataset/dataset_CatDog/training_set\\\\dogs\\\\dog.1.jpg',\n",
       " 'd:/Kamie/dataset/dataset_CatDog/training_set\\\\dogs\\\\dog.10.jpg']"
      ]
     },
     "execution_count": 39,
     "metadata": {},
     "output_type": "execute_result"
    }
   ],
   "source": [
    "dogs = glob(dogs_path + \"/*.jpg\")  # 64 x 224 x 224 x 3\n",
    "dogs[:2]"
   ]
  },
  {
   "cell_type": "code",
   "execution_count": 46,
   "id": "f6e2dadd-c909-46a7-bd6c-f950249900ad",
   "metadata": {},
   "outputs": [],
   "source": [
    "img_list = []\n",
    "for dog in dogs[:64]:\n",
    "    img_list.append(np.array(Image.open(dog).resize((224, 224))))\n",
    "\n",
    "# comprehension 해보기\n",
    "# img_list = [np.array(Image.open(dog).resize((224, 224))) for dog in dogs[:64]]"
   ]
  },
  {
   "cell_type": "code",
   "execution_count": 47,
   "id": "b49fb0c9-a770-4c7a-b5c0-ac7ad1495b82",
   "metadata": {
    "collapsed": true,
    "jupyter": {
     "outputs_hidden": true
    },
    "tags": []
   },
   "outputs": [
    {
     "data": {
      "text/plain": [
       "array([[[220, 207, 193],\n",
       "        [143, 124, 105],\n",
       "        [144, 114,  88],\n",
       "        ...,\n",
       "        [131, 101,  81],\n",
       "        [115,  85,  65],\n",
       "        [112,  82,  62]],\n",
       "\n",
       "       [[228, 207, 186],\n",
       "        [146, 117,  91],\n",
       "        [148, 110,  74],\n",
       "        ...,\n",
       "        [ 88,  56,  34],\n",
       "        [ 83,  51,  29],\n",
       "        [ 84,  52,  30]],\n",
       "\n",
       "       [[227, 202, 179],\n",
       "        [131,  97,  67],\n",
       "        [128,  84,  45],\n",
       "        ...,\n",
       "        [115,  84,  56],\n",
       "        [111,  79,  52],\n",
       "        [102,  70,  42]],\n",
       "\n",
       "       ...,\n",
       "\n",
       "       [[254, 252, 241],\n",
       "        [249, 245, 233],\n",
       "        [243, 240, 223],\n",
       "        ...,\n",
       "        [234, 237, 214],\n",
       "        [230, 233, 210],\n",
       "        [231, 233, 211]],\n",
       "\n",
       "       [[255, 254, 242],\n",
       "        [250, 249, 234],\n",
       "        [246, 244, 226],\n",
       "        ...,\n",
       "        [238, 239, 220],\n",
       "        [236, 237, 218],\n",
       "        [236, 238, 219]],\n",
       "\n",
       "       [[255, 255, 244],\n",
       "        [253, 255, 241],\n",
       "        [251, 252, 236],\n",
       "        ...,\n",
       "        [248, 249, 235],\n",
       "        [246, 247, 233],\n",
       "        [245, 246, 233]]], dtype=uint8)"
      ]
     },
     "execution_count": 47,
     "metadata": {},
     "output_type": "execute_result"
    }
   ],
   "source": [
    "img_list[0]"
   ]
  },
  {
   "cell_type": "code",
   "execution_count": 50,
   "id": "1ba6f085-08c0-4b7d-8799-6765e008f053",
   "metadata": {},
   "outputs": [
    {
     "name": "stdout",
     "output_type": "stream",
     "text": [
      "dogs_imgs.size :  9633792\n",
      "dogs_imgs.shape :  (64, 224, 224, 3)\n",
      "dogs_imgs.ndim :  4\n"
     ]
    }
   ],
   "source": [
    "# 최종적으로 np.array 4D 형식 만들어주기\n",
    "dogs_imgs = np.array(img_list)  \n",
    "\n",
    "print(\"dogs_imgs.size : \", dogs_imgs.size)  # 224*224*3 * 64장 = 9633792\n",
    "print(\"dogs_imgs.shape : \", dogs_imgs.shape)\n",
    "print(\"dogs_imgs.ndim : \", dogs_imgs.ndim)"
   ]
  },
  {
   "cell_type": "code",
   "execution_count": 52,
   "id": "e1a877a0-fa04-4d4c-be69-753505c392b2",
   "metadata": {},
   "outputs": [
    {
     "data": {
      "text/plain": [
       "9633792"
      ]
     },
     "execution_count": 52,
     "metadata": {},
     "output_type": "execute_result"
    }
   ],
   "source": [
    "224 * 224 * 3 * 64"
   ]
  },
  {
   "cell_type": "markdown",
   "id": "5fd6da3b-c9a2-44d7-a03e-8a9f3d9b230d",
   "metadata": {},
   "source": [
    "꼭 넘파이->텐서 할 필요 없이 float tensor로 바로 변환도 가능.  \n",
    "근데 넘파이랑 호환성 좋아서 같이 많이 쓰는 편"
   ]
  },
  {
   "cell_type": "code",
   "execution_count": 53,
   "id": "e7e98812-c0c9-4c36-9b02-5da0b9c5236b",
   "metadata": {},
   "outputs": [
    {
     "name": "stdout",
     "output_type": "stream",
     "text": [
      "dogs_tensor.size :  torch.Size([64, 224, 224, 3])\n",
      "dogs_tensor.shape :  torch.Size([64, 224, 224, 3])\n",
      "dogs_tensor.ndim :  4\n"
     ]
    }
   ],
   "source": [
    "dogs_tensor = torch.from_numpy(dogs_imgs)\n",
    "\n",
    "print(\"dogs_tensor.size : \", dogs_tensor.size())  # 224*224*3 * 64장 = 9633792\n",
    "print(\"dogs_tensor.ndim : \", dogs_tensor.dim())"
   ]
  },
  {
   "cell_type": "markdown",
   "id": "c46f27ad-cc04-4279-bc87-bff2b13b6cb5",
   "metadata": {},
   "source": [
    "---\n",
    "# < pytorch에서 자주 사용되는 함수 >\n",
    "내가 사용하지 않더라도 어떤 의미인지는 알아야 함"
   ]
  },
  {
   "cell_type": "markdown",
   "id": "f3960d4b-9aea-4aaf-9f36-db03cc317d8b",
   "metadata": {},
   "source": [
    "## ▶ ```Broadcasting``` : 자동으로 크기 맞춰서 연산 수행\n",
    "- matrix A, B를 덧셈/뺄셈 할 땐 두 matrix의 크기가 같아야 함\n",
    "- 행렬의 곱 : A matrix의 col 크기와 B matrix의 row 크기가 같아야 함"
   ]
  },
  {
   "cell_type": "code",
   "execution_count": 55,
   "id": "d13d82df-70a1-44fc-ac94-5277a5e18146",
   "metadata": {},
   "outputs": [
    {
     "data": {
      "text/plain": [
       "tensor([[5., 5.]])"
      ]
     },
     "execution_count": 55,
     "metadata": {},
     "output_type": "execute_result"
    }
   ],
   "source": [
    "# 1x2 행렬 : [[1,2]] 2D 형태로 표현\n",
    "m1 = torch.FloatTensor([[3, 3]])  # 1x2\n",
    "m2 = torch.FloatTensor([[2, 2]])  # 1x2\n",
    "m1 + m2  # 1x2"
   ]
  },
  {
   "cell_type": "code",
   "execution_count": 57,
   "id": "2da6091c-1e48-42ee-a6e2-2302e59f3c11",
   "metadata": {},
   "outputs": [
    {
     "data": {
      "text/plain": [
       "tensor([[5., 5.]])"
      ]
     },
     "execution_count": 57,
     "metadata": {},
     "output_type": "execute_result"
    }
   ],
   "source": [
    "# 1x1 벡터와 1x2 matrix 연산해보기\n",
    "m1 = torch.FloatTensor([[3, 3]])  # 1x2\n",
    "m2 = torch.FloatTensor([[2]])  # 1x1\n",
    "m1 + m2   # 1x2  # 자동으로 m2를 [[2,2]] 동일한 값으로 확장해서 크기 맞춰줌 : broadcasting"
   ]
  },
  {
   "cell_type": "code",
   "execution_count": 59,
   "id": "575741de-0adb-4232-85cb-4bf7d460af15",
   "metadata": {},
   "outputs": [
    {
     "data": {
      "text/plain": [
       "tensor([[4., 5.],\n",
       "        [5., 6.]])"
      ]
     },
     "execution_count": 59,
     "metadata": {},
     "output_type": "execute_result"
    }
   ],
   "source": [
    "# 1x2와 2x1 matrix 연산해보기\n",
    "m1 = torch.FloatTensor([[1, 2]])  # 1x2\n",
    "m2 = torch.FloatTensor([[3], [4]])  # 2x1\n",
    "m1 + m2   # 2x2  # broadcasting을 통해 m1, m2 둘 다 2x2로 확장해서 계산"
   ]
  },
  {
   "cell_type": "markdown",
   "id": "9d26db5b-b510-4e10-9514-99012aff742d",
   "metadata": {},
   "source": [
    "## ▶ ```in-place``` : copy하지 않고 원본 덮어쓰기\n",
    "- pandas에서 inplace=True하면 DF 원본값을 바꿔준 것과 같음\n",
    "- in-place : ```_```(언더바) 사용, 언더바 붙으면 inplace하는 연산인가보다 하면 됨"
   ]
  },
  {
   "cell_type": "code",
   "execution_count": 62,
   "id": "a3442b98-90e6-4b9a-b082-b641cc3d844f",
   "metadata": {},
   "outputs": [
    {
     "data": {
      "text/plain": [
       "tensor([[3., 4.],\n",
       "        [5., 6.]])"
      ]
     },
     "execution_count": 62,
     "metadata": {},
     "output_type": "execute_result"
    }
   ],
   "source": [
    "a = torch.FloatTensor([[1,2],[3,4]])\n",
    "a.add_(2)   # broadcasting + inplace 연산 수행\n",
    "a"
   ]
  },
  {
   "cell_type": "markdown",
   "id": "ac2bbcc3-af56-4a58-b6aa-170ba353206a",
   "metadata": {},
   "source": [
    "## ▶ matrix 곱, elements-wise 곱\n",
    "1) matrix muliplication : ```tensor.matmul(tensor)```  ex) ```m1.matmul(m2)```\n",
    "    - matrix 곱 : 일반적인 행렬 곱\n",
    "\n",
    "2) elements-wise 곱 : ```tensor * tensor```   ex) ```m1*m2```, ```m1.mul(m2)```\n",
    "    - elements-wise 곱 : 같은 위치의 값끼리 곱하기 ex) (0,0) 위치끼리 곱하기\n",
    "    - 같은 크기의 매트릭스로 수행해야 함, 만약 다르면 브로드캐스팅으로 알아서 크기 맞춰서 계산됨"
   ]
  },
  {
   "cell_type": "code",
   "execution_count": 63,
   "id": "ce87206d-ffbe-4cbd-85f5-acfcb2441730",
   "metadata": {},
   "outputs": [
    {
     "data": {
      "text/plain": [
       "tensor([[ 5.],\n",
       "        [11.]])"
      ]
     },
     "execution_count": 63,
     "metadata": {},
     "output_type": "execute_result"
    }
   ],
   "source": [
    "# 2x2와 2x1의 matmul : 2x1 matrix\n",
    "m1 = torch.FloatTensor([[1, 2], [3, 4]])  # 2x2\n",
    "m2 = torch.FloatTensor([[1], [2]])  # 2x1\n",
    "m1.matmul(m2)  # 2x1"
   ]
  },
  {
   "cell_type": "code",
   "execution_count": 64,
   "id": "977b1cc9-e9b6-442d-aeab-788679b8ca2b",
   "metadata": {},
   "outputs": [
    {
     "data": {
      "text/plain": [
       "tensor([[1., 2.],\n",
       "        [6., 8.]])"
      ]
     },
     "execution_count": 64,
     "metadata": {},
     "output_type": "execute_result"
    }
   ],
   "source": [
    "# 2x2와 2x1의 elements-wise 곱 : 2x1 matrix\n",
    "m1 = torch.FloatTensor([[1, 2], [3, 4]])  # 2x2\n",
    "m2 = torch.FloatTensor([[1], [2]])  # 2x1\n",
    "m1 * m2  # 2x2"
   ]
  },
  {
   "cell_type": "markdown",
   "id": "fcb1a7fd-62b6-41d6-ba2d-d58318c87323",
   "metadata": {},
   "source": [
    "## ▶ 평균 ```tensor.mean()```"
   ]
  },
  {
   "cell_type": "code",
   "execution_count": 73,
   "id": "91d2e39c-9498-467e-99af-406318c07a1b",
   "metadata": {},
   "outputs": [
    {
     "data": {
      "text/plain": [
       "tensor(2.5000)"
      ]
     },
     "execution_count": 73,
     "metadata": {},
     "output_type": "execute_result"
    }
   ],
   "source": [
    "t = torch.FloatTensor([[1, 2], [3, 4]])\n",
    "t.mean()  # (1+2+3+4)/4"
   ]
  },
  {
   "cell_type": "markdown",
   "id": "cf0dbaca-c646-4f98-8c62-fc01ae811fa9",
   "metadata": {},
   "source": [
    "## ▶ torch dim을 기준으로 연산 가능\n",
    "- pandas sum(axis=0) 처럼. : 0은 row, 1은 column\n",
    "    - cf) 연산의 기본이 column 단위로 하는 연산이면 0=column, 1=row\n",
    "    \n",
    "### dim = 0, 1 인가에 따라 연산을 할 수 있음\n",
    "- ```dim = 0``` : 첫 번재 차원을 제거한다는 의미.  \n",
    "    *ex. matrix에서 첫 번째 차원을 제거하면 row 제거* ```matrix=2D=(row, col)```. \n",
    "- row를 배제하고 계산하고 싶으면 (dim=1) 옵션 적용"
   ]
  },
  {
   "cell_type": "code",
   "execution_count": 75,
   "id": "bed35f44-3fd9-43a9-8af2-ace897365556",
   "metadata": {},
   "outputs": [
    {
     "data": {
      "text/plain": [
       "tensor([2., 3.])"
      ]
     },
     "execution_count": 75,
     "metadata": {},
     "output_type": "execute_result"
    }
   ],
   "source": [
    "t = torch.FloatTensor([[1, 2], [3, 4]])\n",
    "t.mean(dim=0)  # column끼리 연산 : (1,3)의 평균, (2,4)의 평균"
   ]
  },
  {
   "cell_type": "code",
   "execution_count": 77,
   "id": "7e887265-679e-4506-845e-c727f4350e59",
   "metadata": {},
   "outputs": [
    {
     "data": {
      "text/plain": [
       "tensor([1.5000, 3.5000])"
      ]
     },
     "execution_count": 77,
     "metadata": {},
     "output_type": "execute_result"
    }
   ],
   "source": [
    "t = torch.FloatTensor([[1, 2], [3, 4]])\n",
    "t.mean(dim=1)  # row끼리 연산 : (1,2)의 평균, (3,4)의 평균"
   ]
  },
  {
   "cell_type": "code",
   "execution_count": 78,
   "id": "6afd5e90-b63b-4342-9995-ad65f3576ccb",
   "metadata": {},
   "outputs": [
    {
     "data": {
      "text/plain": [
       "tensor([4., 6.])"
      ]
     },
     "execution_count": 78,
     "metadata": {},
     "output_type": "execute_result"
    }
   ],
   "source": [
    "t = torch.FloatTensor([[1, 2], [3, 4]])\n",
    "t.sum(dim=0)  # column끼리 연산 : (1,3)의 합, (2,4)의 합"
   ]
  },
  {
   "cell_type": "code",
   "execution_count": 80,
   "id": "4ef226c4-54a1-4d70-97f4-76726db1d0d6",
   "metadata": {},
   "outputs": [
    {
     "data": {
      "text/plain": [
       "tensor([3., 7.])"
      ]
     },
     "execution_count": 80,
     "metadata": {},
     "output_type": "execute_result"
    }
   ],
   "source": [
    "t = torch.FloatTensor([[1, 2], [3, 4]])\n",
    "t.sum(dim=1)  # row끼리 연산 : (1,2)의 합, (3,4)의 합"
   ]
  },
  {
   "cell_type": "markdown",
   "id": "06de7970-13b1-4fb7-963b-cb9ab4107a63",
   "metadata": {},
   "source": [
    "## ▶ max, argmax\n",
    "- ```max``` : Tensor들의 원소 값 중에 제일 큰 값을 반환 \n",
    "- ```argmax``` : Tensor들의 원소 값 중에 제일 큰 값의 \"인덱스\" 반환  \n",
    "    ex) softmax 후 가장 높은 값 빼내야 클래스 인식 가능"
   ]
  },
  {
   "cell_type": "code",
   "execution_count": 81,
   "id": "680c5a08-1e67-42d4-9163-cfade6fe73b5",
   "metadata": {},
   "outputs": [
    {
     "data": {
      "text/plain": [
       "(tensor(4.), tensor(3))"
      ]
     },
     "execution_count": 81,
     "metadata": {},
     "output_type": "execute_result"
    }
   ],
   "source": [
    "t = torch.FloatTensor([[1, 2], [3, 4]])\n",
    "t.max(), t.argmax()"
   ]
  },
  {
   "cell_type": "code",
   "execution_count": 111,
   "id": "d9790ad0-15c7-42c1-9173-d04355e34d3c",
   "metadata": {},
   "outputs": [
    {
     "data": {
      "text/plain": [
       "(torch.return_types.max(\n",
       " values=tensor([[ 88.,   7.],\n",
       "         [  7., 888.]]),\n",
       " indices=tensor([[2, 2],\n",
       "         [1, 2]])),\n",
       " tensor([[2, 2],\n",
       "         [1, 2]]))"
      ]
     },
     "execution_count": 111,
     "metadata": {},
     "output_type": "execute_result"
    }
   ],
   "source": [
    "t = torch.FloatTensor([[[11, 2], [3, 4], [88, 7]], \n",
    "                       [[5, 6], [7, 8], [7, 888]]])\n",
    "t.max(dim=1), t.argmax(dim=1)\n",
    "# max의 indices는 argmax 정보를 같이 출력해주는 거. max값의 인덱스"
   ]
  },
  {
   "cell_type": "code",
   "execution_count": 112,
   "id": "857d8375-5b48-4d1d-9aef-37cf54e5e246",
   "metadata": {},
   "outputs": [
    {
     "data": {
      "text/plain": [
       "(torch.return_types.max(\n",
       " values=tensor([[ 11.,   6.],\n",
       "         [  7.,   8.],\n",
       "         [ 88., 888.]]),\n",
       " indices=tensor([[0, 1],\n",
       "         [1, 1],\n",
       "         [0, 1]])),\n",
       " tensor([[0, 1],\n",
       "         [1, 1],\n",
       "         [0, 1]]))"
      ]
     },
     "execution_count": 112,
     "metadata": {},
     "output_type": "execute_result"
    }
   ],
   "source": [
    "t.max(dim=0), t.argmax(dim=0)"
   ]
  },
  {
   "cell_type": "code",
   "execution_count": 108,
   "id": "0faddcf9-ad24-46e0-bb56-c741852b5dca",
   "metadata": {},
   "outputs": [
    {
     "data": {
      "text/plain": [
       "(torch.return_types.max(\n",
       " values=tensor([77., 31.]),\n",
       " indices=tensor([2, 0])),\n",
       " tensor([2, 0]))"
      ]
     },
     "execution_count": 108,
     "metadata": {},
     "output_type": "execute_result"
    }
   ],
   "source": [
    "t = torch.FloatTensor([[9, 8, 77, 6, 5], [31, 2, 5, 10, 4]])\n",
    "t.max(dim=1), t.argmax(dim=1)"
   ]
  },
  {
   "cell_type": "code",
   "execution_count": 109,
   "id": "a845fdae-aefc-4554-9290-5336d0bb5047",
   "metadata": {},
   "outputs": [
    {
     "data": {
      "text/plain": [
       "(torch.return_types.max(\n",
       " values=tensor([31.,  8., 77., 10.,  5.]),\n",
       " indices=tensor([1, 0, 0, 1, 0])),\n",
       " tensor([1, 0, 0, 1, 0]))"
      ]
     },
     "execution_count": 109,
     "metadata": {},
     "output_type": "execute_result"
    }
   ],
   "source": [
    "t.max(dim=0), t.argmax(dim=0)"
   ]
  },
  {
   "cell_type": "markdown",
   "id": "81b795ff-2534-4eb7-ad8a-4562311c8d06",
   "metadata": {},
   "source": [
    "## ▶ view : 원소의 개수를 유지하면서 tensor의 shape을 변경\n",
    "- 넘파이의 reshape()과 동일한 기능\n",
    "- 텐서의 크기, 차수를 변경하지만 총 원소의 개수는 변화 없음!"
   ]
  },
  {
   "cell_type": "code",
   "execution_count": 86,
   "id": "734c814e-d2af-4d31-99e3-01353104d0af",
   "metadata": {},
   "outputs": [
    {
     "data": {
      "text/plain": [
       "(torch.Size([2, 2, 3]), 3)"
      ]
     },
     "execution_count": 86,
     "metadata": {},
     "output_type": "execute_result"
    }
   ],
   "source": [
    "# 2x2x3 tensor 생성 : 총 원소의 개수 = 12\n",
    "t = torch.FloatTensor(\n",
    "[[[0, 1, 2],[3, 4, 5]],\n",
    " [[6, 7, 8],[9, 10, 11]]]\n",
    ")\n",
    "t.shape, t.dim()"
   ]
  },
  {
   "cell_type": "code",
   "execution_count": 89,
   "id": "5bb275ec-af3b-4125-8639-e170148dc276",
   "metadata": {},
   "outputs": [
    {
     "data": {
      "text/plain": [
       "(torch.Size([4, 3]),\n",
       " tensor([[ 0.,  1.,  2.],\n",
       "         [ 3.,  4.,  5.],\n",
       "         [ 6.,  7.,  8.],\n",
       "         [ 9., 10., 11.]]))"
      ]
     },
     "execution_count": 89,
     "metadata": {},
     "output_type": "execute_result"
    }
   ],
   "source": [
    "# 3D -> 2D 텐서로 변경\n",
    "t2 = t.view([-1, 3])\n",
    "# -1 : all을 의미\n",
    "# row = -1 이라는 것은 col의 개수에 따라 row의 형태는 알아서 계산하라는 의미\n",
    "# col = 3 으로 고정했으므로 row를 알아서 4로 계산. (t 원소가 총 12개였으므로.)\n",
    "t2.shape, t2"
   ]
  },
  {
   "cell_type": "code",
   "execution_count": 116,
   "id": "9c8435a2-25d9-4be5-8ff2-d31f68db71a3",
   "metadata": {},
   "outputs": [
    {
     "data": {
      "text/plain": [
       "tensor([[[ 0.,  1.,  2.]],\n",
       "\n",
       "        [[ 3.,  4.,  5.]],\n",
       "\n",
       "        [[ 6.,  7.,  8.]],\n",
       "\n",
       "        [[ 9., 10., 11.]]])"
      ]
     },
     "execution_count": 116,
     "metadata": {},
     "output_type": "execute_result"
    }
   ],
   "source": [
    "# 3차원 텐서의 크기만 변경\n",
    "# 2x2x3 -> ?x1x3 -> t.view([-1, 1, 3]) : ?=4\n",
    "t = torch.FloatTensor(\n",
    "[[[0, 1, 2],[3, 4, 5]],\n",
    " [[6, 7, 8],[9, 10, 11]]]\n",
    ")\n",
    "\n",
    "t.view([-1, 1, 3])"
   ]
  },
  {
   "cell_type": "markdown",
   "id": "6e3ec7a9-b65d-4066-a78f-6c8b721646a4",
   "metadata": {},
   "source": [
    "## ▶ squeeze <-> unsqueeze\n",
    "- 2x1 matrix를 원소가 2개인 벡터 형태로 변경"
   ]
  },
  {
   "cell_type": "code",
   "execution_count": 118,
   "id": "ccde8875-4859-4d2f-a239-bb2f116f7fd7",
   "metadata": {},
   "outputs": [
    {
     "data": {
      "text/plain": [
       "(torch.Size([3]), tensor([0., 1., 2.]))"
      ]
     },
     "execution_count": 118,
     "metadata": {},
     "output_type": "execute_result"
    }
   ],
   "source": [
    "t = torch.FloatTensor([[0], [1], [2]])\n",
    "t.squeeze().shape, t.squeeze()"
   ]
  },
  {
   "cell_type": "code",
   "execution_count": 125,
   "id": "c4cde079-2f46-4d73-9fa2-e92d8fd66cfa",
   "metadata": {},
   "outputs": [
    {
     "name": "stdout",
     "output_type": "stream",
     "text": [
      "origin :  torch.Size([3]) tensor([0., 1., 2.])\n",
      "dim=0 :  torch.Size([1, 3]) tensor([[0., 1., 2.]])\n",
      "dim=1 :  torch.Size([3, 1]) tensor([[0.],\n",
      "        [1.],\n",
      "        [2.]])\n"
     ]
    }
   ],
   "source": [
    "t = torch.FloatTensor([0, 1, 2])\n",
    "t_row = t.unsqueeze(dim=0)  # 옵션에 0 주면 row에 1 추가. 1x3  t.unsqueeze(0) 해도 됨 \n",
    "t_col = t.unsqueeze(dim=1)  # col에 1 추가. 3x1\n",
    "\n",
    "print(\"origin : \", t.shape, t)\n",
    "print(\"dim=0 : \", t_row.shape, t_row)\n",
    "print(\"dim=1 : \", t_col.shape, t_col)"
   ]
  },
  {
   "cell_type": "code",
   "execution_count": 120,
   "id": "b65a3687-2afa-4fe8-9d44-46b391c0d404",
   "metadata": {},
   "outputs": [
    {
     "data": {
      "text/plain": [
       "(torch.Size([2, 2, 2]),\n",
       " tensor([[[0., 1.],\n",
       "          [1., 2.]],\n",
       " \n",
       "         [[3., 4.],\n",
       "          [5., 6.]]]))"
      ]
     },
     "execution_count": 120,
     "metadata": {},
     "output_type": "execute_result"
    }
   ],
   "source": [
    "# tensor는 안됨\n",
    "t = torch.FloatTensor([[[0, 1], [1, 2]],[[3, 4], [5, 6]]])\n",
    "t.squeeze().shape, t.squeeze()"
   ]
  },
  {
   "cell_type": "markdown",
   "id": "50ac30db-9251-4261-881a-4ff5a92989af",
   "metadata": {
    "tags": []
   },
   "source": [
    "## ▶ concatenate 두 개의 텐서를 연결해서 하나의 텐서 생성\n",
    "```python\n",
    "torch.cat()\n",
    "```"
   ]
  },
  {
   "cell_type": "code",
   "execution_count": 131,
   "id": "a4acb934-d465-4716-803d-bda4daa25f68",
   "metadata": {},
   "outputs": [
    {
     "name": "stdout",
     "output_type": "stream",
     "text": [
      "dim=0 : torch.Size([4, 2]),\n",
      "\ttensor([[1., 2.],\n",
      "        [3., 4.],\n",
      "        [5., 6.],\n",
      "        [7., 8.]])\n",
      "dim=1 : torch.Size([2, 4]),\n",
      "\ttensor([[1., 2., 5., 6.],\n",
      "        [3., 4., 7., 8.]])\n"
     ]
    }
   ],
   "source": [
    "# 2x2 텐서를 생성하고 연결\n",
    "x = torch.FloatTensor([[1, 2], [3, 4]])\n",
    "y = torch.FloatTensor([[5, 6], [7, 8]])\n",
    "\n",
    "row = torch.cat([x, y], dim=0)\n",
    "col = torch.cat([x, y], dim=1)\n",
    "\n",
    "print(f\"dim=0 : {row.shape},\\n\\t{row}\")\n",
    "print(f\"dim=1 : {col.shape},\\n\\t{col}\")"
   ]
  },
  {
   "cell_type": "markdown",
   "id": "da75af7a-f570-4f12-8e4a-652ca8bade95",
   "metadata": {},
   "source": [
    "---\n",
    "# GPU"
   ]
  },
  {
   "cell_type": "code",
   "execution_count": 65,
   "id": "166aac24-dc0c-4398-9df5-7bdffcb48b96",
   "metadata": {},
   "outputs": [
    {
     "data": {
      "text/plain": [
       "True"
      ]
     },
     "execution_count": 65,
     "metadata": {},
     "output_type": "execute_result"
    }
   ],
   "source": [
    "# GPU 사용 가능 여부 확인하기\n",
    "cuda.is_available()"
   ]
  },
  {
   "cell_type": "code",
   "execution_count": 67,
   "id": "225200b8-0065-43d9-a36f-942514a247f1",
   "metadata": {},
   "outputs": [
    {
     "data": {
      "text/plain": [
       "1"
      ]
     },
     "execution_count": 67,
     "metadata": {},
     "output_type": "execute_result"
    }
   ],
   "source": [
    "# 사용 가능한 GPU 개수 확인하기\n",
    "torch.cuda.device_count()"
   ]
  },
  {
   "cell_type": "code",
   "execution_count": 133,
   "id": "1edb7f35-6f18-4a7a-88e0-89b438d131f4",
   "metadata": {},
   "outputs": [],
   "source": [
    "a = torch.rand(20000, 20000)\n",
    "b = torch.rand(20000, 20000)"
   ]
  },
  {
   "cell_type": "code",
   "execution_count": 134,
   "id": "add2b088-ee46-4689-834f-a26af694106f",
   "metadata": {},
   "outputs": [
    {
     "data": {
      "text/plain": [
       "19.82026433944702"
      ]
     },
     "execution_count": 134,
     "metadata": {},
     "output_type": "execute_result"
    }
   ],
   "source": [
    "# CPU 사용\n",
    "start_time = time.time()\n",
    "\n",
    "a.matmul(b)\n",
    "    \n",
    "end_time = time.time()\n",
    "end_time - start_time  # 소요 시간 측정"
   ]
  },
  {
   "cell_type": "code",
   "execution_count": 71,
   "id": "8ec192e1-58cc-45a2-9afd-080478eb8fdf",
   "metadata": {},
   "outputs": [
    {
     "data": {
      "text/plain": [
       "3.3217294216156006"
      ]
     },
     "execution_count": 71,
     "metadata": {},
     "output_type": "execute_result"
    }
   ],
   "source": [
    "# GPU 사용\n",
    "start_time = time.time()\n",
    "\n",
    "if cuda.is_available():\n",
    "    a = a.cuda()\n",
    "    b = b.cuda()\n",
    "    a.matmul(b)\n",
    "    \n",
    "end_time = time.time()\n",
    "end_time - start_time  # 소요 시간 측정"
   ]
  },
  {
   "cell_type": "code",
   "execution_count": null,
   "id": "daf95677-c85f-44a8-b9dc-bccaef082799",
   "metadata": {},
   "outputs": [],
   "source": []
  }
 ],
 "metadata": {
  "kernelspec": {
   "display_name": "Python 3 (ipykernel)",
   "language": "python",
   "name": "python3"
  },
  "language_info": {
   "codemirror_mode": {
    "name": "ipython",
    "version": 3
   },
   "file_extension": ".py",
   "mimetype": "text/x-python",
   "name": "python",
   "nbconvert_exporter": "python",
   "pygments_lexer": "ipython3",
   "version": "3.9.7"
  }
 },
 "nbformat": 4,
 "nbformat_minor": 5
}
