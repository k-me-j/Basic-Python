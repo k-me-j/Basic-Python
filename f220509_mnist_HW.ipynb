{
 "cells": [
  {
   "cell_type": "code",
   "execution_count": 1,
   "id": "2c7c18e2-92de-4d74-8df5-525222569cfb",
   "metadata": {},
   "outputs": [],
   "source": [
    "import tensorflow as tf\n",
    "import matplotlib.pyplot as plt\n",
    "import numpy as np\n",
    "import pandas as pd\n",
    "import seaborn as sns\n",
    "from sklearn.ensemble import RandomForestClassifier\n",
    "\n",
    "import joblib  # model 저장용"
   ]
  },
  {
   "cell_type": "code",
   "execution_count": 2,
   "id": "fe0725c7-7e2c-44e7-a69b-a96cb770c472",
   "metadata": {},
   "outputs": [],
   "source": [
    "(train_set, train_label), (test_set, test_label) = tf.keras.datasets.mnist.load_data()"
   ]
  },
  {
   "cell_type": "code",
   "execution_count": 3,
   "id": "2b3d6730-495c-45d8-b9ef-5c4a8af4dc96",
   "metadata": {},
   "outputs": [],
   "source": [
    "train_set = train_set.reshape(len(train_set), -1)\n",
    "test_set = test_set.reshape(len(test_set), -1)"
   ]
  },
  {
   "cell_type": "code",
   "execution_count": 4,
   "id": "f67db5e2-3494-414c-9fdb-e7904531e437",
   "metadata": {},
   "outputs": [
    {
     "data": {
      "text/plain": [
       "RandomForestClassifier()"
      ]
     },
     "execution_count": 4,
     "metadata": {},
     "output_type": "execute_result"
    }
   ],
   "source": [
    "clf = RandomForestClassifier()\n",
    "clf.fit(train_set, train_label)"
   ]
  },
  {
   "cell_type": "code",
   "execution_count": 5,
   "id": "11a69612-a03b-4588-abfc-e0848713607f",
   "metadata": {},
   "outputs": [],
   "source": [
    "pred = clf.predict(test_set)"
   ]
  },
  {
   "cell_type": "code",
   "execution_count": 9,
   "id": "280be8a0-10ba-4138-b649-4693992dd3b4",
   "metadata": {},
   "outputs": [],
   "source": [
    "confusion_matrix = [[0 for i in range(10)] for i in range(10)]"
   ]
  },
  {
   "cell_type": "code",
   "execution_count": 10,
   "id": "898057fd-bfdf-49db-bf97-e7ab46f8dfc0",
   "metadata": {},
   "outputs": [],
   "source": [
    "for i in range(len(test_set)):\n",
    "    r = test_label[i]\n",
    "    p = pred[i]\n",
    "    \n",
    "    confusion_matrix[r][p] += 1"
   ]
  },
  {
   "cell_type": "code",
   "execution_count": 11,
   "id": "0303e0e6-1cc0-4f18-891b-6b52119612ce",
   "metadata": {},
   "outputs": [
    {
     "data": {
      "text/plain": [
       "[[968, 1, 1, 0, 0, 1, 4, 1, 3, 1],\n",
       " [0, 1123, 3, 3, 1, 2, 2, 0, 1, 0],\n",
       " [6, 0, 999, 6, 3, 0, 5, 8, 5, 0],\n",
       " [0, 0, 11, 967, 0, 12, 0, 9, 8, 3],\n",
       " [1, 0, 2, 0, 956, 0, 5, 0, 5, 13],\n",
       " [3, 1, 1, 14, 5, 855, 5, 2, 5, 1],\n",
       " [5, 3, 0, 0, 4, 5, 937, 0, 4, 0],\n",
       " [1, 5, 19, 1, 0, 0, 0, 985, 3, 14],\n",
       " [5, 0, 4, 7, 4, 5, 5, 3, 930, 11],\n",
       " [5, 5, 2, 8, 10, 3, 1, 4, 9, 962]]"
      ]
     },
     "execution_count": 11,
     "metadata": {},
     "output_type": "execute_result"
    }
   ],
   "source": [
    "confusion_matrix"
   ]
  },
  {
   "cell_type": "markdown",
   "id": "bb5cf8d8-0055-4f6c-b0a3-5a1ca82206d1",
   "metadata": {},
   "source": [
    "# 시각화"
   ]
  },
  {
   "cell_type": "code",
   "execution_count": 16,
   "id": "11801ea8-c200-4af0-a0cd-0e8c6d13c17c",
   "metadata": {},
   "outputs": [
    {
     "data": {
      "text/html": [
       "<div>\n",
       "<style scoped>\n",
       "    .dataframe tbody tr th:only-of-type {\n",
       "        vertical-align: middle;\n",
       "    }\n",
       "\n",
       "    .dataframe tbody tr th {\n",
       "        vertical-align: top;\n",
       "    }\n",
       "\n",
       "    .dataframe thead th {\n",
       "        text-align: right;\n",
       "    }\n",
       "</style>\n",
       "<table border=\"1\" class=\"dataframe\">\n",
       "  <thead>\n",
       "    <tr style=\"text-align: right;\">\n",
       "      <th></th>\n",
       "      <th>0</th>\n",
       "      <th>1</th>\n",
       "      <th>2</th>\n",
       "      <th>3</th>\n",
       "      <th>4</th>\n",
       "      <th>5</th>\n",
       "      <th>6</th>\n",
       "      <th>7</th>\n",
       "      <th>8</th>\n",
       "      <th>9</th>\n",
       "    </tr>\n",
       "  </thead>\n",
       "  <tbody>\n",
       "    <tr>\n",
       "      <th>0</th>\n",
       "      <td>0.973843</td>\n",
       "      <td>0.000879</td>\n",
       "      <td>0.000960</td>\n",
       "      <td>0.000000</td>\n",
       "      <td>0.000000</td>\n",
       "      <td>0.001133</td>\n",
       "      <td>0.004149</td>\n",
       "      <td>0.000988</td>\n",
       "      <td>0.003083</td>\n",
       "      <td>0.000995</td>\n",
       "    </tr>\n",
       "    <tr>\n",
       "      <th>1</th>\n",
       "      <td>0.000000</td>\n",
       "      <td>0.986819</td>\n",
       "      <td>0.002879</td>\n",
       "      <td>0.002982</td>\n",
       "      <td>0.001017</td>\n",
       "      <td>0.002265</td>\n",
       "      <td>0.002075</td>\n",
       "      <td>0.000000</td>\n",
       "      <td>0.001028</td>\n",
       "      <td>0.000000</td>\n",
       "    </tr>\n",
       "    <tr>\n",
       "      <th>2</th>\n",
       "      <td>0.006036</td>\n",
       "      <td>0.000000</td>\n",
       "      <td>0.958733</td>\n",
       "      <td>0.005964</td>\n",
       "      <td>0.003052</td>\n",
       "      <td>0.000000</td>\n",
       "      <td>0.005187</td>\n",
       "      <td>0.007905</td>\n",
       "      <td>0.005139</td>\n",
       "      <td>0.000000</td>\n",
       "    </tr>\n",
       "    <tr>\n",
       "      <th>3</th>\n",
       "      <td>0.000000</td>\n",
       "      <td>0.000000</td>\n",
       "      <td>0.010557</td>\n",
       "      <td>0.961233</td>\n",
       "      <td>0.000000</td>\n",
       "      <td>0.013590</td>\n",
       "      <td>0.000000</td>\n",
       "      <td>0.008893</td>\n",
       "      <td>0.008222</td>\n",
       "      <td>0.002985</td>\n",
       "    </tr>\n",
       "    <tr>\n",
       "      <th>4</th>\n",
       "      <td>0.001006</td>\n",
       "      <td>0.000000</td>\n",
       "      <td>0.001919</td>\n",
       "      <td>0.000000</td>\n",
       "      <td>0.972533</td>\n",
       "      <td>0.000000</td>\n",
       "      <td>0.005187</td>\n",
       "      <td>0.000000</td>\n",
       "      <td>0.005139</td>\n",
       "      <td>0.012935</td>\n",
       "    </tr>\n",
       "    <tr>\n",
       "      <th>5</th>\n",
       "      <td>0.003018</td>\n",
       "      <td>0.000879</td>\n",
       "      <td>0.000960</td>\n",
       "      <td>0.013917</td>\n",
       "      <td>0.005086</td>\n",
       "      <td>0.968290</td>\n",
       "      <td>0.005187</td>\n",
       "      <td>0.001976</td>\n",
       "      <td>0.005139</td>\n",
       "      <td>0.000995</td>\n",
       "    </tr>\n",
       "    <tr>\n",
       "      <th>6</th>\n",
       "      <td>0.005030</td>\n",
       "      <td>0.002636</td>\n",
       "      <td>0.000000</td>\n",
       "      <td>0.000000</td>\n",
       "      <td>0.004069</td>\n",
       "      <td>0.005663</td>\n",
       "      <td>0.971992</td>\n",
       "      <td>0.000000</td>\n",
       "      <td>0.004111</td>\n",
       "      <td>0.000000</td>\n",
       "    </tr>\n",
       "    <tr>\n",
       "      <th>7</th>\n",
       "      <td>0.001006</td>\n",
       "      <td>0.004394</td>\n",
       "      <td>0.018234</td>\n",
       "      <td>0.000994</td>\n",
       "      <td>0.000000</td>\n",
       "      <td>0.000000</td>\n",
       "      <td>0.000000</td>\n",
       "      <td>0.973320</td>\n",
       "      <td>0.003083</td>\n",
       "      <td>0.013930</td>\n",
       "    </tr>\n",
       "    <tr>\n",
       "      <th>8</th>\n",
       "      <td>0.005030</td>\n",
       "      <td>0.000000</td>\n",
       "      <td>0.003839</td>\n",
       "      <td>0.006958</td>\n",
       "      <td>0.004069</td>\n",
       "      <td>0.005663</td>\n",
       "      <td>0.005187</td>\n",
       "      <td>0.002964</td>\n",
       "      <td>0.955807</td>\n",
       "      <td>0.010945</td>\n",
       "    </tr>\n",
       "    <tr>\n",
       "      <th>9</th>\n",
       "      <td>0.005030</td>\n",
       "      <td>0.004394</td>\n",
       "      <td>0.001919</td>\n",
       "      <td>0.007952</td>\n",
       "      <td>0.010173</td>\n",
       "      <td>0.003398</td>\n",
       "      <td>0.001037</td>\n",
       "      <td>0.003953</td>\n",
       "      <td>0.009250</td>\n",
       "      <td>0.957214</td>\n",
       "    </tr>\n",
       "  </tbody>\n",
       "</table>\n",
       "</div>"
      ],
      "text/plain": [
       "          0         1         2         3         4         5         6  \\\n",
       "0  0.973843  0.000879  0.000960  0.000000  0.000000  0.001133  0.004149   \n",
       "1  0.000000  0.986819  0.002879  0.002982  0.001017  0.002265  0.002075   \n",
       "2  0.006036  0.000000  0.958733  0.005964  0.003052  0.000000  0.005187   \n",
       "3  0.000000  0.000000  0.010557  0.961233  0.000000  0.013590  0.000000   \n",
       "4  0.001006  0.000000  0.001919  0.000000  0.972533  0.000000  0.005187   \n",
       "5  0.003018  0.000879  0.000960  0.013917  0.005086  0.968290  0.005187   \n",
       "6  0.005030  0.002636  0.000000  0.000000  0.004069  0.005663  0.971992   \n",
       "7  0.001006  0.004394  0.018234  0.000994  0.000000  0.000000  0.000000   \n",
       "8  0.005030  0.000000  0.003839  0.006958  0.004069  0.005663  0.005187   \n",
       "9  0.005030  0.004394  0.001919  0.007952  0.010173  0.003398  0.001037   \n",
       "\n",
       "          7         8         9  \n",
       "0  0.000988  0.003083  0.000995  \n",
       "1  0.000000  0.001028  0.000000  \n",
       "2  0.007905  0.005139  0.000000  \n",
       "3  0.008893  0.008222  0.002985  \n",
       "4  0.000000  0.005139  0.012935  \n",
       "5  0.001976  0.005139  0.000995  \n",
       "6  0.000000  0.004111  0.000000  \n",
       "7  0.973320  0.003083  0.013930  \n",
       "8  0.002964  0.955807  0.010945  \n",
       "9  0.003953  0.009250  0.957214  "
      ]
     },
     "execution_count": 16,
     "metadata": {},
     "output_type": "execute_result"
    }
   ],
   "source": [
    "x = [i for i in range(10)]\n",
    "\n",
    "df = pd.DataFrame(confusion_matrix, index=x, columns=x)\n",
    "\n",
    "df[\"sum\"] = df.sum(axis=0)\n",
    "\n",
    "df = df.iloc[:, :10] / df[\"sum\"]\n",
    "\n",
    "df"
   ]
  },
  {
   "cell_type": "code",
   "execution_count": 17,
   "id": "d9b2fd77-dd95-4774-b534-72955066953e",
   "metadata": {},
   "outputs": [
    {
     "data": {
      "image/png": "[encoded data removed]",
      "text/plain": [
       "<Figure size 1080x936 with 1 Axes>"
      ]
     },
     "metadata": {
      "needs_background": "light"
     },
     "output_type": "display_data"
    }
   ],
   "source": [
    "fig, ax = plt.subplots(figsize=(15,13))\n",
    "ax = sns.heatmap(df,\n",
    "                 cmap=\"PiYG\",              # cmap Color\n",
    "                 cbar=False,\n",
    "                 annot=True,               # Value Text\n",
    "                 fmt=\".1%\",                  # Value type (interge = \"d\")\n",
    "                 linewidths=2)"
   ]
  },
  {
   "cell_type": "code",
   "execution_count": null,
   "id": "bd142d62-6049-48ba-9c22-9e27b7b75b34",
   "metadata": {},
   "outputs": [],
   "source": []
  }
 ],
 "metadata": {
  "kernelspec": {
   "display_name": "Python 3 (ipykernel)",
   "language": "python",
   "name": "python3"
  },
  "language_info": {
   "codemirror_mode": {
    "name": "ipython",
    "version": 3
   },
   "file_extension": ".py",
   "mimetype": "text/x-python",
   "name": "python",
   "nbconvert_exporter": "python",
   "pygments_lexer": "ipython3",
   "version": "3.9.7"
  }
 },
 "nbformat": 4,
 "nbformat_minor": 5
}
