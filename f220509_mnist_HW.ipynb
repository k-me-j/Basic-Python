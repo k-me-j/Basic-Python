{
 "cells": [
  {
   "cell_type": "code",
   "execution_count": 29,
   "id": "2c7c18e2-92de-4d74-8df5-525222569cfb",
   "metadata": {},
   "outputs": [],
   "source": [
    "import tensorflow as tf\n",
    "import matplotlib.pyplot as plt\n",
    "import numpy as np\n",
    "import pandas as pd\n",
    "import seaborn as sns\n",
    "from sklearn.ensemble import RandomForestClassifier\n",
    "\n",
    "import joblib  # model 저장용"
   ]
  },
  {
   "cell_type": "code",
   "execution_count": 17,
   "id": "fe0725c7-7e2c-44e7-a69b-a96cb770c472",
   "metadata": {},
   "outputs": [],
   "source": [
    "(train_set, train_label), (test_set, test_label) = tf.keras.datasets.mnist.load_data()"
   ]
  },
  {
   "cell_type": "code",
   "execution_count": 18,
   "id": "2b3d6730-495c-45d8-b9ef-5c4a8af4dc96",
   "metadata": {},
   "outputs": [],
   "source": [
    "train_set = train_set.reshape(len(train_set), -1)\n",
    "test_set = test_set.reshape(len(test_set), -1)"
   ]
  },
  {
   "cell_type": "code",
   "execution_count": 19,
   "id": "f67db5e2-3494-414c-9fdb-e7904531e437",
   "metadata": {},
   "outputs": [
    {
     "data": {
      "text/plain": [
       "RandomForestClassifier()"
      ]
     },
     "execution_count": 19,
     "metadata": {},
     "output_type": "execute_result"
    }
   ],
   "source": [
    "clf = RandomForestClassifier()\n",
    "clf.fit(train_set, train_label)"
   ]
  },
  {
   "cell_type": "code",
   "execution_count": 20,
   "id": "11a69612-a03b-4588-abfc-e0848713607f",
   "metadata": {},
   "outputs": [],
   "source": [
    "pred = clf.predict(test_set)"
   ]
  },
  {
   "cell_type": "code",
   "execution_count": 14,
   "id": "280be8a0-10ba-4138-b649-4693992dd3b4",
   "metadata": {},
   "outputs": [],
   "source": [
    "confusion_matrix = [[0 for i in range(10)] for i in range(10)]"
   ]
  },
  {
   "cell_type": "code",
   "execution_count": 24,
   "id": "898057fd-bfdf-49db-bf97-e7ab46f8dfc0",
   "metadata": {},
   "outputs": [],
   "source": [
    "for i in range(len(test_set)):\n",
    "    r = test_label[i]\n",
    "    p = pred[i]\n",
    "    \n",
    "    confusion_matrix[r][p] += 1"
   ]
  },
  {
   "cell_type": "code",
   "execution_count": 25,
   "id": "0303e0e6-1cc0-4f18-891b-6b52119612ce",
   "metadata": {},
   "outputs": [
    {
     "data": {
      "text/plain": [
       "[[972, 0, 0, 0, 0, 0, 2, 1, 4, 1],\n",
       " [0, 1124, 2, 2, 1, 1, 3, 1, 1, 0],\n",
       " [5, 0, 999, 6, 3, 0, 4, 8, 7, 0],\n",
       " [0, 0, 9, 974, 0, 9, 0, 8, 7, 3],\n",
       " [1, 0, 1, 0, 956, 0, 6, 0, 2, 16],\n",
       " [3, 0, 0, 16, 2, 859, 5, 2, 4, 1],\n",
       " [9, 3, 1, 0, 2, 1, 938, 0, 4, 0],\n",
       " [1, 4, 21, 3, 1, 0, 0, 988, 1, 9],\n",
       " [4, 0, 3, 9, 8, 6, 7, 5, 923, 9],\n",
       " [6, 5, 1, 12, 10, 0, 1, 4, 6, 964]]"
      ]
     },
     "execution_count": 25,
     "metadata": {},
     "output_type": "execute_result"
    }
   ],
   "source": [
    "confusion_matrix"
   ]
  },
  {
   "cell_type": "markdown",
   "id": "bb5cf8d8-0055-4f6c-b0a3-5a1ca82206d1",
   "metadata": {},
   "source": [
    "# 시각화"
   ]
  },
  {
   "cell_type": "code",
   "execution_count": 56,
   "id": "11801ea8-c200-4af0-a0cd-0e8c6d13c17c",
   "metadata": {},
   "outputs": [
    {
     "data": {
      "text/html": [
       "<div>\n",
       "<style scoped>\n",
       "    .dataframe tbody tr th:only-of-type {\n",
       "        vertical-align: middle;\n",
       "    }\n",
       "\n",
       "    .dataframe tbody tr th {\n",
       "        vertical-align: top;\n",
       "    }\n",
       "\n",
       "    .dataframe thead th {\n",
       "        text-align: right;\n",
       "    }\n",
       "</style>\n",
       "<table border=\"1\" class=\"dataframe\">\n",
       "  <thead>\n",
       "    <tr style=\"text-align: right;\">\n",
       "      <th></th>\n",
       "      <th>0</th>\n",
       "      <th>1</th>\n",
       "      <th>2</th>\n",
       "      <th>3</th>\n",
       "      <th>4</th>\n",
       "      <th>5</th>\n",
       "      <th>6</th>\n",
       "      <th>7</th>\n",
       "      <th>8</th>\n",
       "      <th>9</th>\n",
       "    </tr>\n",
       "  </thead>\n",
       "  <tbody>\n",
       "    <tr>\n",
       "      <th>0</th>\n",
       "      <td>972</td>\n",
       "      <td>0</td>\n",
       "      <td>0</td>\n",
       "      <td>0</td>\n",
       "      <td>0</td>\n",
       "      <td>0</td>\n",
       "      <td>2</td>\n",
       "      <td>1</td>\n",
       "      <td>4</td>\n",
       "      <td>1</td>\n",
       "    </tr>\n",
       "    <tr>\n",
       "      <th>1</th>\n",
       "      <td>0</td>\n",
       "      <td>1124</td>\n",
       "      <td>2</td>\n",
       "      <td>2</td>\n",
       "      <td>1</td>\n",
       "      <td>1</td>\n",
       "      <td>3</td>\n",
       "      <td>1</td>\n",
       "      <td>1</td>\n",
       "      <td>0</td>\n",
       "    </tr>\n",
       "    <tr>\n",
       "      <th>2</th>\n",
       "      <td>5</td>\n",
       "      <td>0</td>\n",
       "      <td>999</td>\n",
       "      <td>6</td>\n",
       "      <td>3</td>\n",
       "      <td>0</td>\n",
       "      <td>4</td>\n",
       "      <td>8</td>\n",
       "      <td>7</td>\n",
       "      <td>0</td>\n",
       "    </tr>\n",
       "    <tr>\n",
       "      <th>3</th>\n",
       "      <td>0</td>\n",
       "      <td>0</td>\n",
       "      <td>9</td>\n",
       "      <td>974</td>\n",
       "      <td>0</td>\n",
       "      <td>9</td>\n",
       "      <td>0</td>\n",
       "      <td>8</td>\n",
       "      <td>7</td>\n",
       "      <td>3</td>\n",
       "    </tr>\n",
       "    <tr>\n",
       "      <th>4</th>\n",
       "      <td>1</td>\n",
       "      <td>0</td>\n",
       "      <td>1</td>\n",
       "      <td>0</td>\n",
       "      <td>956</td>\n",
       "      <td>0</td>\n",
       "      <td>6</td>\n",
       "      <td>0</td>\n",
       "      <td>2</td>\n",
       "      <td>16</td>\n",
       "    </tr>\n",
       "    <tr>\n",
       "      <th>5</th>\n",
       "      <td>3</td>\n",
       "      <td>0</td>\n",
       "      <td>0</td>\n",
       "      <td>16</td>\n",
       "      <td>2</td>\n",
       "      <td>859</td>\n",
       "      <td>5</td>\n",
       "      <td>2</td>\n",
       "      <td>4</td>\n",
       "      <td>1</td>\n",
       "    </tr>\n",
       "    <tr>\n",
       "      <th>6</th>\n",
       "      <td>9</td>\n",
       "      <td>3</td>\n",
       "      <td>1</td>\n",
       "      <td>0</td>\n",
       "      <td>2</td>\n",
       "      <td>1</td>\n",
       "      <td>938</td>\n",
       "      <td>0</td>\n",
       "      <td>4</td>\n",
       "      <td>0</td>\n",
       "    </tr>\n",
       "    <tr>\n",
       "      <th>7</th>\n",
       "      <td>1</td>\n",
       "      <td>4</td>\n",
       "      <td>21</td>\n",
       "      <td>3</td>\n",
       "      <td>1</td>\n",
       "      <td>0</td>\n",
       "      <td>0</td>\n",
       "      <td>988</td>\n",
       "      <td>1</td>\n",
       "      <td>9</td>\n",
       "    </tr>\n",
       "    <tr>\n",
       "      <th>8</th>\n",
       "      <td>4</td>\n",
       "      <td>0</td>\n",
       "      <td>3</td>\n",
       "      <td>9</td>\n",
       "      <td>8</td>\n",
       "      <td>6</td>\n",
       "      <td>7</td>\n",
       "      <td>5</td>\n",
       "      <td>923</td>\n",
       "      <td>9</td>\n",
       "    </tr>\n",
       "    <tr>\n",
       "      <th>9</th>\n",
       "      <td>6</td>\n",
       "      <td>5</td>\n",
       "      <td>1</td>\n",
       "      <td>12</td>\n",
       "      <td>10</td>\n",
       "      <td>0</td>\n",
       "      <td>1</td>\n",
       "      <td>4</td>\n",
       "      <td>6</td>\n",
       "      <td>964</td>\n",
       "    </tr>\n",
       "  </tbody>\n",
       "</table>\n",
       "</div>"
      ],
      "text/plain": [
       "     0     1    2    3    4    5    6    7    8    9\n",
       "0  972     0    0    0    0    0    2    1    4    1\n",
       "1    0  1124    2    2    1    1    3    1    1    0\n",
       "2    5     0  999    6    3    0    4    8    7    0\n",
       "3    0     0    9  974    0    9    0    8    7    3\n",
       "4    1     0    1    0  956    0    6    0    2   16\n",
       "5    3     0    0   16    2  859    5    2    4    1\n",
       "6    9     3    1    0    2    1  938    0    4    0\n",
       "7    1     4   21    3    1    0    0  988    1    9\n",
       "8    4     0    3    9    8    6    7    5  923    9\n",
       "9    6     5    1   12   10    0    1    4    6  964"
      ]
     },
     "execution_count": 56,
     "metadata": {},
     "output_type": "execute_result"
    }
   ],
   "source": [
    "x = [i for i in range(10)]\n",
    "df = pd.DataFrame(confusion_matrix, index=x, columns=x)\n",
    "# df = df / 100\n",
    "df"
   ]
  },
  {
   "cell_type": "raw",
   "id": "23c77433-2b60-4e67-b033-4a1cb4699695",
   "metadata": {},
   "source": [
    "fig, ax = plt.subplots(figsize=(15,13))\n",
    "ax = sns.heatmap(df,\n",
    "                 cmap=\"PiYG\",              # cmap Color\n",
    "                 cbar=False,\n",
    "                 annot=True,               # Value Text\n",
    "                 fmt=\".1%\",                  # Value type (interge = \"d\")\n",
    "                 linewidths=2)"
   ]
  },
  {
   "cell_type": "code",
   "execution_count": null,
   "id": "bd142d62-6049-48ba-9c22-9e27b7b75b34",
   "metadata": {},
   "outputs": [],
   "source": []
  }
 ],
 "metadata": {
  "kernelspec": {
   "display_name": "Python 3 (ipykernel)",
   "language": "python",
   "name": "python3"
  },
  "language_info": {
   "codemirror_mode": {
    "name": "ipython",
    "version": 3
   },
   "file_extension": ".py",
   "mimetype": "text/x-python",
   "name": "python",
   "nbconvert_exporter": "python",
   "pygments_lexer": "ipython3",
   "version": "3.9.7"
  }
 },
 "nbformat": 4,
 "nbformat_minor": 5
}
