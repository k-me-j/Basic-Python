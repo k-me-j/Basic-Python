{
 "cells": [
  {
   "cell_type": "code",
   "execution_count": 1,
   "id": "2c7c18e2-92de-4d74-8df5-525222569cfb",
   "metadata": {},
   "outputs": [],
   "source": [
    "import tensorflow as tf\n",
    "import matplotlib.pyplot as plt\n",
    "import numpy as np\n",
    "import pandas as pd\n",
    "import seaborn as sns\n",
    "from sklearn.ensemble import RandomForestClassifier\n",
    "\n",
    "import joblib  # model 저장용"
   ]
  },
  {
   "cell_type": "code",
   "execution_count": 2,
   "id": "fe0725c7-7e2c-44e7-a69b-a96cb770c472",
   "metadata": {},
   "outputs": [],
   "source": [
    "(train_set, train_label), (test_set, test_label) = tf.keras.datasets.mnist.load_data()"
   ]
  },
  {
   "cell_type": "code",
   "execution_count": 3,
   "id": "2b3d6730-495c-45d8-b9ef-5c4a8af4dc96",
   "metadata": {},
   "outputs": [],
   "source": [
    "train_set = train_set.reshape(len(train_set), -1)\n",
    "test_set = test_set.reshape(len(test_set), -1)"
   ]
  },
  {
   "cell_type": "code",
   "execution_count": 4,
   "id": "f67db5e2-3494-414c-9fdb-e7904531e437",
   "metadata": {},
   "outputs": [
    {
     "data": {
      "text/plain": [
       "RandomForestClassifier()"
      ]
     },
     "execution_count": 4,
     "metadata": {},
     "output_type": "execute_result"
    }
   ],
   "source": [
    "clf = RandomForestClassifier()\n",
    "clf.fit(train_set, train_label)"
   ]
  },
  {
   "cell_type": "code",
   "execution_count": 5,
   "id": "11a69612-a03b-4588-abfc-e0848713607f",
   "metadata": {},
   "outputs": [],
   "source": [
    "pred = clf.predict(test_set)"
   ]
  },
  {
   "cell_type": "code",
   "execution_count": 6,
   "id": "280be8a0-10ba-4138-b649-4693992dd3b4",
   "metadata": {},
   "outputs": [],
   "source": [
    "confusion_matrix = [[0 for i in range(10)] for i in range(10)]"
   ]
  },
  {
   "cell_type": "code",
   "execution_count": 7,
   "id": "898057fd-bfdf-49db-bf97-e7ab46f8dfc0",
   "metadata": {},
   "outputs": [],
   "source": [
    "for i in range(len(test_set)):\n",
    "    r = test_label[i]\n",
    "    p = pred[i]\n",
    "    \n",
    "    confusion_matrix[r][p] += 1"
   ]
  },
  {
   "cell_type": "code",
   "execution_count": 8,
   "id": "0303e0e6-1cc0-4f18-891b-6b52119612ce",
   "metadata": {},
   "outputs": [
    {
     "data": {
      "text/plain": [
       "[[971, 0, 0, 0, 0, 2, 3, 2, 2, 0],\n",
       " [0, 1125, 1, 3, 0, 1, 3, 0, 1, 1],\n",
       " [7, 0, 997, 5, 3, 0, 4, 10, 6, 0],\n",
       " [0, 0, 9, 975, 0, 6, 0, 9, 8, 3],\n",
       " [2, 0, 1, 0, 952, 0, 6, 1, 3, 17],\n",
       " [2, 0, 0, 12, 1, 860, 7, 1, 6, 3],\n",
       " [6, 3, 0, 0, 4, 5, 937, 0, 3, 0],\n",
       " [2, 4, 18, 2, 1, 0, 0, 987, 3, 11],\n",
       " [4, 0, 5, 7, 5, 5, 5, 4, 928, 11],\n",
       " [7, 5, 2, 9, 11, 2, 1, 4, 7, 961]]"
      ]
     },
     "execution_count": 8,
     "metadata": {},
     "output_type": "execute_result"
    }
   ],
   "source": [
    "confusion_matrix"
   ]
  },
  {
   "cell_type": "markdown",
   "id": "bb5cf8d8-0055-4f6c-b0a3-5a1ca82206d1",
   "metadata": {},
   "source": [
    "# 시각화"
   ]
  },
  {
   "cell_type": "code",
   "execution_count": 14,
   "id": "11801ea8-c200-4af0-a0cd-0e8c6d13c17c",
   "metadata": {},
   "outputs": [
    {
     "name": "stderr",
     "output_type": "stream",
     "text": [
      "C:\\Users\\AI-00\\AppData\\Local\\Temp/ipykernel_22276/927055111.py:5: SettingWithCopyWarning: \n",
      "A value is trying to be set on a copy of a slice from a DataFrame\n",
      "\n",
      "See the caveats in the documentation: https://pandas.pydata.org/pandas-docs/stable/user_guide/indexing.html#returning-a-view-versus-a-copy\n",
      "  df[i][j] = df[i][j] / sum(df[i])\n"
     ]
    },
    {
     "data": {
      "text/html": [
       "<div>\n",
       "<style scoped>\n",
       "    .dataframe tbody tr th:only-of-type {\n",
       "        vertical-align: middle;\n",
       "    }\n",
       "\n",
       "    .dataframe tbody tr th {\n",
       "        vertical-align: top;\n",
       "    }\n",
       "\n",
       "    .dataframe thead th {\n",
       "        text-align: right;\n",
       "    }\n",
       "</style>\n",
       "<table border=\"1\" class=\"dataframe\">\n",
       "  <thead>\n",
       "    <tr style=\"text-align: right;\">\n",
       "      <th></th>\n",
       "      <th>0</th>\n",
       "      <th>1</th>\n",
       "      <th>2</th>\n",
       "      <th>3</th>\n",
       "      <th>4</th>\n",
       "      <th>5</th>\n",
       "      <th>6</th>\n",
       "      <th>7</th>\n",
       "      <th>8</th>\n",
       "      <th>9</th>\n",
       "    </tr>\n",
       "  </thead>\n",
       "  <tbody>\n",
       "    <tr>\n",
       "      <th>0</th>\n",
       "      <td>0.970030</td>\n",
       "      <td>0.000000</td>\n",
       "      <td>0.000000</td>\n",
       "      <td>0.000000</td>\n",
       "      <td>0.000000</td>\n",
       "      <td>0.002270</td>\n",
       "      <td>0.003106</td>\n",
       "      <td>0.001965</td>\n",
       "      <td>0.002068</td>\n",
       "      <td>0.000000</td>\n",
       "    </tr>\n",
       "    <tr>\n",
       "      <th>1</th>\n",
       "      <td>0.000000</td>\n",
       "      <td>0.989446</td>\n",
       "      <td>0.000968</td>\n",
       "      <td>0.002962</td>\n",
       "      <td>0.000000</td>\n",
       "      <td>0.001138</td>\n",
       "      <td>0.003115</td>\n",
       "      <td>0.000000</td>\n",
       "      <td>0.001036</td>\n",
       "      <td>0.000993</td>\n",
       "    </tr>\n",
       "    <tr>\n",
       "      <th>2</th>\n",
       "      <td>0.226025</td>\n",
       "      <td>0.000000</td>\n",
       "      <td>0.966084</td>\n",
       "      <td>0.004950</td>\n",
       "      <td>0.003071</td>\n",
       "      <td>0.000000</td>\n",
       "      <td>0.004167</td>\n",
       "      <td>0.009843</td>\n",
       "      <td>0.006224</td>\n",
       "      <td>0.000000</td>\n",
       "    </tr>\n",
       "    <tr>\n",
       "      <th>3</th>\n",
       "      <td>0.000000</td>\n",
       "      <td>0.000000</td>\n",
       "      <td>0.250229</td>\n",
       "      <td>0.970142</td>\n",
       "      <td>0.000000</td>\n",
       "      <td>0.006834</td>\n",
       "      <td>0.000000</td>\n",
       "      <td>0.008946</td>\n",
       "      <td>0.008351</td>\n",
       "      <td>0.002982</td>\n",
       "    </tr>\n",
       "    <tr>\n",
       "      <th>4</th>\n",
       "      <td>0.082658</td>\n",
       "      <td>0.000000</td>\n",
       "      <td>0.036741</td>\n",
       "      <td>0.000000</td>\n",
       "      <td>0.977410</td>\n",
       "      <td>0.000000</td>\n",
       "      <td>0.006276</td>\n",
       "      <td>0.001003</td>\n",
       "      <td>0.003158</td>\n",
       "      <td>0.016949</td>\n",
       "    </tr>\n",
       "    <tr>\n",
       "      <th>5</th>\n",
       "      <td>0.089772</td>\n",
       "      <td>0.000000</td>\n",
       "      <td>0.000000</td>\n",
       "      <td>0.387371</td>\n",
       "      <td>0.043515</td>\n",
       "      <td>0.986227</td>\n",
       "      <td>0.007368</td>\n",
       "      <td>0.001004</td>\n",
       "      <td>0.006336</td>\n",
       "      <td>0.003043</td>\n",
       "    </tr>\n",
       "    <tr>\n",
       "      <th>6</th>\n",
       "      <td>0.294573</td>\n",
       "      <td>0.230957</td>\n",
       "      <td>0.000000</td>\n",
       "      <td>0.000000</td>\n",
       "      <td>0.181620</td>\n",
       "      <td>0.384720</td>\n",
       "      <td>0.993612</td>\n",
       "      <td>0.000000</td>\n",
       "      <td>0.003188</td>\n",
       "      <td>0.000000</td>\n",
       "    </tr>\n",
       "    <tr>\n",
       "      <th>7</th>\n",
       "      <td>0.136397</td>\n",
       "      <td>0.391374</td>\n",
       "      <td>0.685609</td>\n",
       "      <td>0.103277</td>\n",
       "      <td>0.054928</td>\n",
       "      <td>0.000000</td>\n",
       "      <td>0.000000</td>\n",
       "      <td>0.991937</td>\n",
       "      <td>0.003198</td>\n",
       "      <td>0.011190</td>\n",
       "    </tr>\n",
       "    <tr>\n",
       "      <th>8</th>\n",
       "      <td>0.312513</td>\n",
       "      <td>0.000000</td>\n",
       "      <td>0.559307</td>\n",
       "      <td>0.400717</td>\n",
       "      <td>0.289678</td>\n",
       "      <td>0.596574</td>\n",
       "      <td>0.712490</td>\n",
       "      <td>0.443720</td>\n",
       "      <td>0.992478</td>\n",
       "      <td>0.011316</td>\n",
       "    </tr>\n",
       "    <tr>\n",
       "      <th>9</th>\n",
       "      <td>0.768220</td>\n",
       "      <td>0.756226</td>\n",
       "      <td>0.444549</td>\n",
       "      <td>0.828011</td>\n",
       "      <td>0.876479</td>\n",
       "      <td>0.502795</td>\n",
       "      <td>0.366282</td>\n",
       "      <td>0.732813</td>\n",
       "      <td>0.872161</td>\n",
       "      <td>0.999952</td>\n",
       "    </tr>\n",
       "  </tbody>\n",
       "</table>\n",
       "</div>"
      ],
      "text/plain": [
       "          0         1         2         3         4         5         6  \\\n",
       "0  0.970030  0.000000  0.000000  0.000000  0.000000  0.002270  0.003106   \n",
       "1  0.000000  0.989446  0.000968  0.002962  0.000000  0.001138  0.003115   \n",
       "2  0.226025  0.000000  0.966084  0.004950  0.003071  0.000000  0.004167   \n",
       "3  0.000000  0.000000  0.250229  0.970142  0.000000  0.006834  0.000000   \n",
       "4  0.082658  0.000000  0.036741  0.000000  0.977410  0.000000  0.006276   \n",
       "5  0.089772  0.000000  0.000000  0.387371  0.043515  0.986227  0.007368   \n",
       "6  0.294573  0.230957  0.000000  0.000000  0.181620  0.384720  0.993612   \n",
       "7  0.136397  0.391374  0.685609  0.103277  0.054928  0.000000  0.000000   \n",
       "8  0.312513  0.000000  0.559307  0.400717  0.289678  0.596574  0.712490   \n",
       "9  0.768220  0.756226  0.444549  0.828011  0.876479  0.502795  0.366282   \n",
       "\n",
       "          7         8         9  \n",
       "0  0.001965  0.002068  0.000000  \n",
       "1  0.000000  0.001036  0.000993  \n",
       "2  0.009843  0.006224  0.000000  \n",
       "3  0.008946  0.008351  0.002982  \n",
       "4  0.001003  0.003158  0.016949  \n",
       "5  0.001004  0.006336  0.003043  \n",
       "6  0.000000  0.003188  0.000000  \n",
       "7  0.991937  0.003198  0.011190  \n",
       "8  0.443720  0.992478  0.011316  \n",
       "9  0.732813  0.872161  0.999952  "
      ]
     },
     "execution_count": 14,
     "metadata": {},
     "output_type": "execute_result"
    }
   ],
   "source": [
    "x = [i for i in range(10)]\n",
    "df = pd.DataFrame(confusion_matrix, index=x, columns=x)\n",
    "for i in range(len(df)):\n",
    "    for j in range(len(df[i])):\n",
    "        df[i][j] = df[i][j] / sum(df[i])\n",
    "\n",
    "df"
   ]
  },
  {
   "cell_type": "code",
   "execution_count": 18,
   "id": "d9b2fd77-dd95-4774-b534-72955066953e",
   "metadata": {},
   "outputs": [
    {
     "data": {
      "image/png": "[encoded data removed]",
      "text/plain": [
       "<Figure size 1080x936 with 1 Axes>"
      ]
     },
     "metadata": {
      "needs_background": "light"
     },
     "output_type": "display_data"
    }
   ],
   "source": [
    "fig, ax = plt.subplots(figsize=(15,13))\n",
    "ax = sns.heatmap(df,\n",
    "                 cmap=\"PiYG\",              # cmap Color\n",
    "                 cbar=False,\n",
    "                 annot=True,               # Value Text\n",
    "                 fmt=\".1%\",                  # Value type (interge = \"d\")\n",
    "                 linewidths=2)"
   ]
  },
  {
   "cell_type": "code",
   "execution_count": null,
   "id": "bd142d62-6049-48ba-9c22-9e27b7b75b34",
   "metadata": {},
   "outputs": [],
   "source": []
  }
 ],
 "metadata": {
  "kernelspec": {
   "display_name": "Python 3 (ipykernel)",
   "language": "python",
   "name": "python3"
  },
  "language_info": {
   "codemirror_mode": {
    "name": "ipython",
    "version": 3
   },
   "file_extension": ".py",
   "mimetype": "text/x-python",
   "name": "python",
   "nbconvert_exporter": "python",
   "pygments_lexer": "ipython3",
   "version": "3.9.7"
  }
 },
 "nbformat": 4,
 "nbformat_minor": 5
}
