{
 "cells": [
  {
   "cell_type": "markdown",
   "id": "50076cc1-f07a-4f88-8e11-16e99567a802",
   "metadata": {},
   "source": [
    "### f220627.ipynb 에서 짠 코드를 토대로 zoo.csv 학습해보기\n",
    "---"
   ]
  },
  {
   "cell_type": "code",
   "execution_count": 1,
   "id": "2ccd560d-2eb2-45d2-bebb-7aa307096e74",
   "metadata": {},
   "outputs": [],
   "source": [
    "import torch\n",
    "import torch.nn as nn\n",
    "import torch.nn.functional as F\n",
    "import torch.optim as optim\n",
    "\n",
    "import pandas as pd\n",
    "import numpy as np  # pd.get_dummies() -> DataFrame 반환 -> array로 type 변경하기 위함\n",
    "\n",
    "from sklearn.model_selection import train_test_split"
   ]
  },
  {
   "cell_type": "code",
   "execution_count": 2,
   "id": "7cc66836-63e2-416d-a6ec-d81cf5571ded",
   "metadata": {},
   "outputs": [
    {
     "name": "stdout",
     "output_type": "stream",
     "text": [
      "D:\\Kamie\\mon_ML_torch\n"
     ]
    }
   ],
   "source": [
    "import os\n",
    "print(os.getcwd())"
   ]
  },
  {
   "cell_type": "code",
   "execution_count": 3,
   "id": "a88f63d0-3356-4171-96e4-e021c4650b23",
   "metadata": {},
   "outputs": [
    {
     "data": {
      "text/html": [
       "<div>\n",
       "<style scoped>\n",
       "    .dataframe tbody tr th:only-of-type {\n",
       "        vertical-align: middle;\n",
       "    }\n",
       "\n",
       "    .dataframe tbody tr th {\n",
       "        vertical-align: top;\n",
       "    }\n",
       "\n",
       "    .dataframe thead th {\n",
       "        text-align: right;\n",
       "    }\n",
       "</style>\n",
       "<table border=\"1\" class=\"dataframe\">\n",
       "  <thead>\n",
       "    <tr style=\"text-align: right;\">\n",
       "      <th></th>\n",
       "      <th>hair</th>\n",
       "      <th>feathers</th>\n",
       "      <th>eggs</th>\n",
       "      <th>milk</th>\n",
       "      <th>airborne</th>\n",
       "      <th>aquatic</th>\n",
       "      <th>predator</th>\n",
       "      <th>toothed</th>\n",
       "      <th>backbone</th>\n",
       "      <th>breathes</th>\n",
       "      <th>venomous</th>\n",
       "      <th>fins</th>\n",
       "      <th>legs</th>\n",
       "      <th>tail</th>\n",
       "      <th>domestic</th>\n",
       "      <th>catsize</th>\n",
       "      <th>type</th>\n",
       "    </tr>\n",
       "  </thead>\n",
       "  <tbody>\n",
       "    <tr>\n",
       "      <th>0</th>\n",
       "      <td>1</td>\n",
       "      <td>0</td>\n",
       "      <td>0</td>\n",
       "      <td>1</td>\n",
       "      <td>0</td>\n",
       "      <td>0</td>\n",
       "      <td>1</td>\n",
       "      <td>1</td>\n",
       "      <td>1</td>\n",
       "      <td>1</td>\n",
       "      <td>0</td>\n",
       "      <td>0</td>\n",
       "      <td>4</td>\n",
       "      <td>0</td>\n",
       "      <td>0</td>\n",
       "      <td>1</td>\n",
       "      <td>0</td>\n",
       "    </tr>\n",
       "    <tr>\n",
       "      <th>1</th>\n",
       "      <td>1</td>\n",
       "      <td>0</td>\n",
       "      <td>0</td>\n",
       "      <td>1</td>\n",
       "      <td>0</td>\n",
       "      <td>0</td>\n",
       "      <td>0</td>\n",
       "      <td>1</td>\n",
       "      <td>1</td>\n",
       "      <td>1</td>\n",
       "      <td>0</td>\n",
       "      <td>0</td>\n",
       "      <td>4</td>\n",
       "      <td>1</td>\n",
       "      <td>0</td>\n",
       "      <td>1</td>\n",
       "      <td>0</td>\n",
       "    </tr>\n",
       "    <tr>\n",
       "      <th>2</th>\n",
       "      <td>0</td>\n",
       "      <td>0</td>\n",
       "      <td>1</td>\n",
       "      <td>0</td>\n",
       "      <td>0</td>\n",
       "      <td>1</td>\n",
       "      <td>1</td>\n",
       "      <td>1</td>\n",
       "      <td>1</td>\n",
       "      <td>0</td>\n",
       "      <td>0</td>\n",
       "      <td>1</td>\n",
       "      <td>0</td>\n",
       "      <td>1</td>\n",
       "      <td>0</td>\n",
       "      <td>0</td>\n",
       "      <td>3</td>\n",
       "    </tr>\n",
       "    <tr>\n",
       "      <th>3</th>\n",
       "      <td>1</td>\n",
       "      <td>0</td>\n",
       "      <td>0</td>\n",
       "      <td>1</td>\n",
       "      <td>0</td>\n",
       "      <td>0</td>\n",
       "      <td>1</td>\n",
       "      <td>1</td>\n",
       "      <td>1</td>\n",
       "      <td>1</td>\n",
       "      <td>0</td>\n",
       "      <td>0</td>\n",
       "      <td>4</td>\n",
       "      <td>0</td>\n",
       "      <td>0</td>\n",
       "      <td>1</td>\n",
       "      <td>0</td>\n",
       "    </tr>\n",
       "    <tr>\n",
       "      <th>4</th>\n",
       "      <td>1</td>\n",
       "      <td>0</td>\n",
       "      <td>0</td>\n",
       "      <td>1</td>\n",
       "      <td>0</td>\n",
       "      <td>0</td>\n",
       "      <td>1</td>\n",
       "      <td>1</td>\n",
       "      <td>1</td>\n",
       "      <td>1</td>\n",
       "      <td>0</td>\n",
       "      <td>0</td>\n",
       "      <td>4</td>\n",
       "      <td>1</td>\n",
       "      <td>0</td>\n",
       "      <td>1</td>\n",
       "      <td>0</td>\n",
       "    </tr>\n",
       "  </tbody>\n",
       "</table>\n",
       "</div>"
      ],
      "text/plain": [
       "   hair  feathers  eggs  milk  airborne  aquatic  predator  toothed  backbone  \\\n",
       "0     1         0     0     1         0        0         1        1         1   \n",
       "1     1         0     0     1         0        0         0        1         1   \n",
       "2     0         0     1     0         0        1         1        1         1   \n",
       "3     1         0     0     1         0        0         1        1         1   \n",
       "4     1         0     0     1         0        0         1        1         1   \n",
       "\n",
       "   breathes  venomous  fins  legs  tail  domestic  catsize  type  \n",
       "0         1         0     0     4     0         0        1     0  \n",
       "1         1         0     0     4     1         0        1     0  \n",
       "2         0         0     1     0     1         0        0     3  \n",
       "3         1         0     0     4     0         0        1     0  \n",
       "4         1         0     0     4     1         0        1     0  "
      ]
     },
     "execution_count": 3,
     "metadata": {},
     "output_type": "execute_result"
    }
   ],
   "source": [
    "path = \"../dataset/data-04-zoo.csv\"\n",
    "\n",
    "df = pd.read_csv(path, skiprows=19, header=None)\n",
    "df.columns = [\"hair\", \"feathers\", \"eggs\", \"milk\", \"airborne\", \"aquatic\", \"predator\", \"toothed\", \"backbone\", \"breathes\", \"venomous\", \"fins\", \"legs\", \"tail\", \"domestic\", \"catsize\", \"type\"]\n",
    "df.head()"
   ]
  },
  {
   "cell_type": "code",
   "execution_count": 4,
   "id": "23b96ade-26de-4bf0-bc21-e8cfdc63fd64",
   "metadata": {},
   "outputs": [
    {
     "name": "stdout",
     "output_type": "stream",
     "text": [
      "<class 'pandas.core.frame.DataFrame'>\n",
      "RangeIndex: 101 entries, 0 to 100\n",
      "Data columns (total 17 columns):\n",
      " #   Column    Non-Null Count  Dtype\n",
      "---  ------    --------------  -----\n",
      " 0   hair      101 non-null    int64\n",
      " 1   feathers  101 non-null    int64\n",
      " 2   eggs      101 non-null    int64\n",
      " 3   milk      101 non-null    int64\n",
      " 4   airborne  101 non-null    int64\n",
      " 5   aquatic   101 non-null    int64\n",
      " 6   predator  101 non-null    int64\n",
      " 7   toothed   101 non-null    int64\n",
      " 8   backbone  101 non-null    int64\n",
      " 9   breathes  101 non-null    int64\n",
      " 10  venomous  101 non-null    int64\n",
      " 11  fins      101 non-null    int64\n",
      " 12  legs      101 non-null    int64\n",
      " 13  tail      101 non-null    int64\n",
      " 14  domestic  101 non-null    int64\n",
      " 15  catsize   101 non-null    int64\n",
      " 16  type      101 non-null    int64\n",
      "dtypes: int64(17)\n",
      "memory usage: 13.5 KB\n"
     ]
    },
    {
     "data": {
      "text/plain": [
       "((101, 17), None)"
      ]
     },
     "execution_count": 4,
     "metadata": {},
     "output_type": "execute_result"
    }
   ],
   "source": [
    "df.shape, df.info()"
   ]
  },
  {
   "cell_type": "code",
   "execution_count": 5,
   "id": "00e3efcd-7062-41ff-a0a5-f9077eef6674",
   "metadata": {},
   "outputs": [
    {
     "name": "stdout",
     "output_type": "stream",
     "text": [
      "df['type'] 7개, [0 3 1 6 5 4 2]\n"
     ]
    }
   ],
   "source": [
    "print(f\"df['type'] {df['type'].unique().size}개, {df['type'].unique()}\")"
   ]
  },
  {
   "cell_type": "code",
   "execution_count": 6,
   "id": "a1c63069-d0f9-4d57-9736-b078933c4f89",
   "metadata": {},
   "outputs": [
    {
     "data": {
      "text/plain": [
       "0    41\n",
       "1    20\n",
       "3    13\n",
       "6    10\n",
       "5     8\n",
       "2     5\n",
       "4     4\n",
       "Name: type, dtype: int64"
      ]
     },
     "execution_count": 6,
     "metadata": {},
     "output_type": "execute_result"
    }
   ],
   "source": [
    "df['type'].value_counts()"
   ]
  },
  {
   "cell_type": "markdown",
   "id": "0b60bc11-f061-4fa5-822c-3d1e9415539c",
   "metadata": {},
   "source": [
    "### train, valid, test"
   ]
  },
  {
   "cell_type": "code",
   "execution_count": 7,
   "id": "1c39b788-1e8d-4462-b1b4-e54803ebf0b4",
   "metadata": {},
   "outputs": [],
   "source": [
    "x = df.drop(columns=[\"type\"])  # (101, 16)\n",
    "x = np.array(x)  # np.array로 변환\n",
    "x = torch.FloatTensor(x)  # pytorch에서 사용하기 위해서 Tensor 로 변경\n",
    "\n",
    "y = pd.get_dummies(df[\"type\"])  # y_train을 one-hot encoding 해주기\n",
    "y = np.array(y)  # np.array로 변환\n",
    "y = torch.FloatTensor(y)  # pytorch에서 사용하기 위해서 Tensor로 변경\n",
    "# y_train.shape : torch.Size([101, 7])"
   ]
  },
  {
   "cell_type": "code",
   "execution_count": 8,
   "id": "414141e9-36df-4a02-902e-8c31bc78fab0",
   "metadata": {},
   "outputs": [],
   "source": [
    "x_train, x_test, y_train, y_test = train_test_split(x, y,\n",
    "                                                   test_size=0.2,\n",
    "                                                   stratify=y,  # target의 class 비율에 맞춰서 분리\n",
    "                                                   random_state=42)"
   ]
  },
  {
   "cell_type": "code",
   "execution_count": 9,
   "id": "7e03be8b-b947-4ff7-849c-85a52509cd1c",
   "metadata": {},
   "outputs": [],
   "source": [
    "x_train, x_valid, y_train, y_valid = train_test_split(x_train, y_train,\n",
    "                                                     test_size=0.2,\n",
    "                                                     stratify=y_train,\n",
    "                                                     random_state=42)"
   ]
  },
  {
   "cell_type": "code",
   "execution_count": 10,
   "id": "50d5d194-69a5-4c85-ae24-466bf184be71",
   "metadata": {},
   "outputs": [
    {
     "name": "stdout",
     "output_type": "stream",
     "text": [
      "torch.Size([64, 16]) torch.Size([64, 7])\n",
      "torch.Size([16, 16]) torch.Size([16, 7])\n",
      "torch.Size([21, 16]) torch.Size([21, 7])\n"
     ]
    }
   ],
   "source": [
    "print(x_train.shape, y_train.shape)\n",
    "print(x_valid.shape, y_valid.shape)\n",
    "print(x_test.shape, y_test.shape)"
   ]
  },
  {
   "cell_type": "markdown",
   "id": "522cd5e7-a98f-4b00-ad3c-a390151bddb3",
   "metadata": {},
   "source": [
    "# ▶ 학습 하기 위한 준비\n",
    "1. weight, bias shape 정의\n",
    "2. optimizer를 뭘 사용할 것인지 등을 정의\n",
    "3. for문에서 정의된 epoch 수만큼 돌면서 w, b 값 학습  \n",
    "    3-1. 가설함수(hypothesis: softmax)  \n",
    "    3-2. cost function: cross-entropy  "
   ]
  },
  {
   "cell_type": "markdown",
   "id": "5c9ad03b-69c9-459b-8485-55439188cff7",
   "metadata": {},
   "source": [
    "# weight 설정\n",
    "```python\n",
    "w = torch.zeros((), requires_grad=True)  # ()에 shape 들어가야 함\n",
    "```\n",
    "- x_train.shape : (101, 16)\n",
    "- y_train.shape : (101, 7)\n",
    "- ```x_train * w => y_train``` 나와야 함\n",
    "\n",
    "\n",
    "### 101x16 matrix multiplication 16x7 => 101x7"
   ]
  },
  {
   "cell_type": "markdown",
   "id": "c889a5f2-c9f8-412c-b2b6-39ebaeb5d833",
   "metadata": {},
   "source": [
    "## 방법 1 : 직접 가설함수와 cost 구현하기"
   ]
  },
  {
   "cell_type": "code",
   "execution_count": 11,
   "id": "b375c188-5472-4d61-9a7d-68a93ccda0ae",
   "metadata": {},
   "outputs": [],
   "source": [
    "w = torch.zeros((16, 7), requires_grad=True) # requires_grad : w 기준으로 편미분\n",
    "b = torch.zeros(7, requires_grad=True)  # class가 7개 나와야 함\n",
    "# bias는 wx+b로 더하는 값임. 그래서 크게 영향을 미치지는 않음"
   ]
  },
  {
   "cell_type": "code",
   "execution_count": 12,
   "id": "20298d08-3b3b-4a35-9eef-118f18d4cefa",
   "metadata": {},
   "outputs": [
    {
     "data": {
      "text/plain": [
       "torch.Size([7])"
      ]
     },
     "execution_count": 12,
     "metadata": {},
     "output_type": "execute_result"
    }
   ],
   "source": [
    "b.shape"
   ]
  },
  {
   "cell_type": "code",
   "execution_count": 13,
   "id": "01fa3eba-0930-4a0a-9d0b-1151d623c219",
   "metadata": {},
   "outputs": [],
   "source": [
    "optimizer = optim.SGD([w, b], lr=0.1)"
   ]
  },
  {
   "cell_type": "code",
   "execution_count": 14,
   "id": "e2300c88-fb8d-451c-a8c8-64d8f430309a",
   "metadata": {},
   "outputs": [
    {
     "name": "stdout",
     "output_type": "stream",
     "text": [
      "Epoch    0/1000, cost: 1.945910\n",
      "Epoch  100/1000, cost: 0.479482\n",
      "Epoch  200/1000, cost: 0.336461\n",
      "Epoch  300/1000, cost: 0.264270\n",
      "Epoch  400/1000, cost: 0.217741\n",
      "Epoch  500/1000, cost: 0.184771\n",
      "Epoch  600/1000, cost: 0.160124\n",
      "Epoch  700/1000, cost: 0.141008\n",
      "Epoch  800/1000, cost: 0.125769\n",
      "Epoch  900/1000, cost: 0.113353\n",
      "Epoch 1000/1000, cost: 0.103058\n"
     ]
    }
   ],
   "source": [
    "nb_epochs = 1000\n",
    "for epoch in range(nb_epochs + 1):\n",
    "    # 1. Hypothesis 함수 : forward\n",
    "    # softmax = exp(wx+b) / sum(exp(wx+b))\n",
    "    # => 구현되어 있는게 F.softmax\n",
    "    hx = F.softmax(x_train.matmul(w) + b, dim=1)\n",
    "    \n",
    "    # 2. Cost Function 사용\n",
    "    # cross-entropy = 1 / n(y*-log(h(x)))  : *는 element-wise 곱\n",
    "    cost = (y_train * -torch.log(hx)).sum(dim=1).mean()  # y_one_hot는 GT값\n",
    "    \n",
    "    # 3. 최적화 : cost function을 미분하고, 경사타고 내려오면서 w,b 업데이터\n",
    "    optimizer.zero_grad()\n",
    "    cost.backward()  # cost function 미분\n",
    "    optimizer.step()  # SGD, lr 만큼 내려가면서 w, b 업데이트\n",
    "    \n",
    "    if epoch % 100 == 0:\n",
    "        print(f\"Epoch {epoch:4d}/{nb_epochs}, cost: {cost.item():.6f}\")"
   ]
  },
  {
   "cell_type": "markdown",
   "id": "b91c1fa8-39ff-4f13-ba05-5e0ce5ee3a86",
   "metadata": {},
   "source": [
    "## 방법 2 : 함수 갖다 쓰기"
   ]
  },
  {
   "cell_type": "code",
   "execution_count": 15,
   "id": "bdc8414d-f5bd-44b3-bdb2-7af530fb3eb4",
   "metadata": {},
   "outputs": [
    {
     "name": "stdout",
     "output_type": "stream",
     "text": [
      "Epoch    0/1000, cost: 2.261313\n",
      "Epoch  100/1000, cost: 0.488427\n",
      "Epoch  200/1000, cost: 0.334380\n",
      "Epoch  300/1000, cost: 0.260135\n",
      "Epoch  400/1000, cost: 0.213504\n",
      "Epoch  500/1000, cost: 0.180921\n",
      "Epoch  600/1000, cost: 0.156745\n",
      "Epoch  700/1000, cost: 0.138071\n",
      "Epoch  800/1000, cost: 0.123218\n",
      "Epoch  900/1000, cost: 0.111129\n",
      "Epoch 1000/1000, cost: 0.101110\n"
     ]
    }
   ],
   "source": [
    "model = nn.Linear(16, 7)  # 16x7 : 입력될 특징 16가지, 출력될 값 7가지\n",
    "optimizer = optim.SGD(model.parameters(), lr=0.1)\n",
    "# optimizer = optim.SGD([w, b], lr=0.1) 사용하면 우리가 만든 zeros로 계속 학습하기 때문에 cost가 업데이트 안됨!\n",
    "\n",
    "nb_epochs = 1000\n",
    "for epoch in range(nb_epochs + 1):\n",
    "    # 1. Hypothesis 함수 : forward\n",
    "    # hx = F.softmax(x_train.matmul(w) + b, dim=1)\n",
    "    \n",
    "    # 2. Cost Function 사용\n",
    "    # cost = (y_one_hot * -torch.log(hx)).sum(dim=1).mean()  # y_one_hot는 GT값\n",
    "    \n",
    "    # 방법1과 다른 부분\n",
    "    # 1, 2 대신 아래 두 줄로 변경해도 됨. 1, 2번의 코드(hx, cost)는 dim 등 직접 구현해서 이해하기 위함\n",
    "    pred = model(x_train)\n",
    "    cost = F.cross_entropy(pred, y_train)\n",
    "    \n",
    "    # 3. 최적화 : cost function을 미분하고, 경사타고 내려오면서 w,b 업데이터\n",
    "    optimizer.zero_grad()\n",
    "    cost.backward()  # cost function 미분\n",
    "    optimizer.step()  # SGD, lr 만큼 내려가면서 w, b 업데이트\n",
    "    \n",
    "    if epoch % 100 == 0:\n",
    "        print(f\"Epoch {epoch:4d}/{nb_epochs}, cost: {cost.item():.6f}\")"
   ]
  },
  {
   "cell_type": "markdown",
   "id": "5e183738-659e-4ce4-98b1-fc1a090b4fb7",
   "metadata": {},
   "source": [
    "# >>>>>> 모델 평가해보기"
   ]
  },
  {
   "cell_type": "code",
   "execution_count": 16,
   "id": "b89e7348-0a5e-46fd-b03c-983c0a085176",
   "metadata": {},
   "outputs": [
    {
     "name": "stdout",
     "output_type": "stream",
     "text": [
      "Epoch    0/1000, train_cost: 1.922924, val_cost: 1.698217\n",
      "Epoch  100/1000, train_cost: 0.493239, val_cost: 0.475424\n",
      "Epoch  200/1000, train_cost: 0.342260, val_cost: 0.314550\n",
      "Epoch  300/1000, train_cost: 0.266681, val_cost: 0.239115\n",
      "Epoch  400/1000, train_cost: 0.218658, val_cost: 0.195032\n",
      "Epoch  500/1000, train_cost: 0.184990, val_cost: 0.166033\n",
      "Epoch  600/1000, train_cost: 0.160018, val_cost: 0.145456\n",
      "Epoch  700/1000, train_cost: 0.140762, val_cost: 0.130092\n",
      "Epoch  800/1000, train_cost: 0.125472, val_cost: 0.118195\n",
      "Epoch  900/1000, train_cost: 0.113050, val_cost: 0.108725\n",
      "Epoch 1000/1000, train_cost: 0.102769, val_cost: 0.101017\n"
     ]
    }
   ],
   "source": [
    "model = nn.Linear(16, 7) \n",
    "optimizer = optim.SGD(model.parameters(), lr=0.1)\n",
    "# optimizer = optim.SGD([w, b], lr=0.1) 사용하면 우리가 만든 zeros로 계속 학습하기 때문에 cost가 업데이트 안됨!\n",
    "\n",
    "nb_epochs = 1000\n",
    "for epoch in range(nb_epochs + 1):\n",
    "    pred = model(x_train)\n",
    "    train_cost = F.cross_entropy(pred, y_train)\n",
    "    \n",
    "    # 3. 최적화 : cost function을 미분하고, 경사타고 내려오면서 w,b 업데이트\n",
    "    optimizer.zero_grad()\n",
    "    train_cost.backward()  # cost function 미분\n",
    "    optimizer.step()  # SGD, lr 만큼 내려가면서 w, b 업데이트\n",
    "    \n",
    "    model.eval()  # 학습할 때만 필요한 dropout, batchnorm 등의 기능을 비활성화\n",
    "    \n",
    "    with torch.no_grad():  # autograd 끄기\n",
    "        val_pred = model(x_valid)\n",
    "        val_cost = F.cross_entropy(val_pred, y_valid)\n",
    "    \n",
    "    if epoch % 100 == 0:\n",
    "        print(f\"Epoch {epoch:4d}/{nb_epochs}, train_cost: {train_cost.item():.6f}, val_cost: {val_cost.item():.6f}\")"
   ]
  },
  {
   "cell_type": "markdown",
   "id": "5c19be75-e70b-49ca-9627-81861666e53c",
   "metadata": {},
   "source": [
    "# Numpy to Tensor 또는 Tensor to Numpy\n",
    "```python\n",
    "import numpy as np\n",
    "x1 = np.ndarray(shape=(2,3), dtype=int,buffer=np.array([1,2,3,4,5,6]))\n",
    "# array([[1, 2, 3],\n",
    "#        [4, 5, 6]])\n",
    "\n",
    "torch.from_numpy(x1)\n",
    "# tensor([[1, 2, 3],\n",
    "#         [4, 5, 6]], dtype=torch.int32)\n",
    "        \n",
    "x2 = torch.from_numpy(x1)\n",
    "x2.numpy()\n",
    "# array([[1, 2, 3],\n",
    "#        [4, 5, 6]])\n",
    "\n",
    "x2.float()\n",
    "# tensor([[1., 2., 3.],\n",
    "#         [4., 5., 6.]])\n",
    "```"
   ]
  },
  {
   "cell_type": "raw",
   "id": "b8332cd9-f4ac-4d94-b249-7802631bdd06",
   "metadata": {
    "tags": []
   },
   "source": [
    "for val_p, val_y in zip(val_pred, y_valid):\n",
    "    print(val_p.argmax().numpy(), val_y.argmax().numpy())\n",
    "    "
   ]
  },
  {
   "cell_type": "code",
   "execution_count": 20,
   "id": "39959b51-f140-4b65-ba1c-35814700c251",
   "metadata": {},
   "outputs": [
    {
     "name": "stderr",
     "output_type": "stream",
     "text": [
      "C:\\Users\\AI-00\\AppData\\Local\\Temp/ipykernel_36876/4191788041.py:2: UserWarning: Implicit dimension choice for softmax has been deprecated. Change the call to include dim=X as an argument.\n",
      "  test_pred = F.softmax(test_pred)\n"
     ]
    },
    {
     "data": {
      "text/plain": [
       "[tensor(4),\n",
       " tensor(1),\n",
       " tensor(6),\n",
       " tensor(0),\n",
       " tensor(3),\n",
       " tensor(0),\n",
       " tensor(0),\n",
       " tensor(5),\n",
       " tensor(0),\n",
       " tensor(5),\n",
       " tensor(1),\n",
       " tensor(0),\n",
       " tensor(2),\n",
       " tensor(0),\n",
       " tensor(6),\n",
       " tensor(0),\n",
       " tensor(3),\n",
       " tensor(1),\n",
       " tensor(0),\n",
       " tensor(1),\n",
       " tensor(3)]"
      ]
     },
     "execution_count": 20,
     "metadata": {},
     "output_type": "execute_result"
    }
   ],
   "source": [
    "test_pred = model(x_test)\n",
    "test_pred = F.softmax(test_pred)\n",
    "\n",
    "test_pred_ = [test_p.argmax() for test_p in test_pred]\n",
    "test_pred_"
   ]
  },
  {
   "cell_type": "code",
   "execution_count": 18,
   "id": "739425b6-70a4-481a-909c-b84ffe4cdd70",
   "metadata": {},
   "outputs": [
    {
     "data": {
      "text/plain": [
       "[tensor(4),\n",
       " tensor(1),\n",
       " tensor(6),\n",
       " tensor(0),\n",
       " tensor(3),\n",
       " tensor(0),\n",
       " tensor(0),\n",
       " tensor(5),\n",
       " tensor(0),\n",
       " tensor(5),\n",
       " tensor(1),\n",
       " tensor(0),\n",
       " tensor(2),\n",
       " tensor(0),\n",
       " tensor(6),\n",
       " tensor(0),\n",
       " tensor(3),\n",
       " tensor(1),\n",
       " tensor(0),\n",
       " tensor(1),\n",
       " tensor(3)]"
      ]
     },
     "execution_count": 18,
     "metadata": {},
     "output_type": "execute_result"
    }
   ],
   "source": [
    "y_test_ = [y.argmax() for y in y_test]\n",
    "y_test_"
   ]
  },
  {
   "cell_type": "code",
   "execution_count": 35,
   "id": "c2cc34f2-0191-4a96-b266-d62833bba9ea",
   "metadata": {},
   "outputs": [
    {
     "name": "stdout",
     "output_type": "stream",
     "text": [
      "100.0\n"
     ]
    }
   ],
   "source": [
    "correct = 0\n",
    "for test_p, test_y in zip(test_pred_, y_test_):\n",
    "    # print(test_p, test_y)\n",
    "    if (test_p == test_y): \n",
    "        correct += 1\n",
    "        \n",
    "acc = correct / len(test_pred_) * 100.0\n",
    "print(round(acc, 2))"
   ]
  },
  {
   "cell_type": "code",
   "execution_count": null,
   "id": "3350a7c1-87a3-489f-a647-908628619d22",
   "metadata": {},
   "outputs": [],
   "source": []
  }
 ],
 "metadata": {
  "kernelspec": {
   "display_name": "Python 3 (ipykernel)",
   "language": "python",
   "name": "python3"
  },
  "language_info": {
   "codemirror_mode": {
    "name": "ipython",
    "version": 3
   },
   "file_extension": ".py",
   "mimetype": "text/x-python",
   "name": "python",
   "nbconvert_exporter": "python",
   "pygments_lexer": "ipython3",
   "version": "3.9.7"
  }
 },
 "nbformat": 4,
 "nbformat_minor": 5
}
