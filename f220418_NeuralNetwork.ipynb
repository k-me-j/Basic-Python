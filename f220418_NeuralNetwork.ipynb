{
 "cells": [
  {
   "cell_type": "markdown",
   "id": "f2938df3-d76b-4951-ba9b-d3441d3aa22b",
   "metadata": {},
   "source": [
    "# << 신경망 Neural Network >>\n",
    "- 신경망 : 뉴런들을 여러 개 연결한 네트워크\n",
    "- 신경망 학습 : 데이터를 통해 W 의 값을 찾아내겠다\n",
    "- 모델 : W 값들을 다 저장해 둔 것"
   ]
  },
  {
   "cell_type": "raw",
   "id": "8e53a487-a4f1-4585-a7ca-74ff4bc9b373",
   "metadata": {},
   "source": [
    "# 용어 설명\n",
    "\n",
    "1 라운드가 끝났다 = 1 에폭이 끝났다\n",
    "-> 웨이트 한 번 업데이트 됨 : 틀리면 그 순간 웨이트 업데이트 후 그 다음 학습 웨이트는 업데이트 한 값 넣음(에폭 안에서 학습 중에)\n",
    "\n",
    "(원하는 타겟값이 나오지 않으면 웨이트 업데이트.\n",
    "언제까지? 모든 타겟값(출력값)이 옳게 나올때까지 계속 업데이트 진행)"
   ]
  },
  {
   "cell_type": "markdown",
   "id": "99b7fb59-b981-4d7c-aad5-4b4537a708e7",
   "metadata": {},
   "source": [
    "# And 게이트 모델 생성해보기"
   ]
  },
  {
   "cell_type": "code",
   "execution_count": 1,
   "id": "ee58c6d4-068f-47cb-b3d4-3b3b96c0a89f",
   "metadata": {},
   "outputs": [],
   "source": [
    "def AND_gate(x1, x2):\n",
    "    w1 = 0.4   # x1에 대한 weight\n",
    "    w2 = 0.2   # x2에 대한 weight\n",
    "    # w3은 b로 표시. b=1이므로 1*w3=w3과 같음. 그러나 다른 웨이트와 구별하기 위해 w3 대신 b라고 표기\n",
    "    b = -0.5\n",
    "    \n",
    "    w_sum = x1*w1 + x2*w2 + b\n",
    "    \n",
    "    # activation function : Step Func 사용 (6.NeuralNetwork.pdf 4쪽 좌측 그래프 참고)\n",
    "    if w_sum >= 0:\n",
    "        return 1\n",
    "    else:\n",
    "        return 0"
   ]
  },
  {
   "cell_type": "code",
   "execution_count": 2,
   "id": "27e323ca-e079-43fd-a0c3-b654b66e51b8",
   "metadata": {},
   "outputs": [
    {
     "name": "stdout",
     "output_type": "stream",
     "text": [
      "0\n",
      "0\n",
      "0\n",
      "1\n"
     ]
    }
   ],
   "source": [
    "print(AND_gate(0, 0))\n",
    "print(AND_gate(0, 1))\n",
    "print(AND_gate(1, 0))\n",
    "print(AND_gate(1, 1))"
   ]
  },
  {
   "cell_type": "code",
   "execution_count": null,
   "id": "ab047844-7cfc-440f-a063-f920b7ba0941",
   "metadata": {},
   "outputs": [],
   "source": []
  }
 ],
 "metadata": {
  "kernelspec": {
   "display_name": "Python 3 (ipykernel)",
   "language": "python",
   "name": "python3"
  },
  "language_info": {
   "codemirror_mode": {
    "name": "ipython",
    "version": 3
   },
   "file_extension": ".py",
   "mimetype": "text/x-python",
   "name": "python",
   "nbconvert_exporter": "python",
   "pygments_lexer": "ipython3",
   "version": "3.9.7"
  }
 },
 "nbformat": 4,
 "nbformat_minor": 5
}
