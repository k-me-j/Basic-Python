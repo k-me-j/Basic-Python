{
 "cells": [
  {
   "cell_type": "markdown",
   "id": "dd3ae67d-0f79-4a69-bc3e-862f92ea490c",
   "metadata": {},
   "source": [
    "# < Random Forest >\n",
    "- n_estimators\n",
    "  - the number of trees in the forest\n",
    "  - 기본값은 100\n",
    "- criterion\n",
    "  - the function to measure the quality of a split\n",
    "  - default = “gini”"
   ]
  },
  {
   "cell_type": "code",
   "execution_count": 22,
   "id": "5ae24605-76ac-4e3d-bfd7-726b5dbb504b",
   "metadata": {},
   "outputs": [],
   "source": [
    "from sklearn.ensemble import RandomForestClassifier\n",
    "from sklearn.datasets import load_iris\n",
    "from sklearn import tree\n",
    "\n",
    "from sklearn.model_selection import train_test_split, RandomizedSearchCV\n",
    "import numpy as np"
   ]
  },
  {
   "cell_type": "code",
   "execution_count": 13,
   "id": "4ac07b0d-6325-48c1-abf6-93d6e24e56e1",
   "metadata": {},
   "outputs": [],
   "source": [
    "iris = load_iris()\n",
    "X, y = iris.data, iris.target\n",
    "\n",
    "# clf = RandomForestClassifier()\n",
    "clf = RandomForestClassifier(n_estimators=10, \n",
    "                             max_depth=3, \n",
    "                             random_state=0)\n",
    "clf = clf.fit(X, y)"
   ]
  },
  {
   "cell_type": "raw",
   "id": "3ab7084e-8164-4cf0-8621-6a8bb7faf272",
   "metadata": {},
   "source": [
    "iris"
   ]
  },
  {
   "cell_type": "code",
   "execution_count": 14,
   "id": "9c362367-5c71-4f5a-8816-7a6beb5983db",
   "metadata": {},
   "outputs": [
    {
     "data": {
      "text/plain": [
       "10"
      ]
     },
     "execution_count": 14,
     "metadata": {},
     "output_type": "execute_result"
    }
   ],
   "source": [
    "len(clf.estimators_)"
   ]
  },
  {
   "cell_type": "code",
   "execution_count": 15,
   "id": "44751ca1-0be5-4c52-973f-9a9614d22169",
   "metadata": {},
   "outputs": [
    {
     "data": {
      "text/plain": [
       "[DecisionTreeClassifier(max_depth=3, max_features='auto', random_state=209652396),\n",
       " DecisionTreeClassifier(max_depth=3, max_features='auto', random_state=398764591),\n",
       " DecisionTreeClassifier(max_depth=3, max_features='auto', random_state=924231285),\n",
       " DecisionTreeClassifier(max_depth=3, max_features='auto',\n",
       "                        random_state=1478610112),\n",
       " DecisionTreeClassifier(max_depth=3, max_features='auto', random_state=441365315),\n",
       " DecisionTreeClassifier(max_depth=3, max_features='auto',\n",
       "                        random_state=1537364731),\n",
       " DecisionTreeClassifier(max_depth=3, max_features='auto', random_state=192771779),\n",
       " DecisionTreeClassifier(max_depth=3, max_features='auto',\n",
       "                        random_state=1491434855),\n",
       " DecisionTreeClassifier(max_depth=3, max_features='auto',\n",
       "                        random_state=1819583497),\n",
       " DecisionTreeClassifier(max_depth=3, max_features='auto', random_state=530702035)]"
      ]
     },
     "execution_count": 15,
     "metadata": {},
     "output_type": "execute_result"
    }
   ],
   "source": [
    "clf.estimators_"
   ]
  },
  {
   "cell_type": "code",
   "execution_count": 5,
   "id": "a1fecb91-d009-4ee7-b047-b94e21ce1696",
   "metadata": {},
   "outputs": [
    {
     "data": {
      "text/plain": [
       "DecisionTreeClassifier(max_depth=3, max_features='auto', random_state=209652396)"
      ]
     },
     "execution_count": 5,
     "metadata": {},
     "output_type": "execute_result"
    }
   ],
   "source": [
    "clf.estimators_[0]"
   ]
  },
  {
   "cell_type": "code",
   "execution_count": 6,
   "id": "519ba118-314f-4510-9ee3-6c40cefa4e38",
   "metadata": {},
   "outputs": [
    {
     "data": {
      "text/plain": [
       "array([0, 1, 2])"
      ]
     },
     "execution_count": 6,
     "metadata": {},
     "output_type": "execute_result"
    }
   ],
   "source": [
    "result = clf.predict([[4.6, 3.1, 1.5, 0.2], \n",
    "                      [7.0, 3.2, 4.7, 1.4],\n",
    "                      [6.3, 3.3, 6.0, 2.5]])\n",
    "# 학습할 때도 [[]] 형태로 넣어줬기 때문에 예측할 때도 X set가 들어오길 기다리고 있음.\n",
    "# 그래서 [[]] 2차원으로 넣어주는 거.\n",
    "\n",
    "result"
   ]
  },
  {
   "cell_type": "markdown",
   "id": "3db1855f-6b4a-4564-8e82-3a2f233c7b61",
   "metadata": {
    "tags": []
   },
   "source": [
    "# RandomizedSearchCV"
   ]
  },
  {
   "cell_type": "code",
   "execution_count": 17,
   "id": "076ee27f-219f-459c-810d-84e3b1ddb0c5",
   "metadata": {},
   "outputs": [
    {
     "data": {
      "text/plain": [
       "{'n_estimators': [200, 400, 600, 800, 1000, 1200, 1400, 1600, 1800, 2000],\n",
       " 'max_features': ['auto', 'sqrt'],\n",
       " 'max_depth': [10, 20, 30, 40, 50, 60, 70, 80, 90, 100, 110, None],\n",
       " 'min_samples_split': [2, 5, 10],\n",
       " 'min_samples_leaf': [1, 2, 4],\n",
       " 'bootstrap': [True, False]}"
      ]
     },
     "execution_count": 17,
     "metadata": {},
     "output_type": "execute_result"
    }
   ],
   "source": [
    "# Number of trees in random forest\n",
    "n_estimators = [int(x) for x in np.linspace(start=200, stop=2000, num=10)]\n",
    "\n",
    "# Number of features to consider at every split\n",
    "max_features = ['auto', 'sqrt']\n",
    " \n",
    "max_depth = [int(x) for x in np.linspace(10, 110, num = 11)]\n",
    "max_depth.append(None)\n",
    "\n",
    "# Minimum number of samples required to split a node\n",
    "min_samples_split = [2, 5, 10]\n",
    "\n",
    "# Minimum number of samples required at each leaf node\n",
    "min_samples_leaf = [1, 2, 4]\n",
    "\n",
    "# Method of selecting samples for training each tree\n",
    "bootstrap = [True, False]\n",
    "\n",
    "# Create the random grid\n",
    "random_grid = {'n_estimators': n_estimators,\n",
    "               'max_features': max_features,\n",
    "               'max_depth': max_depth,\n",
    "               'min_samples_split': min_samples_split,\n",
    "               'min_samples_leaf': min_samples_leaf,\n",
    "               'bootstrap': bootstrap}\n",
    "\n",
    "random_grid"
   ]
  },
  {
   "cell_type": "code",
   "execution_count": 20,
   "id": "9715e93f-75b9-4235-b1e7-630cbd2ac6f5",
   "metadata": {},
   "outputs": [
    {
     "name": "stdout",
     "output_type": "stream",
     "text": [
      "Fitting 3 folds for each of 100 candidates, totalling 300 fits\n"
     ]
    },
    {
     "data": {
      "text/plain": [
       "({'n_estimators': 400,\n",
       "  'min_samples_split': 5,\n",
       "  'min_samples_leaf': 1,\n",
       "  'max_features': 'sqrt',\n",
       "  'max_depth': 30,\n",
       "  'bootstrap': True},\n",
       " 0.9666666666666667)"
      ]
     },
     "execution_count": 20,
     "metadata": {},
     "output_type": "execute_result"
    }
   ],
   "source": [
    "rf = RandomForestClassifier(random_state=42)\n",
    "rf_random = RandomizedSearchCV(estimator = rf, \n",
    "                               param_distributions = random_grid, \n",
    "                               n_iter = 100, \n",
    "                               cv = 3, \n",
    "                               verbose=2, \n",
    "                               random_state=42, \n",
    "                               n_jobs = -1)\n",
    "\n",
    "rf_result = rf_random.fit(X, y)\n",
    "rf_result.best_params_, rf_result.best_score_"
   ]
  },
  {
   "cell_type": "code",
   "execution_count": 21,
   "id": "0364bba4-eb8e-44c3-8efa-1b0fa18d506f",
   "metadata": {},
   "outputs": [],
   "source": [
    "clf = RandomForestClassifier(n_estimators=400, \n",
    "                             max_depth=30, \n",
    "                             min_samples_split=5,\n",
    "                             min_samples_leaf=1,\n",
    "                             max_features='sqrt',\n",
    "                             bootstrap=True,\n",
    "                             random_state=0)"
   ]
  },
  {
   "cell_type": "code",
   "execution_count": null,
   "id": "de1aca42-0800-4a9b-a1b4-d537bb4d81b9",
   "metadata": {},
   "outputs": [],
   "source": []
  }
 ],
 "metadata": {
  "kernelspec": {
   "display_name": "Python 3 (ipykernel)",
   "language": "python",
   "name": "python3"
  },
  "language_info": {
   "codemirror_mode": {
    "name": "ipython",
    "version": 3
   },
   "file_extension": ".py",
   "mimetype": "text/x-python",
   "name": "python",
   "nbconvert_exporter": "python",
   "pygments_lexer": "ipython3",
   "version": "3.9.7"
  }
 },
 "nbformat": 4,
 "nbformat_minor": 5
}
