{
  "nbformat": 4,
  "nbformat_minor": 0,
  "metadata": {
    "colab": {
      "name": "220523_cnn.ipynb",
      "provenance": [],
      "collapsed_sections": []
    },
    "kernelspec": {
      "name": "python3",
      "display_name": "Python 3"
    },
    "language_info": {
      "name": "python"
    }
  },
  "cells": [
    {
      "cell_type": "code",
      "execution_count": 10,
      "metadata": {
        "id": "5PSBc21iWyzc"
      },
      "outputs": [],
      "source": [
        "from tensorflow.keras.models import Sequential\n",
        "from tensorflow.keras.layers import Dense, Conv2D, MaxPool2D, Flatten\n",
        "from tensorflow.keras.datasets.mnist import load_data\n",
        "import tensorflow as tf"
      ]
    },
    {
      "cell_type": "code",
      "source": [
        "model = Sequential()\n",
        "model.add(Dense(512, input_dim=784, activation=\"relu\"))\n",
        "model.add(Dense(10, activation=\"softmax\"))\n",
        "model.summary()"
      ],
      "metadata": {
        "colab": {
          "base_uri": "https://localhost:8080/"
        },
        "id": "A5EaumpoWzzI",
        "outputId": "88646c2f-a5b2-493c-f202-5dfa72ea7a00"
      },
      "execution_count": 2,
      "outputs": [
        {
          "output_type": "stream",
          "name": "stdout",
          "text": [
            "Model: \"sequential\"\n",
            "_________________________________________________________________\n",
            " Layer (type)                Output Shape              Param #   \n",
            "=================================================================\n",
            " dense (Dense)               (None, 512)               401920    \n",
            "                                                                 \n",
            " dense_1 (Dense)             (None, 10)                5130      \n",
            "                                                                 \n",
            "=================================================================\n",
            "Total params: 407,050\n",
            "Trainable params: 407,050\n",
            "Non-trainable params: 0\n",
            "_________________________________________________________________\n"
          ]
        }
      ]
    },
    {
      "cell_type": "code",
      "source": [
        "model.compile(loss=\"categorical_crossentropy\",\n",
        "              optimizer=\"adam\",\n",
        "              metrics=[\"accuracy\"])"
      ],
      "metadata": {
        "id": "XeHDC_U3W2RC"
      },
      "execution_count": 3,
      "outputs": []
    },
    {
      "cell_type": "code",
      "source": [
        "(X_train, y_train), (X_test, y_test) = load_data()"
      ],
      "metadata": {
        "id": "CQUwmLDOXB9q"
      },
      "execution_count": 21,
      "outputs": []
    },
    {
      "cell_type": "code",
      "source": [
        "X_train.shape, y_train.shape"
      ],
      "metadata": {
        "colab": {
          "base_uri": "https://localhost:8080/"
        },
        "id": "KEDh6UyWXL43",
        "outputId": "cfd78bc0-2694-46d8-8f1e-b4d110f45da3"
      },
      "execution_count": 5,
      "outputs": [
        {
          "output_type": "execute_result",
          "data": {
            "text/plain": [
              "((60000, 28, 28), (10000, 28, 28))"
            ]
          },
          "metadata": {},
          "execution_count": 5
        }
      ]
    },
    {
      "cell_type": "code",
      "source": [
        "train_data = X_train.reshape(60000, 784)\n",
        "test_data = y_train.reshape(10000, 784)\n",
        "\n",
        "train_data.shape, test_data.shape"
      ],
      "metadata": {
        "colab": {
          "base_uri": "https://localhost:8080/"
        },
        "id": "UV_5j5wwXf5I",
        "outputId": "94457b56-78c4-4ee6-c540-303bcc5216aa"
      },
      "execution_count": 6,
      "outputs": [
        {
          "output_type": "execute_result",
          "data": {
            "text/plain": [
              "((60000, 784), (10000, 784))"
            ]
          },
          "metadata": {},
          "execution_count": 6
        }
      ]
    },
    {
      "cell_type": "code",
      "source": [
        "# 원핫인코딩\n",
        "train_label = tf.keras.utils.to_categorical(y_train, 10)"
      ],
      "metadata": {
        "id": "OE7DGaUaXmjr"
      },
      "execution_count": 7,
      "outputs": []
    },
    {
      "cell_type": "code",
      "source": [
        "model.fit(train_data, train_label, epochs=10, batch_size=200)"
      ],
      "metadata": {
        "colab": {
          "base_uri": "https://localhost:8080/"
        },
        "id": "w2i-47maX6mi",
        "outputId": "afeac716-c865-450e-ba25-159e28a4a4d6"
      },
      "execution_count": 8,
      "outputs": [
        {
          "output_type": "stream",
          "name": "stdout",
          "text": [
            "Epoch 1/10\n",
            "300/300 [==============================] - 4s 11ms/step - loss: 4.9238 - accuracy: 0.9041\n",
            "Epoch 2/10\n",
            "300/300 [==============================] - 3s 11ms/step - loss: 0.7783 - accuracy: 0.9551\n",
            "Epoch 3/10\n",
            "300/300 [==============================] - 3s 11ms/step - loss: 0.3778 - accuracy: 0.9703\n",
            "Epoch 4/10\n",
            "300/300 [==============================] - 3s 11ms/step - loss: 0.2394 - accuracy: 0.9753\n",
            "Epoch 5/10\n",
            "300/300 [==============================] - 3s 11ms/step - loss: 0.1728 - accuracy: 0.9813\n",
            "Epoch 6/10\n",
            "300/300 [==============================] - 3s 11ms/step - loss: 0.1450 - accuracy: 0.9832\n",
            "Epoch 7/10\n",
            "300/300 [==============================] - 3s 11ms/step - loss: 0.1501 - accuracy: 0.9830\n",
            "Epoch 8/10\n",
            "300/300 [==============================] - 3s 11ms/step - loss: 0.1390 - accuracy: 0.9840\n",
            "Epoch 9/10\n",
            "300/300 [==============================] - 3s 11ms/step - loss: 0.1530 - accuracy: 0.9838\n",
            "Epoch 10/10\n",
            "300/300 [==============================] - 3s 11ms/step - loss: 0.1410 - accuracy: 0.9844\n"
          ]
        },
        {
          "output_type": "execute_result",
          "data": {
            "text/plain": [
              "<keras.callbacks.History at 0x7ffb13da90d0>"
            ]
          },
          "metadata": {},
          "execution_count": 8
        }
      ]
    },
    {
      "cell_type": "markdown",
      "source": [
        "# try CNN\n",
        "- 필터에 들어갈 적절한 값 찾기 = CNN의 목적. 거기에 웨이트 걸어서 가장 적절한 거 찾기\n",
        "- cnn이 하는 것 : 컨볼루션 필터(커널)를 학습하는 것\n",
        "- 신경망은 벡터였다면 cnn은 2차원. 이미지니까 무조건 2차원은 가야 함\n"
      ],
      "metadata": {
        "id": "69kkpLxypMY-"
      }
    },
    {
      "cell_type": "code",
      "source": [
        "model = Sequential()\n",
        "model.add(Conv2D(filters=1, \n",
        "                 kernel_size=(5,5), \n",
        "                 strides=1,\n",
        "                 activation='relu',\n",
        "                 padding=\"same\",  # 원본 사이즈와 동일하게 나오도록 함. 패딩 추가해서.\n",
        "                 input_shape=(28, 28, 1)  # 흑백이라 1 channel\n",
        "                 ))\n",
        "model.summary()  # 5*5 필터 만큼의 웨이트 25개 + 바이어스 1개 = 26개"
      ],
      "metadata": {
        "colab": {
          "base_uri": "https://localhost:8080/"
        },
        "id": "R13TnOJsbauk",
        "outputId": "0b31838a-dd96-4ce1-c09d-efaf5fc443d1"
      },
      "execution_count": 12,
      "outputs": [
        {
          "output_type": "stream",
          "name": "stdout",
          "text": [
            "Model: \"sequential_2\"\n",
            "_________________________________________________________________\n",
            " Layer (type)                Output Shape              Param #   \n",
            "=================================================================\n",
            " conv2d_1 (Conv2D)           (None, 28, 28, 1)         26        \n",
            "                                                                 \n",
            "=================================================================\n",
            "Total params: 26\n",
            "Trainable params: 26\n",
            "Non-trainable params: 0\n",
            "_________________________________________________________________\n"
          ]
        }
      ]
    },
    {
      "cell_type": "code",
      "source": [
        "model = Sequential()\n",
        "model.add(Conv2D(filters=1, \n",
        "                 kernel_size=(5,5), \n",
        "                 strides=1,\n",
        "                 activation='relu',\n",
        "                 padding=\"same\",  # 원본 사이즈와 동일하게 나오도록 함. 패딩 추가해서.\n",
        "                 input_shape=(28, 28, 1)  # 흑백이라 1 channel\n",
        "                 ))\n",
        "model.add(MaxPool2D(pool_size=(2,2), strides=(2,2)))   # 이미지가 반으로 줄어듦\n",
        "model.summary()"
      ],
      "metadata": {
        "colab": {
          "base_uri": "https://localhost:8080/"
        },
        "id": "u75xRYQtkfRa",
        "outputId": "aaedc774-9e11-4ca3-e3f0-64fe5e09ed32"
      },
      "execution_count": 13,
      "outputs": [
        {
          "output_type": "stream",
          "name": "stdout",
          "text": [
            "Model: \"sequential_3\"\n",
            "_________________________________________________________________\n",
            " Layer (type)                Output Shape              Param #   \n",
            "=================================================================\n",
            " conv2d_2 (Conv2D)           (None, 28, 28, 1)         26        \n",
            "                                                                 \n",
            " max_pooling2d (MaxPooling2D  (None, 14, 14, 1)        0         \n",
            " )                                                               \n",
            "                                                                 \n",
            "=================================================================\n",
            "Total params: 26\n",
            "Trainable params: 26\n",
            "Non-trainable params: 0\n",
            "_________________________________________________________________\n"
          ]
        }
      ]
    },
    {
      "cell_type": "code",
      "source": [
        "model = Sequential()\n",
        "model.add(Conv2D(filters=1, \n",
        "                 kernel_size=(5,5), \n",
        "                 strides=1,\n",
        "                 activation='relu',\n",
        "                 padding=\"same\",  # 원본 사이즈와 동일하게 나오도록 함. 패딩 추가해서.\n",
        "                 input_shape=(28, 28, 1)  # 흑백이라 1 channel\n",
        "                 ))\n",
        "model.add(MaxPool2D(pool_size=(2,2), strides=(2,2)))\n",
        "model.add(Conv2D(1, (5,5), activation=\"relu\", padding=\"same\"))   # stride 옵션 안주면 기본 (1,1)\n",
        "model.summary()"
      ],
      "metadata": {
        "colab": {
          "base_uri": "https://localhost:8080/"
        },
        "id": "xdaJBPK1lR18",
        "outputId": "7861b444-f4c1-4340-b472-1f1347571cf1"
      },
      "execution_count": 14,
      "outputs": [
        {
          "output_type": "stream",
          "name": "stdout",
          "text": [
            "Model: \"sequential_4\"\n",
            "_________________________________________________________________\n",
            " Layer (type)                Output Shape              Param #   \n",
            "=================================================================\n",
            " conv2d_3 (Conv2D)           (None, 28, 28, 1)         26        \n",
            "                                                                 \n",
            " max_pooling2d_1 (MaxPooling  (None, 14, 14, 1)        0         \n",
            " 2D)                                                             \n",
            "                                                                 \n",
            " conv2d_4 (Conv2D)           (None, 14, 14, 1)         26        \n",
            "                                                                 \n",
            "=================================================================\n",
            "Total params: 52\n",
            "Trainable params: 52\n",
            "Non-trainable params: 0\n",
            "_________________________________________________________________\n"
          ]
        }
      ]
    },
    {
      "cell_type": "code",
      "source": [
        "model = Sequential()\n",
        "model.add(Conv2D(filters=1, \n",
        "                 kernel_size=(5,5), \n",
        "                 strides=1,\n",
        "                 activation='relu',\n",
        "                 padding=\"same\",  # 원본 사이즈와 동일하게 나오도록 함. 패딩 추가해서.\n",
        "                 input_shape=(28, 28, 1)  # 흑백이라 1 channel\n",
        "                 ))\n",
        "model.add(MaxPool2D(pool_size=(2,2), strides=(2,2)))\n",
        "model.add(Conv2D(1, (5,5), activation=\"relu\", padding=\"same\"))   # stride 옵션 안주면 기본 (1,1)\n",
        "model.add(MaxPool2D(pool_size=(2,2), strides=(2,2)))\n",
        "model.summary()"
      ],
      "metadata": {
        "colab": {
          "base_uri": "https://localhost:8080/"
        },
        "id": "Ck15wXxdmOKm",
        "outputId": "fd12a577-d70e-40f4-afe2-ddeacc9c8dfb"
      },
      "execution_count": 15,
      "outputs": [
        {
          "output_type": "stream",
          "name": "stdout",
          "text": [
            "Model: \"sequential_5\"\n",
            "_________________________________________________________________\n",
            " Layer (type)                Output Shape              Param #   \n",
            "=================================================================\n",
            " conv2d_5 (Conv2D)           (None, 28, 28, 1)         26        \n",
            "                                                                 \n",
            " max_pooling2d_2 (MaxPooling  (None, 14, 14, 1)        0         \n",
            " 2D)                                                             \n",
            "                                                                 \n",
            " conv2d_6 (Conv2D)           (None, 14, 14, 1)         26        \n",
            "                                                                 \n",
            " max_pooling2d_3 (MaxPooling  (None, 7, 7, 1)          0         \n",
            " 2D)                                                             \n",
            "                                                                 \n",
            "=================================================================\n",
            "Total params: 52\n",
            "Trainable params: 52\n",
            "Non-trainable params: 0\n",
            "_________________________________________________________________\n"
          ]
        }
      ]
    },
    {
      "cell_type": "code",
      "source": [
        "model = Sequential()\n",
        "model.add(Conv2D(filters=1, \n",
        "                 kernel_size=(5,5), \n",
        "                 strides=1,\n",
        "                 activation='relu',\n",
        "                 padding=\"same\",  # 원본 사이즈와 동일하게 나오도록 함. 패딩 추가해서.\n",
        "                 input_shape=(28, 28, 1)  # 흑백이라 1 channel\n",
        "                 ))\n",
        "model.add(MaxPool2D(pool_size=(2,2), strides=(2,2)))\n",
        "model.add(Conv2D(1, (5,5), activation=\"relu\", padding=\"same\"))   # stride 옵션 안주면 기본 (1,1)\n",
        "model.add(MaxPool2D(pool_size=(2,2), strides=(2,2)))\n",
        "# 위까지 특징 뽑을 만큼 뽑았으니 이제 flatten 해서 신경망에 넣어주기! 히든 노드 만들어주고 등등\n",
        "model.add(Flatten())  # 1차원으로 ㄱㄱ\n",
        "model.add(Dense(100, activation='relu'))\n",
        "model.summary()"
      ],
      "metadata": {
        "colab": {
          "base_uri": "https://localhost:8080/"
        },
        "id": "AR4yFnMLmdpy",
        "outputId": "39af88c5-6971-4bdc-f32e-d97291d058f2"
      },
      "execution_count": 18,
      "outputs": [
        {
          "output_type": "stream",
          "name": "stdout",
          "text": [
            "Model: \"sequential_8\"\n",
            "_________________________________________________________________\n",
            " Layer (type)                Output Shape              Param #   \n",
            "=================================================================\n",
            " conv2d_11 (Conv2D)          (None, 28, 28, 1)         26        \n",
            "                                                                 \n",
            " max_pooling2d_9 (MaxPooling  (None, 14, 14, 1)        0         \n",
            " 2D)                                                             \n",
            "                                                                 \n",
            " conv2d_12 (Conv2D)          (None, 14, 14, 1)         26        \n",
            "                                                                 \n",
            " max_pooling2d_10 (MaxPoolin  (None, 7, 7, 1)          0         \n",
            " g2D)                                                            \n",
            "                                                                 \n",
            " flatten_1 (Flatten)         (None, 49)                0         \n",
            "                                                                 \n",
            " dense_2 (Dense)             (None, 100)               5000      \n",
            "                                                                 \n",
            "=================================================================\n",
            "Total params: 5,052\n",
            "Trainable params: 5,052\n",
            "Non-trainable params: 0\n",
            "_________________________________________________________________\n"
          ]
        }
      ]
    },
    {
      "cell_type": "code",
      "source": [
        "model = Sequential()\n",
        "model.add(Conv2D(filters=1, \n",
        "                 kernel_size=(5,5), \n",
        "                 strides=1,\n",
        "                 activation='relu',\n",
        "                 padding=\"same\",  # 원본 사이즈와 동일하게 나오도록 함. 패딩 추가해서.\n",
        "                 input_shape=(28, 28, 1)  # 흑백이라 1 channel\n",
        "                 ))\n",
        "model.add(MaxPool2D(pool_size=(2,2), strides=(2,2)))\n",
        "model.add(Conv2D(1, (5,5), activation=\"relu\", padding=\"same\"))   # stride 옵션 안주면 기본 (1,1)\n",
        "model.add(MaxPool2D(pool_size=(2,2), strides=(2,2)))\n",
        "# 위까지 특징 뽑을 만큼 뽑았으니 이제 flatten 해서 신경망에 넣어주기! 히든 노드 만들어주고 등등\n",
        "model.add(Flatten())  # 1차원으로 ㄱㄱ\n",
        "model.add(Dense(100, activation='relu'))\n",
        "model.add(Dense(10, activation='softmax'))\n",
        "model.summary()"
      ],
      "metadata": {
        "colab": {
          "base_uri": "https://localhost:8080/"
        },
        "id": "xzkaqhVQmfro",
        "outputId": "68f1a847-ce05-4220-8ed8-222b9529584a"
      },
      "execution_count": 19,
      "outputs": [
        {
          "output_type": "stream",
          "name": "stdout",
          "text": [
            "Model: \"sequential_9\"\n",
            "_________________________________________________________________\n",
            " Layer (type)                Output Shape              Param #   \n",
            "=================================================================\n",
            " conv2d_13 (Conv2D)          (None, 28, 28, 1)         26        \n",
            "                                                                 \n",
            " max_pooling2d_11 (MaxPoolin  (None, 14, 14, 1)        0         \n",
            " g2D)                                                            \n",
            "                                                                 \n",
            " conv2d_14 (Conv2D)          (None, 14, 14, 1)         26        \n",
            "                                                                 \n",
            " max_pooling2d_12 (MaxPoolin  (None, 7, 7, 1)          0         \n",
            " g2D)                                                            \n",
            "                                                                 \n",
            " flatten_2 (Flatten)         (None, 49)                0         \n",
            "                                                                 \n",
            " dense_3 (Dense)             (None, 100)               5000      \n",
            "                                                                 \n",
            " dense_4 (Dense)             (None, 10)                1010      \n",
            "                                                                 \n",
            "=================================================================\n",
            "Total params: 6,062\n",
            "Trainable params: 6,062\n",
            "Non-trainable params: 0\n",
            "_________________________________________________________________\n"
          ]
        }
      ]
    },
    {
      "cell_type": "code",
      "source": [
        "model.compile(loss=\"categorical_crossentropy\",\n",
        "              optimizer=\"adam\",\n",
        "              metrics=[\"accuracy\"])"
      ],
      "metadata": {
        "id": "Z_9YyO7kntGO"
      },
      "execution_count": 20,
      "outputs": []
    },
    {
      "cell_type": "code",
      "source": [
        "train_data = X_train.reshape(60000, 28, 28, 1)\n",
        "test_data = X_test.reshape(10000, 28, 28, 1)\n",
        "\n",
        "# 원핫인코딩\n",
        "train_label = tf.keras.utils.to_categorical(y_train, 10)"
      ],
      "metadata": {
        "id": "jmTCvr7Tn_o8"
      },
      "execution_count": 24,
      "outputs": []
    },
    {
      "cell_type": "code",
      "source": [
        "model.fit(train_data, train_label, epochs=10, batch_size=200)"
      ],
      "metadata": {
        "colab": {
          "base_uri": "https://localhost:8080/"
        },
        "id": "Y8Nj1Veso9Nq",
        "outputId": "2489767e-5941-4ff9-8210-356a6c229b31"
      },
      "execution_count": 25,
      "outputs": [
        {
          "output_type": "stream",
          "name": "stdout",
          "text": [
            "Epoch 1/10\n",
            "300/300 [==============================] - 26s 83ms/step - loss: 7.1892 - accuracy: 0.6097\n",
            "Epoch 2/10\n",
            "300/300 [==============================] - 25s 85ms/step - loss: 1.0834 - accuracy: 0.7584\n",
            "Epoch 3/10\n",
            "300/300 [==============================] - 25s 84ms/step - loss: 0.7282 - accuracy: 0.8005\n",
            "Epoch 4/10\n",
            "300/300 [==============================] - 27s 88ms/step - loss: 0.5679 - accuracy: 0.8346\n",
            "Epoch 5/10\n",
            "300/300 [==============================] - 25s 85ms/step - loss: 0.4734 - accuracy: 0.8583\n",
            "Epoch 6/10\n",
            "300/300 [==============================] - 25s 85ms/step - loss: 0.4070 - accuracy: 0.8749\n",
            "Epoch 7/10\n",
            "300/300 [==============================] - 25s 85ms/step - loss: 0.3526 - accuracy: 0.8923\n",
            "Epoch 8/10\n",
            "300/300 [==============================] - 25s 85ms/step - loss: 0.3158 - accuracy: 0.9020\n",
            "Epoch 9/10\n",
            "300/300 [==============================] - 25s 85ms/step - loss: 0.2836 - accuracy: 0.9118\n",
            "Epoch 10/10\n",
            "300/300 [==============================] - 25s 84ms/step - loss: 0.2594 - accuracy: 0.9181\n"
          ]
        },
        {
          "output_type": "execute_result",
          "data": {
            "text/plain": [
              "<keras.callbacks.History at 0x7ffb13a9f8d0>"
            ]
          },
          "metadata": {},
          "execution_count": 25
        }
      ]
    },
    {
      "cell_type": "markdown",
      "source": [
        "## 값 바꿔보기"
      ],
      "metadata": {
        "id": "JAkkDZ2CpTD_"
      }
    },
    {
      "cell_type": "code",
      "source": [
        "model = Sequential()\n",
        "model.add(Conv2D(filters=32, \n",
        "                 kernel_size=(5,5), \n",
        "                 strides=1,\n",
        "                 activation='relu',\n",
        "                 padding=\"same\",  # 원본 사이즈와 동일하게 나오도록 함. 패딩 추가해서.\n",
        "                 input_shape=(28, 28, 1)  # 흑백이라 1 channel\n",
        "                 ))\n",
        "model.add(MaxPool2D(pool_size=(2,2), strides=(2,2)))\n",
        "model.add(Conv2D(64, (5,5), activation=\"relu\", padding=\"same\"))   # stride 옵션 안주면 기본 (1,1)\n",
        "model.add(MaxPool2D(pool_size=(2,2), strides=(2,2)))\n",
        "# 위까지 특징 뽑을 만큼 뽑았으니 이제 flatten 해서 신경망에 넣어주기! 히든 노드 만들어주고 등등\n",
        "model.add(Flatten())  # 1차원으로 ㄱㄱ\n",
        "model.add(Dense(1000, activation='relu'))\n",
        "model.add(Dense(10, activation='softmax'))\n",
        "model.summary()"
      ],
      "metadata": {
        "colab": {
          "base_uri": "https://localhost:8080/"
        },
        "id": "mGNLZQx8pJ36",
        "outputId": "9dfc6553-e7c4-4e28-8784-181ef65f7e0e"
      },
      "execution_count": 26,
      "outputs": [
        {
          "output_type": "stream",
          "name": "stdout",
          "text": [
            "Model: \"sequential_10\"\n",
            "_________________________________________________________________\n",
            " Layer (type)                Output Shape              Param #   \n",
            "=================================================================\n",
            " conv2d_15 (Conv2D)          (None, 28, 28, 32)        832       \n",
            "                                                                 \n",
            " max_pooling2d_13 (MaxPoolin  (None, 14, 14, 32)       0         \n",
            " g2D)                                                            \n",
            "                                                                 \n",
            " conv2d_16 (Conv2D)          (None, 14, 14, 64)        51264     \n",
            "                                                                 \n",
            " max_pooling2d_14 (MaxPoolin  (None, 7, 7, 64)         0         \n",
            " g2D)                                                            \n",
            "                                                                 \n",
            " flatten_3 (Flatten)         (None, 3136)              0         \n",
            "                                                                 \n",
            " dense_5 (Dense)             (None, 1000)              3137000   \n",
            "                                                                 \n",
            " dense_6 (Dense)             (None, 10)                10010     \n",
            "                                                                 \n",
            "=================================================================\n",
            "Total params: 3,199,106\n",
            "Trainable params: 3,199,106\n",
            "Non-trainable params: 0\n",
            "_________________________________________________________________\n"
          ]
        }
      ]
    },
    {
      "cell_type": "code",
      "source": [
        "model.compile(loss=\"categorical_crossentropy\",\n",
        "              optimizer=\"adam\",\n",
        "              metrics=[\"accuracy\"])\n",
        "model.fit(train_data, train_label, epochs=10, batch_size=200)"
      ],
      "metadata": {
        "colab": {
          "base_uri": "https://localhost:8080/"
        },
        "id": "ShQaSYWMpg5C",
        "outputId": "9bfcb540-be10-4159-ff09-79deb9369c8f"
      },
      "execution_count": 27,
      "outputs": [
        {
          "output_type": "stream",
          "name": "stdout",
          "text": [
            "Epoch 1/10\n",
            "300/300 [==============================] - 161s 535ms/step - loss: 1.6454 - accuracy: 0.8860\n",
            "Epoch 2/10\n",
            "300/300 [==============================] - 160s 535ms/step - loss: 0.0666 - accuracy: 0.9794\n",
            "Epoch 3/10\n",
            "300/300 [==============================] - 160s 534ms/step - loss: 0.0422 - accuracy: 0.9866\n",
            "Epoch 4/10\n",
            "300/300 [==============================] - 160s 534ms/step - loss: 0.0281 - accuracy: 0.9909\n",
            "Epoch 5/10\n",
            "300/300 [==============================] - 160s 534ms/step - loss: 0.0215 - accuracy: 0.9929\n",
            "Epoch 6/10\n",
            "300/300 [==============================] - 160s 533ms/step - loss: 0.0180 - accuracy: 0.9941\n",
            "Epoch 7/10\n",
            "300/300 [==============================] - 160s 533ms/step - loss: 0.0123 - accuracy: 0.9958\n",
            "Epoch 8/10\n",
            "300/300 [==============================] - 160s 532ms/step - loss: 0.0155 - accuracy: 0.9946\n",
            "Epoch 9/10\n",
            "300/300 [==============================] - 160s 532ms/step - loss: 0.0162 - accuracy: 0.9947\n",
            "Epoch 10/10\n",
            "300/300 [==============================] - 160s 532ms/step - loss: 0.0128 - accuracy: 0.9958\n"
          ]
        },
        {
          "output_type": "execute_result",
          "data": {
            "text/plain": [
              "<keras.callbacks.History at 0x7ffb138dc850>"
            ]
          },
          "metadata": {},
          "execution_count": 27
        }
      ]
    },
    {
      "cell_type": "code",
      "source": [
        ""
      ],
      "metadata": {
        "id": "whyxjRCSqPxh"
      },
      "execution_count": null,
      "outputs": []
    }
  ]
}