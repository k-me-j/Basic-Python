{
 "cells": [
  {
   "cell_type": "markdown",
   "id": "4be98302-ae02-4d94-b995-5642c02dc7e7",
   "metadata": {},
   "source": [
    "# << 파이썬 내장함수 >>\n",
    "### 익숙하지 않으면 함수로 한 번 내려서 표현해보자\n",
    "---"
   ]
  },
  {
   "cell_type": "markdown",
   "id": "b2e5b12d-63aa-4fa7-a34b-66a43617b827",
   "metadata": {},
   "source": [
    "# filter, map, zip\n",
    "-> filter, map 객체 자체로 반환되기 때문에 list로 형변환해서 사용해야 함"
   ]
  },
  {
   "cell_type": "markdown",
   "id": "0e25409d-bb43-4f32-b78f-8c988e8871c1",
   "metadata": {
    "tags": []
   },
   "source": [
    "## 리스트를 입력받아 양수만 리턴하는 함수 \n",
    "- 중첩 리스트 제외 ex) [1,2,3,[4,5],6,...] -> X"
   ]
  },
  {
   "cell_type": "code",
   "execution_count": 8,
   "id": "f392829b-f3d5-42b7-b535-7f59596942dd",
   "metadata": {},
   "outputs": [],
   "source": [
    "li = [0, 1, -1, 2, -2, 3, -3]"
   ]
  },
  {
   "cell_type": "code",
   "execution_count": 9,
   "id": "e8c451d4-77e4-43ac-bb7a-6b064ba4fd16",
   "metadata": {},
   "outputs": [],
   "source": [
    "def rtn_positive(in_list):\n",
    "    rtn_list = []\n",
    "    \n",
    "    for val in in_list:\n",
    "        if val > 0:\n",
    "            rtn_list.append(val)\n",
    "    \n",
    "    return rtn_list"
   ]
  },
  {
   "cell_type": "code",
   "execution_count": 10,
   "id": "01b20052-b5e3-49e7-b875-c5d51d7a2100",
   "metadata": {},
   "outputs": [
    {
     "data": {
      "text/plain": [
       "[1, 2, 3]"
      ]
     },
     "execution_count": 10,
     "metadata": {},
     "output_type": "execute_result"
    }
   ],
   "source": [
    "rtn_positive(li)"
   ]
  },
  {
   "cell_type": "markdown",
   "id": "cec00739-9f27-434c-87a7-adde64663f7b",
   "metadata": {},
   "source": [
    "## 1. filter로 구현해보기\n",
    "```filter(함수, iterable한 자료형)```\n",
    " : 해당 함수에서 참인 것만 반환"
   ]
  },
  {
   "cell_type": "code",
   "execution_count": 11,
   "id": "a521552c-58a5-4508-bc7b-f15188051c37",
   "metadata": {},
   "outputs": [],
   "source": [
    "def func_positive(x):\n",
    "    '''\n",
    "    x : iterable한 값\n",
    "    '''\n",
    "    return x > 0"
   ]
  },
  {
   "cell_type": "code",
   "execution_count": 12,
   "id": "da8df436-3169-4fa3-b787-ae542e70db3f",
   "metadata": {},
   "outputs": [
    {
     "data": {
      "text/plain": [
       "[1, 2, 3]"
      ]
     },
     "execution_count": 12,
     "metadata": {},
     "output_type": "execute_result"
    }
   ],
   "source": [
    "list(filter(func_positive, li))"
   ]
  },
  {
   "cell_type": "markdown",
   "id": "d07721fc-9c3c-4774-bacb-90aefafb9217",
   "metadata": {},
   "source": [
    "## 2. lambda + filter"
   ]
  },
  {
   "cell_type": "code",
   "execution_count": 13,
   "id": "3808ddc9-68b6-470a-9794-33b0bf792e10",
   "metadata": {},
   "outputs": [
    {
     "data": {
      "text/plain": [
       "[1, 2, 3]"
      ]
     },
     "execution_count": 13,
     "metadata": {},
     "output_type": "execute_result"
    }
   ],
   "source": [
    "list(filter(lambda x : x>0, li))"
   ]
  },
  {
   "cell_type": "markdown",
   "id": "a7f270b3-cfb3-4fc4-ac9d-8f452885ae7f",
   "metadata": {},
   "source": [
    "### 곱하기는 안됨! 안쪽 함수를 실행했을 때 값이 참인 것들의 값을 반환하기 때문"
   ]
  },
  {
   "cell_type": "code",
   "execution_count": 16,
   "id": "68cc1c7b-e34c-457e-8064-85de63ce8dec",
   "metadata": {},
   "outputs": [
    {
     "data": {
      "text/plain": [
       "[1, -1, 2, -2, 3, -3]"
      ]
     },
     "execution_count": 16,
     "metadata": {},
     "output_type": "execute_result"
    }
   ],
   "source": [
    "list(filter(lambda x : x*2, li))"
   ]
  },
  {
   "cell_type": "markdown",
   "id": "24056e68-00e1-4313-9e90-674c1e95d208",
   "metadata": {},
   "source": [
    "## 3. 리스트 내포 comprehension\n",
    ": 리스트 안에 제어문을 넣어서 원하는 결과값을 리스트 형태로 얻고자 할 때"
   ]
  },
  {
   "cell_type": "code",
   "execution_count": 19,
   "id": "bdb97172-78d1-4ee3-8ddf-f373c359bd6d",
   "metadata": {},
   "outputs": [
    {
     "data": {
      "text/plain": [
       "[1, 2, 3]"
      ]
     },
     "execution_count": 19,
     "metadata": {},
     "output_type": "execute_result"
    }
   ],
   "source": [
    "[x for x in li if x > 0]"
   ]
  },
  {
   "cell_type": "markdown",
   "id": "da238c1d-9a3e-4751-b6fc-304ccb759499",
   "metadata": {},
   "source": [
    "## 4. map으로 구현해보기\n",
    "입력리스트를 *2 해서 반환하는 함수 적용"
   ]
  },
  {
   "cell_type": "code",
   "execution_count": 23,
   "id": "51baaac2-2f98-4d74-98e8-78b484888caf",
   "metadata": {},
   "outputs": [],
   "source": [
    "def two_times(x):\n",
    "    return x * 2"
   ]
  },
  {
   "cell_type": "code",
   "execution_count": 24,
   "id": "738f364b-e324-42e6-b751-6068c7693b9f",
   "metadata": {},
   "outputs": [],
   "source": [
    "in_list = [1, 2, 3, 4]"
   ]
  },
  {
   "cell_type": "code",
   "execution_count": 25,
   "id": "7ca7bbc8-167f-434f-ad07-df3b3373b59f",
   "metadata": {},
   "outputs": [
    {
     "data": {
      "text/plain": [
       "[2, 4, 6, 8]"
      ]
     },
     "execution_count": 25,
     "metadata": {},
     "output_type": "execute_result"
    }
   ],
   "source": [
    "list(map(two_times, in_list))"
   ]
  },
  {
   "cell_type": "code",
   "execution_count": 26,
   "id": "f3dcf89f-c7a7-414d-a150-18e0f3671637",
   "metadata": {},
   "outputs": [
    {
     "data": {
      "text/plain": [
       "[2, 4, 6, 8]"
      ]
     },
     "execution_count": 26,
     "metadata": {},
     "output_type": "execute_result"
    }
   ],
   "source": [
    "[x*2 for x in in_list]"
   ]
  },
  {
   "cell_type": "markdown",
   "id": "629e40d3-aead-4896-b2b0-85d4139b69d6",
   "metadata": {},
   "source": [
    "## 5. zip() : 동일한 인덱스끼리 튜플로 반환\n",
    "- 동일한 개수의 iterable한 순서가 있는 객체에서 동일한 인덱스끼리 묶는 것\n",
    "- 단, 개수가 같아야 함"
   ]
  },
  {
   "cell_type": "code",
   "execution_count": 4,
   "id": "a5f30654-fee4-4c08-82f4-5b529731b646",
   "metadata": {},
   "outputs": [],
   "source": [
    "l1 = [1, 2, 3]\n",
    "l2 = [3, 4, 5]"
   ]
  },
  {
   "cell_type": "code",
   "execution_count": 5,
   "id": "a507a87d-0ba7-4f1b-b1b4-7c24c76c2c97",
   "metadata": {},
   "outputs": [
    {
     "data": {
      "text/plain": [
       "[(1, 3), (2, 4), (3, 5)]"
      ]
     },
     "execution_count": 5,
     "metadata": {},
     "output_type": "execute_result"
    }
   ],
   "source": [
    "l3 = list(zip(l1, l2))\n",
    "l3"
   ]
  },
  {
   "cell_type": "code",
   "execution_count": 7,
   "id": "71a9020d-aab5-42b0-88fc-654238c447d5",
   "metadata": {},
   "outputs": [
    {
     "ename": "ValueError",
     "evalue": "too many values to unpack (expected 2)",
     "output_type": "error",
     "traceback": [
      "\u001b[1;31m---------------------------------------------------------------------------\u001b[0m",
      "\u001b[1;31mValueError\u001b[0m                                Traceback (most recent call last)",
      "\u001b[1;32m~\\AppData\\Local\\Temp/ipykernel_73884/3846778225.py\u001b[0m in \u001b[0;36m<module>\u001b[1;34m\u001b[0m\n\u001b[1;32m----> 1\u001b[1;33m \u001b[0mx\u001b[0m\u001b[1;33m,\u001b[0m \u001b[0my\u001b[0m \u001b[1;33m=\u001b[0m \u001b[0mlist\u001b[0m\u001b[1;33m(\u001b[0m\u001b[0mzip\u001b[0m\u001b[1;33m(\u001b[0m\u001b[0ml1\u001b[0m\u001b[1;33m,\u001b[0m \u001b[0ml2\u001b[0m\u001b[1;33m)\u001b[0m\u001b[1;33m)\u001b[0m\u001b[1;33m\u001b[0m\u001b[1;33m\u001b[0m\u001b[0m\n\u001b[0m",
      "\u001b[1;31mValueError\u001b[0m: too many values to unpack (expected 2)"
     ]
    }
   ],
   "source": [
    "x, y = list(zip(l1, l2))"
   ]
  },
  {
   "cell_type": "code",
   "execution_count": 10,
   "id": "41b3994f-7805-4b77-88ac-1c8059a5062b",
   "metadata": {},
   "outputs": [
    {
     "name": "stdout",
     "output_type": "stream",
     "text": [
      "1 3\n",
      "2 4\n",
      "3 5\n"
     ]
    }
   ],
   "source": [
    "for i, j in zip(l1, l2):\n",
    "    print(i, j)"
   ]
  },
  {
   "cell_type": "code",
   "execution_count": 12,
   "id": "0cc59095-4ad2-4312-89c1-453b86559652",
   "metadata": {},
   "outputs": [
    {
     "data": {
      "text/plain": [
       "[('o', 't'), ('n', 'w'), ('e', 'o')]"
      ]
     },
     "execution_count": 12,
     "metadata": {},
     "output_type": "execute_result"
    }
   ],
   "source": [
    "list(zip(\"one\", \"two\"))"
   ]
  },
  {
   "cell_type": "code",
   "execution_count": null,
   "id": "747f8a66-3755-4c7c-ae45-3af49aa62b21",
   "metadata": {},
   "outputs": [],
   "source": []
  },
  {
   "cell_type": "markdown",
   "id": "a8c21294-788b-4317-807d-3a8fe8cbfbeb",
   "metadata": {},
   "source": [
    "# isinstance(object, class)\n",
    ": object가 class의 인스턴스인지 확인"
   ]
  },
  {
   "cell_type": "code",
   "execution_count": 1,
   "id": "4d273cc5-9076-47d4-ad2f-3a440131ad57",
   "metadata": {},
   "outputs": [],
   "source": [
    "class Person: \n",
    "    pass\n",
    "\n",
    "class Student(Person):\n",
    "    pass\n",
    "\n",
    "class Male:\n",
    "    pass"
   ]
  },
  {
   "cell_type": "code",
   "execution_count": 2,
   "id": "ae86ffcf-d496-4c2f-99a1-3e009701be4d",
   "metadata": {},
   "outputs": [],
   "source": [
    "a = Person()\n",
    "b = Student()\n",
    "c = Male()"
   ]
  },
  {
   "cell_type": "code",
   "execution_count": 3,
   "id": "ac8e6870-5cda-49f3-bdd0-9d591ea58b43",
   "metadata": {},
   "outputs": [
    {
     "name": "stdout",
     "output_type": "stream",
     "text": [
      "True\n",
      "True\n",
      "False\n",
      "True\n"
     ]
    }
   ],
   "source": [
    "print(isinstance(a, Person))\n",
    "print(isinstance(b, Person))  # 상속받은 거라서 부모의 인스턴스 이기도 함\n",
    "print(isinstance(c, Person))\n",
    "print(isinstance(c, Male))"
   ]
  },
  {
   "cell_type": "code",
   "execution_count": null,
   "id": "b4087b34-fd9d-4d09-95ae-10496d037717",
   "metadata": {},
   "outputs": [],
   "source": []
  }
 ],
 "metadata": {
  "kernelspec": {
   "display_name": "Python 3 (ipykernel)",
   "language": "python",
   "name": "python3"
  },
  "language_info": {
   "codemirror_mode": {
    "name": "ipython",
    "version": 3
   },
   "file_extension": ".py",
   "mimetype": "text/x-python",
   "name": "python",
   "nbconvert_exporter": "python",
   "pygments_lexer": "ipython3",
   "version": "3.9.7"
  }
 },
 "nbformat": 4,
 "nbformat_minor": 5
}
