{
 "cells": [
  {
   "cell_type": "markdown",
   "id": "4be98302-ae02-4d94-b995-5642c02dc7e7",
   "metadata": {},
   "source": [
    "# << 파이썬 내장함수 >>\n",
    "### 익숙하지 않으면 함수로 한 번 내려서 표현해보자\n",
    "---"
   ]
  },
  {
   "cell_type": "markdown",
   "id": "b2e5b12d-63aa-4fa7-a34b-66a43617b827",
   "metadata": {},
   "source": [
    "# filter, map, zip\n",
    "-> filter, map 객체 자체로 반환되기 때문에 list로 형변환해서 사용해야 함"
   ]
  },
  {
   "cell_type": "markdown",
   "id": "0e25409d-bb43-4f32-b78f-8c988e8871c1",
   "metadata": {
    "tags": []
   },
   "source": [
    "## 리스트를 입력받아 양수만 리턴하는 함수 \n",
    "- 중첩 리스트 제외 ex) [1,2,3,[4,5],6,...] -> X"
   ]
  },
  {
   "cell_type": "code",
   "execution_count": 8,
   "id": "f392829b-f3d5-42b7-b535-7f59596942dd",
   "metadata": {},
   "outputs": [],
   "source": [
    "li = [0, 1, -1, 2, -2, 3, -3]"
   ]
  },
  {
   "cell_type": "code",
   "execution_count": 9,
   "id": "e8c451d4-77e4-43ac-bb7a-6b064ba4fd16",
   "metadata": {},
   "outputs": [],
   "source": [
    "def rtn_positive(in_list):\n",
    "    rtn_list = []\n",
    "    \n",
    "    for val in in_list:\n",
    "        if val > 0:\n",
    "            rtn_list.append(val)\n",
    "    \n",
    "    return rtn_list"
   ]
  },
  {
   "cell_type": "code",
   "execution_count": 10,
   "id": "01b20052-b5e3-49e7-b875-c5d51d7a2100",
   "metadata": {},
   "outputs": [
    {
     "data": {
      "text/plain": [
       "[1, 2, 3]"
      ]
     },
     "execution_count": 10,
     "metadata": {},
     "output_type": "execute_result"
    }
   ],
   "source": [
    "rtn_positive(li)"
   ]
  },
  {
   "cell_type": "markdown",
   "id": "cec00739-9f27-434c-87a7-adde64663f7b",
   "metadata": {},
   "source": [
    "## 1. filter로 구현해보기\n",
    "```filter(함수, iterable한 자료형)```\n",
    " : 해당 함수에서 참인 것만 반환"
   ]
  },
  {
   "cell_type": "code",
   "execution_count": 11,
   "id": "a521552c-58a5-4508-bc7b-f15188051c37",
   "metadata": {},
   "outputs": [],
   "source": [
    "def func_positive(x):\n",
    "    '''\n",
    "    x : iterable한 값\n",
    "    '''\n",
    "    return x > 0"
   ]
  },
  {
   "cell_type": "code",
   "execution_count": 12,
   "id": "da8df436-3169-4fa3-b787-ae542e70db3f",
   "metadata": {},
   "outputs": [
    {
     "data": {
      "text/plain": [
       "[1, 2, 3]"
      ]
     },
     "execution_count": 12,
     "metadata": {},
     "output_type": "execute_result"
    }
   ],
   "source": [
    "list(filter(func_positive, li))"
   ]
  },
  {
   "cell_type": "markdown",
   "id": "d07721fc-9c3c-4774-bacb-90aefafb9217",
   "metadata": {},
   "source": [
    "## 2. lambda + filter"
   ]
  },
  {
   "cell_type": "code",
   "execution_count": 13,
   "id": "3808ddc9-68b6-470a-9794-33b0bf792e10",
   "metadata": {},
   "outputs": [
    {
     "data": {
      "text/plain": [
       "[1, 2, 3]"
      ]
     },
     "execution_count": 13,
     "metadata": {},
     "output_type": "execute_result"
    }
   ],
   "source": [
    "list(filter(lambda x : x>0, li))"
   ]
  },
  {
   "cell_type": "markdown",
   "id": "a7f270b3-cfb3-4fc4-ac9d-8f452885ae7f",
   "metadata": {},
   "source": [
    "# 곱하기는 안됨! 아래 코드!!!!!!!!!!!!!!!!!!!!!!!!!!!!!!!!!!!!!!!!!!!!!!"
   ]
  },
  {
   "cell_type": "code",
   "execution_count": 16,
   "id": "68cc1c7b-e34c-457e-8064-85de63ce8dec",
   "metadata": {},
   "outputs": [
    {
     "data": {
      "text/plain": [
       "[1, -1, 2, -2, 3, -3]"
      ]
     },
     "execution_count": 16,
     "metadata": {},
     "output_type": "execute_result"
    }
   ],
   "source": [
    "list(filter(lambda x : x*2, li))"
   ]
  },
  {
   "cell_type": "markdown",
   "id": "24056e68-00e1-4313-9e90-674c1e95d208",
   "metadata": {},
   "source": [
    "## 3. 리스트 내포 comprehension\n",
    ": 리스트 안에 제어문을 넣어서 원하는 결과값을 리스트 형태로 얻고자 할 때"
   ]
  },
  {
   "cell_type": "code",
   "execution_count": 19,
   "id": "bdb97172-78d1-4ee3-8ddf-f373c359bd6d",
   "metadata": {},
   "outputs": [
    {
     "data": {
      "text/plain": [
       "[1, 2, 3]"
      ]
     },
     "execution_count": 19,
     "metadata": {},
     "output_type": "execute_result"
    }
   ],
   "source": [
    "[x for x in li if x > 0]"
   ]
  },
  {
   "cell_type": "markdown",
   "id": "da238c1d-9a3e-4751-b6fc-304ccb759499",
   "metadata": {},
   "source": [
    "## 4. map으로 구현해보기\n",
    "입력리스트를 *2 해서 반환하는 함수 적용"
   ]
  },
  {
   "cell_type": "code",
   "execution_count": 23,
   "id": "51baaac2-2f98-4d74-98e8-78b484888caf",
   "metadata": {},
   "outputs": [],
   "source": [
    "def two_times(x):\n",
    "    return x * 2"
   ]
  },
  {
   "cell_type": "code",
   "execution_count": 24,
   "id": "738f364b-e324-42e6-b751-6068c7693b9f",
   "metadata": {},
   "outputs": [],
   "source": [
    "in_list = [1, 2, 3, 4]"
   ]
  },
  {
   "cell_type": "code",
   "execution_count": 25,
   "id": "7ca7bbc8-167f-434f-ad07-df3b3373b59f",
   "metadata": {},
   "outputs": [
    {
     "data": {
      "text/plain": [
       "[2, 4, 6, 8]"
      ]
     },
     "execution_count": 25,
     "metadata": {},
     "output_type": "execute_result"
    }
   ],
   "source": [
    "list(map(two_times, in_list))"
   ]
  },
  {
   "cell_type": "code",
   "execution_count": 26,
   "id": "f3dcf89f-c7a7-414d-a150-18e0f3671637",
   "metadata": {},
   "outputs": [
    {
     "data": {
      "text/plain": [
       "[2, 4, 6, 8]"
      ]
     },
     "execution_count": 26,
     "metadata": {},
     "output_type": "execute_result"
    }
   ],
   "source": [
    "[x*2 for x in in_list]"
   ]
  },
  {
   "cell_type": "code",
   "execution_count": null,
   "id": "2c721695-b918-44f7-8899-81f90c4f22f7",
   "metadata": {},
   "outputs": [],
   "source": []
  }
 ],
 "metadata": {
  "kernelspec": {
   "display_name": "Python 3 (ipykernel)",
   "language": "python",
   "name": "python3"
  },
  "language_info": {
   "codemirror_mode": {
    "name": "ipython",
    "version": 3
   },
   "file_extension": ".py",
   "mimetype": "text/x-python",
   "name": "python",
   "nbconvert_exporter": "python",
   "pygments_lexer": "ipython3",
   "version": "3.9.7"
  }
 },
 "nbformat": 4,
 "nbformat_minor": 5
}
