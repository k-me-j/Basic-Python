{
 "cells": [
  {
   "cell_type": "markdown",
   "id": "2a08b9a7-5276-4710-b59f-1e67ae084790",
   "metadata": {},
   "source": [
    "# << 1. Python 기초 : 함수 >>\n",
    "---"
   ]
  },
  {
   "cell_type": "markdown",
   "id": "b78130bf-9657-4fbe-9e24-270bc70c432b",
   "metadata": {},
   "source": [
    "# ▶ 파라미터 입력 값이 몇 개가 될 지 모를 때\n",
    "```python\n",
    "def 함수명(*args):\n",
    "    수행할 문장\n",
    "```"
   ]
  },
  {
   "cell_type": "code",
   "execution_count": 1,
   "id": "bb77a768-1da2-4a4a-b965-471d882935d7",
   "metadata": {},
   "outputs": [
    {
     "name": "stdout",
     "output_type": "stream",
     "text": [
      "10\n"
     ]
    }
   ],
   "source": [
    "def add_many(*args):\n",
    "    result = 0\n",
    "    for i in args:\n",
    "        result += i\n",
    "    return result\n",
    "\n",
    "val_list = [1, 2, 3, 4]\n",
    "print(add_many(*val_list))  # 리스트 값을 하나씩 넘겨주기"
   ]
  },
  {
   "cell_type": "code",
   "execution_count": 2,
   "id": "3c06e0b5-572f-48e2-b571-07b2e2e71c24",
   "metadata": {
    "tags": []
   },
   "outputs": [
    {
     "name": "stdout",
     "output_type": "stream",
     "text": [
      "15\n",
      "120\n"
     ]
    }
   ],
   "source": [
    "def add_mul(choice, *args):\n",
    "    if choice == 'add':\n",
    "        result = 0\n",
    "        for i in args:\n",
    "            result += i\n",
    "    elif choice == 'mul':\n",
    "        result = 1\n",
    "        for i in args:\n",
    "            result *= i\n",
    "    return result\n",
    "\n",
    "print(add_mul('add', 1,2,3,4,5))\n",
    "print(add_mul('mul', 1,2,3,4,5))"
   ]
  },
  {
   "cell_type": "markdown",
   "id": "98b1f7a5-a367-4f6d-8d97-1ec0af52903b",
   "metadata": {},
   "source": [
    "# ▶ 키워드 파라미터\n",
    ": 함수의 인자로 ```변수=값``` 형태로 받고 싶은 경우\n",
    "```python\n",
    "def 함수명(**kwargs):\n",
    "    수행할 문장\n",
    "```\n",
    "** 2개가 붙으면서 들어오는 파라미터들을 dictionary 타입으로 인식하게 됨"
   ]
  },
  {
   "cell_type": "code",
   "execution_count": 3,
   "id": "97a68cf7-be6e-4e52-948a-6931c0118df7",
   "metadata": {},
   "outputs": [
    {
     "name": "stdout",
     "output_type": "stream",
     "text": [
      "<class 'dict'>\n",
      "{'a': 1, 'b': 3}\n"
     ]
    }
   ],
   "source": [
    "def func_kwargs(**kwargs):\n",
    "    print(type(kwargs))\n",
    "    print(kwargs)\n",
    "\n",
    "func_kwargs(a=1, b=3)"
   ]
  },
  {
   "cell_type": "code",
   "execution_count": 4,
   "id": "d1fe8e31-f24b-4d1d-99c0-95d5feb2d07d",
   "metadata": {},
   "outputs": [
    {
     "name": "stdout",
     "output_type": "stream",
     "text": [
      "<class 'tuple'> , ('x', 100)\n",
      "<class 'tuple'> , ('y', 200)\n",
      "<class 'tuple'> , ('z', 'abc')\n"
     ]
    }
   ],
   "source": [
    "def my_func(**kwargs):\n",
    "    for item in kwargs.items():  # .items() : dict의 key, value 쌍을 튜플로 반환\n",
    "        print(f'{type(item)} , {item}')\n",
    "        \n",
    "my_func(x=100, y=200, z='abc')"
   ]
  },
  {
   "cell_type": "markdown",
   "id": "ab76beb6-aff6-43b5-a7e2-1731bd4458cd",
   "metadata": {},
   "source": [
    "## ▷ dictionary 관련 함수 복습"
   ]
  },
  {
   "cell_type": "code",
   "execution_count": 5,
   "id": "99839365-59a1-4421-afdf-35b36a571a6b",
   "metadata": {},
   "outputs": [
    {
     "name": "stdout",
     "output_type": "stream",
     "text": [
      "<class 'dict_items'>\n",
      "dict_items([('a', 1), ('b', 2)])\n",
      "\n",
      "<class 'dict_keys'>\n",
      "dict_keys(['a', 'b'])\n",
      "\n",
      "<class 'dict_values'>\n",
      "dict_values([1, 2])\n"
     ]
    }
   ],
   "source": [
    "dict_val = {'a':1, 'b':2}\n",
    "\n",
    "print(type(dict_val.items()))\n",
    "print(dict_val.items())\n",
    "print()\n",
    "print(type(dict_val.keys()))\n",
    "print(dict_val.keys())\n",
    "print()\n",
    "print(type(dict_val.values()))\n",
    "print(dict_val.values())"
   ]
  },
  {
   "cell_type": "markdown",
   "id": "5d30776c-25ac-427e-90f3-18fcb6292b01",
   "metadata": {},
   "source": [
    "# ▶ 함수 return 값이 여러 개인 경우\n",
    ": 튜플로 반환"
   ]
  },
  {
   "cell_type": "code",
   "execution_count": 6,
   "id": "acf68cd2-b244-462d-b270-1ae323ae3be2",
   "metadata": {},
   "outputs": [
    {
     "name": "stdout",
     "output_type": "stream",
     "text": [
      "<class 'tuple'> (6, 8)\n",
      "\n",
      "result = 6, 8\n"
     ]
    }
   ],
   "source": [
    "def add_mul(a, b):\n",
    "    return (a + b), (a * b)  # 튜플로 반환\n",
    "\n",
    "print(type(add_mul(2,4)), add_mul(2,4))\n",
    "print()\n",
    "\n",
    "add, mul = add_mul(2,4)\n",
    "print(f\"result = {add}, {mul}\")"
   ]
  },
  {
   "cell_type": "markdown",
   "id": "976eedb1-de4c-47f9-8cd1-196235766498",
   "metadata": {},
   "source": [
    "# ▶ 매개변수에 초기값을 미리 설정하기\n",
    "파라미터들 중 초기값을 설정하는 매개변수를 가장 뒤에 배치해야 함\n",
    "```python\n",
    "def myself(name, old, man=True)  # 가능\n",
    "def myself(name, man=True, old)  # 불가능\n",
    "```"
   ]
  },
  {
   "cell_type": "code",
   "execution_count": 7,
   "id": "e9a7124c-c840-4912-9f3d-02b7cd43ef5e",
   "metadata": {},
   "outputs": [
    {
     "name": "stdout",
     "output_type": "stream",
     "text": [
      "My name is Lee,\n",
      "I am 30 years old,\n",
      "and my dept is AI_Engr.\n",
      "\n",
      "My name is Kim,\n",
      "I am 21 years old,\n",
      "and my dept is Math.\n",
      "\n"
     ]
    }
   ],
   "source": [
    "def say_myself(name, age, dept=\"AI_Engr\"):\n",
    "    print(f'My name is {name},')\n",
    "    print(f'I am {age} years old,')\n",
    "    print(f'and my dept is {dept}.')\n",
    "    print()\n",
    "\n",
    "say_myself('Lee', 30)\n",
    "say_myself('Kim', 21, \"Math\")"
   ]
  },
  {
   "cell_type": "markdown",
   "id": "50fa5f65-6dd3-4c0c-a964-9a5f31f85ea9",
   "metadata": {},
   "source": [
    "# ▶ 변수의 사용 범위 : 지역변수와 전역변수\n",
    "1. 지역 변수\n",
    ": 특정 함수 내에서 사용하는 변수.\n",
    "2. 전역 변수\n",
    "   - 어떤 함수에서든 해당 변수를 호출해서 사용 가능 (공유)\n",
    "   - (일반적으로) 함수 밖에서 정의를 함\n",
    "   - python의 경우 ```global``` 예약어를 이용해 명시적으로 표현"
   ]
  },
  {
   "cell_type": "code",
   "execution_count": 8,
   "id": "465b5054-a303-481c-83c8-59b08eb144a9",
   "metadata": {},
   "outputs": [
    {
     "name": "stdout",
     "output_type": "stream",
     "text": [
      "None\n",
      "1\n"
     ]
    }
   ],
   "source": [
    "a = 1\n",
    "\n",
    "def varTest(a):\n",
    "    a = a + 1\n",
    "\n",
    "print(varTest(a))  # return 하지 않았기 때문에 돌아오는 값이 없음. None!!\n",
    "print(a)"
   ]
  },
  {
   "cell_type": "code",
   "execution_count": 9,
   "id": "b30011b9-89cc-4edb-a13a-f357b681526c",
   "metadata": {},
   "outputs": [
    {
     "name": "stdout",
     "output_type": "stream",
     "text": [
      "2\n"
     ]
    }
   ],
   "source": [
    "def varTest2(b):\n",
    "    # global global_var = b + 1  # 이렇게 쓰면 SyntaxError: invalid syntax 에러 발생. 아래처럼 따로 분리해줄 것\n",
    "    global global_var \n",
    "    global_var = b + 1\n",
    "\n",
    "varTest2(1)\n",
    "print(global_var)"
   ]
  },
  {
   "cell_type": "markdown",
   "id": "c5e5cb6e-62cc-4684-a92b-772775d1c29a",
   "metadata": {},
   "source": [
    "## ▷ 전역 변수를 권장하지 않는 이유\n",
    "```python\n",
    "global_var = 0\n",
    "\n",
    "def varTest1(b):\n",
    "    global global_var \n",
    "    global_var = b + 1\n",
    "    \n",
    "def varTest2(b):\n",
    "    global global_var \n",
    "    global_var = b * 1\n",
    "```    \n",
    "위 코드의 경우 varTest1 함수 때문에 global_var 변수값이 변경된 상태로 varTest2에 적용될 수 있음  \n",
    "이런 경우 문제 일으킬 가능성이 농후함.  그래서 팀프로젝트할 때 사용하는 것을 권장하지 않음  \n",
    "하지만 꼭 써야하는 경우라면 g를 붙이거나 global 변수임을 반드시 명시해줘야 함"
   ]
  },
  {
   "cell_type": "markdown",
   "id": "0e9b8443-ed4f-4209-a6ca-dc4840b66f47",
   "metadata": {},
   "source": [
    "# ▶ lambda 표현식\n",
    "```python\n",
    "lambda 매개변수1, 매개변수2 : 매개변수를 사용한 표현식\n",
    "(lambda 매개변수들: 매개변수를 사용한 표현식)(인수들)\n",
    "```\n",
    "- C 언어의 매크로 함수와 같은 역할\n",
    "- lambda 표현식 안에서는 변수를 생성할 수 없으며 lambda 밖의 변수를 사용하는 것은 가능\n",
    "```python\n",
    "    lambda x: y = 10; x + y   # 불가능\n",
    "```"
   ]
  },
  {
   "cell_type": "code",
   "execution_count": 10,
   "id": "b12640d5-0df0-46ad-84d5-521cf994c18d",
   "metadata": {},
   "outputs": [
    {
     "data": {
      "text/plain": [
       "20"
      ]
     },
     "execution_count": 10,
     "metadata": {},
     "output_type": "execute_result"
    }
   ],
   "source": [
    "mul = lambda a, b : a * b\n",
    "mul(3+1, 4+1)   # C의 매크로 함수는 이 경우 에러난대. 3+1*4+1이 되면서 우선 순위가 변경됨"
   ]
  },
  {
   "cell_type": "code",
   "execution_count": 11,
   "id": "f886e9ef-a6a9-4dcc-9e12-484f2faea358",
   "metadata": {},
   "outputs": [
    {
     "data": {
      "text/plain": [
       "11"
      ]
     },
     "execution_count": 11,
     "metadata": {},
     "output_type": "execute_result"
    }
   ],
   "source": [
    "# (lambda 매개변수들: 매개변수를 사용한 표현식)(인수들)\n",
    "(lambda x: x + 10)(1)"
   ]
  },
  {
   "cell_type": "markdown",
   "id": "20d98f85-3f2b-4ba1-8327-573e3a697219",
   "metadata": {},
   "source": [
    "# << 2. Python 기초 : Class >>\n",
    "---\n",
    "객체 = Object = Instance : 클래스로 만든 피조물\n",
    "- 객체마다 고유한 성격을 가짐   \n",
    "\n",
    "```python\n",
    "class Cookie:\n",
    "    pass\n",
    "\n",
    "a = Cookie()\n",
    "b = Cookie()\n",
    "```   \n",
    "\n",
    "a, b 는 동일한 클래스로 만들어진 인스턴스이지만 서로 전혀 영향을 주지 않음"
   ]
  },
  {
   "cell_type": "markdown",
   "id": "67e84893-deac-4a8a-ad06-9bce4cd97d18",
   "metadata": {},
   "source": [
    "# ▶ 사칙연산 클래스 만들기"
   ]
  },
  {
   "cell_type": "code",
   "execution_count": 12,
   "id": "8978cfa7-7748-4bec-ad19-92329d5ca91a",
   "metadata": {},
   "outputs": [
    {
     "name": "stdout",
     "output_type": "stream",
     "text": [
      "입력된 값 : 4, 7\n",
      "+ :  11\n",
      "- :  -3\n",
      "* :  28\n",
      "/ :  0.5714285714285714\n"
     ]
    }
   ],
   "source": [
    "class FourCal:\n",
    "    def __init__(self, first, second):\n",
    "        self.first = first\n",
    "        self.second = second\n",
    "    \n",
    "    def add(self):\n",
    "        return self.first + self.second\n",
    "    \n",
    "    def mul(self):\n",
    "        return self.first * self.second\n",
    "    \n",
    "    def sub(self):\n",
    "        return self.first - self.second\n",
    "    \n",
    "    def div(self):\n",
    "        if self.second == 0:\n",
    "            return \"0으로 나눌 수 없음\"\n",
    "        return self.first / self.second\n",
    "\n",
    "f = FourCal(4, 7)\n",
    "print(f\"입력된 값 : {f.first}, {f.second}\")\n",
    "print(\"+ : \", f.add())\n",
    "print(\"- : \", f.sub())\n",
    "print(\"* : \", f.mul())\n",
    "print(\"/ : \", f.div())"
   ]
  },
  {
   "cell_type": "code",
   "execution_count": null,
   "id": "3a1d5a9d-9fcf-4160-833f-da44f7980f45",
   "metadata": {},
   "outputs": [],
   "source": []
  }
 ],
 "metadata": {
  "kernelspec": {
   "display_name": "Python 3 (ipykernel)",
   "language": "python",
   "name": "python3"
  },
  "language_info": {
   "codemirror_mode": {
    "name": "ipython",
    "version": 3
   },
   "file_extension": ".py",
   "mimetype": "text/x-python",
   "name": "python",
   "nbconvert_exporter": "python",
   "pygments_lexer": "ipython3",
   "version": "3.9.7"
  }
 },
 "nbformat": 4,
 "nbformat_minor": 5
}
