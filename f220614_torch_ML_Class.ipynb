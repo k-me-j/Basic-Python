{
 "cells": [
  {
   "cell_type": "markdown",
   "id": "92febaa0-9ded-45b3-9d1b-7d73280f52e8",
   "metadata": {},
   "source": [
    "# ML 모델들을 Class 화\n",
    "- Linear Regression\n",
    "- Logistic Regression\n",
    "- Softmax Regression  \n",
    "\n",
    "ex) \n",
    "```python\n",
    "class Logistic_Regression(nn.Module)\n",
    "```"
   ]
  },
  {
   "cell_type": "code",
   "execution_count": 1,
   "id": "77238817-9817-4db9-ad5b-db01aa6cf4df",
   "metadata": {},
   "outputs": [],
   "source": [
    "import torch.nn as nn"
   ]
  },
  {
   "cell_type": "markdown",
   "id": "f133036a-583f-4ba9-b53e-3f8740c2c75a",
   "metadata": {},
   "source": [
    "## 변수명(로컬,글로벌), 클래스명, 객체 생성 시\n",
    "- 일반적으로 클래스, 전역변수 등은 변수의 시작이 대문자\n",
    "- 단어가 두 개 이상 조합될 경우 ```_``` 사용할 것인지, Camel 기법으로 사용할 것인지 통일  \n",
    "ex) ```logistic_regression()```, ```logisticRegression()```\n",
    "- 전역변수의 경우 앞에 g를 붙이는 등의 규칙이 필요  \n",
    "ex) ```gLogisticRegression()```"
   ]
  },
  {
   "cell_type": "code",
   "execution_count": 2,
   "id": "03f75b65-f226-43f2-bf42-72177f1a6de1",
   "metadata": {},
   "outputs": [],
   "source": [
    "class LogisticRegression(nn.Module):\n",
    "    def __init__(self, in_dim, out_dim):\n",
    "        super().__init__()\n",
    "        self.in_dim = in_dim\n",
    "        self.out_dim = out_dim\n",
    "        \n",
    "        self.linear = nn.Linear(self.in_dim, self.out_dim)\n",
    "        self.sigmoid = nn.Sigmoid()\n",
    "        \n",
    "    def forward(self, x):\n",
    "        return self.sigmoid(self.linear(x))"
   ]
  },
  {
   "cell_type": "code",
   "execution_count": null,
   "id": "eed58d63-e641-4de4-a1aa-730ab04e28e0",
   "metadata": {},
   "outputs": [],
   "source": []
  }
 ],
 "metadata": {
  "kernelspec": {
   "display_name": "Python 3 (ipykernel)",
   "language": "python",
   "name": "python3"
  },
  "language_info": {
   "codemirror_mode": {
    "name": "ipython",
    "version": 3
   },
   "file_extension": ".py",
   "mimetype": "text/x-python",
   "name": "python",
   "nbconvert_exporter": "python",
   "pygments_lexer": "ipython3",
   "version": "3.9.7"
  }
 },
 "nbformat": 4,
 "nbformat_minor": 5
}
