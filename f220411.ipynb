{
 "cells": [
  {
   "cell_type": "markdown",
   "id": "1e3e9dbe-984b-4e67-9adc-78c32b0cb01c",
   "metadata": {},
   "source": [
    "| titanic\n",
    "# Ensemble"
   ]
  },
  {
   "cell_type": "code",
   "execution_count": 5,
   "id": "432abe0f-5824-4882-a03d-c2371ee84451",
   "metadata": {},
   "outputs": [],
   "source": [
    "import pandas as pd\n",
    "import matplotlib.pyplot as plt\n",
    "import seaborn as sns\n",
    "\n",
    "from sklearn.ensemble import RandomForestClassifier"
   ]
  },
  {
   "cell_type": "code",
   "execution_count": 70,
   "id": "cfac1b2c-5d07-41a9-961e-ad15e0364c37",
   "metadata": {},
   "outputs": [],
   "source": [
    "df_train = pd.read_csv(\"train.csv\")\n",
    "df_test = pd.read_csv(\"test.csv\")"
   ]
  },
  {
   "cell_type": "code",
   "execution_count": 6,
   "id": "2eddf64c-8a73-4f32-a116-0fa514503962",
   "metadata": {},
   "outputs": [
    {
     "name": "stdout",
     "output_type": "stream",
     "text": [
      "<class 'pandas.core.frame.DataFrame'>\n",
      "RangeIndex: 891 entries, 0 to 890\n",
      "Data columns (total 12 columns):\n",
      " #   Column       Non-Null Count  Dtype  \n",
      "---  ------       --------------  -----  \n",
      " 0   PassengerId  891 non-null    int64  \n",
      " 1   Survived     891 non-null    int64  \n",
      " 2   Pclass       891 non-null    int64  \n",
      " 3   Name         891 non-null    object \n",
      " 4   Sex          891 non-null    object \n",
      " 5   Age          714 non-null    float64\n",
      " 6   SibSp        891 non-null    int64  \n",
      " 7   Parch        891 non-null    int64  \n",
      " 8   Ticket       891 non-null    object \n",
      " 9   Fare         891 non-null    float64\n",
      " 10  Cabin        204 non-null    object \n",
      " 11  Embarked     889 non-null    object \n",
      "dtypes: float64(2), int64(5), object(5)\n",
      "memory usage: 83.7+ KB\n"
     ]
    }
   ],
   "source": [
    "df_train.info()"
   ]
  },
  {
   "cell_type": "code",
   "execution_count": 9,
   "id": "73afc32d-637c-4750-aaa3-aa179c7651f2",
   "metadata": {},
   "outputs": [],
   "source": [
    "def show_count_plot(feature):\n",
    "    sns.countplot(data=df_train, x=feature, hue=\"Survived\")\n",
    "    plt.show()"
   ]
  },
  {
   "cell_type": "code",
   "execution_count": 10,
   "id": "07ee2779-5ada-4c15-b765-980282f6d092",
   "metadata": {},
   "outputs": [
    {
     "data": {
      "image/png": "[encoded data removed]",
      "text/plain": [
       "<Figure size 432x288 with 1 Axes>"
      ]
     },
     "metadata": {
      "needs_background": "light"
     },
     "output_type": "display_data"
    }
   ],
   "source": [
    "show_count_plot(\"Pclass\")"
   ]
  },
  {
   "cell_type": "code",
   "execution_count": 24,
   "id": "f846ba1e-1b0f-4b7c-9a86-9ea229b45227",
   "metadata": {},
   "outputs": [],
   "source": [
    "def show_pie_plot(feature):\n",
    "    df_survived = df_train.loc[df_train[\"Survived\"]==1]\n",
    "    sur_info = df_survived[feature].value_counts(sort=False)\n",
    "    print(sur_info)\n",
    "    plt.pie(sur_info, labels=sur_info.index, autopct=\"%0.1f%%\")\n",
    "    plt.show()"
   ]
  },
  {
   "cell_type": "code",
   "execution_count": 25,
   "id": "cab2aa2e-12af-4125-8425-66b8baf5310e",
   "metadata": {},
   "outputs": [
    {
     "name": "stdout",
     "output_type": "stream",
     "text": [
      "1    136\n",
      "3    119\n",
      "2     87\n",
      "Name: Pclass, dtype: int64\n"
     ]
    },
    {
     "data": {
      "image/png": "[encoded data removed]",
      "text/plain": [
       "<Figure size 432x288 with 1 Axes>"
      ]
     },
     "metadata": {},
     "output_type": "display_data"
    }
   ],
   "source": [
    "show_pie_plot(\"Pclass\")  # 인덱스와 값이 나옴."
   ]
  },
  {
   "cell_type": "code",
   "execution_count": 26,
   "id": "e25b4ef2-0f29-4cae-84d5-fa51f114dd36",
   "metadata": {},
   "outputs": [
    {
     "name": "stdout",
     "output_type": "stream",
     "text": [
      "female    233\n",
      "male      109\n",
      "Name: Sex, dtype: int64\n"
     ]
    },
    {
     "data": {
      "image/png": "[encoded data removed]",
      "text/plain": [
       "<Figure size 432x288 with 1 Axes>"
      ]
     },
     "metadata": {},
     "output_type": "display_data"
    }
   ],
   "source": [
    "show_pie_plot(\"Sex\") "
   ]
  },
  {
   "cell_type": "code",
   "execution_count": 42,
   "id": "25a30cf8-fec4-4b1f-a529-205613ff6bdf",
   "metadata": {},
   "outputs": [],
   "source": [
    "def show_group_rate(feature):\n",
    "    # 그룹별 생존율 확인\n",
    "    df_survived = df_train.loc[df_train[\"Survived\"]==1]\n",
    "    df_dead = df_train.loc[df_train[\"Survived\"]==0]\n",
    "    \n",
    "    sur_info = df_survived[feature].value_counts(sort=False)\n",
    "    dead_info = df_dead[feature].value_counts(sort=False) \n",
    "    \n",
    "    print(sur_info)\n",
    "    print()\n",
    "    print(dead_info)\n",
    "    \n",
    "    for index in sur_info.index:\n",
    "        plt.pie([sur_info[index], dead_info[index]],\n",
    "               labels=[\"Survived\", \"Dead\"],\n",
    "               autopct=\"%0.1f%%\")\n",
    "        plt.title(f\"Survival rate of {index}\")\n",
    "        plt.show()"
   ]
  },
  {
   "cell_type": "code",
   "execution_count": 44,
   "id": "7f60d247-c92d-4354-be68-d3bb006210ab",
   "metadata": {},
   "outputs": [
    {
     "name": "stdout",
     "output_type": "stream",
     "text": [
      "1    136\n",
      "3    119\n",
      "2     87\n",
      "Name: Pclass, dtype: int64\n",
      "\n",
      "3    372\n",
      "1     80\n",
      "2     97\n",
      "Name: Pclass, dtype: int64\n"
     ]
    },
    {
     "data": {
      "image/png": "[encoded data removed]",
      "text/plain": [
       "<Figure size 432x288 with 1 Axes>"
      ]
     },
     "metadata": {},
     "output_type": "display_data"
    },
    {
     "data": {
      "image/png": "[encoded data removed]",
      "text/plain": [
       "<Figure size 432x288 with 1 Axes>"
      ]
     },
     "metadata": {},
     "output_type": "display_data"
    },
    {
     "data": {
      "image/png": "[encoded data removed]",
      "text/plain": [
       "<Figure size 432x288 with 1 Axes>"
      ]
     },
     "metadata": {},
     "output_type": "display_data"
    }
   ],
   "source": [
    "show_group_rate(\"Pclass\")"
   ]
  },
  {
   "cell_type": "markdown",
   "id": "180d47ed-47b4-4ae0-9726-3df0fb0c5211",
   "metadata": {},
   "source": [
    "# enumerate\n",
    "- 원소 인덱스 가져오기"
   ]
  },
  {
   "cell_type": "code",
   "execution_count": 53,
   "id": "db0a81f9-6529-4b2f-a153-12a51b982f0e",
   "metadata": {},
   "outputs": [
    {
     "name": "stdout",
     "output_type": "stream",
     "text": [
      "0 A\n",
      "1 B\n",
      "2 C\n",
      "3 D\n"
     ]
    }
   ],
   "source": [
    "letters = ['A', 'B', 'C', 'D']\n",
    "for i, l in enumerate(letters):\n",
    "    print(i, l)"
   ]
  },
  {
   "cell_type": "code",
   "execution_count": 54,
   "id": "fb8d1764-ab6b-4859-816b-ed6365c1cbc1",
   "metadata": {},
   "outputs": [],
   "source": [
    "def show_group_rate2(feature):\n",
    "    # 그룹별 생존율 확인\n",
    "    df_survived = df_train.loc[df_train[\"Survived\"]==1]\n",
    "    df_dead = df_train.loc[df_train[\"Survived\"]==0]\n",
    "    \n",
    "    sur_info = df_survived[feature].value_counts(sort=False)\n",
    "    dead_info = df_dead[feature].value_counts(sort=False) \n",
    "    \n",
    "    print(sur_info)\n",
    "    print()\n",
    "    print(dead_info)\n",
    "\n",
    "    fig = plt.figure()\n",
    "    plt.title(f\"Survival Rate of {feature}\")  # 그림의 전체 이름\n",
    "    \n",
    "    for i, index in enumerate(sur_info.index):\n",
    "        fig.add_subplot(1, len(sur_info), i+1)  # 행 개수, 열 개수, 몇 번째에 그릴 것인지(1부터 시작) 입력\n",
    "        plt.pie([sur_info[index], dead_info[index]],\n",
    "               labels=[\"Survived\", \"Dead\"],\n",
    "               autopct=\"%0.1f%%\")\n",
    "        plt.title(f\"Survival rate of {index}\")\n",
    "        \n",
    "    plt.show()"
   ]
  },
  {
   "cell_type": "code",
   "execution_count": 56,
   "id": "f55bd284-d260-478c-8f2f-ae9b04c59b11",
   "metadata": {},
   "outputs": [
    {
     "name": "stdout",
     "output_type": "stream",
     "text": [
      "female    233\n",
      "male      109\n",
      "Name: Sex, dtype: int64\n",
      "\n",
      "male      468\n",
      "female     81\n",
      "Name: Sex, dtype: int64\n"
     ]
    },
    {
     "data": {
      "image/png": "[encoded data removed]",
      "text/plain": [
       "<Figure size 432x288 with 3 Axes>"
      ]
     },
     "metadata": {
      "needs_background": "light"
     },
     "output_type": "display_data"
    }
   ],
   "source": [
    "show_group_rate2(\"Sex\")"
   ]
  },
  {
   "cell_type": "markdown",
   "id": "bb808930-c30e-4ae0-95cd-471f6282daef",
   "metadata": {},
   "source": [
    "## Age를 그룹별로 나누어 처리해보기\n",
    "- 비어있는 값 채우기\n",
    "- 나이별 그룹 만들기"
   ]
  },
  {
   "cell_type": "code",
   "execution_count": null,
   "id": "b0f59cdf-a3c6-41fd-8ed2-be1bb07946af",
   "metadata": {},
   "outputs": [],
   "source": []
  },
  {
   "cell_type": "code",
   "execution_count": null,
   "id": "1c97fe80-ad05-4dc3-a456-d0e1354c6ede",
   "metadata": {},
   "outputs": [],
   "source": []
  },
  {
   "cell_type": "code",
   "execution_count": null,
   "id": "728c1ab9-63d1-410f-b0f7-d2ab8e787e07",
   "metadata": {},
   "outputs": [],
   "source": []
  },
  {
   "cell_type": "markdown",
   "id": "af7474fe-2677-4e54-a7d5-0891b0abcd79",
   "metadata": {},
   "source": [
    "# Preprocessing"
   ]
  },
  {
   "cell_type": "code",
   "execution_count": 71,
   "id": "45cd437f-5e85-4f4e-823e-c3903e505936",
   "metadata": {},
   "outputs": [],
   "source": [
    "# 무관한 column 날리기\n",
    "df_train = df_train.drop([\"PassengerId\", \"Name\", \"Ticket\", \"Fare\", \"Cabin\"], axis=1)  # 세로 방향으로 컬럼을 날리기 위해 axis=1"
   ]
  },
  {
   "cell_type": "code",
   "execution_count": 72,
   "id": "116de869-c208-4f18-8ea2-38290c1080fc",
   "metadata": {},
   "outputs": [],
   "source": [
    "# null 값 평균으로 채워주기\n",
    "df_train[\"Age\"] = df_train[\"Age\"].fillna(df_train[\"Age\"].mean())"
   ]
  },
  {
   "cell_type": "code",
   "execution_count": 73,
   "id": "b333dbcb-15e0-4937-ba31-7f78ad70c807",
   "metadata": {},
   "outputs": [
    {
     "name": "stdout",
     "output_type": "stream",
     "text": [
      "<class 'pandas.core.frame.DataFrame'>\n",
      "RangeIndex: 891 entries, 0 to 890\n",
      "Data columns (total 7 columns):\n",
      " #   Column    Non-Null Count  Dtype  \n",
      "---  ------    --------------  -----  \n",
      " 0   Survived  891 non-null    int64  \n",
      " 1   Pclass    891 non-null    int64  \n",
      " 2   Sex       891 non-null    object \n",
      " 3   Age       891 non-null    float64\n",
      " 4   SibSp     891 non-null    int64  \n",
      " 5   Parch     891 non-null    int64  \n",
      " 6   Embarked  889 non-null    object \n",
      "dtypes: float64(1), int64(4), object(2)\n",
      "memory usage: 48.9+ KB\n"
     ]
    }
   ],
   "source": [
    "df_train.info()"
   ]
  },
  {
   "cell_type": "code",
   "execution_count": 74,
   "id": "c7a50059-3b16-46f8-a74b-ff8b28dc6e64",
   "metadata": {},
   "outputs": [],
   "source": [
    "# Embarked null값 날리거나, 가장 많은 값으로 채우기\n",
    "df_train[\"Embarked\"] = df_train[\"Embarked\"].fillna(\"S\")"
   ]
  },
  {
   "cell_type": "code",
   "execution_count": 76,
   "id": "a94a0e59-e95e-486b-92a7-6132d3f7f3a6",
   "metadata": {},
   "outputs": [],
   "source": [
    "# 문제 데이터를 숫자로 바꾸기 (안바꿔주니까 에러 발생)\n",
    "# 원래 원핫인코딩 해줘야 함. fair하게. [0 1] [1 0] 이런 식으로.\n",
    "df_train[\"Sex\"] = df_train[\"Sex\"].map({\"male\":0, \"female\":1})\n",
    "df_train[\"Embarked\"] = df_train[\"Embarked\"].map({\"Q\":0, \"C\":1, \"S\":2})"
   ]
  },
  {
   "cell_type": "code",
   "execution_count": 77,
   "id": "1bf9eb0a-d565-48d5-bb1b-5a5164c28004",
   "metadata": {},
   "outputs": [
    {
     "name": "stdout",
     "output_type": "stream",
     "text": [
      "<class 'pandas.core.frame.DataFrame'>\n",
      "RangeIndex: 891 entries, 0 to 890\n",
      "Data columns (total 7 columns):\n",
      " #   Column    Non-Null Count  Dtype  \n",
      "---  ------    --------------  -----  \n",
      " 0   Survived  891 non-null    int64  \n",
      " 1   Pclass    891 non-null    int64  \n",
      " 2   Sex       891 non-null    int64  \n",
      " 3   Age       891 non-null    float64\n",
      " 4   SibSp     891 non-null    int64  \n",
      " 5   Parch     891 non-null    int64  \n",
      " 6   Embarked  891 non-null    int64  \n",
      "dtypes: float64(1), int64(6)\n",
      "memory usage: 48.9 KB\n"
     ]
    }
   ],
   "source": [
    "df_train.info()"
   ]
  },
  {
   "cell_type": "markdown",
   "id": "94c59db3-c4db-4dd0-8a73-a4b7c6ed8009",
   "metadata": {},
   "source": [
    "# Train"
   ]
  },
  {
   "cell_type": "code",
   "execution_count": 86,
   "id": "b3c2369e-c645-414e-96e7-8d79e4b58c66",
   "metadata": {},
   "outputs": [],
   "source": [
    "clf = RandomForestClassifier(max_depth=5,\n",
    "                            n_estimators=300)"
   ]
  },
  {
   "cell_type": "code",
   "execution_count": 87,
   "id": "e6d88441-55a0-432e-bd7b-e5aad585cd47",
   "metadata": {},
   "outputs": [],
   "source": [
    "y = df_train[\"Survived\"]\n",
    "x = df_train.drop(\"Survived\", axis=1)"
   ]
  },
  {
   "cell_type": "code",
   "execution_count": 88,
   "id": "23e29f70-0ef5-4d57-b26c-3b26e38f215d",
   "metadata": {},
   "outputs": [
    {
     "data": {
      "text/plain": [
       "RandomForestClassifier(max_depth=5, n_estimators=300)"
      ]
     },
     "execution_count": 88,
     "metadata": {},
     "output_type": "execute_result"
    }
   ],
   "source": [
    "clf.fit(x, y)"
   ]
  },
  {
   "cell_type": "code",
   "execution_count": 89,
   "id": "650afbd6-9442-40b4-9c82-1c10216e800c",
   "metadata": {},
   "outputs": [
    {
     "data": {
      "text/plain": [
       "0.8428731762065096"
      ]
     },
     "execution_count": 89,
     "metadata": {},
     "output_type": "execute_result"
    }
   ],
   "source": [
    "clf.score(x, y)"
   ]
  },
  {
   "cell_type": "markdown",
   "id": "4be8e267-ae2a-4b09-8a89-b908b18f3177",
   "metadata": {},
   "source": [
    "# Test"
   ]
  },
  {
   "cell_type": "code",
   "execution_count": 90,
   "id": "933e188f-d5da-4348-b827-d9b50ee671b9",
   "metadata": {},
   "outputs": [
    {
     "data": {
      "text/html": [
       "<div>\n",
       "<style scoped>\n",
       "    .dataframe tbody tr th:only-of-type {\n",
       "        vertical-align: middle;\n",
       "    }\n",
       "\n",
       "    .dataframe tbody tr th {\n",
       "        vertical-align: top;\n",
       "    }\n",
       "\n",
       "    .dataframe thead th {\n",
       "        text-align: right;\n",
       "    }\n",
       "</style>\n",
       "<table border=\"1\" class=\"dataframe\">\n",
       "  <thead>\n",
       "    <tr style=\"text-align: right;\">\n",
       "      <th></th>\n",
       "      <th>PassengerId</th>\n",
       "      <th>Pclass</th>\n",
       "      <th>Name</th>\n",
       "      <th>Sex</th>\n",
       "      <th>Age</th>\n",
       "      <th>SibSp</th>\n",
       "      <th>Parch</th>\n",
       "      <th>Ticket</th>\n",
       "      <th>Fare</th>\n",
       "      <th>Cabin</th>\n",
       "      <th>Embarked</th>\n",
       "    </tr>\n",
       "  </thead>\n",
       "  <tbody>\n",
       "    <tr>\n",
       "      <th>0</th>\n",
       "      <td>892</td>\n",
       "      <td>3</td>\n",
       "      <td>Kelly, Mr. James</td>\n",
       "      <td>male</td>\n",
       "      <td>34.5</td>\n",
       "      <td>0</td>\n",
       "      <td>0</td>\n",
       "      <td>330911</td>\n",
       "      <td>7.8292</td>\n",
       "      <td>NaN</td>\n",
       "      <td>Q</td>\n",
       "    </tr>\n",
       "    <tr>\n",
       "      <th>1</th>\n",
       "      <td>893</td>\n",
       "      <td>3</td>\n",
       "      <td>Wilkes, Mrs. James (Ellen Needs)</td>\n",
       "      <td>female</td>\n",
       "      <td>47.0</td>\n",
       "      <td>1</td>\n",
       "      <td>0</td>\n",
       "      <td>363272</td>\n",
       "      <td>7.0000</td>\n",
       "      <td>NaN</td>\n",
       "      <td>S</td>\n",
       "    </tr>\n",
       "    <tr>\n",
       "      <th>2</th>\n",
       "      <td>894</td>\n",
       "      <td>2</td>\n",
       "      <td>Myles, Mr. Thomas Francis</td>\n",
       "      <td>male</td>\n",
       "      <td>62.0</td>\n",
       "      <td>0</td>\n",
       "      <td>0</td>\n",
       "      <td>240276</td>\n",
       "      <td>9.6875</td>\n",
       "      <td>NaN</td>\n",
       "      <td>Q</td>\n",
       "    </tr>\n",
       "    <tr>\n",
       "      <th>3</th>\n",
       "      <td>895</td>\n",
       "      <td>3</td>\n",
       "      <td>Wirz, Mr. Albert</td>\n",
       "      <td>male</td>\n",
       "      <td>27.0</td>\n",
       "      <td>0</td>\n",
       "      <td>0</td>\n",
       "      <td>315154</td>\n",
       "      <td>8.6625</td>\n",
       "      <td>NaN</td>\n",
       "      <td>S</td>\n",
       "    </tr>\n",
       "    <tr>\n",
       "      <th>4</th>\n",
       "      <td>896</td>\n",
       "      <td>3</td>\n",
       "      <td>Hirvonen, Mrs. Alexander (Helga E Lindqvist)</td>\n",
       "      <td>female</td>\n",
       "      <td>22.0</td>\n",
       "      <td>1</td>\n",
       "      <td>1</td>\n",
       "      <td>3101298</td>\n",
       "      <td>12.2875</td>\n",
       "      <td>NaN</td>\n",
       "      <td>S</td>\n",
       "    </tr>\n",
       "    <tr>\n",
       "      <th>...</th>\n",
       "      <td>...</td>\n",
       "      <td>...</td>\n",
       "      <td>...</td>\n",
       "      <td>...</td>\n",
       "      <td>...</td>\n",
       "      <td>...</td>\n",
       "      <td>...</td>\n",
       "      <td>...</td>\n",
       "      <td>...</td>\n",
       "      <td>...</td>\n",
       "      <td>...</td>\n",
       "    </tr>\n",
       "    <tr>\n",
       "      <th>413</th>\n",
       "      <td>1305</td>\n",
       "      <td>3</td>\n",
       "      <td>Spector, Mr. Woolf</td>\n",
       "      <td>male</td>\n",
       "      <td>NaN</td>\n",
       "      <td>0</td>\n",
       "      <td>0</td>\n",
       "      <td>A.5. 3236</td>\n",
       "      <td>8.0500</td>\n",
       "      <td>NaN</td>\n",
       "      <td>S</td>\n",
       "    </tr>\n",
       "    <tr>\n",
       "      <th>414</th>\n",
       "      <td>1306</td>\n",
       "      <td>1</td>\n",
       "      <td>Oliva y Ocana, Dona. Fermina</td>\n",
       "      <td>female</td>\n",
       "      <td>39.0</td>\n",
       "      <td>0</td>\n",
       "      <td>0</td>\n",
       "      <td>PC 17758</td>\n",
       "      <td>108.9000</td>\n",
       "      <td>C105</td>\n",
       "      <td>C</td>\n",
       "    </tr>\n",
       "    <tr>\n",
       "      <th>415</th>\n",
       "      <td>1307</td>\n",
       "      <td>3</td>\n",
       "      <td>Saether, Mr. Simon Sivertsen</td>\n",
       "      <td>male</td>\n",
       "      <td>38.5</td>\n",
       "      <td>0</td>\n",
       "      <td>0</td>\n",
       "      <td>SOTON/O.Q. 3101262</td>\n",
       "      <td>7.2500</td>\n",
       "      <td>NaN</td>\n",
       "      <td>S</td>\n",
       "    </tr>\n",
       "    <tr>\n",
       "      <th>416</th>\n",
       "      <td>1308</td>\n",
       "      <td>3</td>\n",
       "      <td>Ware, Mr. Frederick</td>\n",
       "      <td>male</td>\n",
       "      <td>NaN</td>\n",
       "      <td>0</td>\n",
       "      <td>0</td>\n",
       "      <td>359309</td>\n",
       "      <td>8.0500</td>\n",
       "      <td>NaN</td>\n",
       "      <td>S</td>\n",
       "    </tr>\n",
       "    <tr>\n",
       "      <th>417</th>\n",
       "      <td>1309</td>\n",
       "      <td>3</td>\n",
       "      <td>Peter, Master. Michael J</td>\n",
       "      <td>male</td>\n",
       "      <td>NaN</td>\n",
       "      <td>1</td>\n",
       "      <td>1</td>\n",
       "      <td>2668</td>\n",
       "      <td>22.3583</td>\n",
       "      <td>NaN</td>\n",
       "      <td>C</td>\n",
       "    </tr>\n",
       "  </tbody>\n",
       "</table>\n",
       "<p>418 rows × 11 columns</p>\n",
       "</div>"
      ],
      "text/plain": [
       "     PassengerId  Pclass                                          Name  \\\n",
       "0            892       3                              Kelly, Mr. James   \n",
       "1            893       3              Wilkes, Mrs. James (Ellen Needs)   \n",
       "2            894       2                     Myles, Mr. Thomas Francis   \n",
       "3            895       3                              Wirz, Mr. Albert   \n",
       "4            896       3  Hirvonen, Mrs. Alexander (Helga E Lindqvist)   \n",
       "..           ...     ...                                           ...   \n",
       "413         1305       3                            Spector, Mr. Woolf   \n",
       "414         1306       1                  Oliva y Ocana, Dona. Fermina   \n",
       "415         1307       3                  Saether, Mr. Simon Sivertsen   \n",
       "416         1308       3                           Ware, Mr. Frederick   \n",
       "417         1309       3                      Peter, Master. Michael J   \n",
       "\n",
       "        Sex   Age  SibSp  Parch              Ticket      Fare Cabin Embarked  \n",
       "0      male  34.5      0      0              330911    7.8292   NaN        Q  \n",
       "1    female  47.0      1      0              363272    7.0000   NaN        S  \n",
       "2      male  62.0      0      0              240276    9.6875   NaN        Q  \n",
       "3      male  27.0      0      0              315154    8.6625   NaN        S  \n",
       "4    female  22.0      1      1             3101298   12.2875   NaN        S  \n",
       "..      ...   ...    ...    ...                 ...       ...   ...      ...  \n",
       "413    male   NaN      0      0           A.5. 3236    8.0500   NaN        S  \n",
       "414  female  39.0      0      0            PC 17758  108.9000  C105        C  \n",
       "415    male  38.5      0      0  SOTON/O.Q. 3101262    7.2500   NaN        S  \n",
       "416    male   NaN      0      0              359309    8.0500   NaN        S  \n",
       "417    male   NaN      1      1                2668   22.3583   NaN        C  \n",
       "\n",
       "[418 rows x 11 columns]"
      ]
     },
     "execution_count": 90,
     "metadata": {},
     "output_type": "execute_result"
    }
   ],
   "source": [
    "df_test"
   ]
  },
  {
   "cell_type": "code",
   "execution_count": 92,
   "id": "1bc70106-8686-455a-81fc-c2336fa3f992",
   "metadata": {},
   "outputs": [],
   "source": [
    "# 학습 데이터 전처리한 것과 똑같이 맞춰줘야 함\n",
    "# 필요없는 column 날리고, age 평균으로 null 채워주기 등\n",
    "passengerId = df_test['PassengerId']  # 정답 파일 만들때 이거랑 매치해서 답 넣어줘야 하기 때문에 drop하기 전에 미리 빼놓기\n",
    "df_test = df_test.drop([\"PassengerId\", \"Name\", \"Ticket\", \"Fare\", \"Cabin\"], axis=1)  # 세로 방향으로 컬럼을 날리기 위해 axis=1\n",
    "df_test[\"Age\"] = df_test[\"Age\"].fillna(df_train[\"Age\"].mean())\n",
    "df_test[\"Embarked\"] = df_test[\"Embarked\"].fillna(\"S\")\n",
    "df_test[\"Sex\"] = df_test[\"Sex\"].map({\"male\":0, \"female\":1})\n",
    "df_test[\"Embarked\"] = df_test[\"Embarked\"].map({\"Q\":0, \"C\":1, \"S\":2})"
   ]
  },
  {
   "cell_type": "code",
   "execution_count": 93,
   "id": "4857ada8-599c-40cc-89ab-8a215f0e76af",
   "metadata": {},
   "outputs": [
    {
     "data": {
      "text/plain": [
       "array([0, 0, 0, 0, 0, 0, 1, 0, 1, 0, 0, 0, 1, 0, 1, 1, 0, 0, 0, 0, 0, 0,\n",
       "       1, 0, 1, 0, 1, 0, 0, 0, 0, 0, 0, 0, 0, 0, 0, 1, 0, 0, 0, 0, 0, 1,\n",
       "       1, 0, 0, 0, 1, 0, 0, 0, 1, 1, 0, 0, 0, 0, 0, 1, 0, 0, 0, 1, 1, 1,\n",
       "       1, 0, 0, 1, 1, 0, 0, 0, 1, 0, 0, 1, 0, 1, 1, 0, 0, 0, 0, 0, 1, 1,\n",
       "       1, 1, 0, 0, 1, 0, 0, 0, 1, 0, 1, 0, 1, 0, 0, 0, 1, 0, 0, 0, 0, 0,\n",
       "       0, 1, 1, 1, 1, 0, 0, 1, 0, 1, 1, 0, 1, 0, 0, 1, 0, 1, 0, 0, 0, 0,\n",
       "       0, 0, 0, 0, 0, 0, 1, 0, 0, 1, 0, 0, 0, 0, 0, 0, 0, 0, 1, 0, 0, 0,\n",
       "       0, 0, 1, 1, 0, 0, 1, 1, 1, 0, 0, 0, 0, 0, 1, 1, 0, 0, 0, 0, 0, 1,\n",
       "       1, 0, 1, 1, 0, 0, 1, 0, 1, 0, 1, 0, 0, 0, 0, 0, 0, 0, 1, 0, 1, 1,\n",
       "       0, 0, 1, 1, 0, 1, 0, 0, 1, 0, 1, 0, 0, 0, 0, 1, 0, 0, 1, 0, 1, 0,\n",
       "       1, 0, 1, 0, 1, 1, 0, 1, 0, 0, 0, 1, 0, 0, 0, 0, 0, 0, 1, 1, 1, 1,\n",
       "       0, 0, 0, 0, 1, 0, 1, 1, 1, 0, 0, 0, 0, 0, 0, 0, 1, 0, 0, 0, 1, 1,\n",
       "       0, 0, 0, 0, 0, 0, 0, 0, 1, 1, 0, 1, 0, 0, 0, 0, 1, 1, 1, 1, 1, 0,\n",
       "       0, 0, 0, 0, 0, 1, 0, 0, 0, 0, 1, 0, 0, 0, 0, 0, 0, 0, 1, 1, 0, 1,\n",
       "       0, 0, 0, 0, 0, 0, 1, 1, 0, 0, 0, 0, 0, 0, 0, 0, 1, 0, 1, 0, 0, 0,\n",
       "       1, 0, 0, 1, 0, 0, 0, 0, 0, 0, 0, 0, 0, 1, 0, 1, 0, 0, 0, 1, 1, 0,\n",
       "       0, 0, 1, 0, 1, 0, 0, 0, 0, 1, 1, 0, 1, 0, 0, 1, 1, 0, 0, 1, 0, 0,\n",
       "       1, 1, 0, 0, 0, 0, 0, 0, 0, 0, 0, 1, 0, 0, 0, 0, 0, 1, 0, 0, 0, 1,\n",
       "       0, 1, 0, 0, 1, 0, 1, 0, 0, 0, 0, 0, 1, 1, 1, 1, 1, 0, 1, 0, 0, 0],\n",
       "      dtype=int64)"
      ]
     },
     "execution_count": 93,
     "metadata": {},
     "output_type": "execute_result"
    }
   ],
   "source": [
    "# 분류기에 넣고 결과 보기\n",
    "result = clf.predict(df_test)\n",
    "result"
   ]
  },
  {
   "cell_type": "markdown",
   "id": "efa60b8f-1043-44d7-896b-3f08e9794fba",
   "metadata": {},
   "source": [
    "# 정답 파일과 비교해보기"
   ]
  },
  {
   "cell_type": "code",
   "execution_count": 97,
   "id": "37552663-9e8e-4f04-8792-03a4d04ac300",
   "metadata": {},
   "outputs": [],
   "source": [
    "gt = pd.read_csv(\"groundtruth.csv\")"
   ]
  },
  {
   "cell_type": "code",
   "execution_count": 100,
   "id": "a11b89cf-05a4-4993-a4fd-949c3f58c625",
   "metadata": {},
   "outputs": [
    {
     "name": "stdout",
     "output_type": "stream",
     "text": [
      "328, 90, 0.784688995215311%\n"
     ]
    }
   ],
   "source": [
    "hit = 0\n",
    "miss = 0\n",
    "\n",
    "for i in range(len(result)):\n",
    "    if result[i] == gt[\"Survived\"][i]:\n",
    "        hit += 1\n",
    "    else:\n",
    "        miss += 1\n",
    "\n",
    "print(f'{hit}, {miss}, {hit/(hit+miss)}%')"
   ]
  },
  {
   "cell_type": "code",
   "execution_count": 107,
   "id": "3449e0d1-068b-4f18-b205-d41171492de1",
   "metadata": {},
   "outputs": [],
   "source": [
    "def myPredict(x):\n",
    "    '''\n",
    "    x : 한 사람의 정보, 한 행\n",
    "    '''\n",
    "    # if x[\"Sex\"] == \"male\":\n",
    "    if x[\"Sex\"] == 0:\n",
    "        return 0\n",
    "    else:\n",
    "        return 1"
   ]
  },
  {
   "cell_type": "code",
   "execution_count": 108,
   "id": "a771dc2f-b4f7-4a17-aab1-d573d02681f0",
   "metadata": {},
   "outputs": [
    {
     "data": {
      "text/plain": [
       "(0, 1)"
      ]
     },
     "execution_count": 108,
     "metadata": {},
     "output_type": "execute_result"
    }
   ],
   "source": [
    "myPredict(df_test.loc[0]), myPredict(df_test.loc[1])"
   ]
  },
  {
   "cell_type": "code",
   "execution_count": null,
   "id": "db19daa7-c7be-40ae-9a0d-65e9a473376f",
   "metadata": {},
   "outputs": [],
   "source": []
  },
  {
   "cell_type": "markdown",
   "id": "dc57cac7-8538-46bd-b5ad-8c398f1a6fd1",
   "metadata": {},
   "source": [
    "# submit"
   ]
  },
  {
   "cell_type": "raw",
   "id": "4e3ed3ed-76bc-440d-a081-dd7eb96a33e7",
   "metadata": {},
   "source": [
    "submit = pd.DataFrame({\"PassengerId\": passengerId,\n",
    "                      \"Survived\": result})"
   ]
  },
  {
   "cell_type": "raw",
   "id": "e2ce322b-7850-4edb-9aa2-5e40a849c5b6",
   "metadata": {},
   "source": [
    "submit.to_csv(\"titanic_submit.csv\", index=False)\n",
    "# index=False 안하면 제일 앞에 자동으로 인덱스 입력됨"
   ]
  }
 ],
 "metadata": {
  "kernelspec": {
   "display_name": "Python 3 (ipykernel)",
   "language": "python",
   "name": "python3"
  },
  "language_info": {
   "codemirror_mode": {
    "name": "ipython",
    "version": 3
   },
   "file_extension": ".py",
   "mimetype": "text/x-python",
   "name": "python",
   "nbconvert_exporter": "python",
   "pygments_lexer": "ipython3",
   "version": "3.9.7"
  }
 },
 "nbformat": 4,
 "nbformat_minor": 5
}
