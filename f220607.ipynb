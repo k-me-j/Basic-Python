{
 "cells": [
  {
   "cell_type": "code",
   "execution_count": 1,
   "id": "a1c6091a-3010-41ef-b2fc-fe11ea7f8658",
   "metadata": {},
   "outputs": [
    {
     "data": {
      "text/plain": [
       "'D:\\\\Kamie\\\\mon_ML'"
      ]
     },
     "execution_count": 1,
     "metadata": {},
     "output_type": "execute_result"
    }
   ],
   "source": [
    "import os\n",
    "os.getcwd()"
   ]
  },
  {
   "cell_type": "code",
   "execution_count": 2,
   "id": "3ec06a70-eb47-4183-a1e3-20c6acb1593f",
   "metadata": {},
   "outputs": [],
   "source": [
    "import pandas as pd\n",
    "import numpy as np"
   ]
  },
  {
   "cell_type": "code",
   "execution_count": 69,
   "id": "df9761ac-4e8c-4198-b572-55115985ce80",
   "metadata": {},
   "outputs": [],
   "source": [
    "path = \"../dataset/학습데이터처리_Data/auto-mpg.csv\""
   ]
  },
  {
   "cell_type": "code",
   "execution_count": 70,
   "id": "b1e3cf1a-0259-4775-9f04-f0fb8464e243",
   "metadata": {},
   "outputs": [],
   "source": [
    "df = pd.read_csv(path, header=None)\n",
    "df.columns = ['mpg', 'cylinders', 'displacement', 'horsepower', 'weight', 'acceleration', 'model year', 'origin', 'name']"
   ]
  },
  {
   "cell_type": "code",
   "execution_count": 71,
   "id": "71c6543d-6d38-45b7-ba14-8a774b219dd7",
   "metadata": {},
   "outputs": [],
   "source": [
    "# 모든 열 출력하기\n",
    "pd.set_option('display.max_column', None)"
   ]
  },
  {
   "cell_type": "markdown",
   "id": "7afe2d7a-4649-420b-9fb5-b4b0e073adde",
   "metadata": {},
   "source": [
    "# 1. 데이터 표준화\n",
    ": 익숙한 단위로 사용하기\n",
    "- mpg -> kpl (km per liter)\n",
    "- 1 mile = 1.690934 km\n",
    "- 1 galon = 3.78541 L \n",
    "\n",
    "mpg to kpl = 1.690934 / 3.78541  # or about 0.425"
   ]
  },
  {
   "cell_type": "code",
   "execution_count": 72,
   "id": "12d2ba19-82a4-4469-a484-dc32b9848708",
   "metadata": {},
   "outputs": [],
   "source": [
    "mpg_to_kpl = 1.690934 / 3.78541"
   ]
  },
  {
   "cell_type": "code",
   "execution_count": 73,
   "id": "8fcc2195-927a-4176-9c57-75fc6dbb155e",
   "metadata": {},
   "outputs": [],
   "source": [
    "df['kpl'] = df['mpg'] * mpg_to_kpl"
   ]
  },
  {
   "cell_type": "code",
   "execution_count": 74,
   "id": "1ddc40d5-af5b-4966-acc4-0f84cfb9e249",
   "metadata": {},
   "outputs": [
    {
     "data": {
      "text/html": [
       "<div>\n",
       "<style scoped>\n",
       "    .dataframe tbody tr th:only-of-type {\n",
       "        vertical-align: middle;\n",
       "    }\n",
       "\n",
       "    .dataframe tbody tr th {\n",
       "        vertical-align: top;\n",
       "    }\n",
       "\n",
       "    .dataframe thead th {\n",
       "        text-align: right;\n",
       "    }\n",
       "</style>\n",
       "<table border=\"1\" class=\"dataframe\">\n",
       "  <thead>\n",
       "    <tr style=\"text-align: right;\">\n",
       "      <th></th>\n",
       "      <th>mpg</th>\n",
       "      <th>cylinders</th>\n",
       "      <th>displacement</th>\n",
       "      <th>horsepower</th>\n",
       "      <th>weight</th>\n",
       "      <th>acceleration</th>\n",
       "      <th>model year</th>\n",
       "      <th>origin</th>\n",
       "      <th>name</th>\n",
       "      <th>kpl</th>\n",
       "    </tr>\n",
       "  </thead>\n",
       "  <tbody>\n",
       "    <tr>\n",
       "      <th>0</th>\n",
       "      <td>18.0</td>\n",
       "      <td>8</td>\n",
       "      <td>307.0</td>\n",
       "      <td>130.0</td>\n",
       "      <td>3504.0</td>\n",
       "      <td>12.0</td>\n",
       "      <td>70</td>\n",
       "      <td>1</td>\n",
       "      <td>chevrolet chevelle malibu</td>\n",
       "      <td>8.040559</td>\n",
       "    </tr>\n",
       "    <tr>\n",
       "      <th>1</th>\n",
       "      <td>15.0</td>\n",
       "      <td>8</td>\n",
       "      <td>350.0</td>\n",
       "      <td>165.0</td>\n",
       "      <td>3693.0</td>\n",
       "      <td>11.5</td>\n",
       "      <td>70</td>\n",
       "      <td>1</td>\n",
       "      <td>buick skylark 320</td>\n",
       "      <td>6.700466</td>\n",
       "    </tr>\n",
       "    <tr>\n",
       "      <th>2</th>\n",
       "      <td>18.0</td>\n",
       "      <td>8</td>\n",
       "      <td>318.0</td>\n",
       "      <td>150.0</td>\n",
       "      <td>3436.0</td>\n",
       "      <td>11.0</td>\n",
       "      <td>70</td>\n",
       "      <td>1</td>\n",
       "      <td>plymouth satellite</td>\n",
       "      <td>8.040559</td>\n",
       "    </tr>\n",
       "  </tbody>\n",
       "</table>\n",
       "</div>"
      ],
      "text/plain": [
       "    mpg  cylinders  displacement horsepower  weight  acceleration  model year  \\\n",
       "0  18.0          8         307.0      130.0  3504.0          12.0          70   \n",
       "1  15.0          8         350.0      165.0  3693.0          11.5          70   \n",
       "2  18.0          8         318.0      150.0  3436.0          11.0          70   \n",
       "\n",
       "   origin                       name       kpl  \n",
       "0       1  chevrolet chevelle malibu  8.040559  \n",
       "1       1          buick skylark 320  6.700466  \n",
       "2       1         plymouth satellite  8.040559  "
      ]
     },
     "execution_count": 74,
     "metadata": {},
     "output_type": "execute_result"
    }
   ],
   "source": [
    "df.head(3)"
   ]
  },
  {
   "cell_type": "markdown",
   "id": "3bb9e988-a214-41da-a199-8f5d7a4fa2bb",
   "metadata": {},
   "source": [
    "# 2. 자료형 변환\n",
    "컬럼의 속성을 분석 후 자료형 변환(변경)"
   ]
  },
  {
   "cell_type": "code",
   "execution_count": 75,
   "id": "c0c159ac-18d2-40d4-8a6d-fdb2da0f7a2a",
   "metadata": {},
   "outputs": [
    {
     "name": "stdout",
     "output_type": "stream",
     "text": [
      "<class 'pandas.core.frame.DataFrame'>\n",
      "RangeIndex: 398 entries, 0 to 397\n",
      "Data columns (total 10 columns):\n",
      " #   Column        Non-Null Count  Dtype  \n",
      "---  ------        --------------  -----  \n",
      " 0   mpg           398 non-null    float64\n",
      " 1   cylinders     398 non-null    int64  \n",
      " 2   displacement  398 non-null    float64\n",
      " 3   horsepower    398 non-null    object \n",
      " 4   weight        398 non-null    float64\n",
      " 5   acceleration  398 non-null    float64\n",
      " 6   model year    398 non-null    int64  \n",
      " 7   origin        398 non-null    int64  \n",
      " 8   name          398 non-null    object \n",
      " 9   kpl           398 non-null    float64\n",
      "dtypes: float64(5), int64(3), object(2)\n",
      "memory usage: 31.2+ KB\n"
     ]
    }
   ],
   "source": [
    "df.info()"
   ]
  },
  {
   "cell_type": "markdown",
   "id": "758ca218-0851-4eba-bfd9-a04068bc78b6",
   "metadata": {},
   "source": [
    "=> horsepower은 숫자인데 object로 되어 있음 (물음표 포함되어 있어서 그럼)  "
   ]
  },
  {
   "cell_type": "code",
   "execution_count": 76,
   "id": "1dc38da6-f243-478d-8a89-f9e634ed7c6a",
   "metadata": {},
   "outputs": [],
   "source": [
    "# horsepower의 \"?\"는 dataframe 변환 시 object로 인식하게 함\n",
    "# -> np.nan으로 바꾼 뒤 지워주기\n",
    "df[\"horsepower\"].replace(\"?\", np.nan, inplace=True)\n",
    "df.dropna(subset=[\"horsepower\"], axis=0, inplace=True)"
   ]
  },
  {
   "cell_type": "code",
   "execution_count": 77,
   "id": "7a72ce31-1e28-4c28-9c68-fdedadafa31b",
   "metadata": {},
   "outputs": [
    {
     "data": {
      "text/plain": [
       "dtype('float64')"
      ]
     },
     "execution_count": 77,
     "metadata": {},
     "output_type": "execute_result"
    }
   ],
   "source": [
    "# object -> float\n",
    "df[\"horsepower\"] = df[\"horsepower\"].astype(\"float\")\n",
    "df[\"horsepower\"].dtype  # 형변환 확인"
   ]
  },
  {
   "cell_type": "markdown",
   "id": "face0277-777b-49b3-bc15-c5f272e5575c",
   "metadata": {},
   "source": [
    "# 3. 범주형 데이터 처리\n",
    "1) numpy의 histogram을 이용해서 binning\n",
    "2) pandas cut() 함수 이용해 범주형 데이터로 변환"
   ]
  },
  {
   "cell_type": "code",
   "execution_count": 78,
   "id": "099eed50-46cb-4304-939d-0e385374f200",
   "metadata": {},
   "outputs": [
    {
     "data": {
      "text/plain": [
       "(array([257, 103,  32], dtype=int64),\n",
       " array([ 46.        , 107.33333333, 168.66666667, 230.        ]))"
      ]
     },
     "execution_count": 78,
     "metadata": {},
     "output_type": "execute_result"
    }
   ],
   "source": [
    "# horsepower를 (low, norm, high)로 변경\n",
    "count, bin_divider = np.histogram(df[\"horsepower\"], bins=3)  # 3 분할\n",
    "count, bin_divider  \n",
    "# 숫자 4개 : |----|---|---| 이렇게 나누면 나눠지는 포인트 |가 4개라서."
   ]
  },
  {
   "cell_type": "markdown",
   "id": "96a0dfe3-c694-4a46-b353-116a5e2add5b",
   "metadata": {},
   "source": [
    "### 범주형 데이터 변환을 위해 cut() 이용 (bin 이름 지정)"
   ]
  },
  {
   "cell_type": "code",
   "execution_count": 79,
   "id": "75fbc74f-f73f-4785-818c-69fc07c43318",
   "metadata": {},
   "outputs": [],
   "source": [
    "# bin 이름은 리스트로 제공.\n",
    "bin_name = ['low', 'norm', 'high']"
   ]
  },
  {
   "cell_type": "code",
   "execution_count": 80,
   "id": "701e83f9-3a5f-4e11-a7e6-d7236a077934",
   "metadata": {},
   "outputs": [],
   "source": [
    "df['horsepower_bin'] = pd.cut(x=df[\"horsepower\"],   # 적용할 데이터 배열(리스트)\n",
    "                             bins=bin_divider,  # 범위 지정\n",
    "                             labels=bin_name,  # 범위별 이름 지정\n",
    "                             include_lowest=True  # 이상 or 초과 중 이상\n",
    "                             )"
   ]
  },
  {
   "cell_type": "code",
   "execution_count": 81,
   "id": "fba18430-3ac0-443d-8142-4fc24a1435ae",
   "metadata": {},
   "outputs": [
    {
     "data": {
      "text/html": [
       "<div>\n",
       "<style scoped>\n",
       "    .dataframe tbody tr th:only-of-type {\n",
       "        vertical-align: middle;\n",
       "    }\n",
       "\n",
       "    .dataframe tbody tr th {\n",
       "        vertical-align: top;\n",
       "    }\n",
       "\n",
       "    .dataframe thead th {\n",
       "        text-align: right;\n",
       "    }\n",
       "</style>\n",
       "<table border=\"1\" class=\"dataframe\">\n",
       "  <thead>\n",
       "    <tr style=\"text-align: right;\">\n",
       "      <th></th>\n",
       "      <th>horsepower</th>\n",
       "      <th>horsepower_bin</th>\n",
       "    </tr>\n",
       "  </thead>\n",
       "  <tbody>\n",
       "    <tr>\n",
       "      <th>0</th>\n",
       "      <td>130.0</td>\n",
       "      <td>norm</td>\n",
       "    </tr>\n",
       "    <tr>\n",
       "      <th>1</th>\n",
       "      <td>165.0</td>\n",
       "      <td>norm</td>\n",
       "    </tr>\n",
       "    <tr>\n",
       "      <th>2</th>\n",
       "      <td>150.0</td>\n",
       "      <td>norm</td>\n",
       "    </tr>\n",
       "    <tr>\n",
       "      <th>3</th>\n",
       "      <td>150.0</td>\n",
       "      <td>norm</td>\n",
       "    </tr>\n",
       "    <tr>\n",
       "      <th>4</th>\n",
       "      <td>140.0</td>\n",
       "      <td>norm</td>\n",
       "    </tr>\n",
       "    <tr>\n",
       "      <th>5</th>\n",
       "      <td>198.0</td>\n",
       "      <td>high</td>\n",
       "    </tr>\n",
       "    <tr>\n",
       "      <th>6</th>\n",
       "      <td>220.0</td>\n",
       "      <td>high</td>\n",
       "    </tr>\n",
       "    <tr>\n",
       "      <th>7</th>\n",
       "      <td>215.0</td>\n",
       "      <td>high</td>\n",
       "    </tr>\n",
       "    <tr>\n",
       "      <th>8</th>\n",
       "      <td>225.0</td>\n",
       "      <td>high</td>\n",
       "    </tr>\n",
       "    <tr>\n",
       "      <th>9</th>\n",
       "      <td>190.0</td>\n",
       "      <td>high</td>\n",
       "    </tr>\n",
       "    <tr>\n",
       "      <th>10</th>\n",
       "      <td>170.0</td>\n",
       "      <td>high</td>\n",
       "    </tr>\n",
       "    <tr>\n",
       "      <th>11</th>\n",
       "      <td>160.0</td>\n",
       "      <td>norm</td>\n",
       "    </tr>\n",
       "    <tr>\n",
       "      <th>12</th>\n",
       "      <td>150.0</td>\n",
       "      <td>norm</td>\n",
       "    </tr>\n",
       "    <tr>\n",
       "      <th>13</th>\n",
       "      <td>225.0</td>\n",
       "      <td>high</td>\n",
       "    </tr>\n",
       "    <tr>\n",
       "      <th>14</th>\n",
       "      <td>95.0</td>\n",
       "      <td>low</td>\n",
       "    </tr>\n",
       "  </tbody>\n",
       "</table>\n",
       "</div>"
      ],
      "text/plain": [
       "    horsepower horsepower_bin\n",
       "0        130.0           norm\n",
       "1        165.0           norm\n",
       "2        150.0           norm\n",
       "3        150.0           norm\n",
       "4        140.0           norm\n",
       "5        198.0           high\n",
       "6        220.0           high\n",
       "7        215.0           high\n",
       "8        225.0           high\n",
       "9        190.0           high\n",
       "10       170.0           high\n",
       "11       160.0           norm\n",
       "12       150.0           norm\n",
       "13       225.0           high\n",
       "14        95.0            low"
      ]
     },
     "execution_count": 81,
     "metadata": {},
     "output_type": "execute_result"
    }
   ],
   "source": [
    "df[[\"horsepower\", \"horsepower_bin\"]].head(15)"
   ]
  },
  {
   "cell_type": "markdown",
   "id": "d6329d8e-068f-4b17-82f3-2f13fb50661f",
   "metadata": {},
   "source": [
    "### low, norm, high -> [0,1,2] or 원핫인코딩으로 변경\n",
    "pandas에서 one hot encoding : ```get_dummies()```"
   ]
  },
  {
   "cell_type": "code",
   "execution_count": 82,
   "id": "26261cd5-7203-4b16-a14f-c2ba6a7a41f5",
   "metadata": {},
   "outputs": [
    {
     "data": {
      "text/html": [
       "<div>\n",
       "<style scoped>\n",
       "    .dataframe tbody tr th:only-of-type {\n",
       "        vertical-align: middle;\n",
       "    }\n",
       "\n",
       "    .dataframe tbody tr th {\n",
       "        vertical-align: top;\n",
       "    }\n",
       "\n",
       "    .dataframe thead th {\n",
       "        text-align: right;\n",
       "    }\n",
       "</style>\n",
       "<table border=\"1\" class=\"dataframe\">\n",
       "  <thead>\n",
       "    <tr style=\"text-align: right;\">\n",
       "      <th></th>\n",
       "      <th>low</th>\n",
       "      <th>norm</th>\n",
       "      <th>high</th>\n",
       "    </tr>\n",
       "  </thead>\n",
       "  <tbody>\n",
       "    <tr>\n",
       "      <th>0</th>\n",
       "      <td>0</td>\n",
       "      <td>1</td>\n",
       "      <td>0</td>\n",
       "    </tr>\n",
       "    <tr>\n",
       "      <th>1</th>\n",
       "      <td>0</td>\n",
       "      <td>1</td>\n",
       "      <td>0</td>\n",
       "    </tr>\n",
       "    <tr>\n",
       "      <th>2</th>\n",
       "      <td>0</td>\n",
       "      <td>1</td>\n",
       "      <td>0</td>\n",
       "    </tr>\n",
       "    <tr>\n",
       "      <th>3</th>\n",
       "      <td>0</td>\n",
       "      <td>1</td>\n",
       "      <td>0</td>\n",
       "    </tr>\n",
       "    <tr>\n",
       "      <th>4</th>\n",
       "      <td>0</td>\n",
       "      <td>1</td>\n",
       "      <td>0</td>\n",
       "    </tr>\n",
       "    <tr>\n",
       "      <th>5</th>\n",
       "      <td>0</td>\n",
       "      <td>0</td>\n",
       "      <td>1</td>\n",
       "    </tr>\n",
       "    <tr>\n",
       "      <th>6</th>\n",
       "      <td>0</td>\n",
       "      <td>0</td>\n",
       "      <td>1</td>\n",
       "    </tr>\n",
       "    <tr>\n",
       "      <th>7</th>\n",
       "      <td>0</td>\n",
       "      <td>0</td>\n",
       "      <td>1</td>\n",
       "    </tr>\n",
       "    <tr>\n",
       "      <th>8</th>\n",
       "      <td>0</td>\n",
       "      <td>0</td>\n",
       "      <td>1</td>\n",
       "    </tr>\n",
       "    <tr>\n",
       "      <th>9</th>\n",
       "      <td>0</td>\n",
       "      <td>0</td>\n",
       "      <td>1</td>\n",
       "    </tr>\n",
       "    <tr>\n",
       "      <th>10</th>\n",
       "      <td>0</td>\n",
       "      <td>0</td>\n",
       "      <td>1</td>\n",
       "    </tr>\n",
       "    <tr>\n",
       "      <th>11</th>\n",
       "      <td>0</td>\n",
       "      <td>1</td>\n",
       "      <td>0</td>\n",
       "    </tr>\n",
       "    <tr>\n",
       "      <th>12</th>\n",
       "      <td>0</td>\n",
       "      <td>1</td>\n",
       "      <td>0</td>\n",
       "    </tr>\n",
       "    <tr>\n",
       "      <th>13</th>\n",
       "      <td>0</td>\n",
       "      <td>0</td>\n",
       "      <td>1</td>\n",
       "    </tr>\n",
       "    <tr>\n",
       "      <th>14</th>\n",
       "      <td>1</td>\n",
       "      <td>0</td>\n",
       "      <td>0</td>\n",
       "    </tr>\n",
       "  </tbody>\n",
       "</table>\n",
       "</div>"
      ],
      "text/plain": [
       "    low  norm  high\n",
       "0     0     1     0\n",
       "1     0     1     0\n",
       "2     0     1     0\n",
       "3     0     1     0\n",
       "4     0     1     0\n",
       "5     0     0     1\n",
       "6     0     0     1\n",
       "7     0     0     1\n",
       "8     0     0     1\n",
       "9     0     0     1\n",
       "10    0     0     1\n",
       "11    0     1     0\n",
       "12    0     1     0\n",
       "13    0     0     1\n",
       "14    1     0     0"
      ]
     },
     "execution_count": 82,
     "metadata": {},
     "output_type": "execute_result"
    }
   ],
   "source": [
    "hp_dummies = pd.get_dummies(df[\"horsepower_bin\"])\n",
    "hp_dummies.head(15)"
   ]
  },
  {
   "cell_type": "markdown",
   "id": "9dff7934-0f85-40f9-8e37-71ff4f462130",
   "metadata": {
    "jp-MarkdownHeadingCollapsed": true,
    "tags": []
   },
   "source": [
    "# 4. 정규화\n",
    ": 각 컬럼의 데이터들을 해당 컬럼의 최댓값으로 나누는 방법  \n",
    "$$ column \\div column.max() $$\n",
    "- 컬럼별 데이터의 범위가 차이가 많이 나면 학습에 영향을 미칠 수 있으므로 정규화 해주기\n",
    "- 정규화하기 전 필요에 따라 이상치 제거해주면 좋음  \n",
    ": 편차를 줄이기 위해 정규화를 하는 건데 이상치 제거 안하면 한 쪽으로 치우칠 수 있기 때문\n",
    "\n",
    "- 그 데이터의 max값을 무조건 사용하는 게 아님.\n",
    "    - ex) 기계 압력값을 정규화하는데 아직 가진 데이터 중에 최대 압력값이 없는 경우는 가진 데이터 중의 max값이 아니라 기계의 최대 압력값으로 정규화해줘야 함. 나중에 최댓값이 들어올 수 있기 때문!"
   ]
  },
  {
   "cell_type": "markdown",
   "id": "db018381-afd8-4f6a-a376-f8c75067c553",
   "metadata": {},
   "source": [
    "### low, norm, high 상관없이 전체 정규화해주기"
   ]
  },
  {
   "cell_type": "code",
   "execution_count": 83,
   "id": "6520013d-2736-4d83-b696-b66b29da485c",
   "metadata": {},
   "outputs": [],
   "source": [
    "hs_max = df[\"horsepower\"].max()\n",
    "# df[\"horsepower\"] = df[\"horsepower\"] / hs_max / 2 - 1"
   ]
  },
  {
   "cell_type": "code",
   "execution_count": null,
   "id": "da0de4e2-15ee-4e9a-910c-d6dd261a1ad9",
   "metadata": {},
   "outputs": [],
   "source": []
  },
  {
   "cell_type": "code",
   "execution_count": null,
   "id": "3476fee3-e088-484f-897f-db00843d3c99",
   "metadata": {},
   "outputs": [],
   "source": []
  },
  {
   "cell_type": "code",
   "execution_count": null,
   "id": "4f9aa0fc-6130-4b78-ac48-4c3d9fcafb5f",
   "metadata": {},
   "outputs": [],
   "source": []
  },
  {
   "cell_type": "markdown",
   "id": "938b38d9-7da9-4c49-9870-17fe5b42932b",
   "metadata": {},
   "source": [
    "### low, norm, high 별로 정규화해주기"
   ]
  },
  {
   "cell_type": "code",
   "execution_count": 68,
   "id": "69bc173a-c63d-4bf4-aa88-e7c61086a901",
   "metadata": {},
   "outputs": [
    {
     "data": {
      "text/plain": [
       "(-0.5, -0.9)"
      ]
     },
     "execution_count": 68,
     "metadata": {},
     "output_type": "execute_result"
    }
   ],
   "source": [
    "df[\"horsepower\"].max(), df[\"horsepower\"].min()"
   ]
  },
  {
   "cell_type": "code",
   "execution_count": null,
   "id": "ce324ace-b07b-4fa1-bdde-4d65ba7e6513",
   "metadata": {},
   "outputs": [],
   "source": []
  },
  {
   "cell_type": "code",
   "execution_count": null,
   "id": "7244f235-87f0-4c99-ae5d-2f3a009f2bcf",
   "metadata": {},
   "outputs": [],
   "source": []
  },
  {
   "cell_type": "code",
   "execution_count": null,
   "id": "fc198e18-6d09-4ebf-8a65-6ae2337ac40c",
   "metadata": {},
   "outputs": [],
   "source": []
  },
  {
   "cell_type": "code",
   "execution_count": null,
   "id": "6d7dd782-d510-4abb-91a7-6643d26245e3",
   "metadata": {},
   "outputs": [],
   "source": []
  },
  {
   "cell_type": "code",
   "execution_count": null,
   "id": "6eb45e7e-13a1-4217-a3e5-cac2ba0a82f9",
   "metadata": {},
   "outputs": [],
   "source": []
  },
  {
   "cell_type": "code",
   "execution_count": null,
   "id": "c76e962b-f0a5-4239-9499-5d92d5c1dfcf",
   "metadata": {},
   "outputs": [],
   "source": []
  },
  {
   "cell_type": "code",
   "execution_count": null,
   "id": "c4e29612-8477-4ae0-aabe-e281ed58f1e7",
   "metadata": {},
   "outputs": [],
   "source": []
  },
  {
   "cell_type": "code",
   "execution_count": 114,
   "id": "e4905e6f-4c3d-4e9c-9d55-07a114fa6750",
   "metadata": {},
   "outputs": [],
   "source": []
  },
  {
   "cell_type": "code",
   "execution_count": 134,
   "id": "7afcf788-794a-4f4d-b8af-9c6177212eb3",
   "metadata": {},
   "outputs": [
    {
     "data": {
      "text/plain": [
       "[-1.0,\n",
       " -0.3333333333333333,\n",
       " 0.3333333333333333,\n",
       " 0.16666666666666666,\n",
       " 0.5,\n",
       " 0.6666666666666666]"
      ]
     },
     "execution_count": 134,
     "metadata": {},
     "output_type": "execute_result"
    }
   ],
   "source": [
    "# -1~1 사이로 변경해보기\n",
    "values = [-6, -2, 2, 1, 3, 4]\n",
    "max_l = max(list(map(abs, l)))   # == max([abs(val) for val in values]\n",
    "normalize_data = [data / max_l for data in values]\n",
    "normalize_data"
   ]
  },
  {
   "cell_type": "code",
   "execution_count": null,
   "id": "0fa63764-cfb6-4478-b882-1565fb9a0c8d",
   "metadata": {},
   "outputs": [],
   "source": []
  }
 ],
 "metadata": {
  "kernelspec": {
   "display_name": "Python 3 (ipykernel)",
   "language": "python",
   "name": "python3"
  },
  "language_info": {
   "codemirror_mode": {
    "name": "ipython",
    "version": 3
   },
   "file_extension": ".py",
   "mimetype": "text/x-python",
   "name": "python",
   "nbconvert_exporter": "python",
   "pygments_lexer": "ipython3",
   "version": "3.9.7"
  }
 },
 "nbformat": 4,
 "nbformat_minor": 5
}
