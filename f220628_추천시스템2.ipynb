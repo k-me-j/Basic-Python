{
 "cells": [
  {
   "cell_type": "code",
   "execution_count": 1,
   "id": "13a96235-56dc-47b5-b892-fbec5ceb1755",
   "metadata": {},
   "outputs": [],
   "source": [
    "import os\n",
    "import pandas as pd\n",
    "import matplotlib.pyplot as plt"
   ]
  },
  {
   "cell_type": "code",
   "execution_count": 2,
   "id": "742b8435-d188-4569-acf8-1199c2c28d45",
   "metadata": {},
   "outputs": [],
   "source": [
    "# 모든 컬럼 생략없이 출력하기 위한 옵션\n",
    "pd.set_option('display.max_columns', None)"
   ]
  },
  {
   "cell_type": "code",
   "execution_count": 3,
   "id": "de8b7fc7-54fa-4021-82b7-3c200ab930bf",
   "metadata": {},
   "outputs": [
    {
     "data": {
      "text/plain": [
       "True"
      ]
     },
     "execution_count": 3,
     "metadata": {},
     "output_type": "execute_result"
    }
   ],
   "source": [
    "path = \"../dataset/ml-latest-small/\"\n",
    "os.path.isdir(path)"
   ]
  },
  {
   "cell_type": "markdown",
   "id": "8e459e9a-5d36-46d5-94e4-5919d84a8576",
   "metadata": {},
   "source": [
    "# data load"
   ]
  },
  {
   "cell_type": "code",
   "execution_count": 4,
   "id": "53d29f05-fcf0-4df3-a693-72d2505a4bb8",
   "metadata": {},
   "outputs": [],
   "source": [
    "rating_df = pd.read_csv(os.path.join(path + \"ratings.csv\"), encoding=\"utf-8\")\n",
    "movies_df = pd.read_csv(os.path.join(path + \"movies.csv\"), encoding=\"utf-8\")\n",
    "tags_df = pd.read_csv(os.path.join(path + \"tags.csv\"), encoding=\"utf-8\")"
   ]
  },
  {
   "cell_type": "markdown",
   "id": "7babac63-815e-4f07-9891-8e1854d793b8",
   "metadata": {},
   "source": [
    "# ▶ data 구성 확인"
   ]
  },
  {
   "cell_type": "markdown",
   "id": "9e6e16d6-407b-4ec4-8a02-e4267c3fbde0",
   "metadata": {},
   "source": [
    "### 1. rating_df"
   ]
  },
  {
   "cell_type": "code",
   "execution_count": 5,
   "id": "eda6f1fe-a7ab-47c8-afe7-929075638f4b",
   "metadata": {},
   "outputs": [
    {
     "data": {
      "text/plain": [
       "((100836, 4),\n",
       "    userId  movieId  rating  timestamp\n",
       " 0       1        1     4.0  964982703\n",
       " 1       1        3     4.0  964981247\n",
       " 2       1        6     4.0  964982224\n",
       " 3       1       47     5.0  964983815\n",
       " 4       1       50     5.0  964982931)"
      ]
     },
     "execution_count": 5,
     "metadata": {},
     "output_type": "execute_result"
    }
   ],
   "source": [
    "rating_df.shape, rating_df.head()"
   ]
  },
  {
   "cell_type": "markdown",
   "id": "55859c77-e636-49ba-bfdb-ea8030a8758c",
   "metadata": {},
   "source": [
    "### 2. movies_df"
   ]
  },
  {
   "cell_type": "code",
   "execution_count": 6,
   "id": "473f3597-d47e-44b2-8d81-023609f9a9a3",
   "metadata": {},
   "outputs": [
    {
     "data": {
      "text/plain": [
       "((9742, 3),\n",
       "    movieId                               title  \\\n",
       " 0        1                    Toy Story (1995)   \n",
       " 1        2                      Jumanji (1995)   \n",
       " 2        3             Grumpier Old Men (1995)   \n",
       " 3        4            Waiting to Exhale (1995)   \n",
       " 4        5  Father of the Bride Part II (1995)   \n",
       " \n",
       "                                         genres  \n",
       " 0  Adventure|Animation|Children|Comedy|Fantasy  \n",
       " 1                   Adventure|Children|Fantasy  \n",
       " 2                               Comedy|Romance  \n",
       " 3                         Comedy|Drama|Romance  \n",
       " 4                                       Comedy  )"
      ]
     },
     "execution_count": 6,
     "metadata": {},
     "output_type": "execute_result"
    }
   ],
   "source": [
    "movies_df.shape, movies_df.head()"
   ]
  },
  {
   "cell_type": "markdown",
   "id": "ab04b88d-89c4-4a1e-acaa-9645b48941c5",
   "metadata": {},
   "source": [
    "### 3. tags_df"
   ]
  },
  {
   "cell_type": "code",
   "execution_count": 7,
   "id": "0a90aab9-3474-4207-bd7e-689efb7df465",
   "metadata": {},
   "outputs": [
    {
     "data": {
      "text/plain": [
       "((3683, 4),\n",
       "    userId  movieId              tag   timestamp\n",
       " 0       2    60756            funny  1445714994\n",
       " 1       2    60756  Highly quotable  1445714996\n",
       " 2       2    60756     will ferrell  1445714992\n",
       " 3       2    89774     Boxing story  1445715207\n",
       " 4       2    89774              MMA  1445715200)"
      ]
     },
     "execution_count": 7,
     "metadata": {},
     "output_type": "execute_result"
    }
   ],
   "source": [
    "tags_df.shape, tags_df.head()"
   ]
  },
  {
   "cell_type": "markdown",
   "id": "ee0d943d-862a-4b40-b634-195eeae5c2e4",
   "metadata": {},
   "source": [
    "# ▶ 평점 데이터 rating_df의 데이터 분석(기초 통계)"
   ]
  },
  {
   "cell_type": "markdown",
   "id": "51a9a48c-a966-4bf4-bb35-4b5da98a5f42",
   "metadata": {
    "tags": []
   },
   "source": [
    "### ▷ 기본 정보 확인"
   ]
  },
  {
   "cell_type": "code",
   "execution_count": 8,
   "id": "c038c6bf-76e1-4a05-984e-fa20f847dab9",
   "metadata": {},
   "outputs": [
    {
     "name": "stdout",
     "output_type": "stream",
     "text": [
      "<class 'pandas.core.frame.DataFrame'>\n",
      "RangeIndex: 100836 entries, 0 to 100835\n",
      "Data columns (total 4 columns):\n",
      " #   Column     Non-Null Count   Dtype  \n",
      "---  ------     --------------   -----  \n",
      " 0   userId     100836 non-null  int64  \n",
      " 1   movieId    100836 non-null  int64  \n",
      " 2   rating     100836 non-null  float64\n",
      " 3   timestamp  100836 non-null  int64  \n",
      "dtypes: float64(1), int64(3)\n",
      "memory usage: 3.1 MB\n"
     ]
    }
   ],
   "source": [
    "rating_df.info()"
   ]
  },
  {
   "cell_type": "markdown",
   "id": "d6eedd25-4e68-4f8a-92de-a34fc0fd6a81",
   "metadata": {},
   "source": [
    "### ▷ 평점을 준 유저는 몇 명인가?"
   ]
  },
  {
   "cell_type": "code",
   "execution_count": 9,
   "id": "6c3968c8-0a3d-4e37-89a2-c94f6864e8d1",
   "metadata": {},
   "outputs": [
    {
     "data": {
      "text/plain": [
       "610"
      ]
     },
     "execution_count": 9,
     "metadata": {},
     "output_type": "execute_result"
    }
   ],
   "source": [
    "len(rating_df.groupby([\"userId\"]))"
   ]
  },
  {
   "cell_type": "code",
   "execution_count": 10,
   "id": "f3656d39-b284-4a5b-b4fe-9f1323e3ae69",
   "metadata": {},
   "outputs": [
    {
     "data": {
      "text/plain": [
       "610"
      ]
     },
     "execution_count": 10,
     "metadata": {},
     "output_type": "execute_result"
    }
   ],
   "source": [
    "# unique()로 구할 수도 있음\n",
    "len(rating_df.userId.unique())"
   ]
  },
  {
   "cell_type": "markdown",
   "id": "8cfa2ccd-f923-4754-8eec-dd2ea10864ed",
   "metadata": {},
   "source": [
    "### ▷ 평점을 받은 영화의 수는 몇 개인가? "
   ]
  },
  {
   "cell_type": "code",
   "execution_count": 11,
   "id": "b5da3bdf-a722-4c64-8fb6-c8b945407847",
   "metadata": {},
   "outputs": [
    {
     "data": {
      "text/plain": [
       "9724"
      ]
     },
     "execution_count": 11,
     "metadata": {},
     "output_type": "execute_result"
    }
   ],
   "source": [
    "len(rating_df.movieId.unique())  # 9742개의 영화 중 평점 받은 영화 9742개"
   ]
  },
  {
   "cell_type": "markdown",
   "id": "9c85910c-c92d-4d37-a265-11afc85c919a",
   "metadata": {},
   "source": [
    "### ▷ 평점의 평균, 표준편차 등 통계에 대한 데이터를 확인"
   ]
  },
  {
   "cell_type": "code",
   "execution_count": 12,
   "id": "5e35a480-1296-468d-b492-2704f77d8208",
   "metadata": {},
   "outputs": [
    {
     "data": {
      "text/plain": [
       "count    100836.000000\n",
       "mean          3.501557\n",
       "std           1.042529\n",
       "min           0.500000\n",
       "25%           3.000000\n",
       "50%           3.500000\n",
       "75%           4.000000\n",
       "max           5.000000\n",
       "Name: rating, dtype: float64"
      ]
     },
     "execution_count": 12,
     "metadata": {},
     "output_type": "execute_result"
    }
   ],
   "source": [
    "rating_df.rating.describe()\n",
    "# 평균이 3.5이고 표준편차가 1.0 정도이므로 점수가 2.5~4.5 사이에 많이 분포되어 있음을 알 수 있음"
   ]
  },
  {
   "cell_type": "markdown",
   "id": "06170506-659a-4af6-b6b6-44e07ffddedc",
   "metadata": {},
   "source": [
    "### ▷ NaN 유무 확인 : ```isnull()```"
   ]
  },
  {
   "cell_type": "code",
   "execution_count": 13,
   "id": "9f409af2-74f8-4da2-9472-5cef978dd42d",
   "metadata": {},
   "outputs": [
    {
     "data": {
      "text/plain": [
       "userId       0\n",
       "movieId      0\n",
       "rating       0\n",
       "timestamp    0\n",
       "dtype: int64"
      ]
     },
     "execution_count": 13,
     "metadata": {},
     "output_type": "execute_result"
    }
   ],
   "source": [
    "rating_df.isnull().sum()"
   ]
  },
  {
   "cell_type": "markdown",
   "id": "12b04789-cef8-48a9-8c5f-de21c624ed7d",
   "metadata": {},
   "source": [
    "# ▶ ```groupby()```를 활용한 통계 연습"
   ]
  },
  {
   "cell_type": "markdown",
   "id": "6b0d5fa1-ee72-4c25-bd32-3a3f13bbdc13",
   "metadata": {},
   "source": [
    "### ▷ 유저별 평점 평균\n",
    "userId가 1인 사람의 평균 평점, 2인 사람의 평균 평점, ..."
   ]
  },
  {
   "cell_type": "code",
   "execution_count": 14,
   "id": "df14fbc5-e294-4920-8839-f217e6b77e28",
   "metadata": {},
   "outputs": [
    {
     "data": {
      "text/plain": [
       "userId\n",
       "1      4.366379\n",
       "2      3.948276\n",
       "3      2.435897\n",
       "4      3.555556\n",
       "5      3.636364\n",
       "         ...   \n",
       "606    3.657399\n",
       "607    3.786096\n",
       "608    3.134176\n",
       "609    3.270270\n",
       "610    3.688556\n",
       "Name: rating, Length: 610, dtype: float64"
      ]
     },
     "execution_count": 14,
     "metadata": {},
     "output_type": "execute_result"
    }
   ],
   "source": [
    "rating_df.groupby('userId').mean()['rating']\n",
    "# == rating_df.groupby('userId')['rating'].mean()"
   ]
  },
  {
   "cell_type": "markdown",
   "id": "d4c476d9-4fad-4c2a-8681-611080fb7e9a",
   "metadata": {},
   "source": [
    "### ▷ 유저별 평점별 평가 횟수\n",
    "1번 유저가 1점을 몇 번 줬는지, 2점을 몇 번 줬는지 등에 대한 통계"
   ]
  },
  {
   "cell_type": "code",
   "execution_count": 15,
   "id": "b8b8f1c6-80aa-445b-9567-16c5d9235379",
   "metadata": {},
   "outputs": [
    {
     "data": {
      "text/plain": [
       "userId  rating\n",
       "1       1.0         1\n",
       "        2.0         5\n",
       "        3.0        26\n",
       "        4.0        76\n",
       "        5.0       124\n",
       "                 ... \n",
       "610     3.0       230\n",
       "        3.5       315\n",
       "        4.0       286\n",
       "        4.5       148\n",
       "        5.0       180\n",
       "Length: 3976, dtype: int64"
      ]
     },
     "execution_count": 15,
     "metadata": {},
     "output_type": "execute_result"
    }
   ],
   "source": [
    "rating_df.groupby(['userId', 'rating']).size()"
   ]
  },
  {
   "cell_type": "markdown",
   "id": "9379305d-475d-4e73-9b63-364138a31c54",
   "metadata": {},
   "source": [
    "### ▷ 유저가 평점을 준 영화의 수"
   ]
  },
  {
   "cell_type": "code",
   "execution_count": 16,
   "id": "953ba337-2883-4b2d-95b2-e132e0450af9",
   "metadata": {},
   "outputs": [
    {
     "data": {
      "text/plain": [
       "userId\n",
       "1       232\n",
       "2        29\n",
       "3        39\n",
       "4       216\n",
       "5        44\n",
       "       ... \n",
       "606    1115\n",
       "607     187\n",
       "608     831\n",
       "609      37\n",
       "610    1302\n",
       "Name: movieId, Length: 610, dtype: int64"
      ]
     },
     "execution_count": 16,
     "metadata": {},
     "output_type": "execute_result"
    }
   ],
   "source": [
    "rating_df.groupby(\"userId\")[\"movieId\"].count()"
   ]
  },
  {
   "cell_type": "markdown",
   "id": "ac865e0c-797a-4a4d-bc7a-267ef5ee3f5b",
   "metadata": {},
   "source": [
    "### ▷ 유저가 평균적으로 준 평점과 평점을 준 영화의 수 -> DataFrame으로 반환"
   ]
  },
  {
   "cell_type": "code",
   "execution_count": 17,
   "id": "2b9e18be-6709-4357-827e-17d0f3a847f3",
   "metadata": {},
   "outputs": [
    {
     "data": {
      "text/html": [
       "<div>\n",
       "<style scoped>\n",
       "    .dataframe tbody tr th:only-of-type {\n",
       "        vertical-align: middle;\n",
       "    }\n",
       "\n",
       "    .dataframe tbody tr th {\n",
       "        vertical-align: top;\n",
       "    }\n",
       "\n",
       "    .dataframe thead th {\n",
       "        text-align: right;\n",
       "    }\n",
       "</style>\n",
       "<table border=\"1\" class=\"dataframe\">\n",
       "  <thead>\n",
       "    <tr style=\"text-align: right;\">\n",
       "      <th></th>\n",
       "      <th>rating</th>\n",
       "      <th>movieId</th>\n",
       "    </tr>\n",
       "    <tr>\n",
       "      <th>userId</th>\n",
       "      <th></th>\n",
       "      <th></th>\n",
       "    </tr>\n",
       "  </thead>\n",
       "  <tbody>\n",
       "    <tr>\n",
       "      <th>1</th>\n",
       "      <td>4.366379</td>\n",
       "      <td>232</td>\n",
       "    </tr>\n",
       "    <tr>\n",
       "      <th>2</th>\n",
       "      <td>3.948276</td>\n",
       "      <td>29</td>\n",
       "    </tr>\n",
       "    <tr>\n",
       "      <th>3</th>\n",
       "      <td>2.435897</td>\n",
       "      <td>39</td>\n",
       "    </tr>\n",
       "    <tr>\n",
       "      <th>4</th>\n",
       "      <td>3.555556</td>\n",
       "      <td>216</td>\n",
       "    </tr>\n",
       "    <tr>\n",
       "      <th>5</th>\n",
       "      <td>3.636364</td>\n",
       "      <td>44</td>\n",
       "    </tr>\n",
       "    <tr>\n",
       "      <th>...</th>\n",
       "      <td>...</td>\n",
       "      <td>...</td>\n",
       "    </tr>\n",
       "    <tr>\n",
       "      <th>606</th>\n",
       "      <td>3.657399</td>\n",
       "      <td>1115</td>\n",
       "    </tr>\n",
       "    <tr>\n",
       "      <th>607</th>\n",
       "      <td>3.786096</td>\n",
       "      <td>187</td>\n",
       "    </tr>\n",
       "    <tr>\n",
       "      <th>608</th>\n",
       "      <td>3.134176</td>\n",
       "      <td>831</td>\n",
       "    </tr>\n",
       "    <tr>\n",
       "      <th>609</th>\n",
       "      <td>3.270270</td>\n",
       "      <td>37</td>\n",
       "    </tr>\n",
       "    <tr>\n",
       "      <th>610</th>\n",
       "      <td>3.688556</td>\n",
       "      <td>1302</td>\n",
       "    </tr>\n",
       "  </tbody>\n",
       "</table>\n",
       "<p>610 rows × 2 columns</p>\n",
       "</div>"
      ],
      "text/plain": [
       "          rating  movieId\n",
       "userId                   \n",
       "1       4.366379      232\n",
       "2       3.948276       29\n",
       "3       2.435897       39\n",
       "4       3.555556      216\n",
       "5       3.636364       44\n",
       "...          ...      ...\n",
       "606     3.657399     1115\n",
       "607     3.786096      187\n",
       "608     3.134176      831\n",
       "609     3.270270       37\n",
       "610     3.688556     1302\n",
       "\n",
       "[610 rows x 2 columns]"
      ]
     },
     "execution_count": 17,
     "metadata": {},
     "output_type": "execute_result"
    }
   ],
   "source": [
    "user_avg_rating = rating_df.groupby('userId')['rating'].mean()  # 유저별 평균 평점\n",
    "user_rating_movie_cnt = rating_df.groupby(\"userId\")[\"movieId\"].count()  # 유저별 평점 영화 수\n",
    "\n",
    "stat_df = pd.concat([user_avg_rating, user_rating_movie_cnt], axis=1)\n",
    "stat_df"
   ]
  },
  {
   "cell_type": "code",
   "execution_count": 18,
   "id": "27ba3cf2-499f-4dbf-9d27-9ea008c2508c",
   "metadata": {},
   "outputs": [
    {
     "data": {
      "text/html": [
       "<div>\n",
       "<style scoped>\n",
       "    .dataframe tbody tr th:only-of-type {\n",
       "        vertical-align: middle;\n",
       "    }\n",
       "\n",
       "    .dataframe tbody tr th {\n",
       "        vertical-align: top;\n",
       "    }\n",
       "\n",
       "    .dataframe thead th {\n",
       "        text-align: right;\n",
       "    }\n",
       "</style>\n",
       "<table border=\"1\" class=\"dataframe\">\n",
       "  <thead>\n",
       "    <tr style=\"text-align: right;\">\n",
       "      <th></th>\n",
       "      <th>rating_mean</th>\n",
       "      <th>movie_count</th>\n",
       "    </tr>\n",
       "    <tr>\n",
       "      <th>userId</th>\n",
       "      <th></th>\n",
       "      <th></th>\n",
       "    </tr>\n",
       "  </thead>\n",
       "  <tbody>\n",
       "    <tr>\n",
       "      <th>1</th>\n",
       "      <td>4.366379</td>\n",
       "      <td>232</td>\n",
       "    </tr>\n",
       "    <tr>\n",
       "      <th>2</th>\n",
       "      <td>3.948276</td>\n",
       "      <td>29</td>\n",
       "    </tr>\n",
       "    <tr>\n",
       "      <th>3</th>\n",
       "      <td>2.435897</td>\n",
       "      <td>39</td>\n",
       "    </tr>\n",
       "    <tr>\n",
       "      <th>4</th>\n",
       "      <td>3.555556</td>\n",
       "      <td>216</td>\n",
       "    </tr>\n",
       "    <tr>\n",
       "      <th>5</th>\n",
       "      <td>3.636364</td>\n",
       "      <td>44</td>\n",
       "    </tr>\n",
       "    <tr>\n",
       "      <th>...</th>\n",
       "      <td>...</td>\n",
       "      <td>...</td>\n",
       "    </tr>\n",
       "    <tr>\n",
       "      <th>606</th>\n",
       "      <td>3.657399</td>\n",
       "      <td>1115</td>\n",
       "    </tr>\n",
       "    <tr>\n",
       "      <th>607</th>\n",
       "      <td>3.786096</td>\n",
       "      <td>187</td>\n",
       "    </tr>\n",
       "    <tr>\n",
       "      <th>608</th>\n",
       "      <td>3.134176</td>\n",
       "      <td>831</td>\n",
       "    </tr>\n",
       "    <tr>\n",
       "      <th>609</th>\n",
       "      <td>3.270270</td>\n",
       "      <td>37</td>\n",
       "    </tr>\n",
       "    <tr>\n",
       "      <th>610</th>\n",
       "      <td>3.688556</td>\n",
       "      <td>1302</td>\n",
       "    </tr>\n",
       "  </tbody>\n",
       "</table>\n",
       "<p>610 rows × 2 columns</p>\n",
       "</div>"
      ],
      "text/plain": [
       "        rating_mean  movie_count\n",
       "userId                          \n",
       "1          4.366379          232\n",
       "2          3.948276           29\n",
       "3          2.435897           39\n",
       "4          3.555556          216\n",
       "5          3.636364           44\n",
       "...             ...          ...\n",
       "606        3.657399         1115\n",
       "607        3.786096          187\n",
       "608        3.134176          831\n",
       "609        3.270270           37\n",
       "610        3.688556         1302\n",
       "\n",
       "[610 rows x 2 columns]"
      ]
     },
     "execution_count": 18,
     "metadata": {},
     "output_type": "execute_result"
    }
   ],
   "source": [
    "stat_df2 = pd.DataFrame({\n",
    "    \"rating_mean\": user_avg_rating,\n",
    "    \"movie_count\": user_rating_movie_cnt\n",
    "    })\n",
    "stat_df2"
   ]
  },
  {
   "cell_type": "markdown",
   "id": "9168c68d-b5a3-4abe-b540-9f2d8d65afdf",
   "metadata": {},
   "source": [
    "# new!! ▶ 영화별 평점이 얼마인지, 얼마나 많은 평가를 받았는지 등에 대한 통계"
   ]
  },
  {
   "cell_type": "code",
   "execution_count": 20,
   "id": "e8a0fe7a-a83c-4681-8ebc-d0ebee993eb6",
   "metadata": {},
   "outputs": [],
   "source": [
    "# movie_stat_df 생성하고 mean, count 등을 확인해보기\n",
    "movie_stat_df = pd.DataFrame({\n",
    "    # count() : NaN은 카운트하지 않음\n",
    "    \"cnt_user_ratings\": rating_df.groupby(\"movieId\")[\"userId\"].count(),\n",
    "    \"mean_ratings\": rating_df.groupby(\"movieId\")[\"rating\"].mean(),\n",
    "    \"std_ratings\": rating_df.groupby(\"movieId\")[\"rating\"].std(),\n",
    "})"
   ]
  },
  {
   "cell_type": "code",
   "execution_count": 22,
   "id": "bd33af46-34b6-4286-b369-2aa82efc9c27",
   "metadata": {},
   "outputs": [
    {
     "data": {
      "text/html": [
       "<div>\n",
       "<style scoped>\n",
       "    .dataframe tbody tr th:only-of-type {\n",
       "        vertical-align: middle;\n",
       "    }\n",
       "\n",
       "    .dataframe tbody tr th {\n",
       "        vertical-align: top;\n",
       "    }\n",
       "\n",
       "    .dataframe thead th {\n",
       "        text-align: right;\n",
       "    }\n",
       "</style>\n",
       "<table border=\"1\" class=\"dataframe\">\n",
       "  <thead>\n",
       "    <tr style=\"text-align: right;\">\n",
       "      <th></th>\n",
       "      <th>cnt_user_ratings</th>\n",
       "      <th>mean_ratings</th>\n",
       "      <th>std_ratings</th>\n",
       "    </tr>\n",
       "    <tr>\n",
       "      <th>movieId</th>\n",
       "      <th></th>\n",
       "      <th></th>\n",
       "      <th></th>\n",
       "    </tr>\n",
       "  </thead>\n",
       "  <tbody>\n",
       "    <tr>\n",
       "      <th>1</th>\n",
       "      <td>215</td>\n",
       "      <td>3.920930</td>\n",
       "      <td>0.834859</td>\n",
       "    </tr>\n",
       "    <tr>\n",
       "      <th>2</th>\n",
       "      <td>110</td>\n",
       "      <td>3.431818</td>\n",
       "      <td>0.881713</td>\n",
       "    </tr>\n",
       "    <tr>\n",
       "      <th>3</th>\n",
       "      <td>52</td>\n",
       "      <td>3.259615</td>\n",
       "      <td>1.054823</td>\n",
       "    </tr>\n",
       "    <tr>\n",
       "      <th>4</th>\n",
       "      <td>7</td>\n",
       "      <td>2.357143</td>\n",
       "      <td>0.852168</td>\n",
       "    </tr>\n",
       "    <tr>\n",
       "      <th>5</th>\n",
       "      <td>49</td>\n",
       "      <td>3.071429</td>\n",
       "      <td>0.907148</td>\n",
       "    </tr>\n",
       "  </tbody>\n",
       "</table>\n",
       "</div>"
      ],
      "text/plain": [
       "         cnt_user_ratings  mean_ratings  std_ratings\n",
       "movieId                                             \n",
       "1                     215      3.920930     0.834859\n",
       "2                     110      3.431818     0.881713\n",
       "3                      52      3.259615     1.054823\n",
       "4                       7      2.357143     0.852168\n",
       "5                      49      3.071429     0.907148"
      ]
     },
     "execution_count": 22,
     "metadata": {},
     "output_type": "execute_result"
    }
   ],
   "source": [
    "movie_stat_df.head()"
   ]
  },
  {
   "cell_type": "code",
   "execution_count": 25,
   "id": "4f1be0ae-e4f4-4991-bed1-749eb0586b1f",
   "metadata": {},
   "outputs": [
    {
     "data": {
      "text/html": [
       "<div>\n",
       "<style scoped>\n",
       "    .dataframe tbody tr th:only-of-type {\n",
       "        vertical-align: middle;\n",
       "    }\n",
       "\n",
       "    .dataframe tbody tr th {\n",
       "        vertical-align: top;\n",
       "    }\n",
       "\n",
       "    .dataframe thead th {\n",
       "        text-align: right;\n",
       "    }\n",
       "</style>\n",
       "<table border=\"1\" class=\"dataframe\">\n",
       "  <thead>\n",
       "    <tr style=\"text-align: right;\">\n",
       "      <th></th>\n",
       "      <th>cnt_user_ratings</th>\n",
       "      <th>mean_ratings</th>\n",
       "      <th>std_ratings</th>\n",
       "    </tr>\n",
       "    <tr>\n",
       "      <th>movieId</th>\n",
       "      <th></th>\n",
       "      <th></th>\n",
       "      <th></th>\n",
       "    </tr>\n",
       "  </thead>\n",
       "  <tbody>\n",
       "    <tr>\n",
       "      <th>356</th>\n",
       "      <td>329</td>\n",
       "      <td>4.164134</td>\n",
       "      <td>0.831244</td>\n",
       "    </tr>\n",
       "    <tr>\n",
       "      <th>318</th>\n",
       "      <td>317</td>\n",
       "      <td>4.429022</td>\n",
       "      <td>0.713019</td>\n",
       "    </tr>\n",
       "    <tr>\n",
       "      <th>296</th>\n",
       "      <td>307</td>\n",
       "      <td>4.197068</td>\n",
       "      <td>0.951997</td>\n",
       "    </tr>\n",
       "    <tr>\n",
       "      <th>593</th>\n",
       "      <td>279</td>\n",
       "      <td>4.161290</td>\n",
       "      <td>0.853983</td>\n",
       "    </tr>\n",
       "    <tr>\n",
       "      <th>2571</th>\n",
       "      <td>278</td>\n",
       "      <td>4.192446</td>\n",
       "      <td>0.975243</td>\n",
       "    </tr>\n",
       "    <tr>\n",
       "      <th>...</th>\n",
       "      <td>...</td>\n",
       "      <td>...</td>\n",
       "      <td>...</td>\n",
       "    </tr>\n",
       "    <tr>\n",
       "      <th>4093</th>\n",
       "      <td>1</td>\n",
       "      <td>1.500000</td>\n",
       "      <td>NaN</td>\n",
       "    </tr>\n",
       "    <tr>\n",
       "      <th>4089</th>\n",
       "      <td>1</td>\n",
       "      <td>2.000000</td>\n",
       "      <td>NaN</td>\n",
       "    </tr>\n",
       "    <tr>\n",
       "      <th>58351</th>\n",
       "      <td>1</td>\n",
       "      <td>4.000000</td>\n",
       "      <td>NaN</td>\n",
       "    </tr>\n",
       "    <tr>\n",
       "      <th>4083</th>\n",
       "      <td>1</td>\n",
       "      <td>4.000000</td>\n",
       "      <td>NaN</td>\n",
       "    </tr>\n",
       "    <tr>\n",
       "      <th>193609</th>\n",
       "      <td>1</td>\n",
       "      <td>4.000000</td>\n",
       "      <td>NaN</td>\n",
       "    </tr>\n",
       "  </tbody>\n",
       "</table>\n",
       "<p>9724 rows × 3 columns</p>\n",
       "</div>"
      ],
      "text/plain": [
       "         cnt_user_ratings  mean_ratings  std_ratings\n",
       "movieId                                             \n",
       "356                   329      4.164134     0.831244\n",
       "318                   317      4.429022     0.713019\n",
       "296                   307      4.197068     0.951997\n",
       "593                   279      4.161290     0.853983\n",
       "2571                  278      4.192446     0.975243\n",
       "...                   ...           ...          ...\n",
       "4093                    1      1.500000          NaN\n",
       "4089                    1      2.000000          NaN\n",
       "58351                   1      4.000000          NaN\n",
       "4083                    1      4.000000          NaN\n",
       "193609                  1      4.000000          NaN\n",
       "\n",
       "[9724 rows x 3 columns]"
      ]
     },
     "execution_count": 25,
     "metadata": {},
     "output_type": "execute_result"
    }
   ],
   "source": [
    "# join 하기 전 평점을 가장 많이 받은 영화순(movieId)으로 sorting\n",
    "movie_stat_df.sort_values(by=\"cnt_user_ratings\", \n",
    "                          ascending=False, \n",
    "                          # inplace=True\n",
    "                         )"
   ]
  },
  {
   "cell_type": "code",
   "execution_count": 30,
   "id": "d857443f-1ef8-419f-9f77-c05ad6429b69",
   "metadata": {},
   "outputs": [
    {
     "name": "stdout",
     "output_type": "stream",
     "text": [
      "9724\n"
     ]
    }
   ],
   "source": [
    "df_join_movies = pd.merge(movie_stat_df, movies_df,  # <- 이 두 개의 DataFrame을 join하기\n",
    "                         how=\"left\",\n",
    "                         left_on=\"movieId\",\n",
    "                         right_on=\"movieId\")  # join할거면 merge. not concat\n",
    "print(len(df_join_movies))"
   ]
  },
  {
   "cell_type": "code",
   "execution_count": 31,
   "id": "411f2d2d-2a73-4d40-882f-55d104360f6f",
   "metadata": {},
   "outputs": [
    {
     "data": {
      "text/html": [
       "<div>\n",
       "<style scoped>\n",
       "    .dataframe tbody tr th:only-of-type {\n",
       "        vertical-align: middle;\n",
       "    }\n",
       "\n",
       "    .dataframe tbody tr th {\n",
       "        vertical-align: top;\n",
       "    }\n",
       "\n",
       "    .dataframe thead th {\n",
       "        text-align: right;\n",
       "    }\n",
       "</style>\n",
       "<table border=\"1\" class=\"dataframe\">\n",
       "  <thead>\n",
       "    <tr style=\"text-align: right;\">\n",
       "      <th></th>\n",
       "      <th>movieId</th>\n",
       "      <th>cnt_user_ratings</th>\n",
       "      <th>mean_ratings</th>\n",
       "      <th>std_ratings</th>\n",
       "      <th>title</th>\n",
       "      <th>genres</th>\n",
       "    </tr>\n",
       "  </thead>\n",
       "  <tbody>\n",
       "    <tr>\n",
       "      <th>0</th>\n",
       "      <td>1</td>\n",
       "      <td>215</td>\n",
       "      <td>3.920930</td>\n",
       "      <td>0.834859</td>\n",
       "      <td>Toy Story (1995)</td>\n",
       "      <td>Adventure|Animation|Children|Comedy|Fantasy</td>\n",
       "    </tr>\n",
       "    <tr>\n",
       "      <th>1</th>\n",
       "      <td>2</td>\n",
       "      <td>110</td>\n",
       "      <td>3.431818</td>\n",
       "      <td>0.881713</td>\n",
       "      <td>Jumanji (1995)</td>\n",
       "      <td>Adventure|Children|Fantasy</td>\n",
       "    </tr>\n",
       "    <tr>\n",
       "      <th>2</th>\n",
       "      <td>3</td>\n",
       "      <td>52</td>\n",
       "      <td>3.259615</td>\n",
       "      <td>1.054823</td>\n",
       "      <td>Grumpier Old Men (1995)</td>\n",
       "      <td>Comedy|Romance</td>\n",
       "    </tr>\n",
       "    <tr>\n",
       "      <th>3</th>\n",
       "      <td>4</td>\n",
       "      <td>7</td>\n",
       "      <td>2.357143</td>\n",
       "      <td>0.852168</td>\n",
       "      <td>Waiting to Exhale (1995)</td>\n",
       "      <td>Comedy|Drama|Romance</td>\n",
       "    </tr>\n",
       "    <tr>\n",
       "      <th>4</th>\n",
       "      <td>5</td>\n",
       "      <td>49</td>\n",
       "      <td>3.071429</td>\n",
       "      <td>0.907148</td>\n",
       "      <td>Father of the Bride Part II (1995)</td>\n",
       "      <td>Comedy</td>\n",
       "    </tr>\n",
       "    <tr>\n",
       "      <th>...</th>\n",
       "      <td>...</td>\n",
       "      <td>...</td>\n",
       "      <td>...</td>\n",
       "      <td>...</td>\n",
       "      <td>...</td>\n",
       "      <td>...</td>\n",
       "    </tr>\n",
       "    <tr>\n",
       "      <th>9719</th>\n",
       "      <td>193581</td>\n",
       "      <td>1</td>\n",
       "      <td>4.000000</td>\n",
       "      <td>NaN</td>\n",
       "      <td>Black Butler: Book of the Atlantic (2017)</td>\n",
       "      <td>Action|Animation|Comedy|Fantasy</td>\n",
       "    </tr>\n",
       "    <tr>\n",
       "      <th>9720</th>\n",
       "      <td>193583</td>\n",
       "      <td>1</td>\n",
       "      <td>3.500000</td>\n",
       "      <td>NaN</td>\n",
       "      <td>No Game No Life: Zero (2017)</td>\n",
       "      <td>Animation|Comedy|Fantasy</td>\n",
       "    </tr>\n",
       "    <tr>\n",
       "      <th>9721</th>\n",
       "      <td>193585</td>\n",
       "      <td>1</td>\n",
       "      <td>3.500000</td>\n",
       "      <td>NaN</td>\n",
       "      <td>Flint (2017)</td>\n",
       "      <td>Drama</td>\n",
       "    </tr>\n",
       "    <tr>\n",
       "      <th>9722</th>\n",
       "      <td>193587</td>\n",
       "      <td>1</td>\n",
       "      <td>3.500000</td>\n",
       "      <td>NaN</td>\n",
       "      <td>Bungo Stray Dogs: Dead Apple (2018)</td>\n",
       "      <td>Action|Animation</td>\n",
       "    </tr>\n",
       "    <tr>\n",
       "      <th>9723</th>\n",
       "      <td>193609</td>\n",
       "      <td>1</td>\n",
       "      <td>4.000000</td>\n",
       "      <td>NaN</td>\n",
       "      <td>Andrew Dice Clay: Dice Rules (1991)</td>\n",
       "      <td>Comedy</td>\n",
       "    </tr>\n",
       "  </tbody>\n",
       "</table>\n",
       "<p>9724 rows × 6 columns</p>\n",
       "</div>"
      ],
      "text/plain": [
       "      movieId  cnt_user_ratings  mean_ratings  std_ratings  \\\n",
       "0           1               215      3.920930     0.834859   \n",
       "1           2               110      3.431818     0.881713   \n",
       "2           3                52      3.259615     1.054823   \n",
       "3           4                 7      2.357143     0.852168   \n",
       "4           5                49      3.071429     0.907148   \n",
       "...       ...               ...           ...          ...   \n",
       "9719   193581                 1      4.000000          NaN   \n",
       "9720   193583                 1      3.500000          NaN   \n",
       "9721   193585                 1      3.500000          NaN   \n",
       "9722   193587                 1      3.500000          NaN   \n",
       "9723   193609                 1      4.000000          NaN   \n",
       "\n",
       "                                          title  \\\n",
       "0                              Toy Story (1995)   \n",
       "1                                Jumanji (1995)   \n",
       "2                       Grumpier Old Men (1995)   \n",
       "3                      Waiting to Exhale (1995)   \n",
       "4            Father of the Bride Part II (1995)   \n",
       "...                                         ...   \n",
       "9719  Black Butler: Book of the Atlantic (2017)   \n",
       "9720               No Game No Life: Zero (2017)   \n",
       "9721                               Flint (2017)   \n",
       "9722        Bungo Stray Dogs: Dead Apple (2018)   \n",
       "9723        Andrew Dice Clay: Dice Rules (1991)   \n",
       "\n",
       "                                           genres  \n",
       "0     Adventure|Animation|Children|Comedy|Fantasy  \n",
       "1                      Adventure|Children|Fantasy  \n",
       "2                                  Comedy|Romance  \n",
       "3                            Comedy|Drama|Romance  \n",
       "4                                          Comedy  \n",
       "...                                           ...  \n",
       "9719              Action|Animation|Comedy|Fantasy  \n",
       "9720                     Animation|Comedy|Fantasy  \n",
       "9721                                        Drama  \n",
       "9722                             Action|Animation  \n",
       "9723                                       Comedy  \n",
       "\n",
       "[9724 rows x 6 columns]"
      ]
     },
     "execution_count": 31,
     "metadata": {},
     "output_type": "execute_result"
    }
   ],
   "source": [
    "df_join_movies"
   ]
  },
  {
   "cell_type": "code",
   "execution_count": 37,
   "id": "5fb3338f-40ef-4466-8fc1-c7fc43539b92",
   "metadata": {},
   "outputs": [
    {
     "data": {
      "text/html": [
       "<div>\n",
       "<style scoped>\n",
       "    .dataframe tbody tr th:only-of-type {\n",
       "        vertical-align: middle;\n",
       "    }\n",
       "\n",
       "    .dataframe tbody tr th {\n",
       "        vertical-align: top;\n",
       "    }\n",
       "\n",
       "    .dataframe thead th {\n",
       "        text-align: right;\n",
       "    }\n",
       "</style>\n",
       "<table border=\"1\" class=\"dataframe\">\n",
       "  <thead>\n",
       "    <tr style=\"text-align: right;\">\n",
       "      <th></th>\n",
       "      <th>movieId</th>\n",
       "      <th>cnt_user_ratings</th>\n",
       "      <th>mean_ratings</th>\n",
       "      <th>std_ratings</th>\n",
       "      <th>title</th>\n",
       "      <th>genres</th>\n",
       "    </tr>\n",
       "  </thead>\n",
       "  <tbody>\n",
       "    <tr>\n",
       "      <th>0</th>\n",
       "      <td>1</td>\n",
       "      <td>215</td>\n",
       "      <td>3.920930</td>\n",
       "      <td>0.834859</td>\n",
       "      <td>Toy Story (1995)</td>\n",
       "      <td>Adventure|Animation|Children|Comedy|Fantasy</td>\n",
       "    </tr>\n",
       "    <tr>\n",
       "      <th>1</th>\n",
       "      <td>2</td>\n",
       "      <td>110</td>\n",
       "      <td>3.431818</td>\n",
       "      <td>0.881713</td>\n",
       "      <td>Jumanji (1995)</td>\n",
       "      <td>Adventure|Children|Fantasy</td>\n",
       "    </tr>\n",
       "    <tr>\n",
       "      <th>2</th>\n",
       "      <td>3</td>\n",
       "      <td>52</td>\n",
       "      <td>3.259615</td>\n",
       "      <td>1.054823</td>\n",
       "      <td>Grumpier Old Men (1995)</td>\n",
       "      <td>Comedy|Romance</td>\n",
       "    </tr>\n",
       "    <tr>\n",
       "      <th>3</th>\n",
       "      <td>4</td>\n",
       "      <td>7</td>\n",
       "      <td>2.357143</td>\n",
       "      <td>0.852168</td>\n",
       "      <td>Waiting to Exhale (1995)</td>\n",
       "      <td>Comedy|Drama|Romance</td>\n",
       "    </tr>\n",
       "    <tr>\n",
       "      <th>4</th>\n",
       "      <td>5</td>\n",
       "      <td>49</td>\n",
       "      <td>3.071429</td>\n",
       "      <td>0.907148</td>\n",
       "      <td>Father of the Bride Part II (1995)</td>\n",
       "      <td>Comedy</td>\n",
       "    </tr>\n",
       "  </tbody>\n",
       "</table>\n",
       "</div>"
      ],
      "text/plain": [
       "   movieId  cnt_user_ratings  mean_ratings  std_ratings  \\\n",
       "0        1               215      3.920930     0.834859   \n",
       "1        2               110      3.431818     0.881713   \n",
       "2        3                52      3.259615     1.054823   \n",
       "3        4                 7      2.357143     0.852168   \n",
       "4        5                49      3.071429     0.907148   \n",
       "\n",
       "                                title  \\\n",
       "0                    Toy Story (1995)   \n",
       "1                      Jumanji (1995)   \n",
       "2             Grumpier Old Men (1995)   \n",
       "3            Waiting to Exhale (1995)   \n",
       "4  Father of the Bride Part II (1995)   \n",
       "\n",
       "                                        genres  \n",
       "0  Adventure|Animation|Children|Comedy|Fantasy  \n",
       "1                   Adventure|Children|Fantasy  \n",
       "2                               Comedy|Romance  \n",
       "3                         Comedy|Drama|Romance  \n",
       "4                                       Comedy  "
      ]
     },
     "execution_count": 37,
     "metadata": {},
     "output_type": "execute_result"
    }
   ],
   "source": [
    "movie_stat_df_1 = movie_stat_df.reset_index()  \n",
    "# movie_stat_df는 movieId를 인덱스로 인식하기 때문에\n",
    "# 같은 컬럼 찾기 실패해서 에러뜸. 그래서 강제로 인덱스 생성해서 조인해줌\n",
    "\n",
    "df_join_movies_1 = pd.merge(movie_stat_df_1, movies_df)\n",
    "df_join_movies_1.head()"
   ]
  },
  {
   "cell_type": "code",
   "execution_count": 35,
   "id": "dcf3c59e-6123-4dc8-b65a-315b27bbc7e4",
   "metadata": {},
   "outputs": [
    {
     "data": {
      "text/html": [
       "<div>\n",
       "<style scoped>\n",
       "    .dataframe tbody tr th:only-of-type {\n",
       "        vertical-align: middle;\n",
       "    }\n",
       "\n",
       "    .dataframe tbody tr th {\n",
       "        vertical-align: top;\n",
       "    }\n",
       "\n",
       "    .dataframe thead th {\n",
       "        text-align: right;\n",
       "    }\n",
       "</style>\n",
       "<table border=\"1\" class=\"dataframe\">\n",
       "  <thead>\n",
       "    <tr style=\"text-align: right;\">\n",
       "      <th></th>\n",
       "      <th>movieId</th>\n",
       "      <th>cnt_user_ratings</th>\n",
       "      <th>mean_ratings</th>\n",
       "      <th>std_ratings</th>\n",
       "      <th>title</th>\n",
       "      <th>genres</th>\n",
       "    </tr>\n",
       "  </thead>\n",
       "  <tbody>\n",
       "    <tr>\n",
       "      <th>0</th>\n",
       "      <td>1</td>\n",
       "      <td>215</td>\n",
       "      <td>3.920930</td>\n",
       "      <td>0.834859</td>\n",
       "      <td>Toy Story (1995)</td>\n",
       "      <td>Adventure|Animation|Children|Comedy|Fantasy</td>\n",
       "    </tr>\n",
       "    <tr>\n",
       "      <th>1</th>\n",
       "      <td>2</td>\n",
       "      <td>110</td>\n",
       "      <td>3.431818</td>\n",
       "      <td>0.881713</td>\n",
       "      <td>Jumanji (1995)</td>\n",
       "      <td>Adventure|Children|Fantasy</td>\n",
       "    </tr>\n",
       "    <tr>\n",
       "      <th>2</th>\n",
       "      <td>3</td>\n",
       "      <td>52</td>\n",
       "      <td>3.259615</td>\n",
       "      <td>1.054823</td>\n",
       "      <td>Grumpier Old Men (1995)</td>\n",
       "      <td>Comedy|Romance</td>\n",
       "    </tr>\n",
       "    <tr>\n",
       "      <th>3</th>\n",
       "      <td>4</td>\n",
       "      <td>7</td>\n",
       "      <td>2.357143</td>\n",
       "      <td>0.852168</td>\n",
       "      <td>Waiting to Exhale (1995)</td>\n",
       "      <td>Comedy|Drama|Romance</td>\n",
       "    </tr>\n",
       "    <tr>\n",
       "      <th>4</th>\n",
       "      <td>5</td>\n",
       "      <td>49</td>\n",
       "      <td>3.071429</td>\n",
       "      <td>0.907148</td>\n",
       "      <td>Father of the Bride Part II (1995)</td>\n",
       "      <td>Comedy</td>\n",
       "    </tr>\n",
       "  </tbody>\n",
       "</table>\n",
       "</div>"
      ],
      "text/plain": [
       "   movieId  cnt_user_ratings  mean_ratings  std_ratings  \\\n",
       "0        1               215      3.920930     0.834859   \n",
       "1        2               110      3.431818     0.881713   \n",
       "2        3                52      3.259615     1.054823   \n",
       "3        4                 7      2.357143     0.852168   \n",
       "4        5                49      3.071429     0.907148   \n",
       "\n",
       "                                title  \\\n",
       "0                    Toy Story (1995)   \n",
       "1                      Jumanji (1995)   \n",
       "2             Grumpier Old Men (1995)   \n",
       "3            Waiting to Exhale (1995)   \n",
       "4  Father of the Bride Part II (1995)   \n",
       "\n",
       "                                        genres  \n",
       "0  Adventure|Animation|Children|Comedy|Fantasy  \n",
       "1                   Adventure|Children|Fantasy  \n",
       "2                               Comedy|Romance  \n",
       "3                         Comedy|Drama|Romance  \n",
       "4                                       Comedy  "
      ]
     },
     "execution_count": 35,
     "metadata": {},
     "output_type": "execute_result"
    }
   ],
   "source": [
    "df_join_movies_2 = pd.merge(movie_stat_df, movies_df, \n",
    "                         how=\"inner\",\n",
    "                         on=\"movieId\") \n",
    "df_join_movies_2.head()"
   ]
  },
  {
   "cell_type": "markdown",
   "id": "904ebfa8-9931-42e4-955c-dee208272c9f",
   "metadata": {},
   "source": [
    "## ▷ 특정 영화에 대해 평점 분포 등 알아보기\n",
    "- Forest Gump : 356 (movieId)\n",
    "- matrix : 2571"
   ]
  },
  {
   "cell_type": "code",
   "execution_count": 41,
   "id": "1f2c0301-66c6-4a26-aec4-3a9e8b45eb3c",
   "metadata": {},
   "outputs": [
    {
     "data": {
      "image/png": "[encoded data removed]",
      "text/plain": [
       "<Figure size 432x288 with 1 Axes>"
      ]
     },
     "metadata": {
      "needs_background": "light"
     },
     "output_type": "display_data"
    }
   ],
   "source": [
    "# 평점의 분포를 histogram으로 표현 : pandas의 hist()\n",
    "hist = rating_df[rating_df[\"movieId\"] == 356][\"rating\"].hist()"
   ]
  },
  {
   "cell_type": "markdown",
   "id": "1e728498-6a4b-45cd-8716-3ae21f71bd2f",
   "metadata": {
    "tags": []
   },
   "source": [
    "### * 다중 조건 적용해보기"
   ]
  },
  {
   "cell_type": "code",
   "execution_count": 43,
   "id": "6d8bee99-2ade-43e8-821d-10666de7a89c",
   "metadata": {},
   "outputs": [
    {
     "data": {
      "text/html": [
       "<div>\n",
       "<style scoped>\n",
       "    .dataframe tbody tr th:only-of-type {\n",
       "        vertical-align: middle;\n",
       "    }\n",
       "\n",
       "    .dataframe tbody tr th {\n",
       "        vertical-align: top;\n",
       "    }\n",
       "\n",
       "    .dataframe thead th {\n",
       "        text-align: right;\n",
       "    }\n",
       "</style>\n",
       "<table border=\"1\" class=\"dataframe\">\n",
       "  <thead>\n",
       "    <tr style=\"text-align: right;\">\n",
       "      <th></th>\n",
       "      <th>userId</th>\n",
       "      <th>movieId</th>\n",
       "      <th>rating</th>\n",
       "      <th>timestamp</th>\n",
       "    </tr>\n",
       "  </thead>\n",
       "  <tbody>\n",
       "    <tr>\n",
       "      <th>2339</th>\n",
       "      <td>19</td>\n",
       "      <td>356</td>\n",
       "      <td>2.0</td>\n",
       "      <td>965706045</td>\n",
       "    </tr>\n",
       "    <tr>\n",
       "      <th>5665</th>\n",
       "      <td>41</td>\n",
       "      <td>356</td>\n",
       "      <td>2.0</td>\n",
       "      <td>1459367500</td>\n",
       "    </tr>\n",
       "    <tr>\n",
       "      <th>12274</th>\n",
       "      <td>76</td>\n",
       "      <td>356</td>\n",
       "      <td>1.0</td>\n",
       "      <td>1439165536</td>\n",
       "    </tr>\n",
       "    <tr>\n",
       "      <th>12720</th>\n",
       "      <td>81</td>\n",
       "      <td>356</td>\n",
       "      <td>2.0</td>\n",
       "      <td>845299676</td>\n",
       "    </tr>\n",
       "    <tr>\n",
       "      <th>13553</th>\n",
       "      <td>89</td>\n",
       "      <td>356</td>\n",
       "      <td>0.5</td>\n",
       "      <td>1520408275</td>\n",
       "    </tr>\n",
       "    <tr>\n",
       "      <th>27554</th>\n",
       "      <td>187</td>\n",
       "      <td>356</td>\n",
       "      <td>2.0</td>\n",
       "      <td>1161863877</td>\n",
       "    </tr>\n",
       "    <tr>\n",
       "      <th>28598</th>\n",
       "      <td>199</td>\n",
       "      <td>356</td>\n",
       "      <td>2.0</td>\n",
       "      <td>940372744</td>\n",
       "    </tr>\n",
       "    <tr>\n",
       "      <th>30941</th>\n",
       "      <td>217</td>\n",
       "      <td>356</td>\n",
       "      <td>2.0</td>\n",
       "      <td>955943574</td>\n",
       "    </tr>\n",
       "    <tr>\n",
       "      <th>35211</th>\n",
       "      <td>237</td>\n",
       "      <td>356</td>\n",
       "      <td>2.0</td>\n",
       "      <td>1411233529</td>\n",
       "    </tr>\n",
       "    <tr>\n",
       "      <th>38912</th>\n",
       "      <td>268</td>\n",
       "      <td>356</td>\n",
       "      <td>2.0</td>\n",
       "      <td>940180694</td>\n",
       "    </tr>\n",
       "    <tr>\n",
       "      <th>50227</th>\n",
       "      <td>325</td>\n",
       "      <td>356</td>\n",
       "      <td>2.0</td>\n",
       "      <td>1039395407</td>\n",
       "    </tr>\n",
       "  </tbody>\n",
       "</table>\n",
       "</div>"
      ],
      "text/plain": [
       "       userId  movieId  rating   timestamp\n",
       "2339       19      356     2.0   965706045\n",
       "5665       41      356     2.0  1459367500\n",
       "12274      76      356     1.0  1439165536\n",
       "12720      81      356     2.0   845299676\n",
       "13553      89      356     0.5  1520408275\n",
       "27554     187      356     2.0  1161863877\n",
       "28598     199      356     2.0   940372744\n",
       "30941     217      356     2.0   955943574\n",
       "35211     237      356     2.0  1411233529\n",
       "38912     268      356     2.0   940180694\n",
       "50227     325      356     2.0  1039395407"
      ]
     },
     "execution_count": 43,
     "metadata": {},
     "output_type": "execute_result"
    }
   ],
   "source": [
    "# movieId가 356번이고 rating이 2 이하인 데이터 \n",
    "rating_df[(rating_df.movieId == 356) & (rating_df.rating <= 2)]"
   ]
  },
  {
   "cell_type": "code",
   "execution_count": 44,
   "id": "7c037336-ddee-4063-99f9-dae00acede83",
   "metadata": {},
   "outputs": [
    {
     "data": {
      "text/html": [
       "<div>\n",
       "<style scoped>\n",
       "    .dataframe tbody tr th:only-of-type {\n",
       "        vertical-align: middle;\n",
       "    }\n",
       "\n",
       "    .dataframe tbody tr th {\n",
       "        vertical-align: top;\n",
       "    }\n",
       "\n",
       "    .dataframe thead th {\n",
       "        text-align: right;\n",
       "    }\n",
       "</style>\n",
       "<table border=\"1\" class=\"dataframe\">\n",
       "  <thead>\n",
       "    <tr style=\"text-align: right;\">\n",
       "      <th></th>\n",
       "      <th>movieId</th>\n",
       "      <th>title</th>\n",
       "      <th>genres</th>\n",
       "    </tr>\n",
       "  </thead>\n",
       "  <tbody>\n",
       "    <tr>\n",
       "      <th>314</th>\n",
       "      <td>356</td>\n",
       "      <td>Forrest Gump (1994)</td>\n",
       "      <td>Comedy|Drama|Romance|War</td>\n",
       "    </tr>\n",
       "    <tr>\n",
       "      <th>1939</th>\n",
       "      <td>2571</td>\n",
       "      <td>Matrix, The (1999)</td>\n",
       "      <td>Action|Sci-Fi|Thriller</td>\n",
       "    </tr>\n",
       "  </tbody>\n",
       "</table>\n",
       "</div>"
      ],
      "text/plain": [
       "      movieId                title                    genres\n",
       "314       356  Forrest Gump (1994)  Comedy|Drama|Romance|War\n",
       "1939     2571   Matrix, The (1999)    Action|Sci-Fi|Thriller"
      ]
     },
     "execution_count": 44,
     "metadata": {},
     "output_type": "execute_result"
    }
   ],
   "source": [
    "# movieId가 356번이거나 2571번인 영화정보 \n",
    "movies_df[(movies_df.movieId == 356) | (movies_df.movieId == 2571)]"
   ]
  },
  {
   "cell_type": "markdown",
   "id": "0ccc7198-419d-439a-baca-92e16ad65656",
   "metadata": {
    "tags": []
   },
   "source": [
    "### * userId가 1인 사람이 평점 4.0점 이상을 준 영화를 [평점, timestamp] 기준으로 내림차순 정렬 후 제목과 장르 출력\n",
    "### ** 방법 1"
   ]
  },
  {
   "cell_type": "code",
   "execution_count": 85,
   "id": "0f0e3aa7-0c05-4f4a-a62c-10e008b41ed3",
   "metadata": {},
   "outputs": [
    {
     "data": {
      "text/html": [
       "<div>\n",
       "<style scoped>\n",
       "    .dataframe tbody tr th:only-of-type {\n",
       "        vertical-align: middle;\n",
       "    }\n",
       "\n",
       "    .dataframe tbody tr th {\n",
       "        vertical-align: top;\n",
       "    }\n",
       "\n",
       "    .dataframe thead th {\n",
       "        text-align: right;\n",
       "    }\n",
       "</style>\n",
       "<table border=\"1\" class=\"dataframe\">\n",
       "  <thead>\n",
       "    <tr style=\"text-align: right;\">\n",
       "      <th></th>\n",
       "      <th>title</th>\n",
       "      <th>genres</th>\n",
       "    </tr>\n",
       "  </thead>\n",
       "  <tbody>\n",
       "    <tr>\n",
       "      <th>0</th>\n",
       "      <td>Tombstone (1993)</td>\n",
       "      <td>Action|Drama|Western</td>\n",
       "    </tr>\n",
       "    <tr>\n",
       "      <th>1</th>\n",
       "      <td>Canadian Bacon (1995)</td>\n",
       "      <td>Comedy|War</td>\n",
       "    </tr>\n",
       "    <tr>\n",
       "      <th>2</th>\n",
       "      <td>Pink Floyd: The Wall (1982)</td>\n",
       "      <td>Drama|Musical</td>\n",
       "    </tr>\n",
       "    <tr>\n",
       "      <th>3</th>\n",
       "      <td>Messenger: The Story of Joan of Arc, The (1999)</td>\n",
       "      <td>Drama|War</td>\n",
       "    </tr>\n",
       "    <tr>\n",
       "      <th>4</th>\n",
       "      <td>Good Morning, Vietnam (1987)</td>\n",
       "      <td>Comedy|Drama|War</td>\n",
       "    </tr>\n",
       "    <tr>\n",
       "      <th>...</th>\n",
       "      <td>...</td>\n",
       "      <td>...</td>\n",
       "    </tr>\n",
       "    <tr>\n",
       "      <th>195</th>\n",
       "      <td>Shaft (2000)</td>\n",
       "      <td>Action|Crime|Thriller</td>\n",
       "    </tr>\n",
       "    <tr>\n",
       "      <th>196</th>\n",
       "      <td>Road Trip (2000)</td>\n",
       "      <td>Comedy</td>\n",
       "    </tr>\n",
       "    <tr>\n",
       "      <th>197</th>\n",
       "      <td>Star Wars: Episode I - The Phantom Menace (1999)</td>\n",
       "      <td>Action|Adventure|Sci-Fi</td>\n",
       "    </tr>\n",
       "    <tr>\n",
       "      <th>198</th>\n",
       "      <td>13th Warrior, The (1999)</td>\n",
       "      <td>Action|Adventure|Fantasy</td>\n",
       "    </tr>\n",
       "    <tr>\n",
       "      <th>199</th>\n",
       "      <td>She's the One (1996)</td>\n",
       "      <td>Comedy|Romance</td>\n",
       "    </tr>\n",
       "  </tbody>\n",
       "</table>\n",
       "<p>200 rows × 2 columns</p>\n",
       "</div>"
      ],
      "text/plain": [
       "                                                title  \\\n",
       "0                                    Tombstone (1993)   \n",
       "1                               Canadian Bacon (1995)   \n",
       "2                         Pink Floyd: The Wall (1982)   \n",
       "3     Messenger: The Story of Joan of Arc, The (1999)   \n",
       "4                        Good Morning, Vietnam (1987)   \n",
       "..                                                ...   \n",
       "195                                      Shaft (2000)   \n",
       "196                                  Road Trip (2000)   \n",
       "197  Star Wars: Episode I - The Phantom Menace (1999)   \n",
       "198                          13th Warrior, The (1999)   \n",
       "199                              She's the One (1996)   \n",
       "\n",
       "                       genres  \n",
       "0        Action|Drama|Western  \n",
       "1                  Comedy|War  \n",
       "2               Drama|Musical  \n",
       "3                   Drama|War  \n",
       "4            Comedy|Drama|War  \n",
       "..                        ...  \n",
       "195     Action|Crime|Thriller  \n",
       "196                    Comedy  \n",
       "197   Action|Adventure|Sci-Fi  \n",
       "198  Action|Adventure|Fantasy  \n",
       "199            Comedy|Romance  \n",
       "\n",
       "[200 rows x 2 columns]"
      ]
     },
     "execution_count": 85,
     "metadata": {},
     "output_type": "execute_result"
    }
   ],
   "source": [
    "userId_1 = rating_df[(rating_df.userId == 1) & (rating_df.rating >= 4.0)].sort_values(by=[\"rating\", \"timestamp\"], ascending=False)\n",
    "userId_1_title = pd.merge(userId_1[\"movieId\"], movies_df)  # <- 이 두 개의 DataFrame을 join하기\n",
    "userId_1_title[[\"title\", \"genres\"]]"
   ]
  },
  {
   "cell_type": "markdown",
   "id": "72d02055-eb60-4486-a112-de7cf57684df",
   "metadata": {},
   "source": [
    "### ** 방법2"
   ]
  },
  {
   "cell_type": "code",
   "execution_count": 87,
   "id": "4ab47082-e4f7-4c19-ae50-35c18fc63622",
   "metadata": {},
   "outputs": [
    {
     "data": {
      "text/html": [
       "<div>\n",
       "<style scoped>\n",
       "    .dataframe tbody tr th:only-of-type {\n",
       "        vertical-align: middle;\n",
       "    }\n",
       "\n",
       "    .dataframe tbody tr th {\n",
       "        vertical-align: top;\n",
       "    }\n",
       "\n",
       "    .dataframe thead th {\n",
       "        text-align: right;\n",
       "    }\n",
       "</style>\n",
       "<table border=\"1\" class=\"dataframe\">\n",
       "  <thead>\n",
       "    <tr style=\"text-align: right;\">\n",
       "      <th></th>\n",
       "      <th>movieId</th>\n",
       "      <th>title</th>\n",
       "      <th>genres</th>\n",
       "    </tr>\n",
       "  </thead>\n",
       "  <tbody>\n",
       "    <tr>\n",
       "      <th>0</th>\n",
       "      <td>1</td>\n",
       "      <td>Toy Story (1995)</td>\n",
       "      <td>Adventure|Animation|Children|Comedy|Fantasy</td>\n",
       "    </tr>\n",
       "    <tr>\n",
       "      <th>2</th>\n",
       "      <td>3</td>\n",
       "      <td>Grumpier Old Men (1995)</td>\n",
       "      <td>Comedy|Romance</td>\n",
       "    </tr>\n",
       "    <tr>\n",
       "      <th>5</th>\n",
       "      <td>6</td>\n",
       "      <td>Heat (1995)</td>\n",
       "      <td>Action|Crime|Thriller</td>\n",
       "    </tr>\n",
       "    <tr>\n",
       "      <th>43</th>\n",
       "      <td>47</td>\n",
       "      <td>Seven (a.k.a. Se7en) (1995)</td>\n",
       "      <td>Mystery|Thriller</td>\n",
       "    </tr>\n",
       "    <tr>\n",
       "      <th>46</th>\n",
       "      <td>50</td>\n",
       "      <td>Usual Suspects, The (1995)</td>\n",
       "      <td>Crime|Mystery|Thriller</td>\n",
       "    </tr>\n",
       "    <tr>\n",
       "      <th>...</th>\n",
       "      <td>...</td>\n",
       "      <td>...</td>\n",
       "      <td>...</td>\n",
       "    </tr>\n",
       "    <tr>\n",
       "      <th>2802</th>\n",
       "      <td>3744</td>\n",
       "      <td>Shaft (2000)</td>\n",
       "      <td>Action|Crime|Thriller</td>\n",
       "    </tr>\n",
       "    <tr>\n",
       "      <th>2836</th>\n",
       "      <td>3793</td>\n",
       "      <td>X-Men (2000)</td>\n",
       "      <td>Action|Adventure|Sci-Fi</td>\n",
       "    </tr>\n",
       "    <tr>\n",
       "      <th>2847</th>\n",
       "      <td>3809</td>\n",
       "      <td>What About Bob? (1991)</td>\n",
       "      <td>Comedy</td>\n",
       "    </tr>\n",
       "    <tr>\n",
       "      <th>2991</th>\n",
       "      <td>4006</td>\n",
       "      <td>Transformers: The Movie (1986)</td>\n",
       "      <td>Adventure|Animation|Children|Sci-Fi</td>\n",
       "    </tr>\n",
       "    <tr>\n",
       "      <th>3673</th>\n",
       "      <td>5060</td>\n",
       "      <td>M*A*S*H (a.k.a. MASH) (1970)</td>\n",
       "      <td>Comedy|Drama|War</td>\n",
       "    </tr>\n",
       "  </tbody>\n",
       "</table>\n",
       "<p>200 rows × 3 columns</p>\n",
       "</div>"
      ],
      "text/plain": [
       "      movieId                           title  \\\n",
       "0           1                Toy Story (1995)   \n",
       "2           3         Grumpier Old Men (1995)   \n",
       "5           6                     Heat (1995)   \n",
       "43         47     Seven (a.k.a. Se7en) (1995)   \n",
       "46         50      Usual Suspects, The (1995)   \n",
       "...       ...                             ...   \n",
       "2802     3744                    Shaft (2000)   \n",
       "2836     3793                    X-Men (2000)   \n",
       "2847     3809          What About Bob? (1991)   \n",
       "2991     4006  Transformers: The Movie (1986)   \n",
       "3673     5060    M*A*S*H (a.k.a. MASH) (1970)   \n",
       "\n",
       "                                           genres  \n",
       "0     Adventure|Animation|Children|Comedy|Fantasy  \n",
       "2                                  Comedy|Romance  \n",
       "5                           Action|Crime|Thriller  \n",
       "43                               Mystery|Thriller  \n",
       "46                         Crime|Mystery|Thriller  \n",
       "...                                           ...  \n",
       "2802                        Action|Crime|Thriller  \n",
       "2836                      Action|Adventure|Sci-Fi  \n",
       "2847                                       Comedy  \n",
       "2991          Adventure|Animation|Children|Sci-Fi  \n",
       "3673                             Comedy|Drama|War  \n",
       "\n",
       "[200 rows x 3 columns]"
      ]
     },
     "execution_count": 87,
     "metadata": {},
     "output_type": "execute_result"
    }
   ],
   "source": [
    "# 근데 내림차순 정렬한게 사라짐ㅠ\n",
    "userId_1_title2 = movies_df[movies_df[\"movieId\"].isin(userId_1[\"movieId\"])]\n",
    "userId_1_title2"
   ]
  },
  {
   "cell_type": "markdown",
   "id": "9941f6c1-0afc-49b7-8194-cbd54c7ce181",
   "metadata": {},
   "source": [
    "### ** 방법 3"
   ]
  },
  {
   "cell_type": "code",
   "execution_count": 91,
   "id": "b0a9a7fd-beea-4737-ad75-1913fc81ff96",
   "metadata": {},
   "outputs": [
    {
     "data": {
      "text/html": [
       "<div>\n",
       "<style scoped>\n",
       "    .dataframe tbody tr th:only-of-type {\n",
       "        vertical-align: middle;\n",
       "    }\n",
       "\n",
       "    .dataframe tbody tr th {\n",
       "        vertical-align: top;\n",
       "    }\n",
       "\n",
       "    .dataframe thead th {\n",
       "        text-align: right;\n",
       "    }\n",
       "</style>\n",
       "<table border=\"1\" class=\"dataframe\">\n",
       "  <thead>\n",
       "    <tr style=\"text-align: right;\">\n",
       "      <th></th>\n",
       "      <th>title</th>\n",
       "      <th>genres</th>\n",
       "    </tr>\n",
       "    <tr>\n",
       "      <th>movieId</th>\n",
       "      <th></th>\n",
       "      <th></th>\n",
       "    </tr>\n",
       "  </thead>\n",
       "  <tbody>\n",
       "    <tr>\n",
       "      <th>553</th>\n",
       "      <td>Tombstone (1993)</td>\n",
       "      <td>Action|Drama|Western</td>\n",
       "    </tr>\n",
       "    <tr>\n",
       "      <th>157</th>\n",
       "      <td>Canadian Bacon (1995)</td>\n",
       "      <td>Comedy|War</td>\n",
       "    </tr>\n",
       "    <tr>\n",
       "      <th>1298</th>\n",
       "      <td>Pink Floyd: The Wall (1982)</td>\n",
       "      <td>Drama|Musical</td>\n",
       "    </tr>\n",
       "    <tr>\n",
       "      <th>3053</th>\n",
       "      <td>Messenger: The Story of Joan of Arc, The (1999)</td>\n",
       "      <td>Drama|War</td>\n",
       "    </tr>\n",
       "    <tr>\n",
       "      <th>3448</th>\n",
       "      <td>Good Morning, Vietnam (1987)</td>\n",
       "      <td>Comedy|Drama|War</td>\n",
       "    </tr>\n",
       "    <tr>\n",
       "      <th>...</th>\n",
       "      <td>...</td>\n",
       "      <td>...</td>\n",
       "    </tr>\n",
       "    <tr>\n",
       "      <th>3744</th>\n",
       "      <td>Shaft (2000)</td>\n",
       "      <td>Action|Crime|Thriller</td>\n",
       "    </tr>\n",
       "    <tr>\n",
       "      <th>3617</th>\n",
       "      <td>Road Trip (2000)</td>\n",
       "      <td>Comedy</td>\n",
       "    </tr>\n",
       "    <tr>\n",
       "      <th>2628</th>\n",
       "      <td>Star Wars: Episode I - The Phantom Menace (1999)</td>\n",
       "      <td>Action|Adventure|Sci-Fi</td>\n",
       "    </tr>\n",
       "    <tr>\n",
       "      <th>2826</th>\n",
       "      <td>13th Warrior, The (1999)</td>\n",
       "      <td>Action|Adventure|Fantasy</td>\n",
       "    </tr>\n",
       "    <tr>\n",
       "      <th>804</th>\n",
       "      <td>She's the One (1996)</td>\n",
       "      <td>Comedy|Romance</td>\n",
       "    </tr>\n",
       "  </tbody>\n",
       "</table>\n",
       "<p>200 rows × 2 columns</p>\n",
       "</div>"
      ],
      "text/plain": [
       "                                                    title  \\\n",
       "movieId                                                     \n",
       "553                                      Tombstone (1993)   \n",
       "157                                 Canadian Bacon (1995)   \n",
       "1298                          Pink Floyd: The Wall (1982)   \n",
       "3053      Messenger: The Story of Joan of Arc, The (1999)   \n",
       "3448                         Good Morning, Vietnam (1987)   \n",
       "...                                                   ...   \n",
       "3744                                         Shaft (2000)   \n",
       "3617                                     Road Trip (2000)   \n",
       "2628     Star Wars: Episode I - The Phantom Menace (1999)   \n",
       "2826                             13th Warrior, The (1999)   \n",
       "804                                  She's the One (1996)   \n",
       "\n",
       "                           genres  \n",
       "movieId                            \n",
       "553          Action|Drama|Western  \n",
       "157                    Comedy|War  \n",
       "1298                Drama|Musical  \n",
       "3053                    Drama|War  \n",
       "3448             Comedy|Drama|War  \n",
       "...                           ...  \n",
       "3744        Action|Crime|Thriller  \n",
       "3617                       Comedy  \n",
       "2628      Action|Adventure|Sci-Fi  \n",
       "2826     Action|Adventure|Fantasy  \n",
       "804                Comedy|Romance  \n",
       "\n",
       "[200 rows x 2 columns]"
      ]
     },
     "execution_count": 91,
     "metadata": {},
     "output_type": "execute_result"
    }
   ],
   "source": [
    "movie_df_index = movies_df.set_index('movieId')\n",
    "userId_1_title3 = movie_df_index[[\"title\", \"genres\"]].loc[userId_1[\"movieId\"]]\n",
    "userId_1_title3"
   ]
  },
  {
   "cell_type": "code",
   "execution_count": null,
   "id": "82d377e9-48f9-44dd-9104-2504d9a22d82",
   "metadata": {},
   "outputs": [],
   "source": []
  }
 ],
 "metadata": {
  "kernelspec": {
   "display_name": "Python 3 (ipykernel)",
   "language": "python",
   "name": "python3"
  },
  "language_info": {
   "codemirror_mode": {
    "name": "ipython",
    "version": 3
   },
   "file_extension": ".py",
   "mimetype": "text/x-python",
   "name": "python",
   "nbconvert_exporter": "python",
   "pygments_lexer": "ipython3",
   "version": "3.9.7"
  }
 },
 "nbformat": 4,
 "nbformat_minor": 5
}
