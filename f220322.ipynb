{
 "cells": [
  {
   "cell_type": "markdown",
   "id": "ee8270e4-2c07-4b52-9c25-2a84924b4675",
   "metadata": {},
   "source": [
    "# < Pandas 기초 >"
   ]
  },
  {
   "cell_type": "code",
   "execution_count": 1,
   "id": "8cf1348e-a0d9-44f9-aa8d-1e8e44d8cef5",
   "metadata": {},
   "outputs": [],
   "source": [
    "import pandas as pd   # as : alias name 약자"
   ]
  },
  {
   "cell_type": "markdown",
   "id": "46e4deb0-15e2-4f08-8a32-64cbcc25e510",
   "metadata": {},
   "source": [
    "# 1. pd.Series\n",
    ": 열 벡터vector"
   ]
  },
  {
   "cell_type": "markdown",
   "id": "048cab52-8a0b-408e-b8bb-a408bd308463",
   "metadata": {},
   "source": [
    "## pd.Series에는 Dictionary type이 인자로 입력"
   ]
  },
  {
   "cell_type": "code",
   "execution_count": 2,
   "id": "e28b8360-e9e3-4b3c-8d36-2b29ea03f92f",
   "metadata": {},
   "outputs": [],
   "source": [
    "# Dictionary type 정의\n",
    "dict_data = {'a':1, 'b':2, 'c':3}"
   ]
  },
  {
   "cell_type": "code",
   "execution_count": 3,
   "id": "52ed0f3d-56ff-4368-b7ba-f1db46365134",
   "metadata": {},
   "outputs": [],
   "source": [
    "sr = pd.Series(dict_data)"
   ]
  },
  {
   "cell_type": "code",
   "execution_count": 4,
   "id": "55e3d3a7-9ffd-497b-a144-83783d4c80f5",
   "metadata": {},
   "outputs": [
    {
     "data": {
      "text/plain": [
       "a    1\n",
       "b    2\n",
       "c    3\n",
       "dtype: int64"
      ]
     },
     "execution_count": 4,
     "metadata": {},
     "output_type": "execute_result"
    }
   ],
   "source": [
    "sr"
   ]
  },
  {
   "cell_type": "code",
   "execution_count": 5,
   "id": "21b529ca-106f-4e5f-807c-a090673771a1",
   "metadata": {},
   "outputs": [
    {
     "data": {
      "text/plain": [
       "pandas.core.series.Series"
      ]
     },
     "execution_count": 5,
     "metadata": {},
     "output_type": "execute_result"
    }
   ],
   "source": [
    "type(sr)"
   ]
  },
  {
   "cell_type": "code",
   "execution_count": 7,
   "id": "e18cc40e-112a-4ba8-83b0-ae1928bcd982",
   "metadata": {},
   "outputs": [],
   "source": [
    "# list type 정의\n",
    "list_data = ['2022-03--22', 3.14592, 'ABC', 100, True]"
   ]
  },
  {
   "cell_type": "code",
   "execution_count": 8,
   "id": "6d2002f4-00bc-4ecc-bfb0-889c490ef665",
   "metadata": {},
   "outputs": [],
   "source": [
    "sr = pd.Series(list_data)"
   ]
  },
  {
   "cell_type": "code",
   "execution_count": 9,
   "id": "766eaeda-9404-4503-8d87-f9be51d18518",
   "metadata": {},
   "outputs": [
    {
     "data": {
      "text/plain": [
       "0    2022-03--22\n",
       "1        3.14592\n",
       "2            ABC\n",
       "3            100\n",
       "4           True\n",
       "dtype: object"
      ]
     },
     "execution_count": 9,
     "metadata": {},
     "output_type": "execute_result"
    }
   ],
   "source": [
    "sr"
   ]
  },
  {
   "cell_type": "markdown",
   "id": "239c4224-4cc8-4b63-bd54-be9bee9dc865",
   "metadata": {},
   "source": [
    "## index, values 확인하기"
   ]
  },
  {
   "cell_type": "code",
   "execution_count": 10,
   "id": "ae579fbf-b623-4229-9ab9-b11d008fe99e",
   "metadata": {},
   "outputs": [
    {
     "data": {
      "text/plain": [
       "RangeIndex(start=0, stop=5, step=1)"
      ]
     },
     "execution_count": 10,
     "metadata": {},
     "output_type": "execute_result"
    }
   ],
   "source": [
    "idx = sr.index   # rangeIndex(start, end, step)\n",
    "idx"
   ]
  },
  {
   "cell_type": "code",
   "execution_count": 12,
   "id": "521612b3-aac1-4b7c-b98e-210520f806ce",
   "metadata": {},
   "outputs": [
    {
     "data": {
      "text/plain": [
       "array(['2022-03--22', 3.14592, 'ABC', 100, True], dtype=object)"
      ]
     },
     "execution_count": 12,
     "metadata": {},
     "output_type": "execute_result"
    }
   ],
   "source": [
    "val = sr.values\n",
    "val"
   ]
  },
  {
   "cell_type": "markdown",
   "id": "16f7190f-21d1-48f4-a11c-6870a0bc3cb9",
   "metadata": {},
   "source": [
    "## 튜플 자료형을 판다스의 시리즈로 변환\n",
    "- index라는 예약어, 지정어를 통해 index도 지정 가능"
   ]
  },
  {
   "cell_type": "code",
   "execution_count": 14,
   "id": "4b146c40-c5d2-4c25-ba87-041949ff59b1",
   "metadata": {},
   "outputs": [
    {
     "data": {
      "text/plain": [
       "Name              lee\n",
       "Birth      19xx-xx-xx\n",
       "Sex              Male\n",
       "Student          True\n",
       "dtype: object"
      ]
     },
     "execution_count": 14,
     "metadata": {},
     "output_type": "execute_result"
    }
   ],
   "source": [
    "tup_data = ('lee', '19xx-xx-xx', 'Male', True)\n",
    "\n",
    "sr = pd.Series(tup_data, index=[\"Name\", \"Birth\", \"Sex\", \"Student\"])\n",
    "sr"
   ]
  },
  {
   "cell_type": "markdown",
   "id": "e673a272-6407-444e-956a-307caa64b2ef",
   "metadata": {},
   "source": [
    "## 시리즈의 원소를 선택해보기"
   ]
  },
  {
   "cell_type": "markdown",
   "id": "ce457c7c-d98e-4744-8f22-49f69185bb60",
   "metadata": {},
   "source": [
    "### 1) 1개 선택하기"
   ]
  },
  {
   "cell_type": "code",
   "execution_count": 15,
   "id": "6fc7a53d-5a04-47da-94f4-7b46dbe9e8e8",
   "metadata": {},
   "outputs": [
    {
     "data": {
      "text/plain": [
       "'lee'"
      ]
     },
     "execution_count": 15,
     "metadata": {},
     "output_type": "execute_result"
    }
   ],
   "source": [
    "sr[0]"
   ]
  },
  {
   "cell_type": "code",
   "execution_count": 16,
   "id": "204234e0-f1f4-4455-94c9-659f4424b453",
   "metadata": {},
   "outputs": [
    {
     "data": {
      "text/plain": [
       "'19xx-xx-xx'"
      ]
     },
     "execution_count": 16,
     "metadata": {},
     "output_type": "execute_result"
    }
   ],
   "source": [
    "sr['Birth']"
   ]
  },
  {
   "cell_type": "markdown",
   "id": "782ccf19-dcc6-4f1d-9817-6b89a8bd69f5",
   "metadata": {},
   "source": [
    "###  2) 여러 개 선택하기\n",
    "- 대괄호 2개와 콤마로 구분해서 선택 가능\n",
    "- 슬라이싱으로 선택 가능 (대괄호 1개)"
   ]
  },
  {
   "cell_type": "code",
   "execution_count": 20,
   "id": "fdf21887-2896-46a6-95fa-f2e7b51ff482",
   "metadata": {},
   "outputs": [
    {
     "data": {
      "text/plain": [
       "Birth      19xx-xx-xx\n",
       "Student          True\n",
       "dtype: object"
      ]
     },
     "execution_count": 20,
     "metadata": {},
     "output_type": "execute_result"
    }
   ],
   "source": [
    "sr[[1, -1]]"
   ]
  },
  {
   "cell_type": "code",
   "execution_count": 25,
   "id": "5388e54c-21dc-45bc-b413-d56b44568087",
   "metadata": {},
   "outputs": [
    {
     "data": {
      "text/plain": [
       "Name        lee\n",
       "Student    True\n",
       "dtype: object"
      ]
     },
     "execution_count": 25,
     "metadata": {},
     "output_type": "execute_result"
    }
   ],
   "source": [
    "sr[[\"Name\", \"Student\"]]"
   ]
  },
  {
   "cell_type": "code",
   "execution_count": 23,
   "id": "111b957f-d644-44c1-9407-59dec4714f5d",
   "metadata": {},
   "outputs": [
    {
     "data": {
      "text/plain": [
       "Birth    19xx-xx-xx\n",
       "Sex            Male\n",
       "dtype: object"
      ]
     },
     "execution_count": 23,
     "metadata": {},
     "output_type": "execute_result"
    }
   ],
   "source": [
    "sr[1:3]"
   ]
  },
  {
   "cell_type": "markdown",
   "id": "958da019-4561-4554-ab42-2ce99a6752bd",
   "metadata": {},
   "source": [
    "# 2. pd.DataFrame\n",
    ": 행 인덱스를 기준으로 줄지어 결합된 행렬matrix\n",
    "### 행렬 이름 설정하기\n",
    "1. 데이터프레임 생성할 때\n",
    "```python\n",
    "pd.DataFame(2차원 배열,\n",
    "            index=행 인덱스 배열,\n",
    "            columns=열 이름 배열)\n",
    "```\n",
    "2. 속성을 지정하여 변경하기\n",
    "```python\n",
    "데이터프레임.index = 새로운 행 인덱스 배열\n",
    "데이터프레임.columns = 새로운 열 이름 배열\n",
    "```\n",
    "3. rename() 사용 : 새로운 df 객체를 리턴, 원본 변경을 원하면 inplace=Ture 옵션 추가해주기\n",
    "```python\n",
    "데이터프레임.rename(index={기존 인덱스:새 인덱스, ...})\n",
    "데이터프레임.rename(columns={기존 이름:새 이름, ...})\n",
    "```"
   ]
  },
  {
   "cell_type": "markdown",
   "id": "c16a09dd-ded5-4a1a-9d36-688a32db2d4d",
   "metadata": {},
   "source": [
    "## Dictionary to DataFrame"
   ]
  },
  {
   "cell_type": "code",
   "execution_count": 26,
   "id": "07827802-dddc-4f13-848d-ec4c1c5abe0c",
   "metadata": {},
   "outputs": [],
   "source": [
    "dict_data = {'c0': [1,2,3], 'c1': [4,5,6], 'c2': [7,8,9]}"
   ]
  },
  {
   "cell_type": "code",
   "execution_count": 27,
   "id": "31e1360a-ae15-4818-81e2-594184f765b3",
   "metadata": {},
   "outputs": [
    {
     "data": {
      "text/html": [
       "<div>\n",
       "<style scoped>\n",
       "    .dataframe tbody tr th:only-of-type {\n",
       "        vertical-align: middle;\n",
       "    }\n",
       "\n",
       "    .dataframe tbody tr th {\n",
       "        vertical-align: top;\n",
       "    }\n",
       "\n",
       "    .dataframe thead th {\n",
       "        text-align: right;\n",
       "    }\n",
       "</style>\n",
       "<table border=\"1\" class=\"dataframe\">\n",
       "  <thead>\n",
       "    <tr style=\"text-align: right;\">\n",
       "      <th></th>\n",
       "      <th>c0</th>\n",
       "      <th>c1</th>\n",
       "      <th>c2</th>\n",
       "    </tr>\n",
       "  </thead>\n",
       "  <tbody>\n",
       "    <tr>\n",
       "      <th>0</th>\n",
       "      <td>1</td>\n",
       "      <td>4</td>\n",
       "      <td>7</td>\n",
       "    </tr>\n",
       "    <tr>\n",
       "      <th>1</th>\n",
       "      <td>2</td>\n",
       "      <td>5</td>\n",
       "      <td>8</td>\n",
       "    </tr>\n",
       "    <tr>\n",
       "      <th>2</th>\n",
       "      <td>3</td>\n",
       "      <td>6</td>\n",
       "      <td>9</td>\n",
       "    </tr>\n",
       "  </tbody>\n",
       "</table>\n",
       "</div>"
      ],
      "text/plain": [
       "   c0  c1  c2\n",
       "0   1   4   7\n",
       "1   2   5   8\n",
       "2   3   6   9"
      ]
     },
     "execution_count": 27,
     "metadata": {},
     "output_type": "execute_result"
    }
   ],
   "source": [
    "df = pd.DataFrame(dict_data)\n",
    "df"
   ]
  },
  {
   "cell_type": "markdown",
   "id": "6247a4b5-42c1-480b-afc0-e3df053ff576",
   "metadata": {},
   "source": [
    "## List to DataFrame \n",
    "### index, columns 파라미터로 row, column 이름 지정"
   ]
  },
  {
   "cell_type": "code",
   "execution_count": 30,
   "id": "59b51aeb-9036-4d53-8707-7773b45a5810",
   "metadata": {},
   "outputs": [
    {
     "data": {
      "text/html": [
       "<div>\n",
       "<style scoped>\n",
       "    .dataframe tbody tr th:only-of-type {\n",
       "        vertical-align: middle;\n",
       "    }\n",
       "\n",
       "    .dataframe tbody tr th {\n",
       "        vertical-align: top;\n",
       "    }\n",
       "\n",
       "    .dataframe thead th {\n",
       "        text-align: right;\n",
       "    }\n",
       "</style>\n",
       "<table border=\"1\" class=\"dataframe\">\n",
       "  <thead>\n",
       "    <tr style=\"text-align: right;\">\n",
       "      <th></th>\n",
       "      <th>Age</th>\n",
       "      <th>Sex</th>\n",
       "      <th>Addr</th>\n",
       "    </tr>\n",
       "  </thead>\n",
       "  <tbody>\n",
       "    <tr>\n",
       "      <th>Lee</th>\n",
       "      <td>23</td>\n",
       "      <td>Male</td>\n",
       "      <td>Daegu</td>\n",
       "    </tr>\n",
       "    <tr>\n",
       "      <th>Choi</th>\n",
       "      <td>24</td>\n",
       "      <td>Female</td>\n",
       "      <td>Busan</td>\n",
       "    </tr>\n",
       "  </tbody>\n",
       "</table>\n",
       "</div>"
      ],
      "text/plain": [
       "      Age     Sex   Addr\n",
       "Lee    23    Male  Daegu\n",
       "Choi   24  Female  Busan"
      ]
     },
     "execution_count": 30,
     "metadata": {},
     "output_type": "execute_result"
    }
   ],
   "source": [
    "df = pd.DataFrame([[23, 'Male', 'Daegu'], [24, 'Female', 'Busan']], \n",
    "                  index=['Lee', 'Choi'], \n",
    "                  columns=['Age', 'Sex', 'Addr'])\n",
    "df  # dict 만들때랑 들어가는 모양이 달라짐. 위 셀과 확인"
   ]
  },
  {
   "cell_type": "markdown",
   "id": "d42e100c-5836-4839-a736-f3d95429c616",
   "metadata": {},
   "source": [
    "### index, column 이름 변경"
   ]
  },
  {
   "cell_type": "code",
   "execution_count": 31,
   "id": "e75457b4-91fe-4e35-a55c-c490f5b819de",
   "metadata": {},
   "outputs": [
    {
     "data": {
      "text/html": [
       "<div>\n",
       "<style scoped>\n",
       "    .dataframe tbody tr th:only-of-type {\n",
       "        vertical-align: middle;\n",
       "    }\n",
       "\n",
       "    .dataframe tbody tr th {\n",
       "        vertical-align: top;\n",
       "    }\n",
       "\n",
       "    .dataframe thead th {\n",
       "        text-align: right;\n",
       "    }\n",
       "</style>\n",
       "<table border=\"1\" class=\"dataframe\">\n",
       "  <thead>\n",
       "    <tr style=\"text-align: right;\">\n",
       "      <th></th>\n",
       "      <th>Age</th>\n",
       "      <th>Sex</th>\n",
       "      <th>Addr</th>\n",
       "    </tr>\n",
       "  </thead>\n",
       "  <tbody>\n",
       "    <tr>\n",
       "      <th>Student1</th>\n",
       "      <td>23</td>\n",
       "      <td>Male</td>\n",
       "      <td>Daegu</td>\n",
       "    </tr>\n",
       "    <tr>\n",
       "      <th>Student2</th>\n",
       "      <td>24</td>\n",
       "      <td>Female</td>\n",
       "      <td>Busan</td>\n",
       "    </tr>\n",
       "  </tbody>\n",
       "</table>\n",
       "</div>"
      ],
      "text/plain": [
       "          Age     Sex   Addr\n",
       "Student1   23    Male  Daegu\n",
       "Student2   24  Female  Busan"
      ]
     },
     "execution_count": 31,
     "metadata": {},
     "output_type": "execute_result"
    }
   ],
   "source": [
    "df.index = ['Student1', 'Student2']\n",
    "df"
   ]
  },
  {
   "cell_type": "code",
   "execution_count": 33,
   "id": "3e48f870-e398-4aee-a169-aaa45d04884e",
   "metadata": {},
   "outputs": [
    {
     "data": {
      "text/html": [
       "<div>\n",
       "<style scoped>\n",
       "    .dataframe tbody tr th:only-of-type {\n",
       "        vertical-align: middle;\n",
       "    }\n",
       "\n",
       "    .dataframe tbody tr th {\n",
       "        vertical-align: top;\n",
       "    }\n",
       "\n",
       "    .dataframe thead th {\n",
       "        text-align: right;\n",
       "    }\n",
       "</style>\n",
       "<table border=\"1\" class=\"dataframe\">\n",
       "  <thead>\n",
       "    <tr style=\"text-align: right;\">\n",
       "      <th></th>\n",
       "      <th>나이</th>\n",
       "      <th>성별</th>\n",
       "      <th>주소</th>\n",
       "    </tr>\n",
       "  </thead>\n",
       "  <tbody>\n",
       "    <tr>\n",
       "      <th>Student1</th>\n",
       "      <td>23</td>\n",
       "      <td>Male</td>\n",
       "      <td>Daegu</td>\n",
       "    </tr>\n",
       "    <tr>\n",
       "      <th>Student2</th>\n",
       "      <td>24</td>\n",
       "      <td>Female</td>\n",
       "      <td>Busan</td>\n",
       "    </tr>\n",
       "  </tbody>\n",
       "</table>\n",
       "</div>"
      ],
      "text/plain": [
       "          나이      성별     주소\n",
       "Student1  23    Male  Daegu\n",
       "Student2  24  Female  Busan"
      ]
     },
     "execution_count": 33,
     "metadata": {},
     "output_type": "execute_result"
    }
   ],
   "source": [
    "df.columns = ['나이', '성별', '주소']\n",
    "df"
   ]
  },
  {
   "cell_type": "code",
   "execution_count": 39,
   "id": "5c9ba467-6a6e-4ca0-b430-7c2e04a92e63",
   "metadata": {},
   "outputs": [
    {
     "name": "stdout",
     "output_type": "stream",
     "text": [
      "< df1 >\n",
      "           나이      성별     주소\n",
      "Choi      23    Male  Daegu\n",
      "Student2  24  Female  Busan\n",
      "\n",
      "< df >\n",
      "           나이      성별     주소\n",
      "Student1  23    Male  Daegu\n",
      "Student2  24  Female  Busan\n"
     ]
    }
   ],
   "source": [
    "df1 = df.rename(index={'Student1': 'Choi'})\n",
    "print('< df1 >\\n', df1)\n",
    "print()\n",
    "print('< df >\\n', df)"
   ]
  },
  {
   "cell_type": "code",
   "execution_count": null,
   "id": "029f3135-c80c-458e-bb76-20749b815a3d",
   "metadata": {},
   "outputs": [],
   "source": []
  }
 ],
 "metadata": {
  "kernelspec": {
   "display_name": "Python 3 (ipykernel)",
   "language": "python",
   "name": "python3"
  },
  "language_info": {
   "codemirror_mode": {
    "name": "ipython",
    "version": 3
   },
   "file_extension": ".py",
   "mimetype": "text/x-python",
   "name": "python",
   "nbconvert_exporter": "python",
   "pygments_lexer": "ipython3",
   "version": "3.9.7"
  }
 },
 "nbformat": 4,
 "nbformat_minor": 5
}
