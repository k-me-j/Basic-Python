{
 "cells": [
  {
   "cell_type": "code",
   "execution_count": 2,
   "id": "13a96235-56dc-47b5-b892-fbec5ceb1755",
   "metadata": {},
   "outputs": [],
   "source": [
    "import os\n",
    "import pandas as pd\n",
    "import matplotlib.pyplot as plt"
   ]
  },
  {
   "cell_type": "code",
   "execution_count": 3,
   "id": "742b8435-d188-4569-acf8-1199c2c28d45",
   "metadata": {},
   "outputs": [],
   "source": [
    "# 모든 컬럼 생략없이 출력하기 위한 옵션\n",
    "pd.set_option('display.max_columns', None)"
   ]
  },
  {
   "cell_type": "code",
   "execution_count": 7,
   "id": "de8b7fc7-54fa-4021-82b7-3c200ab930bf",
   "metadata": {},
   "outputs": [
    {
     "data": {
      "text/plain": [
       "True"
      ]
     },
     "execution_count": 7,
     "metadata": {},
     "output_type": "execute_result"
    }
   ],
   "source": [
    "path = \"../dataset/ml-latest-small/\"\n",
    "os.path.isdir(path)"
   ]
  },
  {
   "cell_type": "markdown",
   "id": "8e459e9a-5d36-46d5-94e4-5919d84a8576",
   "metadata": {},
   "source": [
    "# data load"
   ]
  },
  {
   "cell_type": "code",
   "execution_count": 10,
   "id": "53d29f05-fcf0-4df3-a693-72d2505a4bb8",
   "metadata": {},
   "outputs": [],
   "source": [
    "rating_df = pd.read_csv(os.path.join(path + \"ratings.csv\"), encoding=\"utf-8\")\n",
    "movies_df = pd.read_csv(os.path.join(path + \"movies.csv\"), encoding=\"utf-8\")\n",
    "tags_df = pd.read_csv(os.path.join(path + \"tags.csv\"), encoding=\"utf-8\")"
   ]
  },
  {
   "cell_type": "markdown",
   "id": "7babac63-815e-4f07-9891-8e1854d793b8",
   "metadata": {},
   "source": [
    "# ▶ data 구성 확인"
   ]
  },
  {
   "cell_type": "markdown",
   "id": "9e6e16d6-407b-4ec4-8a02-e4267c3fbde0",
   "metadata": {},
   "source": [
    "### 1. rating_df"
   ]
  },
  {
   "cell_type": "code",
   "execution_count": 11,
   "id": "eda6f1fe-a7ab-47c8-afe7-929075638f4b",
   "metadata": {},
   "outputs": [
    {
     "data": {
      "text/plain": [
       "((100836, 4),\n",
       "    userId  movieId  rating  timestamp\n",
       " 0       1        1     4.0  964982703\n",
       " 1       1        3     4.0  964981247\n",
       " 2       1        6     4.0  964982224\n",
       " 3       1       47     5.0  964983815\n",
       " 4       1       50     5.0  964982931)"
      ]
     },
     "execution_count": 11,
     "metadata": {},
     "output_type": "execute_result"
    }
   ],
   "source": [
    "rating_df.shape, rating_df.head()"
   ]
  },
  {
   "cell_type": "markdown",
   "id": "55859c77-e636-49ba-bfdb-ea8030a8758c",
   "metadata": {},
   "source": [
    "### 2. movies_df"
   ]
  },
  {
   "cell_type": "code",
   "execution_count": 14,
   "id": "473f3597-d47e-44b2-8d81-023609f9a9a3",
   "metadata": {},
   "outputs": [
    {
     "data": {
      "text/plain": [
       "((9742, 3),\n",
       "    movieId                               title  \\\n",
       " 0        1                    Toy Story (1995)   \n",
       " 1        2                      Jumanji (1995)   \n",
       " 2        3             Grumpier Old Men (1995)   \n",
       " 3        4            Waiting to Exhale (1995)   \n",
       " 4        5  Father of the Bride Part II (1995)   \n",
       " \n",
       "                                         genres  \n",
       " 0  Adventure|Animation|Children|Comedy|Fantasy  \n",
       " 1                   Adventure|Children|Fantasy  \n",
       " 2                               Comedy|Romance  \n",
       " 3                         Comedy|Drama|Romance  \n",
       " 4                                       Comedy  )"
      ]
     },
     "execution_count": 14,
     "metadata": {},
     "output_type": "execute_result"
    }
   ],
   "source": [
    "movies_df.shape, movies_df.head()"
   ]
  },
  {
   "cell_type": "markdown",
   "id": "ab04b88d-89c4-4a1e-acaa-9645b48941c5",
   "metadata": {},
   "source": [
    "### 3. tags_df"
   ]
  },
  {
   "cell_type": "code",
   "execution_count": 13,
   "id": "0a90aab9-3474-4207-bd7e-689efb7df465",
   "metadata": {},
   "outputs": [
    {
     "data": {
      "text/plain": [
       "((3683, 4),\n",
       "    userId  movieId              tag   timestamp\n",
       " 0       2    60756            funny  1445714994\n",
       " 1       2    60756  Highly quotable  1445714996\n",
       " 2       2    60756     will ferrell  1445714992\n",
       " 3       2    89774     Boxing story  1445715207\n",
       " 4       2    89774              MMA  1445715200)"
      ]
     },
     "execution_count": 13,
     "metadata": {},
     "output_type": "execute_result"
    }
   ],
   "source": [
    "tags_df.shape, tags_df.head()"
   ]
  },
  {
   "cell_type": "markdown",
   "id": "ee0d943d-862a-4b40-b634-195eeae5c2e4",
   "metadata": {},
   "source": [
    "# ▶ 평점 데이터 rating_df의 데이터 분석(기초 통계)"
   ]
  },
  {
   "cell_type": "markdown",
   "id": "51a9a48c-a966-4bf4-bb35-4b5da98a5f42",
   "metadata": {
    "tags": []
   },
   "source": [
    "### ▷ 기본 정보 확인"
   ]
  },
  {
   "cell_type": "code",
   "execution_count": 25,
   "id": "c038c6bf-76e1-4a05-984e-fa20f847dab9",
   "metadata": {},
   "outputs": [
    {
     "name": "stdout",
     "output_type": "stream",
     "text": [
      "<class 'pandas.core.frame.DataFrame'>\n",
      "RangeIndex: 100836 entries, 0 to 100835\n",
      "Data columns (total 4 columns):\n",
      " #   Column     Non-Null Count   Dtype  \n",
      "---  ------     --------------   -----  \n",
      " 0   userId     100836 non-null  int64  \n",
      " 1   movieId    100836 non-null  int64  \n",
      " 2   rating     100836 non-null  float64\n",
      " 3   timestamp  100836 non-null  int64  \n",
      "dtypes: float64(1), int64(3)\n",
      "memory usage: 3.1 MB\n"
     ]
    }
   ],
   "source": [
    "rating_df.info()"
   ]
  },
  {
   "cell_type": "markdown",
   "id": "d6eedd25-4e68-4f8a-92de-a34fc0fd6a81",
   "metadata": {},
   "source": [
    "### ▷ 평점을 준 유저는 몇 명인가?"
   ]
  },
  {
   "cell_type": "code",
   "execution_count": 20,
   "id": "6c3968c8-0a3d-4e37-89a2-c94f6864e8d1",
   "metadata": {},
   "outputs": [
    {
     "data": {
      "text/plain": [
       "610"
      ]
     },
     "execution_count": 20,
     "metadata": {},
     "output_type": "execute_result"
    }
   ],
   "source": [
    "len(rating_df.groupby([\"userId\"]))"
   ]
  },
  {
   "cell_type": "code",
   "execution_count": 21,
   "id": "f3656d39-b284-4a5b-b4fe-9f1323e3ae69",
   "metadata": {},
   "outputs": [
    {
     "data": {
      "text/plain": [
       "610"
      ]
     },
     "execution_count": 21,
     "metadata": {},
     "output_type": "execute_result"
    }
   ],
   "source": [
    "# unique()로 구할 수도 있음\n",
    "len(rating_df.userId.unique())"
   ]
  },
  {
   "cell_type": "markdown",
   "id": "8cfa2ccd-f923-4754-8eec-dd2ea10864ed",
   "metadata": {},
   "source": [
    "### ▷ 평점을 받은 영화의 수는 몇 개인가? "
   ]
  },
  {
   "cell_type": "code",
   "execution_count": 22,
   "id": "b5da3bdf-a722-4c64-8fb6-c8b945407847",
   "metadata": {},
   "outputs": [
    {
     "data": {
      "text/plain": [
       "9724"
      ]
     },
     "execution_count": 22,
     "metadata": {},
     "output_type": "execute_result"
    }
   ],
   "source": [
    "len(rating_df.movieId.unique())  # 9742개의 영화 중 평점 받은 영화 9742개"
   ]
  },
  {
   "cell_type": "markdown",
   "id": "9c85910c-c92d-4d37-a265-11afc85c919a",
   "metadata": {},
   "source": [
    "### ▷ 평점의 평균, 표준편차 등 통계에 대한 데이터를 확인"
   ]
  },
  {
   "cell_type": "code",
   "execution_count": 24,
   "id": "5e35a480-1296-468d-b492-2704f77d8208",
   "metadata": {},
   "outputs": [
    {
     "data": {
      "text/plain": [
       "count    100836.000000\n",
       "mean          3.501557\n",
       "std           1.042529\n",
       "min           0.500000\n",
       "25%           3.000000\n",
       "50%           3.500000\n",
       "75%           4.000000\n",
       "max           5.000000\n",
       "Name: rating, dtype: float64"
      ]
     },
     "execution_count": 24,
     "metadata": {},
     "output_type": "execute_result"
    }
   ],
   "source": [
    "rating_df.rating.describe()\n",
    "# 평균이 3.5이고 표준편차가 1.0 정도이므로 점수가 2.5~4.5 사이에 많이 분포되어 있음을 알 수 있음"
   ]
  },
  {
   "cell_type": "markdown",
   "id": "06170506-659a-4af6-b6b6-44e07ffddedc",
   "metadata": {},
   "source": [
    "### ▷ NaN 유무 확인 : ```isnull()```"
   ]
  },
  {
   "cell_type": "code",
   "execution_count": 26,
   "id": "9f409af2-74f8-4da2-9472-5cef978dd42d",
   "metadata": {},
   "outputs": [
    {
     "data": {
      "text/plain": [
       "userId       0\n",
       "movieId      0\n",
       "rating       0\n",
       "timestamp    0\n",
       "dtype: int64"
      ]
     },
     "execution_count": 26,
     "metadata": {},
     "output_type": "execute_result"
    }
   ],
   "source": [
    "rating_df.isnull().sum()"
   ]
  },
  {
   "cell_type": "markdown",
   "id": "12b04789-cef8-48a9-8c5f-de21c624ed7d",
   "metadata": {},
   "source": [
    "# ▶ ```groupby()```를 활용한 통계 연습"
   ]
  },
  {
   "cell_type": "markdown",
   "id": "6b0d5fa1-ee72-4c25-bd32-3a3f13bbdc13",
   "metadata": {},
   "source": [
    "### ▷ 유저별 평점 평균\n",
    "userId가 1인 사람의 평균 평점, 2인 사람의 평균 평점, ..."
   ]
  },
  {
   "cell_type": "code",
   "execution_count": 31,
   "id": "df14fbc5-e294-4920-8839-f217e6b77e28",
   "metadata": {},
   "outputs": [
    {
     "data": {
      "text/plain": [
       "userId\n",
       "1      4.366379\n",
       "2      3.948276\n",
       "3      2.435897\n",
       "4      3.555556\n",
       "5      3.636364\n",
       "         ...   \n",
       "606    3.657399\n",
       "607    3.786096\n",
       "608    3.134176\n",
       "609    3.270270\n",
       "610    3.688556\n",
       "Name: rating, Length: 610, dtype: float64"
      ]
     },
     "execution_count": 31,
     "metadata": {},
     "output_type": "execute_result"
    }
   ],
   "source": [
    "rating_df.groupby('userId').mean()['rating']\n",
    "# == rating_df.groupby('userId')['rating'].mean()"
   ]
  },
  {
   "cell_type": "markdown",
   "id": "d4c476d9-4fad-4c2a-8681-611080fb7e9a",
   "metadata": {},
   "source": [
    "### ▷ 유저별 평점별 평가 횟수\n",
    "1번 유저가 1점을 몇 번 줬는지, 2점을 몇 번 줬는지 등에 대한 통계"
   ]
  },
  {
   "cell_type": "code",
   "execution_count": 32,
   "id": "b8b8f1c6-80aa-445b-9567-16c5d9235379",
   "metadata": {},
   "outputs": [
    {
     "data": {
      "text/plain": [
       "userId  rating\n",
       "1       1.0         1\n",
       "        2.0         5\n",
       "        3.0        26\n",
       "        4.0        76\n",
       "        5.0       124\n",
       "                 ... \n",
       "610     3.0       230\n",
       "        3.5       315\n",
       "        4.0       286\n",
       "        4.5       148\n",
       "        5.0       180\n",
       "Length: 3976, dtype: int64"
      ]
     },
     "execution_count": 32,
     "metadata": {},
     "output_type": "execute_result"
    }
   ],
   "source": [
    "rating_df.groupby(['userId', 'rating']).size()"
   ]
  },
  {
   "cell_type": "markdown",
   "id": "9379305d-475d-4e73-9b63-364138a31c54",
   "metadata": {},
   "source": [
    "### ▷ 유저가 평점을 준 영화의 수"
   ]
  },
  {
   "cell_type": "code",
   "execution_count": 38,
   "id": "953ba337-2883-4b2d-95b2-e132e0450af9",
   "metadata": {},
   "outputs": [
    {
     "data": {
      "text/plain": [
       "userId\n",
       "1       232\n",
       "2        29\n",
       "3        39\n",
       "4       216\n",
       "5        44\n",
       "       ... \n",
       "606    1115\n",
       "607     187\n",
       "608     831\n",
       "609      37\n",
       "610    1302\n",
       "Name: movieId, Length: 610, dtype: int64"
      ]
     },
     "execution_count": 38,
     "metadata": {},
     "output_type": "execute_result"
    }
   ],
   "source": [
    "rating_df.groupby(\"userId\")[\"movieId\"].count()"
   ]
  },
  {
   "cell_type": "markdown",
   "id": "ac865e0c-797a-4a4d-bc7a-267ef5ee3f5b",
   "metadata": {},
   "source": [
    "### ▷ 유저가 평균적으로 준 평점과 평점을 준 영화의 수 -> DataFrame으로 반환"
   ]
  },
  {
   "cell_type": "code",
   "execution_count": 53,
   "id": "2b9e18be-6709-4357-827e-17d0f3a847f3",
   "metadata": {},
   "outputs": [
    {
     "data": {
      "text/html": [
       "<div>\n",
       "<style scoped>\n",
       "    .dataframe tbody tr th:only-of-type {\n",
       "        vertical-align: middle;\n",
       "    }\n",
       "\n",
       "    .dataframe tbody tr th {\n",
       "        vertical-align: top;\n",
       "    }\n",
       "\n",
       "    .dataframe thead th {\n",
       "        text-align: right;\n",
       "    }\n",
       "</style>\n",
       "<table border=\"1\" class=\"dataframe\">\n",
       "  <thead>\n",
       "    <tr style=\"text-align: right;\">\n",
       "      <th></th>\n",
       "      <th>rating</th>\n",
       "      <th>movieId</th>\n",
       "    </tr>\n",
       "    <tr>\n",
       "      <th>userId</th>\n",
       "      <th></th>\n",
       "      <th></th>\n",
       "    </tr>\n",
       "  </thead>\n",
       "  <tbody>\n",
       "    <tr>\n",
       "      <th>1</th>\n",
       "      <td>4.366379</td>\n",
       "      <td>232</td>\n",
       "    </tr>\n",
       "    <tr>\n",
       "      <th>2</th>\n",
       "      <td>3.948276</td>\n",
       "      <td>29</td>\n",
       "    </tr>\n",
       "    <tr>\n",
       "      <th>3</th>\n",
       "      <td>2.435897</td>\n",
       "      <td>39</td>\n",
       "    </tr>\n",
       "    <tr>\n",
       "      <th>4</th>\n",
       "      <td>3.555556</td>\n",
       "      <td>216</td>\n",
       "    </tr>\n",
       "    <tr>\n",
       "      <th>5</th>\n",
       "      <td>3.636364</td>\n",
       "      <td>44</td>\n",
       "    </tr>\n",
       "    <tr>\n",
       "      <th>...</th>\n",
       "      <td>...</td>\n",
       "      <td>...</td>\n",
       "    </tr>\n",
       "    <tr>\n",
       "      <th>606</th>\n",
       "      <td>3.657399</td>\n",
       "      <td>1115</td>\n",
       "    </tr>\n",
       "    <tr>\n",
       "      <th>607</th>\n",
       "      <td>3.786096</td>\n",
       "      <td>187</td>\n",
       "    </tr>\n",
       "    <tr>\n",
       "      <th>608</th>\n",
       "      <td>3.134176</td>\n",
       "      <td>831</td>\n",
       "    </tr>\n",
       "    <tr>\n",
       "      <th>609</th>\n",
       "      <td>3.270270</td>\n",
       "      <td>37</td>\n",
       "    </tr>\n",
       "    <tr>\n",
       "      <th>610</th>\n",
       "      <td>3.688556</td>\n",
       "      <td>1302</td>\n",
       "    </tr>\n",
       "  </tbody>\n",
       "</table>\n",
       "<p>610 rows × 2 columns</p>\n",
       "</div>"
      ],
      "text/plain": [
       "          rating  movieId\n",
       "userId                   \n",
       "1       4.366379      232\n",
       "2       3.948276       29\n",
       "3       2.435897       39\n",
       "4       3.555556      216\n",
       "5       3.636364       44\n",
       "...          ...      ...\n",
       "606     3.657399     1115\n",
       "607     3.786096      187\n",
       "608     3.134176      831\n",
       "609     3.270270       37\n",
       "610     3.688556     1302\n",
       "\n",
       "[610 rows x 2 columns]"
      ]
     },
     "execution_count": 53,
     "metadata": {},
     "output_type": "execute_result"
    }
   ],
   "source": [
    "user_avg_rating = rating_df.groupby('userId')['rating'].mean()  # 유저별 평균 평점\n",
    "user_rating_movie_cnt = rating_df.groupby(\"userId\")[\"movieId\"].count()  # 유저별 평점 영화 수\n",
    "\n",
    "stat_df = pd.concat([user_avg_rating, user_rating_movie_cnt], axis=1)\n",
    "stat_df"
   ]
  },
  {
   "cell_type": "code",
   "execution_count": 55,
   "id": "27ba3cf2-499f-4dbf-9d27-9ea008c2508c",
   "metadata": {},
   "outputs": [
    {
     "data": {
      "text/html": [
       "<div>\n",
       "<style scoped>\n",
       "    .dataframe tbody tr th:only-of-type {\n",
       "        vertical-align: middle;\n",
       "    }\n",
       "\n",
       "    .dataframe tbody tr th {\n",
       "        vertical-align: top;\n",
       "    }\n",
       "\n",
       "    .dataframe thead th {\n",
       "        text-align: right;\n",
       "    }\n",
       "</style>\n",
       "<table border=\"1\" class=\"dataframe\">\n",
       "  <thead>\n",
       "    <tr style=\"text-align: right;\">\n",
       "      <th></th>\n",
       "      <th>rating_mean</th>\n",
       "      <th>movie_count</th>\n",
       "    </tr>\n",
       "    <tr>\n",
       "      <th>userId</th>\n",
       "      <th></th>\n",
       "      <th></th>\n",
       "    </tr>\n",
       "  </thead>\n",
       "  <tbody>\n",
       "    <tr>\n",
       "      <th>1</th>\n",
       "      <td>4.366379</td>\n",
       "      <td>232</td>\n",
       "    </tr>\n",
       "    <tr>\n",
       "      <th>2</th>\n",
       "      <td>3.948276</td>\n",
       "      <td>29</td>\n",
       "    </tr>\n",
       "    <tr>\n",
       "      <th>3</th>\n",
       "      <td>2.435897</td>\n",
       "      <td>39</td>\n",
       "    </tr>\n",
       "    <tr>\n",
       "      <th>4</th>\n",
       "      <td>3.555556</td>\n",
       "      <td>216</td>\n",
       "    </tr>\n",
       "    <tr>\n",
       "      <th>5</th>\n",
       "      <td>3.636364</td>\n",
       "      <td>44</td>\n",
       "    </tr>\n",
       "    <tr>\n",
       "      <th>...</th>\n",
       "      <td>...</td>\n",
       "      <td>...</td>\n",
       "    </tr>\n",
       "    <tr>\n",
       "      <th>606</th>\n",
       "      <td>3.657399</td>\n",
       "      <td>1115</td>\n",
       "    </tr>\n",
       "    <tr>\n",
       "      <th>607</th>\n",
       "      <td>3.786096</td>\n",
       "      <td>187</td>\n",
       "    </tr>\n",
       "    <tr>\n",
       "      <th>608</th>\n",
       "      <td>3.134176</td>\n",
       "      <td>831</td>\n",
       "    </tr>\n",
       "    <tr>\n",
       "      <th>609</th>\n",
       "      <td>3.270270</td>\n",
       "      <td>37</td>\n",
       "    </tr>\n",
       "    <tr>\n",
       "      <th>610</th>\n",
       "      <td>3.688556</td>\n",
       "      <td>1302</td>\n",
       "    </tr>\n",
       "  </tbody>\n",
       "</table>\n",
       "<p>610 rows × 2 columns</p>\n",
       "</div>"
      ],
      "text/plain": [
       "        rating_mean  movie_count\n",
       "userId                          \n",
       "1          4.366379          232\n",
       "2          3.948276           29\n",
       "3          2.435897           39\n",
       "4          3.555556          216\n",
       "5          3.636364           44\n",
       "...             ...          ...\n",
       "606        3.657399         1115\n",
       "607        3.786096          187\n",
       "608        3.134176          831\n",
       "609        3.270270           37\n",
       "610        3.688556         1302\n",
       "\n",
       "[610 rows x 2 columns]"
      ]
     },
     "execution_count": 55,
     "metadata": {},
     "output_type": "execute_result"
    }
   ],
   "source": [
    "stat_df2 = pd.DataFrame({\n",
    "    \"rating_mean\": user_avg_rating,\n",
    "    \"movie_count\": user_rating_movie_cnt\n",
    "    })\n",
    "stat_df2"
   ]
  },
  {
   "cell_type": "code",
   "execution_count": null,
   "id": "d4ada03e-774e-4e4b-a050-baf5c53a7111",
   "metadata": {},
   "outputs": [],
   "source": []
  }
 ],
 "metadata": {
  "kernelspec": {
   "display_name": "Python 3 (ipykernel)",
   "language": "python",
   "name": "python3"
  },
  "language_info": {
   "codemirror_mode": {
    "name": "ipython",
    "version": 3
   },
   "file_extension": ".py",
   "mimetype": "text/x-python",
   "name": "python",
   "nbconvert_exporter": "python",
   "pygments_lexer": "ipython3",
   "version": "3.9.7"
  }
 },
 "nbformat": 4,
 "nbformat_minor": 5
}
