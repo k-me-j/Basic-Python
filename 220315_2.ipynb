{
 "cells": [
  {
   "cell_type": "markdown",
   "id": "d2b74461-052c-47c6-a631-87f1f00d08c9",
   "metadata": {},
   "source": [
    "# 딕셔너리 자료형\n",
    "{ key : value }"
   ]
  },
  {
   "cell_type": "code",
   "execution_count": 4,
   "id": "e21c2169-ce6a-444b-9bae-d85b1bada97c",
   "metadata": {},
   "outputs": [
    {
     "data": {
      "text/plain": [
       "{1: 'a', 2: 'b'}"
      ]
     },
     "execution_count": 4,
     "metadata": {},
     "output_type": "execute_result"
    }
   ],
   "source": [
    "a = {1: 'a', 2: 'b'}\n",
    "\n",
    "a"
   ]
  },
  {
   "cell_type": "markdown",
   "id": "497147d4-e9d8-4a0f-a3ea-277fb7c692e5",
   "metadata": {},
   "source": [
    "###  딕셔너리에 특정 key:value 쌍을 넣고 싶다면\n",
    "```python\n",
    "Dict[key] = 'value'\n",
    "```"
   ]
  },
  {
   "cell_type": "code",
   "execution_count": 3,
   "id": "ea092cb7-e277-4db0-b84f-a175e39bd104",
   "metadata": {},
   "outputs": [
    {
     "data": {
      "text/plain": [
       "{1: 'a', 2: 'b', 3: 'c'}"
      ]
     },
     "execution_count": 3,
     "metadata": {},
     "output_type": "execute_result"
    }
   ],
   "source": [
    "a[3] = 'c'\n",
    "\n",
    "a"
   ]
  },
  {
   "cell_type": "code",
   "execution_count": 5,
   "id": "65f8165c-de7d-4cad-8901-15d0e3b2e497",
   "metadata": {},
   "outputs": [
    {
     "data": {
      "text/plain": [
       "{1: 'a', 2: 'b', 'name': ['shin', 'kwang', 'Kim', 'Lee']}"
      ]
     },
     "execution_count": 5,
     "metadata": {},
     "output_type": "execute_result"
    }
   ],
   "source": [
    "a[\"name\"] = [\"shin\", \"kwang\", \"Kim\", \"Lee\"]\n",
    "\n",
    "a"
   ]
  },
  {
   "cell_type": "markdown",
   "id": "7ab068c3-1532-4f3d-b503-44ffa1fbce4b",
   "metadata": {},
   "source": [
    "## del dict[key]"
   ]
  },
  {
   "cell_type": "code",
   "execution_count": 6,
   "id": "819baf1b-84c3-4e1f-8046-fae92997bb4a",
   "metadata": {},
   "outputs": [
    {
     "data": {
      "text/plain": [
       "{2: 'b', 'name': ['shin', 'kwang', 'Kim', 'Lee']}"
      ]
     },
     "execution_count": 6,
     "metadata": {},
     "output_type": "execute_result"
    }
   ],
   "source": [
    "del a[1]   # dict에서 key가 1인 쌍을 삭제\n",
    "\n",
    "a"
   ]
  },
  {
   "cell_type": "code",
   "execution_count": 7,
   "id": "bc97ff29-4300-49b7-8966-7004777f6cb3",
   "metadata": {},
   "outputs": [
    {
     "data": {
      "text/plain": [
       "{'Dept': ['AI-Engr.', 'Smart Elect.'], 'StudentNum': [22, 50]}"
      ]
     },
     "execution_count": 7,
     "metadata": {},
     "output_type": "execute_result"
    }
   ],
   "source": [
    "a = {\"Dept\": [\"AI-Engr.\", \"Smart Elect.\"], \"StudentNum\": [22, 50]}\n",
    "\n",
    "a"
   ]
  },
  {
   "cell_type": "markdown",
   "id": "dbf6575a-104d-49dd-bee2-f48228627a40",
   "metadata": {},
   "source": [
    "### 딕셔너리 특정 값에 접근할 때는 키 값으로 접근"
   ]
  },
  {
   "cell_type": "code",
   "execution_count": 8,
   "id": "3d0b9efb-b9d7-479e-a83c-7d0ec8e7d7d5",
   "metadata": {},
   "outputs": [
    {
     "data": {
      "text/plain": [
       "['AI-Engr.', 'Smart Elect.']"
      ]
     },
     "execution_count": 8,
     "metadata": {},
     "output_type": "execute_result"
    }
   ],
   "source": [
    "a[\"Dept\"]"
   ]
  },
  {
   "cell_type": "code",
   "execution_count": 9,
   "id": "b3cec66c-e1a6-4ac7-91c3-4e70cbb103bd",
   "metadata": {},
   "outputs": [
    {
     "data": {
      "text/plain": [
       "[22, 50]"
      ]
     },
     "execution_count": 9,
     "metadata": {},
     "output_type": "execute_result"
    }
   ],
   "source": [
    "a[\"StudentNum\"]"
   ]
  },
  {
   "cell_type": "markdown",
   "id": "0a38e09c-e18a-4f59-a2ab-92046f0f1b2e",
   "metadata": {},
   "source": [
    "# 중복된 키값 처리\n",
    "키 값 중복 시 하나만 남기고 나머지는 날아감"
   ]
  },
  {
   "cell_type": "code",
   "execution_count": 12,
   "id": "12399a18-1352-42da-a05b-1da37b6943d5",
   "metadata": {},
   "outputs": [
    {
     "data": {
      "text/plain": [
       "{'1': 'd', '2': 'b', '3': 'c'}"
      ]
     },
     "execution_count": 12,
     "metadata": {},
     "output_type": "execute_result"
    }
   ],
   "source": [
    "a = {'1': 'a', '2': 'b', '3': 'c', '1': 'd'}\n",
    "\n",
    "a  # 날아감"
   ]
  },
  {
   "cell_type": "markdown",
   "id": "158c5ec1-2cac-48e8-b269-a54e65c14a5d",
   "metadata": {},
   "source": [
    "### 딕셔너리 키에는 리스트를 입력 불가능 : 튜플은 가능"
   ]
  },
  {
   "cell_type": "code",
   "execution_count": 18,
   "id": "3d0e6dea-d1bd-420b-8c2e-9c2c2c90db79",
   "metadata": {},
   "outputs": [
    {
     "ename": "TypeError",
     "evalue": "unhashable type: 'list'",
     "output_type": "error",
     "traceback": [
      "\u001b[1;31m---------------------------------------------------------------------------\u001b[0m",
      "\u001b[1;31mTypeError\u001b[0m                                 Traceback (most recent call last)",
      "\u001b[1;32m~\\AppData\\Local\\Temp/ipykernel_73344/1833943166.py\u001b[0m in \u001b[0;36m<module>\u001b[1;34m\u001b[0m\n\u001b[1;32m----> 1\u001b[1;33m a = {\n\u001b[0m\u001b[0;32m      2\u001b[0m     \u001b[1;33m[\u001b[0m\u001b[1;34m'name'\u001b[0m\u001b[1;33m,\u001b[0m \u001b[1;34m'age'\u001b[0m\u001b[1;33m]\u001b[0m\u001b[1;33m:\u001b[0m \u001b[1;33m(\u001b[0m\u001b[1;33m[\u001b[0m\u001b[1;34m\"shin\"\u001b[0m\u001b[1;33m,\u001b[0m \u001b[1;34m\"kwang\"\u001b[0m\u001b[1;33m,\u001b[0m \u001b[1;34m\"Kim\"\u001b[0m\u001b[1;33m,\u001b[0m \u001b[1;34m\"Lee\"\u001b[0m\u001b[1;33m]\u001b[0m\u001b[1;33m,\u001b[0m \u001b[1;33m[\u001b[0m\u001b[1;36m22\u001b[0m\u001b[1;33m,\u001b[0m\u001b[1;36m23\u001b[0m\u001b[1;33m,\u001b[0m \u001b[1;36m24\u001b[0m\u001b[1;33m,\u001b[0m \u001b[1;36m25\u001b[0m\u001b[1;33m]\u001b[0m\u001b[1;33m)\u001b[0m\u001b[1;33m\u001b[0m\u001b[1;33m\u001b[0m\u001b[0m\n\u001b[0;32m      3\u001b[0m }\n\u001b[0;32m      4\u001b[0m \u001b[1;33m\u001b[0m\u001b[0m\n\u001b[0;32m      5\u001b[0m \u001b[0ma\u001b[0m\u001b[1;33m\u001b[0m\u001b[1;33m\u001b[0m\u001b[0m\n",
      "\u001b[1;31mTypeError\u001b[0m: unhashable type: 'list'"
     ]
    }
   ],
   "source": [
    "a = {\n",
    "    ['name', 'age']: ([\"shin\", \"kwang\", \"Kim\", \"Lee\"], [22,23, 24, 25])\n",
    "}\n",
    "\n",
    "a"
   ]
  },
  {
   "cell_type": "code",
   "execution_count": 17,
   "id": "aa41dabd-d2e3-4770-9234-26275c96c81c",
   "metadata": {},
   "outputs": [
    {
     "data": {
      "text/plain": [
       "{('name', 'age'): (['shin', 'kwang', 'Kim', 'Lee'], [22, 23, 24, 25])}"
      ]
     },
     "execution_count": 17,
     "metadata": {},
     "output_type": "execute_result"
    }
   ],
   "source": [
    "a = {\n",
    "    ('name', 'age'): ([\"shin\", \"kwang\", \"Kim\", \"Lee\"], [22,23, 24, 25])\n",
    "}\n",
    "\n",
    "a"
   ]
  },
  {
   "cell_type": "code",
   "execution_count": null,
   "id": "58952a55-14d3-442e-a36a-4268034b9626",
   "metadata": {},
   "outputs": [],
   "source": []
  }
 ],
 "metadata": {
  "kernelspec": {
   "display_name": "Python 3 (ipykernel)",
   "language": "python",
   "name": "python3"
  },
  "language_info": {
   "codemirror_mode": {
    "name": "ipython",
    "version": 3
   },
   "file_extension": ".py",
   "mimetype": "text/x-python",
   "name": "python",
   "nbconvert_exporter": "python",
   "pygments_lexer": "ipython3",
   "version": "3.9.7"
  }
 },
 "nbformat": 4,
 "nbformat_minor": 5
}
